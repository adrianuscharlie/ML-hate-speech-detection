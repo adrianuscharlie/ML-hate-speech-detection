{
 "cells": [
  {
   "cell_type": "code",
   "execution_count": 1,
   "metadata": {},
   "outputs": [],
   "source": [
    "import snscrape.modules.twitter as snstwitter\n",
    "import pandas as pd\n",
    "pd.options.display.max_colwidth=500"
   ]
  },
  {
   "cell_type": "code",
   "execution_count": 2,
   "metadata": {},
   "outputs": [
    {
     "name": "stdout",
     "output_type": "stream",
     "text": [
      "CPU times: total: 0 ns\n",
      "Wall time: 0 ns\n",
      "Star Crawling\n",
      "Finished\n"
     ]
    }
   ],
   "source": [
    "query=\"(bjorka) lang:id -filter:links -filter:replies \"\n",
    "tweets=[]\n",
    "limit=20000\n",
    "%time\n",
    "try:\n",
    "    print(\"Star Crawling\")\n",
    "    for tweet in snstwitter.TwitterSearchScraper(query=query).get_items():\n",
    "        if len(tweets)==limit:\n",
    "            break\n",
    "        else:\n",
    "            tweets.append([tweet.date,tweet.user.username,tweet.content])\n",
    "    df=pd.DataFrame(tweets,columns=['created at','username','text'])\n",
    "except Exception as e:\n",
    "    print(e)\n",
    "print(\"Finished\")"
   ]
  },
  {
   "cell_type": "code",
   "execution_count": 3,
   "metadata": {},
   "outputs": [
    {
     "data": {
      "text/html": [
       "<div>\n",
       "<style scoped>\n",
       "    .dataframe tbody tr th:only-of-type {\n",
       "        vertical-align: middle;\n",
       "    }\n",
       "\n",
       "    .dataframe tbody tr th {\n",
       "        vertical-align: top;\n",
       "    }\n",
       "\n",
       "    .dataframe thead th {\n",
       "        text-align: right;\n",
       "    }\n",
       "</style>\n",
       "<table border=\"1\" class=\"dataframe\">\n",
       "  <thead>\n",
       "    <tr style=\"text-align: right;\">\n",
       "      <th></th>\n",
       "      <th>created at</th>\n",
       "      <th>username</th>\n",
       "      <th>text</th>\n",
       "    </tr>\n",
       "  </thead>\n",
       "  <tbody>\n",
       "    <tr>\n",
       "      <th>0</th>\n",
       "      <td>2022-11-02 05:53:11+00:00</td>\n",
       "      <td>rudiartraa</td>\n",
       "      <td>yaah , udah selesai nih Bjorka Bjorkaan nya ?</td>\n",
       "    </tr>\n",
       "    <tr>\n",
       "      <th>1</th>\n",
       "      <td>2022-11-02 04:09:30+00:00</td>\n",
       "      <td>oi_filix315</td>\n",
       "      <td>Kadang gua mikir sekilas pp gua mirip bjorka, tapi kan gua udh pake pp ini lama :(((</td>\n",
       "    </tr>\n",
       "    <tr>\n",
       "      <th>2</th>\n",
       "      <td>2022-11-01 13:55:23+00:00</td>\n",
       "      <td>falahsanjaya_</td>\n",
       "      <td>Knp ga ada yg jadi Bjorka Halloween party kemaren? :((</td>\n",
       "    </tr>\n",
       "    <tr>\n",
       "      <th>3</th>\n",
       "      <td>2022-11-01 13:16:02+00:00</td>\n",
       "      <td>namanyaajess</td>\n",
       "      <td>Beritanya taik, mau ferdi sambo, mau bjorka, mau apalah yang kelaperan ga mungkin jadi tranding topik, yang tertindas sulit untuk berdiri, yang melawan akan tetap dibungkam.</td>\n",
       "    </tr>\n",
       "    <tr>\n",
       "      <th>4</th>\n",
       "      <td>2022-11-01 12:50:12+00:00</td>\n",
       "      <td>namakubaim</td>\n",
       "      <td>Apa kabar Bjorka?</td>\n",
       "    </tr>\n",
       "    <tr>\n",
       "      <th>...</th>\n",
       "      <td>...</td>\n",
       "      <td>...</td>\n",
       "      <td>...</td>\n",
       "    </tr>\n",
       "    <tr>\n",
       "      <th>19995</th>\n",
       "      <td>2022-09-11 03:28:20+00:00</td>\n",
       "      <td>SecretAdmirerOP</td>\n",
       "      <td>hari ini ada 2 hari bersejarah\\n9/11\\nbjorka spill data pembunuh munir ( yang banyak orang gak tau)</td>\n",
       "    </tr>\n",
       "    <tr>\n",
       "      <th>19996</th>\n",
       "      <td>2022-09-11 03:28:14+00:00</td>\n",
       "      <td>yonforger</td>\n",
       "      <td>lah anjir aku baru tau bjorka tu hacker, kirain burjo tukang jual bubur kacang ijo</td>\n",
       "    </tr>\n",
       "    <tr>\n",
       "      <th>19997</th>\n",
       "      <td>2022-09-11 03:28:10+00:00</td>\n",
       "      <td>semangkalucu</td>\n",
       "      <td>kata w mending bjorka ngewarin tiket the link aja</td>\n",
       "    </tr>\n",
       "    <tr>\n",
       "      <th>19998</th>\n",
       "      <td>2022-09-11 03:28:06+00:00</td>\n",
       "      <td>choaciao</td>\n",
       "      <td>Bang bjorka bisa ga si hek hati doi biar sama ghuweh</td>\n",
       "    </tr>\n",
       "    <tr>\n",
       "      <th>19999</th>\n",
       "      <td>2022-09-11 03:27:56+00:00</td>\n",
       "      <td>JrIzzah</td>\n",
       "      <td>Bjorka mending liat data Kominfo daripada data wifiku</td>\n",
       "    </tr>\n",
       "  </tbody>\n",
       "</table>\n",
       "<p>20000 rows × 3 columns</p>\n",
       "</div>"
      ],
      "text/plain": [
       "                     created at         username  \\\n",
       "0     2022-11-02 05:53:11+00:00       rudiartraa   \n",
       "1     2022-11-02 04:09:30+00:00      oi_filix315   \n",
       "2     2022-11-01 13:55:23+00:00    falahsanjaya_   \n",
       "3     2022-11-01 13:16:02+00:00     namanyaajess   \n",
       "4     2022-11-01 12:50:12+00:00       namakubaim   \n",
       "...                         ...              ...   \n",
       "19995 2022-09-11 03:28:20+00:00  SecretAdmirerOP   \n",
       "19996 2022-09-11 03:28:14+00:00        yonforger   \n",
       "19997 2022-09-11 03:28:10+00:00     semangkalucu   \n",
       "19998 2022-09-11 03:28:06+00:00         choaciao   \n",
       "19999 2022-09-11 03:27:56+00:00          JrIzzah   \n",
       "\n",
       "                                                                                                                                                                                text  \n",
       "0                                                                                                                                      yaah , udah selesai nih Bjorka Bjorkaan nya ?  \n",
       "1                                                                                               Kadang gua mikir sekilas pp gua mirip bjorka, tapi kan gua udh pake pp ini lama :(((  \n",
       "2                                                                                                                             Knp ga ada yg jadi Bjorka Halloween party kemaren? :((  \n",
       "3      Beritanya taik, mau ferdi sambo, mau bjorka, mau apalah yang kelaperan ga mungkin jadi tranding topik, yang tertindas sulit untuk berdiri, yang melawan akan tetap dibungkam.  \n",
       "4                                                                                                                                                                  Apa kabar Bjorka?  \n",
       "...                                                                                                                                                                              ...  \n",
       "19995                                                                            hari ini ada 2 hari bersejarah\\n9/11\\nbjorka spill data pembunuh munir ( yang banyak orang gak tau)  \n",
       "19996                                                                                             lah anjir aku baru tau bjorka tu hacker, kirain burjo tukang jual bubur kacang ijo  \n",
       "19997                                                                                                                              kata w mending bjorka ngewarin tiket the link aja  \n",
       "19998                                                                                                                           Bang bjorka bisa ga si hek hati doi biar sama ghuweh  \n",
       "19999                                                                                                                          Bjorka mending liat data Kominfo daripada data wifiku  \n",
       "\n",
       "[20000 rows x 3 columns]"
      ]
     },
     "execution_count": 3,
     "metadata": {},
     "output_type": "execute_result"
    }
   ],
   "source": [
    "df"
   ]
  },
  {
   "cell_type": "code",
   "execution_count": 4,
   "metadata": {},
   "outputs": [],
   "source": [
    "df['created at']=df['created at'].apply(lambda x:pd.to_datetime(x).date())"
   ]
  },
  {
   "cell_type": "code",
   "execution_count": 5,
   "metadata": {},
   "outputs": [],
   "source": [
    "df.to_excel('./Data/bjorka_new.xlsx')"
   ]
  }
 ],
 "metadata": {
  "kernelspec": {
   "display_name": "Python 3.8.0 64-bit",
   "language": "python",
   "name": "python3"
  },
  "language_info": {
   "codemirror_mode": {
    "name": "ipython",
    "version": 3
   },
   "file_extension": ".py",
   "mimetype": "text/x-python",
   "name": "python",
   "nbconvert_exporter": "python",
   "pygments_lexer": "ipython3",
   "version": "3.8.0"
  },
  "orig_nbformat": 4,
  "vscode": {
   "interpreter": {
    "hash": "ff0d91300876931207232d01add3156fa7c8214350996c757a3c6cebc4b3b5d5"
   }
  }
 },
 "nbformat": 4,
 "nbformat_minor": 2
}
