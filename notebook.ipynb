{
 "cells": [
  {
   "cell_type": "markdown",
   "metadata": {},
   "source": [
    "Melakukan import libraries yang dibutukan"
   ]
  },
  {
   "cell_type": "code",
   "execution_count": 2,
   "metadata": {},
   "outputs": [],
   "source": [
    "import pandas as pd\n",
    "import tensorflow as tf\n",
    "import re\n",
    "from Sastrawi.Stemmer.StemmerFactory import StemmerFactory\n",
    "import codecs\n",
    "import numpy as np\n",
    "factory=StemmerFactory()\n",
    "stemmer=factory.create_stemmer()"
   ]
  },
  {
   "cell_type": "markdown",
   "metadata": {},
   "source": [
    "Melakukan reading data hate speech tweet"
   ]
  },
  {
   "cell_type": "code",
   "execution_count": null,
   "metadata": {},
   "outputs": [],
   "source": [
    "data=pd.read_csv('data/data.csv',encoding='latin-1')\n",
    "stopword=pd.read_csv('data/stopwordbahasa.csv',header=None)\n",
    "stopword=stopword.rename(columns={0:'stopwords'})\n",
    "kamus_alay=pd.read_csv('data/new_kamusalay.csv',header=None,encoding='latin-1')\n",
    "kamus_alay=kamus_alay.rename(columns={0:'asli',1:'baru'})\n",
    "data"
   ]
  },
  {
   "cell_type": "markdown",
   "metadata": {},
   "source": [
    "Menggunakan data HS dan Abusive"
   ]
  },
  {
   "cell_type": "code",
   "execution_count": null,
   "metadata": {},
   "outputs": [],
   "source": [
    "data=data[['Tweet','HS','Abusive']]\n",
    "data"
   ]
  },
  {
   "cell_type": "markdown",
   "metadata": {},
   "source": [
    "Preprocessing Text"
   ]
  },
  {
   "cell_type": "code",
   "execution_count": 21,
   "metadata": {},
   "outputs": [],
   "source": [
    "#Stemming text\n",
    "def stemWord(x):\n",
    "    return stemmer.stem(x)"
   ]
  },
  {
   "cell_type": "code",
   "execution_count": 22,
   "metadata": {},
   "outputs": [],
   "source": [
    "#Lower text\n",
    "def lowercase(text):\n",
    "    return text.lower()"
   ]
  },
  {
   "cell_type": "code",
   "execution_count": 23,
   "metadata": {},
   "outputs": [],
   "source": [
    "#Remove unnecessary charracters\n",
    "def removeUnnecessary(text):\n",
    "    text=re.sub('\\n','',text) # menghapus newline\n",
    "    text=re.sub('rt','',text) # menghapus kata retweet\n",
    "    text=re.sub('user','',text) # menghapus kata user\n",
    "    text=re.sub('((www\\.[^\\s]+)|(https?://[^\\s]+)|(http?://[^\\s]+))',' ',text) # menghapus url\n",
    "    text = re.sub('  +', ' ', text) # menghapus karakter ekstra\n",
    "    text=re.sub('x.{3} | x.{2}','',text) # menghapus pola emoji \n",
    "    return text"
   ]
  },
  {
   "cell_type": "code",
   "execution_count": 24,
   "metadata": {},
   "outputs": [],
   "source": [
    "#Remove non alphanumeric character\n",
    "def removeNonAlphanumeric(text):\n",
    "    text = re.sub('[^0-9a-zA-Z]+', ' ', text) \n",
    "    text=\"\".join(filter(lambda x: not x.isdigit(), text))\n",
    "    return text"
   ]
  },
  {
   "cell_type": "code",
   "execution_count": 25,
   "metadata": {},
   "outputs": [],
   "source": [
    "#remove indonesian stopword\n",
    "def removeStopWord(text):\n",
    "    text = ' '.join(['' if word in stopword.stopwords.values else word for word in text.split(' ')])\n",
    "    text = re.sub('  +', ' ', text) # Remove extra spaces\n",
    "    text = text.strip()\n",
    "    return text\n"
   ]
  },
  {
   "cell_type": "code",
   "execution_count": 26,
   "metadata": {},
   "outputs": [
    {
     "ename": "NameError",
     "evalue": "name 'kamus_alay' is not defined",
     "output_type": "error",
     "traceback": [
      "\u001b[1;31m---------------------------------------------------------------------------\u001b[0m",
      "\u001b[1;31mNameError\u001b[0m                                 Traceback (most recent call last)",
      "\u001b[1;32md:\\Skripsi\\notebook.ipynb Cell 13\u001b[0m in \u001b[0;36m<cell line: 2>\u001b[1;34m()\u001b[0m\n\u001b[0;32m      <a href='vscode-notebook-cell:/d%3A/Skripsi/notebook.ipynb#X15sZmlsZQ%3D%3D?line=0'>1</a>\u001b[0m \u001b[39m#normalize alay\u001b[39;00m\n\u001b[1;32m----> <a href='vscode-notebook-cell:/d%3A/Skripsi/notebook.ipynb#X15sZmlsZQ%3D%3D?line=1'>2</a>\u001b[0m alay\u001b[39m=\u001b[39m\u001b[39mdict\u001b[39m(\u001b[39mzip\u001b[39m(kamus_alay[\u001b[39m'\u001b[39m\u001b[39masli\u001b[39m\u001b[39m'\u001b[39m],kamus_alay[\u001b[39m'\u001b[39m\u001b[39mbaru\u001b[39m\u001b[39m'\u001b[39m]))\n\u001b[0;32m      <a href='vscode-notebook-cell:/d%3A/Skripsi/notebook.ipynb#X15sZmlsZQ%3D%3D?line=2'>3</a>\u001b[0m \u001b[39mdef\u001b[39;00m \u001b[39mnormalizeAlay\u001b[39m(text):\n\u001b[0;32m      <a href='vscode-notebook-cell:/d%3A/Skripsi/notebook.ipynb#X15sZmlsZQ%3D%3D?line=3'>4</a>\u001b[0m     \u001b[39mreturn\u001b[39;00m \u001b[39m'\u001b[39m\u001b[39m \u001b[39m\u001b[39m'\u001b[39m\u001b[39m.\u001b[39mjoin([alay[word] \u001b[39mif\u001b[39;00m word \u001b[39min\u001b[39;00m alay \u001b[39melse\u001b[39;00m word \u001b[39mfor\u001b[39;00m word \u001b[39min\u001b[39;00m text\u001b[39m.\u001b[39msplit(\u001b[39m'\u001b[39m\u001b[39m \u001b[39m\u001b[39m'\u001b[39m)])\n",
      "\u001b[1;31mNameError\u001b[0m: name 'kamus_alay' is not defined"
     ]
    }
   ],
   "source": [
    "#normalize alay\n",
    "alay=dict(zip(kamus_alay['asli'],kamus_alay['baru']))\n",
    "def normalizeAlay(text):\n",
    "    return ' '.join([alay[word] if word in alay else word for word in text.split(' ')])"
   ]
  },
  {
   "cell_type": "code",
   "execution_count": 30,
   "metadata": {},
   "outputs": [],
   "source": [
    "def preProcessing(sentences):\n",
    "    sentences=lowercase(sentences)\n",
    "    sentences=removeNonAlphanumeric(sentences)\n",
    "    sentences=removeUnnecessary(sentences)\n",
    "    sentences=normalizeAlay(sentences)\n",
    "    sentences=stemWord(sentences)\n",
    "    sentences=removeStopWord(sentences)\n",
    "    return sentences"
   ]
  },
  {
   "cell_type": "code",
   "execution_count": null,
   "metadata": {},
   "outputs": [],
   "source": [
    "data['Tweet']=data['Tweet'].apply(preProcessing)\n",
    "data"
   ]
  },
  {
   "cell_type": "code",
   "execution_count": null,
   "metadata": {},
   "outputs": [],
   "source": [
    "data.to_csv('data_clean.csv',columns=['Tweet','HS','Abusive'],index=False)"
   ]
  },
  {
   "cell_type": "markdown",
   "metadata": {},
   "source": [
    "Import Clean Data"
   ]
  },
  {
   "cell_type": "code",
   "execution_count": 3,
   "metadata": {},
   "outputs": [
    {
     "data": {
      "text/html": [
       "<div>\n",
       "<style scoped>\n",
       "    .dataframe tbody tr th:only-of-type {\n",
       "        vertical-align: middle;\n",
       "    }\n",
       "\n",
       "    .dataframe tbody tr th {\n",
       "        vertical-align: top;\n",
       "    }\n",
       "\n",
       "    .dataframe thead th {\n",
       "        text-align: right;\n",
       "    }\n",
       "</style>\n",
       "<table border=\"1\" class=\"dataframe\">\n",
       "  <thead>\n",
       "    <tr style=\"text-align: right;\">\n",
       "      <th></th>\n",
       "      <th>Tweet</th>\n",
       "      <th>HS</th>\n",
       "      <th>Abusive</th>\n",
       "    </tr>\n",
       "  </thead>\n",
       "  <tbody>\n",
       "    <tr>\n",
       "      <th>0</th>\n",
       "      <td>cowok usaha lacak perhati gue lantas remeh per...</td>\n",
       "      <td>1</td>\n",
       "      <td>1</td>\n",
       "    </tr>\n",
       "    <tr>\n",
       "      <th>1</th>\n",
       "      <td>telat tau edan sarap gue gaul cigax jifla cal ...</td>\n",
       "      <td>0</td>\n",
       "      <td>1</td>\n",
       "    </tr>\n",
       "    <tr>\n",
       "      <th>2</th>\n",
       "      <td>kadang pikir percaya tuhan jatuh kali kali kad...</td>\n",
       "      <td>0</td>\n",
       "      <td>0</td>\n",
       "    </tr>\n",
       "    <tr>\n",
       "      <th>3</th>\n",
       "      <td>ku tau mata sipit lihat</td>\n",
       "      <td>0</td>\n",
       "      <td>0</td>\n",
       "    </tr>\n",
       "    <tr>\n",
       "      <th>4</th>\n",
       "      <td>kaum cebong kafir lihat dongok dungu haha</td>\n",
       "      <td>1</td>\n",
       "      <td>1</td>\n",
       "    </tr>\n",
       "    <tr>\n",
       "      <th>...</th>\n",
       "      <td>...</td>\n",
       "      <td>...</td>\n",
       "      <td>...</td>\n",
       "    </tr>\n",
       "    <tr>\n",
       "      <th>13164</th>\n",
       "      <td>bicara ndasmu congor kate anjing</td>\n",
       "      <td>1</td>\n",
       "      <td>1</td>\n",
       "    </tr>\n",
       "    <tr>\n",
       "      <th>13165</th>\n",
       "      <td>kasur enak kunyuk</td>\n",
       "      <td>0</td>\n",
       "      <td>1</td>\n",
       "    </tr>\n",
       "    <tr>\n",
       "      <th>13166</th>\n",
       "      <td>hati hati bisu bosan huftxaa</td>\n",
       "      <td>0</td>\n",
       "      <td>0</td>\n",
       "    </tr>\n",
       "    <tr>\n",
       "      <th>13167</th>\n",
       "      <td>bom real mudah deteksi bom kubur dahsyat ledak...</td>\n",
       "      <td>0</td>\n",
       "      <td>0</td>\n",
       "    </tr>\n",
       "    <tr>\n",
       "      <th>13168</th>\n",
       "      <td>situ foto ya kutil onta</td>\n",
       "      <td>1</td>\n",
       "      <td>1</td>\n",
       "    </tr>\n",
       "  </tbody>\n",
       "</table>\n",
       "<p>13169 rows × 3 columns</p>\n",
       "</div>"
      ],
      "text/plain": [
       "                                                   Tweet  HS  Abusive\n",
       "0      cowok usaha lacak perhati gue lantas remeh per...   1        1\n",
       "1      telat tau edan sarap gue gaul cigax jifla cal ...   0        1\n",
       "2      kadang pikir percaya tuhan jatuh kali kali kad...   0        0\n",
       "3                                ku tau mata sipit lihat   0        0\n",
       "4              kaum cebong kafir lihat dongok dungu haha   1        1\n",
       "...                                                  ...  ..      ...\n",
       "13164                   bicara ndasmu congor kate anjing   1        1\n",
       "13165                                  kasur enak kunyuk   0        1\n",
       "13166                       hati hati bisu bosan huftxaa   0        0\n",
       "13167  bom real mudah deteksi bom kubur dahsyat ledak...   0        0\n",
       "13168                            situ foto ya kutil onta   1        1\n",
       "\n",
       "[13169 rows x 3 columns]"
      ]
     },
     "execution_count": 3,
     "metadata": {},
     "output_type": "execute_result"
    }
   ],
   "source": [
    "data=pd.read_csv('data_clean.csv')\n",
    "data.Tweet=data.Tweet.astype(str)\n",
    "data"
   ]
  },
  {
   "cell_type": "markdown",
   "metadata": {},
   "source": [
    "Split Data Into Train, Validation and Test"
   ]
  },
  {
   "cell_type": "code",
   "execution_count": 4,
   "metadata": {},
   "outputs": [],
   "source": [
    "from sklearn.model_selection import train_test_split\n",
    "from tensorflow.keras.preprocessing.text import Tokenizer\n",
    "from tensorflow.keras.preprocessing.sequence import pad_sequences"
   ]
  },
  {
   "cell_type": "code",
   "execution_count": 5,
   "metadata": {},
   "outputs": [],
   "source": [
    "# Split data into train and validation\n",
    "x_train,x_val,y_train,y_val=train_test_split(data['Tweet'],data['HS'],test_size=0.2,random_state=1)\n",
    "\n",
    "#Split train data into train and test\n",
    "x_train,x_test,y_train,y_test=train_test_split(x_train,y_train,test_size=0.25,random_state=1)"
   ]
  },
  {
   "cell_type": "markdown",
   "metadata": {},
   "source": [
    "Tokenize the train,val and test data"
   ]
  },
  {
   "cell_type": "code",
   "execution_count": 6,
   "metadata": {},
   "outputs": [],
   "source": [
    "vocab_size=1000\n",
    "max_len=100\n",
    "trunc_type = 'post'\n",
    "padding_type = 'post'\n",
    "oov_tok = \"<OOV>\""
   ]
  },
  {
   "cell_type": "code",
   "execution_count": 7,
   "metadata": {},
   "outputs": [],
   "source": [
    "tokenizer=Tokenizer(num_words=vocab_size,oov_token=oov_tok)\n",
    "tokenizer.fit_on_texts(x_train)"
   ]
  },
  {
   "cell_type": "code",
   "execution_count": 8,
   "metadata": {},
   "outputs": [],
   "source": [
    "sequences=tokenizer.texts_to_sequences(x_train)\n",
    "padded=pad_sequences(sequences=sequences,padding=padding_type,truncating=trunc_type,maxlen=max_len)\n",
    "sequences_val=tokenizer.texts_to_sequences(x_val)\n",
    "padded_val=pad_sequences(sequences=sequences_val,padding=padding_type,truncating=trunc_type,maxlen=max_len)\n",
    "sequences_test=tokenizer.texts_to_sequences(x_test)\n",
    "padded_test=pad_sequences(sequences=sequences_test,padding=padding_type,truncating=trunc_type,maxlen=max_len)"
   ]
  },
  {
   "cell_type": "markdown",
   "metadata": {},
   "source": [
    "Create the model architecture"
   ]
  },
  {
   "cell_type": "code",
   "execution_count": 25,
   "metadata": {},
   "outputs": [
    {
     "name": "stdout",
     "output_type": "stream",
     "text": [
      "Model: \"sequential_2\"\n",
      "_________________________________________________________________\n",
      " Layer (type)                Output Shape              Param #   \n",
      "=================================================================\n",
      " embedding_2 (Embedding)     (None, 100, 64)           64000     \n",
      "                                                                 \n",
      " bidirectional_1 (Bidirectio  (None, 100, 128)         66048     \n",
      " nal)                                                            \n",
      "                                                                 \n",
      " dense_4 (Dense)             (None, 100, 128)          16512     \n",
      "                                                                 \n",
      " dense_5 (Dense)             (None, 100, 16)           2064      \n",
      "                                                                 \n",
      " dense_6 (Dense)             (None, 100, 1)            17        \n",
      "                                                                 \n",
      "=================================================================\n",
      "Total params: 148,641\n",
      "Trainable params: 148,641\n",
      "Non-trainable params: 0\n",
      "_________________________________________________________________\n"
     ]
    }
   ],
   "source": [
    "model=tf.keras.models.Sequential([\n",
    "        tf.keras.layers.Embedding(vocab_size, 64, input_length=max_len),\n",
    "        tf.keras.layers.Bidirectional(tf.keras.layers.LSTM(64,return_sequences=True)),\n",
    "        tf.keras.layers.Dense(128,activation='relu'),\n",
    "        tf.keras.layers.Dense(16,activation='relu'),\n",
    "        tf.keras.layers.Dense(1, activation='sigmoid')\n",
    "])\n",
    "model.summary()"
   ]
  },
  {
   "cell_type": "markdown",
   "metadata": {},
   "source": [
    "Setting the loss function, optimizer and metrics for the model training"
   ]
  },
  {
   "cell_type": "code",
   "execution_count": 26,
   "metadata": {},
   "outputs": [],
   "source": [
    "model.compile(loss='binary_crossentropy', optimizer='adam',metrics=['accuracy'])"
   ]
  },
  {
   "cell_type": "markdown",
   "metadata": {},
   "source": [
    "Train the model"
   ]
  },
  {
   "cell_type": "code",
   "execution_count": 27,
   "metadata": {},
   "outputs": [
    {
     "name": "stdout",
     "output_type": "stream",
     "text": [
      "Epoch 1/20\n",
      "247/247 [==============================] - 10s 29ms/step - loss: 0.6144 - accuracy: 0.6780 - val_loss: 0.5604 - val_accuracy: 0.7541\n",
      "Epoch 2/20\n",
      "247/247 [==============================] - 7s 27ms/step - loss: 0.5060 - accuracy: 0.7906 - val_loss: 0.5358 - val_accuracy: 0.7758\n",
      "Epoch 3/20\n",
      "247/247 [==============================] - 6s 26ms/step - loss: 0.4727 - accuracy: 0.8133 - val_loss: 0.5026 - val_accuracy: 0.7914\n",
      "Epoch 4/20\n",
      "247/247 [==============================] - 6s 26ms/step - loss: 0.4930 - accuracy: 0.7621 - val_loss: 0.5731 - val_accuracy: 0.6892\n",
      "Epoch 5/20\n",
      "247/247 [==============================] - 7s 27ms/step - loss: 0.5231 - accuracy: 0.7243 - val_loss: 0.5340 - val_accuracy: 0.7549\n",
      "Epoch 6/20\n",
      "247/247 [==============================] - 7s 27ms/step - loss: 0.4559 - accuracy: 0.8168 - val_loss: 0.5059 - val_accuracy: 0.7808\n",
      "Epoch 7/20\n",
      "247/247 [==============================] - 6s 26ms/step - loss: 0.4259 - accuracy: 0.8398 - val_loss: 0.5254 - val_accuracy: 0.7829\n",
      "Epoch 8/20\n",
      "247/247 [==============================] - 6s 25ms/step - loss: 0.4162 - accuracy: 0.8428 - val_loss: 0.4959 - val_accuracy: 0.7857\n",
      "Epoch 9/20\n",
      "247/247 [==============================] - 6s 25ms/step - loss: 0.4217 - accuracy: 0.8387 - val_loss: 0.5147 - val_accuracy: 0.7944\n",
      "Epoch 10/20\n",
      "247/247 [==============================] - 6s 25ms/step - loss: 0.3995 - accuracy: 0.8550 - val_loss: 0.4864 - val_accuracy: 0.8062\n",
      "Epoch 11/20\n",
      "247/247 [==============================] - 6s 25ms/step - loss: 0.4235 - accuracy: 0.8294 - val_loss: 0.5115 - val_accuracy: 0.7176\n",
      "Epoch 12/20\n",
      "247/247 [==============================] - 6s 25ms/step - loss: 0.3921 - accuracy: 0.8428 - val_loss: 0.4617 - val_accuracy: 0.8037\n",
      "Epoch 13/20\n",
      "247/247 [==============================] - 6s 26ms/step - loss: 0.3902 - accuracy: 0.8450 - val_loss: 0.4829 - val_accuracy: 0.7953\n",
      "Epoch 14/20\n",
      "247/247 [==============================] - 6s 25ms/step - loss: 0.3672 - accuracy: 0.8537 - val_loss: 0.4922 - val_accuracy: 0.8027\n",
      "Epoch 15/20\n",
      "247/247 [==============================] - 6s 26ms/step - loss: 0.3431 - accuracy: 0.8661 - val_loss: 0.4395 - val_accuracy: 0.8124\n",
      "Epoch 16/20\n",
      "247/247 [==============================] - 6s 26ms/step - loss: 0.3118 - accuracy: 0.8784 - val_loss: 0.4531 - val_accuracy: 0.8090\n",
      "Epoch 17/20\n",
      "247/247 [==============================] - 6s 26ms/step - loss: 0.3003 - accuracy: 0.8855 - val_loss: 0.4734 - val_accuracy: 0.8117\n",
      "Epoch 18/20\n",
      "247/247 [==============================] - 6s 26ms/step - loss: 0.2854 - accuracy: 0.8912 - val_loss: 0.5087 - val_accuracy: 0.8093\n",
      "Epoch 19/20\n",
      "247/247 [==============================] - 7s 26ms/step - loss: 0.2706 - accuracy: 0.9035 - val_loss: 0.4952 - val_accuracy: 0.8045\n",
      "Epoch 20/20\n",
      "247/247 [==============================] - 6s 26ms/step - loss: 0.2607 - accuracy: 0.9091 - val_loss: 0.5078 - val_accuracy: 0.8029\n"
     ]
    }
   ],
   "source": [
    "history=model.fit(padded,y_train,epochs=20,validation_data=(padded_val,y_val))"
   ]
  },
  {
   "cell_type": "code",
   "execution_count": 28,
   "metadata": {},
   "outputs": [
    {
     "name": "stdout",
     "output_type": "stream",
     "text": [
      "83/83 [==============================] - 1s 13ms/step - loss: 0.5046 - accuracy: 0.8019\n",
      "Test Loss: 0.5045685768127441\n",
      "Test Accuracy: 0.8019283413887024\n"
     ]
    }
   ],
   "source": [
    "test_loss, test_acc = model.evaluate(padded_test,y_test)\n",
    "\n",
    "print('Test Loss:', test_loss)\n",
    "print('Test Accuracy:', test_acc)"
   ]
  },
  {
   "cell_type": "code",
   "execution_count": 20,
   "metadata": {},
   "outputs": [],
   "source": [
    "import matplotlib.pyplot as plt\n",
    "\n",
    "\n",
    "def plot_graphs(history, metric):\n",
    "  plt.plot(history.history[metric])\n",
    "  plt.plot(history.history['val_'+metric], '')\n",
    "  plt.xlabel(\"Epochs\")\n",
    "  plt.ylabel(metric)\n",
    "  plt.legend([metric, 'val_'+metric])"
   ]
  },
  {
   "cell_type": "code",
   "execution_count": 29,
   "metadata": {},
   "outputs": [
    {
     "data": {
      "image/png": "[encoded data removed]",
      "text/plain": [
       "<Figure size 432x288 with 1 Axes>"
      ]
     },
     "metadata": {
      "needs_background": "light"
     },
     "output_type": "display_data"
    }
   ],
   "source": [
    "plot_graphs(history=history,metric='accuracy')"
   ]
  },
  {
   "cell_type": "code",
   "execution_count": 30,
   "metadata": {},
   "outputs": [
    {
     "data": {
      "image/png": "[encoded data removed]",
      "text/plain": [
       "<Figure size 432x288 with 1 Axes>"
      ]
     },
     "metadata": {
      "needs_background": "light"
     },
     "output_type": "display_data"
    }
   ],
   "source": [
    "plot_graphs(history=history,metric='loss')"
   ]
  },
  {
   "cell_type": "markdown",
   "metadata": {},
   "source": [
    "Entry with New Data with Bjorka Dataset"
   ]
  },
  {
   "cell_type": "code",
   "execution_count": 28,
   "metadata": {},
   "outputs": [],
   "source": [
    "stopword=pd.read_csv('data/stopwordbahasa.csv',header=None)\n",
    "stopword=stopword.rename(columns={0:'stopwords'})\n",
    "kamus_alay=pd.read_csv('data/new_kamusalay.csv',header=None,encoding='latin-1')\n",
    "kamus_alay=kamus_alay.rename(columns={0:'asli',1:'baru'})"
   ]
  },
  {
   "cell_type": "code",
   "execution_count": 18,
   "metadata": {},
   "outputs": [
    {
     "data": {
      "text/html": [
       "<div>\n",
       "<style scoped>\n",
       "    .dataframe tbody tr th:only-of-type {\n",
       "        vertical-align: middle;\n",
       "    }\n",
       "\n",
       "    .dataframe tbody tr th {\n",
       "        vertical-align: top;\n",
       "    }\n",
       "\n",
       "    .dataframe thead th {\n",
       "        text-align: right;\n",
       "    }\n",
       "</style>\n",
       "<table border=\"1\" class=\"dataframe\">\n",
       "  <thead>\n",
       "    <tr style=\"text-align: right;\">\n",
       "      <th></th>\n",
       "      <th>Unnamed: 0</th>\n",
       "      <th>created at</th>\n",
       "      <th>username</th>\n",
       "      <th>text</th>\n",
       "      <th>sentimen</th>\n",
       "    </tr>\n",
       "  </thead>\n",
       "  <tbody>\n",
       "    <tr>\n",
       "      <th>0</th>\n",
       "      <td>17688</td>\n",
       "      <td>2022-09-11</td>\n",
       "      <td>DraftAnakUnpad</td>\n",
       "      <td>- bjorka siapesi?</td>\n",
       "      <td>0</td>\n",
       "    </tr>\n",
       "    <tr>\n",
       "      <th>1</th>\n",
       "      <td>4373</td>\n",
       "      <td>2022-09-15</td>\n",
       "      <td>NephiLaxmus</td>\n",
       "      <td>- Sepertinya heker Bjorka mantan penyiar radio...</td>\n",
       "      <td>0</td>\n",
       "    </tr>\n",
       "    <tr>\n",
       "      <th>2</th>\n",
       "      <td>16018</td>\n",
       "      <td>2022-09-11</td>\n",
       "      <td>SuporterCampaig</td>\n",
       "      <td>\" Bjorka \" lagi trending bagi saya biasa aja, ...</td>\n",
       "      <td>0</td>\n",
       "    </tr>\n",
       "    <tr>\n",
       "      <th>3</th>\n",
       "      <td>17517</td>\n",
       "      <td>2022-09-11</td>\n",
       "      <td>uwiw14481104</td>\n",
       "      <td>\" Bjorka \" sebuah nama yang singkat namun memb...</td>\n",
       "      <td>0</td>\n",
       "    </tr>\n",
       "    <tr>\n",
       "      <th>4</th>\n",
       "      <td>7176</td>\n",
       "      <td>2022-09-14</td>\n",
       "      <td>AdPrabowoR1</td>\n",
       "      <td>\" Bjorka \" wajib ditangkap oleh Polri / Densus...</td>\n",
       "      <td>0</td>\n",
       "    </tr>\n",
       "    <tr>\n",
       "      <th>...</th>\n",
       "      <td>...</td>\n",
       "      <td>...</td>\n",
       "      <td>...</td>\n",
       "      <td>...</td>\n",
       "      <td>...</td>\n",
       "    </tr>\n",
       "    <tr>\n",
       "      <th>19995</th>\n",
       "      <td>17687</td>\n",
       "      <td>2022-09-11</td>\n",
       "      <td>Taula_</td>\n",
       "      <td>🥺 : hi lam knal. Km nak mna?\\n😠 : ni cpa y? Dp...</td>\n",
       "      <td>0</td>\n",
       "    </tr>\n",
       "    <tr>\n",
       "      <th>19996</th>\n",
       "      <td>7475</td>\n",
       "      <td>2022-09-14</td>\n",
       "      <td>tweetieapril</td>\n",
       "      <td>🦋Rekomendasi Sendal Kiyowo🦋\\na thread\\n\\n--\\nt...</td>\n",
       "      <td>0</td>\n",
       "    </tr>\n",
       "    <tr>\n",
       "      <th>19997</th>\n",
       "      <td>6225</td>\n",
       "      <td>2022-09-14</td>\n",
       "      <td>alexandr1aa_</td>\n",
       "      <td>🧒🏻 Bapak km guru ya?\\n👧🏻 Wahh kok tau?\\n🧒🏻 Iya...</td>\n",
       "      <td>0</td>\n",
       "    </tr>\n",
       "    <tr>\n",
       "      <th>19998</th>\n",
       "      <td>19013</td>\n",
       "      <td>2022-09-11</td>\n",
       "      <td>jogjamnfs</td>\n",
       "      <td>🧔🏻: gesek pakai Line Bank bisa mbak?\\n\\n🧕🏽: ba...</td>\n",
       "      <td>0</td>\n",
       "    </tr>\n",
       "    <tr>\n",
       "      <th>19999</th>\n",
       "      <td>2076</td>\n",
       "      <td>2022-09-17</td>\n",
       "      <td>jellygvrl</td>\n",
       "      <td>🧕🏼 : jes, b barko tuh siapa [liat di tv] \\n👩🏼 ...</td>\n",
       "      <td>0</td>\n",
       "    </tr>\n",
       "  </tbody>\n",
       "</table>\n",
       "<p>20000 rows × 5 columns</p>\n",
       "</div>"
      ],
      "text/plain": [
       "       Unnamed: 0 created at         username  \\\n",
       "0           17688 2022-09-11   DraftAnakUnpad   \n",
       "1            4373 2022-09-15      NephiLaxmus   \n",
       "2           16018 2022-09-11  SuporterCampaig   \n",
       "3           17517 2022-09-11     uwiw14481104   \n",
       "4            7176 2022-09-14      AdPrabowoR1   \n",
       "...           ...        ...              ...   \n",
       "19995       17687 2022-09-11           Taula_   \n",
       "19996        7475 2022-09-14     tweetieapril   \n",
       "19997        6225 2022-09-14     alexandr1aa_   \n",
       "19998       19013 2022-09-11        jogjamnfs   \n",
       "19999        2076 2022-09-17        jellygvrl   \n",
       "\n",
       "                                                    text  sentimen  \n",
       "0                                      - bjorka siapesi?         0  \n",
       "1      - Sepertinya heker Bjorka mantan penyiar radio...         0  \n",
       "2      \" Bjorka \" lagi trending bagi saya biasa aja, ...         0  \n",
       "3      \" Bjorka \" sebuah nama yang singkat namun memb...         0  \n",
       "4      \" Bjorka \" wajib ditangkap oleh Polri / Densus...         0  \n",
       "...                                                  ...       ...  \n",
       "19995  🥺 : hi lam knal. Km nak mna?\\n😠 : ni cpa y? Dp...         0  \n",
       "19996  🦋Rekomendasi Sendal Kiyowo🦋\\na thread\\n\\n--\\nt...         0  \n",
       "19997  🧒🏻 Bapak km guru ya?\\n👧🏻 Wahh kok tau?\\n🧒🏻 Iya...         0  \n",
       "19998  🧔🏻: gesek pakai Line Bank bisa mbak?\\n\\n🧕🏽: ba...         0  \n",
       "19999  🧕🏼 : jes, b barko tuh siapa [liat di tv] \\n👩🏼 ...         0  \n",
       "\n",
       "[20000 rows x 5 columns]"
      ]
     },
     "execution_count": 18,
     "metadata": {},
     "output_type": "execute_result"
    }
   ],
   "source": [
    "bjorka=pd.read_excel('./Data/bjorka.xlsx')\n",
    "bjorka"
   ]
  },
  {
   "cell_type": "code",
   "execution_count": 19,
   "metadata": {},
   "outputs": [
    {
     "data": {
      "text/html": [
       "<div>\n",
       "<style scoped>\n",
       "    .dataframe tbody tr th:only-of-type {\n",
       "        vertical-align: middle;\n",
       "    }\n",
       "\n",
       "    .dataframe tbody tr th {\n",
       "        vertical-align: top;\n",
       "    }\n",
       "\n",
       "    .dataframe thead th {\n",
       "        text-align: right;\n",
       "    }\n",
       "</style>\n",
       "<table border=\"1\" class=\"dataframe\">\n",
       "  <thead>\n",
       "    <tr style=\"text-align: right;\">\n",
       "      <th></th>\n",
       "      <th>text</th>\n",
       "      <th>sentimen</th>\n",
       "    </tr>\n",
       "  </thead>\n",
       "  <tbody>\n",
       "    <tr>\n",
       "      <th>0</th>\n",
       "      <td>- bjorka siapesi?</td>\n",
       "      <td>0</td>\n",
       "    </tr>\n",
       "    <tr>\n",
       "      <th>1</th>\n",
       "      <td>- Sepertinya heker Bjorka mantan penyiar radio...</td>\n",
       "      <td>0</td>\n",
       "    </tr>\n",
       "    <tr>\n",
       "      <th>2</th>\n",
       "      <td>\" Bjorka \" lagi trending bagi saya biasa aja, ...</td>\n",
       "      <td>0</td>\n",
       "    </tr>\n",
       "    <tr>\n",
       "      <th>3</th>\n",
       "      <td>\" Bjorka \" sebuah nama yang singkat namun memb...</td>\n",
       "      <td>0</td>\n",
       "    </tr>\n",
       "    <tr>\n",
       "      <th>4</th>\n",
       "      <td>\" Bjorka \" wajib ditangkap oleh Polri / Densus...</td>\n",
       "      <td>0</td>\n",
       "    </tr>\n",
       "    <tr>\n",
       "      <th>...</th>\n",
       "      <td>...</td>\n",
       "      <td>...</td>\n",
       "    </tr>\n",
       "    <tr>\n",
       "      <th>19995</th>\n",
       "      <td>🥺 : hi lam knal. Km nak mna?\\n😠 : ni cpa y? Dp...</td>\n",
       "      <td>0</td>\n",
       "    </tr>\n",
       "    <tr>\n",
       "      <th>19996</th>\n",
       "      <td>🦋Rekomendasi Sendal Kiyowo🦋\\na thread\\n\\n--\\nt...</td>\n",
       "      <td>0</td>\n",
       "    </tr>\n",
       "    <tr>\n",
       "      <th>19997</th>\n",
       "      <td>🧒🏻 Bapak km guru ya?\\n👧🏻 Wahh kok tau?\\n🧒🏻 Iya...</td>\n",
       "      <td>0</td>\n",
       "    </tr>\n",
       "    <tr>\n",
       "      <th>19998</th>\n",
       "      <td>🧔🏻: gesek pakai Line Bank bisa mbak?\\n\\n🧕🏽: ba...</td>\n",
       "      <td>0</td>\n",
       "    </tr>\n",
       "    <tr>\n",
       "      <th>19999</th>\n",
       "      <td>🧕🏼 : jes, b barko tuh siapa [liat di tv] \\n👩🏼 ...</td>\n",
       "      <td>0</td>\n",
       "    </tr>\n",
       "  </tbody>\n",
       "</table>\n",
       "<p>20000 rows × 2 columns</p>\n",
       "</div>"
      ],
      "text/plain": [
       "                                                    text  sentimen\n",
       "0                                      - bjorka siapesi?         0\n",
       "1      - Sepertinya heker Bjorka mantan penyiar radio...         0\n",
       "2      \" Bjorka \" lagi trending bagi saya biasa aja, ...         0\n",
       "3      \" Bjorka \" sebuah nama yang singkat namun memb...         0\n",
       "4      \" Bjorka \" wajib ditangkap oleh Polri / Densus...         0\n",
       "...                                                  ...       ...\n",
       "19995  🥺 : hi lam knal. Km nak mna?\\n😠 : ni cpa y? Dp...         0\n",
       "19996  🦋Rekomendasi Sendal Kiyowo🦋\\na thread\\n\\n--\\nt...         0\n",
       "19997  🧒🏻 Bapak km guru ya?\\n👧🏻 Wahh kok tau?\\n🧒🏻 Iya...         0\n",
       "19998  🧔🏻: gesek pakai Line Bank bisa mbak?\\n\\n🧕🏽: ba...         0\n",
       "19999  🧕🏼 : jes, b barko tuh siapa [liat di tv] \\n👩🏼 ...         0\n",
       "\n",
       "[20000 rows x 2 columns]"
      ]
     },
     "execution_count": 19,
     "metadata": {},
     "output_type": "execute_result"
    }
   ],
   "source": [
    "del bjorka['created at']\n",
    "del bjorka ['Unnamed: 0']\n",
    "del bjorka ['username']\n",
    "bjorka"
   ]
  },
  {
   "cell_type": "code",
   "execution_count": 32,
   "metadata": {},
   "outputs": [],
   "source": [
    "#normalize alay\n",
    "alay=dict(zip(kamus_alay['asli'],kamus_alay['baru']))\n",
    "def normalizeAlay(text):\n",
    "    return ' '.join([alay[word] if word in alay else word for word in text.split(' ')])"
   ]
  },
  {
   "cell_type": "code",
   "execution_count": 33,
   "metadata": {},
   "outputs": [
    {
     "data": {
      "text/html": [
       "<div>\n",
       "<style scoped>\n",
       "    .dataframe tbody tr th:only-of-type {\n",
       "        vertical-align: middle;\n",
       "    }\n",
       "\n",
       "    .dataframe tbody tr th {\n",
       "        vertical-align: top;\n",
       "    }\n",
       "\n",
       "    .dataframe thead th {\n",
       "        text-align: right;\n",
       "    }\n",
       "</style>\n",
       "<table border=\"1\" class=\"dataframe\">\n",
       "  <thead>\n",
       "    <tr style=\"text-align: right;\">\n",
       "      <th></th>\n",
       "      <th>text</th>\n",
       "      <th>sentimen</th>\n",
       "    </tr>\n",
       "  </thead>\n",
       "  <tbody>\n",
       "    <tr>\n",
       "      <th>0</th>\n",
       "      <td>bjorka siapesi</td>\n",
       "      <td>0</td>\n",
       "    </tr>\n",
       "    <tr>\n",
       "      <th>1</th>\n",
       "      <td>pei heker bjorka mantan siar radio layan amkm ...</td>\n",
       "      <td>0</td>\n",
       "    </tr>\n",
       "    <tr>\n",
       "      <th>2</th>\n",
       "      <td>bjorka tren kemari pei orang individu pasuk po...</td>\n",
       "      <td>0</td>\n",
       "    </tr>\n",
       "    <tr>\n",
       "      <th>3</th>\n",
       "      <td>bjorka buah nama singkat indonesia government ...</td>\n",
       "      <td>0</td>\n",
       "    </tr>\n",
       "    <tr>\n",
       "      <th>4</th>\n",
       "      <td>bjorka wajib tangkap polisi republik indonesia...</td>\n",
       "      <td>0</td>\n",
       "    </tr>\n",
       "    <tr>\n",
       "      <th>...</th>\n",
       "      <td>...</td>\n",
       "      <td>...</td>\n",
       "    </tr>\n",
       "    <tr>\n",
       "      <th>19995</th>\n",
       "      <td>hi salam kenal km nak nih iya noq no bjorka</td>\n",
       "      <td>0</td>\n",
       "    </tr>\n",
       "    <tr>\n",
       "      <th>19996</th>\n",
       "      <td>rekomendasi sendal kiyowo a thread tag donghyu...</td>\n",
       "      <td>0</td>\n",
       "    </tr>\n",
       "    <tr>\n",
       "      <th>19997</th>\n",
       "      <td>km guru ya tau iya kemarin lini bjorka kena sp...</td>\n",
       "      <td>0</td>\n",
       "    </tr>\n",
       "    <tr>\n",
       "      <th>19998</th>\n",
       "      <td>gesek pakai line bank mbak bank kak line bank ...</td>\n",
       "      <td>0</td>\n",
       "    </tr>\n",
       "    <tr>\n",
       "      <th>19999</th>\n",
       "      <td>jess b barko lihat televisi b barko tau bjorka...</td>\n",
       "      <td>0</td>\n",
       "    </tr>\n",
       "  </tbody>\n",
       "</table>\n",
       "<p>20000 rows × 2 columns</p>\n",
       "</div>"
      ],
      "text/plain": [
       "                                                    text  sentimen\n",
       "0                                         bjorka siapesi         0\n",
       "1      pei heker bjorka mantan siar radio layan amkm ...         0\n",
       "2      bjorka tren kemari pei orang individu pasuk po...         0\n",
       "3      bjorka buah nama singkat indonesia government ...         0\n",
       "4      bjorka wajib tangkap polisi republik indonesia...         0\n",
       "...                                                  ...       ...\n",
       "19995        hi salam kenal km nak nih iya noq no bjorka         0\n",
       "19996  rekomendasi sendal kiyowo a thread tag donghyu...         0\n",
       "19997  km guru ya tau iya kemarin lini bjorka kena sp...         0\n",
       "19998  gesek pakai line bank mbak bank kak line bank ...         0\n",
       "19999  jess b barko lihat televisi b barko tau bjorka...         0\n",
       "\n",
       "[20000 rows x 2 columns]"
      ]
     },
     "execution_count": 33,
     "metadata": {},
     "output_type": "execute_result"
    }
   ],
   "source": [
    "bjorka['text']=bjorka['text'].apply(preProcessing)\n",
    "bjorka"
   ]
  },
  {
   "cell_type": "code",
   "execution_count": 34,
   "metadata": {},
   "outputs": [],
   "source": [
    "bjorka.to_excel('./Data/bjorka_clean.xlsx')"
   ]
  },
  {
   "cell_type": "code",
   "execution_count": 47,
   "metadata": {},
   "outputs": [],
   "source": [
    "bjorka=pd.read_excel('./Data/bjorka_clean.xlsx')\n",
    "bjorka.text=bjorka.text.astype(str)"
   ]
  },
  {
   "cell_type": "code",
   "execution_count": 48,
   "metadata": {},
   "outputs": [],
   "source": [
    "from sklearn.model_selection import train_test_split\n",
    "from tensorflow.keras.preprocessing.text import Tokenizer\n",
    "from tensorflow.keras.preprocessing.sequence import pad_sequences"
   ]
  },
  {
   "cell_type": "code",
   "execution_count": 49,
   "metadata": {},
   "outputs": [],
   "source": [
    "# Split data into train and validation\n",
    "x_train,x_val,y_train,y_val=train_test_split(bjorka['text'],bjorka['sentimen'],test_size=0.2,random_state=1)\n",
    "\n",
    "#Split train data into train and test\n",
    "x_train,x_test,y_train,y_test=train_test_split(x_train,y_train,test_size=0.25,random_state=1)"
   ]
  },
  {
   "cell_type": "code",
   "execution_count": 50,
   "metadata": {},
   "outputs": [],
   "source": [
    "vocab_size=1000\n",
    "max_len=100\n",
    "trunc_type = 'post'\n",
    "padding_type = 'post'\n",
    "oov_tok = \"<OOV>\""
   ]
  },
  {
   "cell_type": "code",
   "execution_count": 51,
   "metadata": {},
   "outputs": [],
   "source": [
    "tokenizer=Tokenizer(num_words=vocab_size,oov_token=oov_tok)\n",
    "tokenizer.fit_on_texts(x_train)"
   ]
  },
  {
   "cell_type": "code",
   "execution_count": 52,
   "metadata": {},
   "outputs": [],
   "source": [
    "sequences=tokenizer.texts_to_sequences(x_train)\n",
    "padded=pad_sequences(sequences=sequences,padding=padding_type,truncating=trunc_type,maxlen=max_len)\n",
    "sequences_val=tokenizer.texts_to_sequences(x_val)\n",
    "padded_val=pad_sequences(sequences=sequences_val,padding=padding_type,truncating=trunc_type,maxlen=max_len)\n",
    "sequences_test=tokenizer.texts_to_sequences(x_test)\n",
    "padded_test=pad_sequences(sequences=sequences_test,padding=padding_type,truncating=trunc_type,maxlen=max_len)"
   ]
  },
  {
   "cell_type": "code",
   "execution_count": 53,
   "metadata": {},
   "outputs": [
    {
     "name": "stdout",
     "output_type": "stream",
     "text": [
      "Model: \"sequential\"\n",
      "_________________________________________________________________\n",
      " Layer (type)                Output Shape              Param #   \n",
      "=================================================================\n",
      " embedding (Embedding)       (None, 100, 64)           64000     \n",
      "                                                                 \n",
      " bidirectional (Bidirectiona  (None, 100, 128)         66048     \n",
      " l)                                                              \n",
      "                                                                 \n",
      " dense (Dense)               (None, 100, 128)          16512     \n",
      "                                                                 \n",
      " dense_1 (Dense)             (None, 100, 16)           2064      \n",
      "                                                                 \n",
      " dense_2 (Dense)             (None, 100, 1)            17        \n",
      "                                                                 \n",
      "=================================================================\n",
      "Total params: 148,641\n",
      "Trainable params: 148,641\n",
      "Non-trainable params: 0\n",
      "_________________________________________________________________\n"
     ]
    }
   ],
   "source": [
    "model=tf.keras.models.Sequential([\n",
    "        tf.keras.layers.Embedding(vocab_size, 64, input_length=max_len),\n",
    "        tf.keras.layers.Bidirectional(tf.keras.layers.LSTM(64,return_sequences=True)),\n",
    "        tf.keras.layers.Dense(128,activation='relu'),\n",
    "        tf.keras.layers.Dense(16,activation='relu'),\n",
    "        tf.keras.layers.Dense(1, activation='sigmoid')\n",
    "])\n",
    "model.summary()"
   ]
  },
  {
   "cell_type": "code",
   "execution_count": 54,
   "metadata": {},
   "outputs": [],
   "source": [
    "model.compile(loss='binary_crossentropy', optimizer='adam',metrics=['accuracy'])"
   ]
  },
  {
   "cell_type": "code",
   "execution_count": 55,
   "metadata": {},
   "outputs": [
    {
     "name": "stdout",
     "output_type": "stream",
     "text": [
      "Epoch 1/20\n",
      "375/375 [==============================] - 19s 25ms/step - loss: 0.3250 - accuracy: 0.9041 - val_loss: 0.3105 - val_accuracy: 0.9051\n",
      "Epoch 2/20\n",
      "375/375 [==============================] - 8s 23ms/step - loss: 0.2952 - accuracy: 0.9124 - val_loss: 0.3023 - val_accuracy: 0.9094\n",
      "Epoch 3/20\n",
      "375/375 [==============================] - 8s 22ms/step - loss: 0.2280 - accuracy: 0.9331 - val_loss: 0.2354 - val_accuracy: 0.9296\n",
      "Epoch 4/20\n",
      "375/375 [==============================] - 8s 22ms/step - loss: 0.2109 - accuracy: 0.9305 - val_loss: 0.2233 - val_accuracy: 0.9354\n",
      "Epoch 5/20\n",
      "375/375 [==============================] - 8s 22ms/step - loss: 0.2004 - accuracy: 0.9420 - val_loss: 0.2240 - val_accuracy: 0.9349\n",
      "Epoch 6/20\n",
      "375/375 [==============================] - 8s 22ms/step - loss: 0.2168 - accuracy: 0.9204 - val_loss: 0.2228 - val_accuracy: 0.9332\n",
      "Epoch 7/20\n",
      "375/375 [==============================] - 8s 22ms/step - loss: 0.1880 - accuracy: 0.9409 - val_loss: 0.2119 - val_accuracy: 0.9343\n",
      "Epoch 8/20\n",
      "375/375 [==============================] - 8s 22ms/step - loss: 0.1798 - accuracy: 0.9450 - val_loss: 0.2108 - val_accuracy: 0.9340\n",
      "Epoch 9/20\n",
      "375/375 [==============================] - 8s 22ms/step - loss: 0.1740 - accuracy: 0.9479 - val_loss: 0.2199 - val_accuracy: 0.9324\n",
      "Epoch 10/20\n",
      "375/375 [==============================] - 8s 22ms/step - loss: 0.1683 - accuracy: 0.9521 - val_loss: 0.2139 - val_accuracy: 0.9342\n",
      "Epoch 11/20\n",
      "375/375 [==============================] - 8s 22ms/step - loss: 0.1649 - accuracy: 0.9531 - val_loss: 0.2139 - val_accuracy: 0.9346\n",
      "Epoch 12/20\n",
      "375/375 [==============================] - 9s 23ms/step - loss: 0.1604 - accuracy: 0.9554 - val_loss: 0.2289 - val_accuracy: 0.9298\n",
      "Epoch 13/20\n",
      "375/375 [==============================] - 8s 22ms/step - loss: 0.1547 - accuracy: 0.9594 - val_loss: 0.2203 - val_accuracy: 0.9321\n",
      "Epoch 14/20\n",
      "375/375 [==============================] - 9s 23ms/step - loss: 0.1522 - accuracy: 0.9595 - val_loss: 0.2312 - val_accuracy: 0.9297\n",
      "Epoch 15/20\n",
      "375/375 [==============================] - 8s 23ms/step - loss: 0.1498 - accuracy: 0.9589 - val_loss: 0.2357 - val_accuracy: 0.9311\n",
      "Epoch 16/20\n",
      "375/375 [==============================] - 8s 23ms/step - loss: 0.1429 - accuracy: 0.9638 - val_loss: 0.2337 - val_accuracy: 0.9347\n",
      "Epoch 17/20\n",
      "375/375 [==============================] - 8s 23ms/step - loss: 0.1408 - accuracy: 0.9644 - val_loss: 0.2250 - val_accuracy: 0.9354\n",
      "Epoch 18/20\n",
      "375/375 [==============================] - 9s 23ms/step - loss: 0.1401 - accuracy: 0.9651 - val_loss: 0.2432 - val_accuracy: 0.9301\n",
      "Epoch 19/20\n",
      "375/375 [==============================] - 8s 22ms/step - loss: 0.1381 - accuracy: 0.9660 - val_loss: 0.2394 - val_accuracy: 0.9313\n",
      "Epoch 20/20\n",
      "375/375 [==============================] - 8s 22ms/step - loss: 0.1366 - accuracy: 0.9654 - val_loss: 0.2383 - val_accuracy: 0.9278\n"
     ]
    }
   ],
   "source": [
    "history=model.fit(padded,y_train,epochs=20,validation_data=(padded_val,y_val))"
   ]
  },
  {
   "cell_type": "code",
   "execution_count": 56,
   "metadata": {},
   "outputs": [
    {
     "name": "stdout",
     "output_type": "stream",
     "text": [
      "125/125 [==============================] - 1s 10ms/step - loss: 0.2580 - accuracy: 0.9213\n",
      "Test Loss: 0.2580266296863556\n",
      "Test Accuracy: 0.9213348627090454\n"
     ]
    }
   ],
   "source": [
    "test_loss, test_acc = model.evaluate(padded_test,y_test)\n",
    "\n",
    "print('Test Loss:', test_loss)\n",
    "print('Test Accuracy:', test_acc)"
   ]
  },
  {
   "cell_type": "code",
   "execution_count": 57,
   "metadata": {},
   "outputs": [],
   "source": [
    "import matplotlib.pyplot as plt\n",
    "\n",
    "\n",
    "def plot_graphs(history, metric):\n",
    "  plt.plot(history.history[metric])\n",
    "  plt.plot(history.history['val_'+metric], '')\n",
    "  plt.xlabel(\"Epochs\")\n",
    "  plt.ylabel(metric)\n",
    "  plt.legend([metric, 'val_'+metric])"
   ]
  },
  {
   "cell_type": "code",
   "execution_count": 58,
   "metadata": {},
   "outputs": [
    {
     "data": {
      "image/png": "[encoded data removed]",
      "text/plain": [
       "<Figure size 432x288 with 1 Axes>"
      ]
     },
     "metadata": {
      "needs_background": "light"
     },
     "output_type": "display_data"
    }
   ],
   "source": [
    "plot_graphs(history=history,metric='accuracy')"
   ]
  },
  {
   "cell_type": "code",
   "execution_count": 59,
   "metadata": {},
   "outputs": [
    {
     "data": {
      "image/png": "[encoded data removed]",
      "text/plain": [
       "<Figure size 432x288 with 1 Axes>"
      ]
     },
     "metadata": {
      "needs_background": "light"
     },
     "output_type": "display_data"
    }
   ],
   "source": [
    "plot_graphs(history=history,metric='loss')"
   ]
  }
 ],
 "metadata": {
  "kernelspec": {
   "display_name": "Python 3.8.0 64-bit",
   "language": "python",
   "name": "python3"
  },
  "language_info": {
   "codemirror_mode": {
    "name": "ipython",
    "version": 3
   },
   "file_extension": ".py",
   "mimetype": "text/x-python",
   "name": "python",
   "nbconvert_exporter": "python",
   "pygments_lexer": "ipython3",
   "version": "3.8.0"
  },
  "orig_nbformat": 4,
  "vscode": {
   "interpreter": {
    "hash": "ff0d91300876931207232d01add3156fa7c8214350996c757a3c6cebc4b3b5d5"
   }
  }
 },
 "nbformat": 4,
 "nbformat_minor": 2
}
