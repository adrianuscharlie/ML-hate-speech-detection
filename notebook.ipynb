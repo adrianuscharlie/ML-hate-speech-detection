{
 "cells": [
  {
   "cell_type": "markdown",
   "metadata": {},
   "source": [
    "Melakukan import libraries yang dibutukan"
   ]
  },
  {
   "cell_type": "code",
   "execution_count": 2,
   "metadata": {},
   "outputs": [],
   "source": [
    "import pandas as pd\n",
    "import tensorflow as tf\n",
    "import re\n",
    "from Sastrawi.Stemmer.StemmerFactory import StemmerFactory\n",
    "import codecs\n",
    "import numpy as np\n",
    "factory=StemmerFactory()\n",
    "stemmer=factory.create_stemmer()"
   ]
  },
  {
   "cell_type": "markdown",
   "metadata": {},
   "source": [
    "Melakukan reading data hate speech tweet"
   ]
  },
  {
   "cell_type": "code",
   "execution_count": null,
   "metadata": {},
   "outputs": [],
   "source": [
    "stopword=pd.read_csv('data/stopwordbahasa.csv',header=None)\n",
    "stopword=stopword.rename(columns={0:'stopwords'})\n",
    "kamus_alay=pd.read_csv('data/new_kamusalay.csv',header=None,encoding='latin-1')\n",
    "kamus_alay=kamus_alay.rename(columns={0:'asli',1:'baru'})"
   ]
  },
  {
   "cell_type": "markdown",
   "metadata": {},
   "source": [
    "Preprocessing Text"
   ]
  },
  {
   "cell_type": "code",
   "execution_count": 9,
   "metadata": {},
   "outputs": [],
   "source": [
    "#Stemming text\n",
    "def stemWord(x):\n",
    "    return stemmer.stem(x)"
   ]
  },
  {
   "cell_type": "code",
   "execution_count": 10,
   "metadata": {},
   "outputs": [],
   "source": [
    "#Lower text\n",
    "def lowercase(text):\n",
    "    return text.lower()"
   ]
  },
  {
   "cell_type": "code",
   "execution_count": 11,
   "metadata": {},
   "outputs": [],
   "source": [
    "#Remove unnecessary charracters\n",
    "def removeUnnecessary(text):\n",
    "    text=re.sub('\\n','',text) # menghapus newline\n",
    "    text=re.sub('rt','',text) # menghapus kata retweet\n",
    "    text=re.sub('user','',text) # menghapus kata user\n",
    "    text=re.sub('((www\\.[^\\s]+)|(https?://[^\\s]+)|(http?://[^\\s]+))',' ',text) # menghapus url\n",
    "    text = re.sub('  +', ' ', text) # menghapus karakter ekstra\n",
    "    text=re.sub('x.{3} | x.{2}','',text) # menghapus pola emoji \n",
    "    return text"
   ]
  },
  {
   "cell_type": "code",
   "execution_count": 12,
   "metadata": {},
   "outputs": [],
   "source": [
    "#Remove non alphanumeric character\n",
    "def removeNonAlphanumeric(text):\n",
    "    text = re.sub('[^0-9a-zA-Z]+', ' ', text) \n",
    "    text=\"\".join(filter(lambda x: not x.isdigit(), text))\n",
    "    return text"
   ]
  },
  {
   "cell_type": "code",
   "execution_count": 13,
   "metadata": {},
   "outputs": [],
   "source": [
    "#remove indonesian stopword\n",
    "def removeStopWord(text):\n",
    "    text = ' '.join(['' if word in stopword.stopwords.values else word for word in text.split(' ')])\n",
    "    text = re.sub('  +', ' ', text) # Remove extra spaces\n",
    "    text = text.strip()\n",
    "    return text\n"
   ]
  },
  {
   "cell_type": "code",
   "execution_count": 14,
   "metadata": {},
   "outputs": [],
   "source": [
    "#normalize alay\n",
    "alay=dict(zip(kamus_alay['asli'],kamus_alay['baru']))\n",
    "def normalizeAlay(text):\n",
    "    return ' '.join([alay[word] if word in alay else word for word in text.split(' ')])"
   ]
  },
  {
   "cell_type": "code",
   "execution_count": 15,
   "metadata": {},
   "outputs": [],
   "source": [
    "def preProcessing(sentences):\n",
    "    sentences=lowercase(sentences)\n",
    "    sentences=removeNonAlphanumeric(sentences)\n",
    "    sentences=removeUnnecessary(sentences)\n",
    "    sentences=normalizeAlay(sentences)\n",
    "    sentences=stemWord(sentences)\n",
    "    sentences=removeStopWord(sentences)\n",
    "    return sentences"
   ]
  },
  {
   "cell_type": "markdown",
   "metadata": {},
   "source": [
    "Entry with New Data with Bjorka Dataset"
   ]
  },
  {
   "cell_type": "code",
   "execution_count": 16,
   "metadata": {},
   "outputs": [],
   "source": [
    "stopword=pd.read_csv('data/stopwordbahasa.csv',header=None)\n",
    "stopword=stopword.rename(columns={0:'stopwords'})\n",
    "kamus_alay=pd.read_csv('data/new_kamusalay.csv',header=None,encoding='latin-1')\n",
    "kamus_alay=kamus_alay.rename(columns={0:'asli',1:'baru'})"
   ]
  },
  {
   "cell_type": "code",
   "execution_count": 33,
   "metadata": {},
   "outputs": [
    {
     "data": {
      "text/html": [
       "<div>\n",
       "<style scoped>\n",
       "    .dataframe tbody tr th:only-of-type {\n",
       "        vertical-align: middle;\n",
       "    }\n",
       "\n",
       "    .dataframe tbody tr th {\n",
       "        vertical-align: top;\n",
       "    }\n",
       "\n",
       "    .dataframe thead th {\n",
       "        text-align: right;\n",
       "    }\n",
       "</style>\n",
       "<table border=\"1\" class=\"dataframe\">\n",
       "  <thead>\n",
       "    <tr style=\"text-align: right;\">\n",
       "      <th></th>\n",
       "      <th>Unnamed: 0</th>\n",
       "      <th>created at</th>\n",
       "      <th>username</th>\n",
       "      <th>text</th>\n",
       "    </tr>\n",
       "  </thead>\n",
       "  <tbody>\n",
       "    <tr>\n",
       "      <th>0</th>\n",
       "      <td>0</td>\n",
       "      <td>2022-10-05</td>\n",
       "      <td>bjorkaxyz</td>\n",
       "      <td>What is the order of the Daniel Craig James Bo...</td>\n",
       "    </tr>\n",
       "    <tr>\n",
       "      <th>1</th>\n",
       "      <td>1</td>\n",
       "      <td>2022-10-05</td>\n",
       "      <td>Bjorkanismreals</td>\n",
       "      <td>Giveaway $100,000 For 500 Winner 🎉\\n \\nFollow ...</td>\n",
       "    </tr>\n",
       "    <tr>\n",
       "      <th>2</th>\n",
       "      <td>2</td>\n",
       "      <td>2022-10-05</td>\n",
       "      <td>0xBjorkaWin</td>\n",
       "      <td>hoping win today🙏🏻</td>\n",
       "    </tr>\n",
       "    <tr>\n",
       "      <th>3</th>\n",
       "      <td>3</td>\n",
       "      <td>2022-10-05</td>\n",
       "      <td>BjorkaID</td>\n",
       "      <td>look forward to the next surprise. stay here w...</td>\n",
       "    </tr>\n",
       "    <tr>\n",
       "      <th>4</th>\n",
       "      <td>4</td>\n",
       "      <td>2022-10-05</td>\n",
       "      <td>Bjorkax</td>\n",
       "      <td>The police are too much maneuver in the case o...</td>\n",
       "    </tr>\n",
       "    <tr>\n",
       "      <th>...</th>\n",
       "      <td>...</td>\n",
       "      <td>...</td>\n",
       "      <td>...</td>\n",
       "      <td>...</td>\n",
       "    </tr>\n",
       "    <tr>\n",
       "      <th>2858</th>\n",
       "      <td>2858</td>\n",
       "      <td>2010-08-23</td>\n",
       "      <td>KevinDoTedio</td>\n",
       "      <td>we have a premiére today of the video to the C...</td>\n",
       "    </tr>\n",
       "    <tr>\n",
       "      <th>2859</th>\n",
       "      <td>2859</td>\n",
       "      <td>2010-06-09</td>\n",
       "      <td>giigo310</td>\n",
       "      <td>attend a few classes to get up speed.Mon - Fri...</td>\n",
       "    </tr>\n",
       "    <tr>\n",
       "      <th>2860</th>\n",
       "      <td>2860</td>\n",
       "      <td>2010-03-01</td>\n",
       "      <td>BjorkaOddities</td>\n",
       "      <td>Earthquake in Chile!\\n\\nBjorka Oddities wants ...</td>\n",
       "    </tr>\n",
       "    <tr>\n",
       "      <th>2861</th>\n",
       "      <td>2861</td>\n",
       "      <td>2009-05-09</td>\n",
       "      <td>slimwrites</td>\n",
       "      <td>BITTE BJORKA at housing works. Fuck yeah!!!</td>\n",
       "    </tr>\n",
       "    <tr>\n",
       "      <th>2862</th>\n",
       "      <td>2862</td>\n",
       "      <td>2009-05-08</td>\n",
       "      <td>slimwrites</td>\n",
       "      <td>haha, YES! today this will be all I hear when ...</td>\n",
       "    </tr>\n",
       "  </tbody>\n",
       "</table>\n",
       "<p>2863 rows × 4 columns</p>\n",
       "</div>"
      ],
      "text/plain": [
       "      Unnamed: 0 created at         username  \\\n",
       "0              0 2022-10-05        bjorkaxyz   \n",
       "1              1 2022-10-05  Bjorkanismreals   \n",
       "2              2 2022-10-05      0xBjorkaWin   \n",
       "3              3 2022-10-05         BjorkaID   \n",
       "4              4 2022-10-05          Bjorkax   \n",
       "...          ...        ...              ...   \n",
       "2858        2858 2010-08-23     KevinDoTedio   \n",
       "2859        2859 2010-06-09         giigo310   \n",
       "2860        2860 2010-03-01   BjorkaOddities   \n",
       "2861        2861 2009-05-09       slimwrites   \n",
       "2862        2862 2009-05-08       slimwrites   \n",
       "\n",
       "                                                   text  \n",
       "0     What is the order of the Daniel Craig James Bo...  \n",
       "1     Giveaway $100,000 For 500 Winner 🎉\\n \\nFollow ...  \n",
       "2                                    hoping win today🙏🏻  \n",
       "3     look forward to the next surprise. stay here w...  \n",
       "4     The police are too much maneuver in the case o...  \n",
       "...                                                 ...  \n",
       "2858  we have a premiére today of the video to the C...  \n",
       "2859  attend a few classes to get up speed.Mon - Fri...  \n",
       "2860  Earthquake in Chile!\\n\\nBjorka Oddities wants ...  \n",
       "2861        BITTE BJORKA at housing works. Fuck yeah!!!  \n",
       "2862  haha, YES! today this will be all I hear when ...  \n",
       "\n",
       "[2863 rows x 4 columns]"
      ]
     },
     "execution_count": 33,
     "metadata": {},
     "output_type": "execute_result"
    }
   ],
   "source": [
    "bjorka=pd.read_excel('./Data/bjorka_english.xlsx')\n",
    "bjorka"
   ]
  },
  {
   "cell_type": "code",
   "execution_count": 34,
   "metadata": {},
   "outputs": [
    {
     "data": {
      "text/html": [
       "<div>\n",
       "<style scoped>\n",
       "    .dataframe tbody tr th:only-of-type {\n",
       "        vertical-align: middle;\n",
       "    }\n",
       "\n",
       "    .dataframe tbody tr th {\n",
       "        vertical-align: top;\n",
       "    }\n",
       "\n",
       "    .dataframe thead th {\n",
       "        text-align: right;\n",
       "    }\n",
       "</style>\n",
       "<table border=\"1\" class=\"dataframe\">\n",
       "  <thead>\n",
       "    <tr style=\"text-align: right;\">\n",
       "      <th></th>\n",
       "      <th>text</th>\n",
       "    </tr>\n",
       "  </thead>\n",
       "  <tbody>\n",
       "    <tr>\n",
       "      <th>0</th>\n",
       "      <td>What is the order of the Daniel Craig James Bo...</td>\n",
       "    </tr>\n",
       "    <tr>\n",
       "      <th>1</th>\n",
       "      <td>Giveaway $100,000 For 500 Winner 🎉\\n \\nFollow ...</td>\n",
       "    </tr>\n",
       "    <tr>\n",
       "      <th>2</th>\n",
       "      <td>hoping win today🙏🏻</td>\n",
       "    </tr>\n",
       "    <tr>\n",
       "      <th>3</th>\n",
       "      <td>look forward to the next surprise. stay here w...</td>\n",
       "    </tr>\n",
       "    <tr>\n",
       "      <th>4</th>\n",
       "      <td>The police are too much maneuver in the case o...</td>\n",
       "    </tr>\n",
       "    <tr>\n",
       "      <th>...</th>\n",
       "      <td>...</td>\n",
       "    </tr>\n",
       "    <tr>\n",
       "      <th>2858</th>\n",
       "      <td>we have a premiére today of the video to the C...</td>\n",
       "    </tr>\n",
       "    <tr>\n",
       "      <th>2859</th>\n",
       "      <td>attend a few classes to get up speed.Mon - Fri...</td>\n",
       "    </tr>\n",
       "    <tr>\n",
       "      <th>2860</th>\n",
       "      <td>Earthquake in Chile!\\n\\nBjorka Oddities wants ...</td>\n",
       "    </tr>\n",
       "    <tr>\n",
       "      <th>2861</th>\n",
       "      <td>BITTE BJORKA at housing works. Fuck yeah!!!</td>\n",
       "    </tr>\n",
       "    <tr>\n",
       "      <th>2862</th>\n",
       "      <td>haha, YES! today this will be all I hear when ...</td>\n",
       "    </tr>\n",
       "  </tbody>\n",
       "</table>\n",
       "<p>2863 rows × 1 columns</p>\n",
       "</div>"
      ],
      "text/plain": [
       "                                                   text\n",
       "0     What is the order of the Daniel Craig James Bo...\n",
       "1     Giveaway $100,000 For 500 Winner 🎉\\n \\nFollow ...\n",
       "2                                    hoping win today🙏🏻\n",
       "3     look forward to the next surprise. stay here w...\n",
       "4     The police are too much maneuver in the case o...\n",
       "...                                                 ...\n",
       "2858  we have a premiére today of the video to the C...\n",
       "2859  attend a few classes to get up speed.Mon - Fri...\n",
       "2860  Earthquake in Chile!\\n\\nBjorka Oddities wants ...\n",
       "2861        BITTE BJORKA at housing works. Fuck yeah!!!\n",
       "2862  haha, YES! today this will be all I hear when ...\n",
       "\n",
       "[2863 rows x 1 columns]"
      ]
     },
     "execution_count": 34,
     "metadata": {},
     "output_type": "execute_result"
    }
   ],
   "source": [
    "del bjorka['created at']\n",
    "del bjorka ['Unnamed: 0']\n",
    "del bjorka ['username']\n",
    "bjorka"
   ]
  },
  {
   "cell_type": "code",
   "execution_count": 35,
   "metadata": {},
   "outputs": [],
   "source": [
    "#normalize alay\n",
    "alay=dict(zip(kamus_alay['asli'],kamus_alay['baru']))\n",
    "def normalizeAlay(text):\n",
    "    return ' '.join([alay[word] if word in alay else word for word in text.split(' ')])"
   ]
  },
  {
   "cell_type": "code",
   "execution_count": 36,
   "metadata": {},
   "outputs": [
    {
     "data": {
      "text/html": [
       "<div>\n",
       "<style scoped>\n",
       "    .dataframe tbody tr th:only-of-type {\n",
       "        vertical-align: middle;\n",
       "    }\n",
       "\n",
       "    .dataframe tbody tr th {\n",
       "        vertical-align: top;\n",
       "    }\n",
       "\n",
       "    .dataframe thead th {\n",
       "        text-align: right;\n",
       "    }\n",
       "</style>\n",
       "<table border=\"1\" class=\"dataframe\">\n",
       "  <thead>\n",
       "    <tr style=\"text-align: right;\">\n",
       "      <th></th>\n",
       "      <th>text</th>\n",
       "    </tr>\n",
       "  </thead>\n",
       "  <tbody>\n",
       "    <tr>\n",
       "      <th>0</th>\n",
       "      <td>is the order of the daniel craig james bond mo...</td>\n",
       "    </tr>\n",
       "    <tr>\n",
       "      <th>1</th>\n",
       "      <td>giveaway for winner follow gmretweet amp like ...</td>\n",
       "    </tr>\n",
       "    <tr>\n",
       "      <th>2</th>\n",
       "      <td>hoping menang today</td>\n",
       "    </tr>\n",
       "    <tr>\n",
       "      <th>3</th>\n",
       "      <td>look forward to the next surprise stay here me...</td>\n",
       "    </tr>\n",
       "    <tr>\n",
       "      <th>4</th>\n",
       "      <td>the police are too much maneuver in the case o...</td>\n",
       "    </tr>\n",
       "    <tr>\n",
       "      <th>...</th>\n",
       "      <td>...</td>\n",
       "    </tr>\n",
       "    <tr>\n",
       "      <th>2858</th>\n",
       "      <td>we have a premi re today of the video to the c...</td>\n",
       "    </tr>\n",
       "    <tr>\n",
       "      <th>2859</th>\n",
       "      <td>attend a few classes to get up speed mon fri p...</td>\n",
       "    </tr>\n",
       "    <tr>\n",
       "      <th>2860</th>\n",
       "      <td>eahquake in chile bjorka oddities wants to exp...</td>\n",
       "    </tr>\n",
       "    <tr>\n",
       "      <th>2861</th>\n",
       "      <td>bitte bjorka at housing works fuck ya</td>\n",
       "    </tr>\n",
       "    <tr>\n",
       "      <th>2862</th>\n",
       "      <td>haha iya today this will be all i hear when li...</td>\n",
       "    </tr>\n",
       "  </tbody>\n",
       "</table>\n",
       "<p>2863 rows × 1 columns</p>\n",
       "</div>"
      ],
      "text/plain": [
       "                                                   text\n",
       "0     is the order of the daniel craig james bond mo...\n",
       "1     giveaway for winner follow gmretweet amp like ...\n",
       "2                                   hoping menang today\n",
       "3     look forward to the next surprise stay here me...\n",
       "4     the police are too much maneuver in the case o...\n",
       "...                                                 ...\n",
       "2858  we have a premi re today of the video to the c...\n",
       "2859  attend a few classes to get up speed mon fri p...\n",
       "2860  eahquake in chile bjorka oddities wants to exp...\n",
       "2861              bitte bjorka at housing works fuck ya\n",
       "2862  haha iya today this will be all i hear when li...\n",
       "\n",
       "[2863 rows x 1 columns]"
      ]
     },
     "execution_count": 36,
     "metadata": {},
     "output_type": "execute_result"
    }
   ],
   "source": [
    "bjorka['text']=bjorka['text'].apply(preProcessing)\n",
    "bjorka"
   ]
  },
  {
   "cell_type": "code",
   "execution_count": 21,
   "metadata": {},
   "outputs": [],
   "source": [
    "bjorka.to_excel('./Data/bjorka_clean.xlsx')"
   ]
  },
  {
   "cell_type": "code",
   "execution_count": 22,
   "metadata": {},
   "outputs": [],
   "source": [
    "bjorka=pd.read_excel('./Data/bjorka_clean.xlsx')\n",
    "bjorka.text=bjorka.text.astype(str)"
   ]
  },
  {
   "cell_type": "code",
   "execution_count": 28,
   "metadata": {},
   "outputs": [
    {
     "data": {
      "text/html": [
       "<div>\n",
       "<style scoped>\n",
       "    .dataframe tbody tr th:only-of-type {\n",
       "        vertical-align: middle;\n",
       "    }\n",
       "\n",
       "    .dataframe tbody tr th {\n",
       "        vertical-align: top;\n",
       "    }\n",
       "\n",
       "    .dataframe thead th {\n",
       "        text-align: right;\n",
       "    }\n",
       "</style>\n",
       "<table border=\"1\" class=\"dataframe\">\n",
       "  <thead>\n",
       "    <tr style=\"text-align: right;\">\n",
       "      <th></th>\n",
       "      <th>text</th>\n",
       "      <th>sentimen</th>\n",
       "    </tr>\n",
       "  </thead>\n",
       "  <tbody>\n",
       "    <tr>\n",
       "      <th>0</th>\n",
       "      <td>bjorka siapesi</td>\n",
       "      <td>0</td>\n",
       "    </tr>\n",
       "    <tr>\n",
       "      <th>1</th>\n",
       "      <td>pei heker bjorka mantan siar radio layan amkm ...</td>\n",
       "      <td>0</td>\n",
       "    </tr>\n",
       "    <tr>\n",
       "      <th>2</th>\n",
       "      <td>bjorka tren kemari pei orang individu pasuk po...</td>\n",
       "      <td>0</td>\n",
       "    </tr>\n",
       "    <tr>\n",
       "      <th>3</th>\n",
       "      <td>bjorka buah nama singkat indonesia government ...</td>\n",
       "      <td>0</td>\n",
       "    </tr>\n",
       "    <tr>\n",
       "      <th>4</th>\n",
       "      <td>bjorka wajib tangkap polisi republik indonesia...</td>\n",
       "      <td>0</td>\n",
       "    </tr>\n",
       "    <tr>\n",
       "      <th>...</th>\n",
       "      <td>...</td>\n",
       "      <td>...</td>\n",
       "    </tr>\n",
       "    <tr>\n",
       "      <th>19995</th>\n",
       "      <td>hi salam kenal km nak nih iya noq no bjorka</td>\n",
       "      <td>0</td>\n",
       "    </tr>\n",
       "    <tr>\n",
       "      <th>19996</th>\n",
       "      <td>rekomendasi sendal kiyowo a thread tag donghyu...</td>\n",
       "      <td>0</td>\n",
       "    </tr>\n",
       "    <tr>\n",
       "      <th>19997</th>\n",
       "      <td>km guru ya tau iya kemarin lini bjorka kena sp...</td>\n",
       "      <td>0</td>\n",
       "    </tr>\n",
       "    <tr>\n",
       "      <th>19998</th>\n",
       "      <td>gesek pakai line bank mbak bank kak line bank ...</td>\n",
       "      <td>0</td>\n",
       "    </tr>\n",
       "    <tr>\n",
       "      <th>19999</th>\n",
       "      <td>jess b barko lihat televisi b barko tau bjorka...</td>\n",
       "      <td>0</td>\n",
       "    </tr>\n",
       "  </tbody>\n",
       "</table>\n",
       "<p>20000 rows × 2 columns</p>\n",
       "</div>"
      ],
      "text/plain": [
       "                                                    text  sentimen\n",
       "0                                         bjorka siapesi         0\n",
       "1      pei heker bjorka mantan siar radio layan amkm ...         0\n",
       "2      bjorka tren kemari pei orang individu pasuk po...         0\n",
       "3      bjorka buah nama singkat indonesia government ...         0\n",
       "4      bjorka wajib tangkap polisi republik indonesia...         0\n",
       "...                                                  ...       ...\n",
       "19995        hi salam kenal km nak nih iya noq no bjorka         0\n",
       "19996  rekomendasi sendal kiyowo a thread tag donghyu...         0\n",
       "19997  km guru ya tau iya kemarin lini bjorka kena sp...         0\n",
       "19998  gesek pakai line bank mbak bank kak line bank ...         0\n",
       "19999  jess b barko lihat televisi b barko tau bjorka...         0\n",
       "\n",
       "[20000 rows x 2 columns]"
      ]
     },
     "execution_count": 28,
     "metadata": {},
     "output_type": "execute_result"
    }
   ],
   "source": [
    "del bjorka['Unnamed: 0']\n",
    "bjorka"
   ]
  },
  {
   "cell_type": "code",
   "execution_count": 29,
   "metadata": {},
   "outputs": [
    {
     "name": "stderr",
     "output_type": "stream",
     "text": [
      "[nltk_data] Downloading package vader_lexicon to\n",
      "[nltk_data]     C:\\Users\\ASUS\\AppData\\Roaming\\nltk_data...\n"
     ]
    }
   ],
   "source": [
    "import nltk\n",
    "nltk.download('vader_lexicon')\n",
    "from nltk.sentiment.vader import SentimentIntensityAnalyzer\n",
    "\n",
    "sid = SentimentIntensityAnalyzer()"
   ]
  },
  {
   "cell_type": "code",
   "execution_count": 37,
   "metadata": {},
   "outputs": [
    {
     "data": {
      "text/html": [
       "<div>\n",
       "<style scoped>\n",
       "    .dataframe tbody tr th:only-of-type {\n",
       "        vertical-align: middle;\n",
       "    }\n",
       "\n",
       "    .dataframe tbody tr th {\n",
       "        vertical-align: top;\n",
       "    }\n",
       "\n",
       "    .dataframe thead th {\n",
       "        text-align: right;\n",
       "    }\n",
       "</style>\n",
       "<table border=\"1\" class=\"dataframe\">\n",
       "  <thead>\n",
       "    <tr style=\"text-align: right;\">\n",
       "      <th></th>\n",
       "      <th>text</th>\n",
       "      <th>polar</th>\n",
       "    </tr>\n",
       "  </thead>\n",
       "  <tbody>\n",
       "    <tr>\n",
       "      <th>0</th>\n",
       "      <td>is the order of the daniel craig james bond mo...</td>\n",
       "      <td>{'neg': 0.078, 'neu': 0.922, 'pos': 0.0, 'comp...</td>\n",
       "    </tr>\n",
       "    <tr>\n",
       "      <th>1</th>\n",
       "      <td>giveaway for winner follow gmretweet amp like ...</td>\n",
       "      <td>{'neg': 0.0, 'neu': 0.613, 'pos': 0.387, 'comp...</td>\n",
       "    </tr>\n",
       "    <tr>\n",
       "      <th>2</th>\n",
       "      <td>hoping menang today</td>\n",
       "      <td>{'neg': 0.0, 'neu': 0.417, 'pos': 0.583, 'comp...</td>\n",
       "    </tr>\n",
       "    <tr>\n",
       "      <th>3</th>\n",
       "      <td>look forward to the next surprise stay here me...</td>\n",
       "      <td>{'neg': 0.0, 'neu': 0.851, 'pos': 0.149, 'comp...</td>\n",
       "    </tr>\n",
       "    <tr>\n",
       "      <th>4</th>\n",
       "      <td>the police are too much maneuver in the case o...</td>\n",
       "      <td>{'neg': 0.0, 'neu': 0.85, 'pos': 0.15, 'compou...</td>\n",
       "    </tr>\n",
       "    <tr>\n",
       "      <th>...</th>\n",
       "      <td>...</td>\n",
       "      <td>...</td>\n",
       "    </tr>\n",
       "    <tr>\n",
       "      <th>2858</th>\n",
       "      <td>we have a premi re today of the video to the c...</td>\n",
       "      <td>{'neg': 0.0, 'neu': 1.0, 'pos': 0.0, 'compound...</td>\n",
       "    </tr>\n",
       "    <tr>\n",
       "      <th>2859</th>\n",
       "      <td>attend a few classes to get up speed mon fri p...</td>\n",
       "      <td>{'neg': 0.0, 'neu': 0.702, 'pos': 0.298, 'comp...</td>\n",
       "    </tr>\n",
       "    <tr>\n",
       "      <th>2860</th>\n",
       "      <td>eahquake in chile bjorka oddities wants to exp...</td>\n",
       "      <td>{'neg': 0.0, 'neu': 0.758, 'pos': 0.242, 'comp...</td>\n",
       "    </tr>\n",
       "    <tr>\n",
       "      <th>2861</th>\n",
       "      <td>bitte bjorka at housing works fuck ya</td>\n",
       "      <td>{'neg': 0.368, 'neu': 0.632, 'pos': 0.0, 'comp...</td>\n",
       "    </tr>\n",
       "    <tr>\n",
       "      <th>2862</th>\n",
       "      <td>haha iya today this will be all i hear when li...</td>\n",
       "      <td>{'neg': 0.0, 'neu': 0.731, 'pos': 0.269, 'comp...</td>\n",
       "    </tr>\n",
       "  </tbody>\n",
       "</table>\n",
       "<p>2863 rows × 2 columns</p>\n",
       "</div>"
      ],
      "text/plain": [
       "                                                   text  \\\n",
       "0     is the order of the daniel craig james bond mo...   \n",
       "1     giveaway for winner follow gmretweet amp like ...   \n",
       "2                                   hoping menang today   \n",
       "3     look forward to the next surprise stay here me...   \n",
       "4     the police are too much maneuver in the case o...   \n",
       "...                                                 ...   \n",
       "2858  we have a premi re today of the video to the c...   \n",
       "2859  attend a few classes to get up speed mon fri p...   \n",
       "2860  eahquake in chile bjorka oddities wants to exp...   \n",
       "2861              bitte bjorka at housing works fuck ya   \n",
       "2862  haha iya today this will be all i hear when li...   \n",
       "\n",
       "                                                  polar  \n",
       "0     {'neg': 0.078, 'neu': 0.922, 'pos': 0.0, 'comp...  \n",
       "1     {'neg': 0.0, 'neu': 0.613, 'pos': 0.387, 'comp...  \n",
       "2     {'neg': 0.0, 'neu': 0.417, 'pos': 0.583, 'comp...  \n",
       "3     {'neg': 0.0, 'neu': 0.851, 'pos': 0.149, 'comp...  \n",
       "4     {'neg': 0.0, 'neu': 0.85, 'pos': 0.15, 'compou...  \n",
       "...                                                 ...  \n",
       "2858  {'neg': 0.0, 'neu': 1.0, 'pos': 0.0, 'compound...  \n",
       "2859  {'neg': 0.0, 'neu': 0.702, 'pos': 0.298, 'comp...  \n",
       "2860  {'neg': 0.0, 'neu': 0.758, 'pos': 0.242, 'comp...  \n",
       "2861  {'neg': 0.368, 'neu': 0.632, 'pos': 0.0, 'comp...  \n",
       "2862  {'neg': 0.0, 'neu': 0.731, 'pos': 0.269, 'comp...  \n",
       "\n",
       "[2863 rows x 2 columns]"
      ]
     },
     "execution_count": 37,
     "metadata": {},
     "output_type": "execute_result"
    }
   ],
   "source": [
    "polar=[]\n",
    "for index,row in bjorka.iterrows():\n",
    "    polar.append(sid.polarity_scores(row['text']))\n",
    "bjorka['polar']=polar\n",
    "bjorka"
   ]
  },
  {
   "cell_type": "code",
   "execution_count": 32,
   "metadata": {},
   "outputs": [],
   "source": [
    "bjorka.to_excel('./Data/bjorka_polar.xlsx')"
   ]
  },
  {
   "cell_type": "code",
   "execution_count": 48,
   "metadata": {},
   "outputs": [],
   "source": [
    "from sklearn.model_selection import train_test_split\n",
    "from tensorflow.keras.preprocessing.text import Tokenizer\n",
    "from tensorflow.keras.preprocessing.sequence import pad_sequences"
   ]
  },
  {
   "cell_type": "code",
   "execution_count": 49,
   "metadata": {},
   "outputs": [],
   "source": [
    "# Split data into train and validation\n",
    "x_train,x_val,y_train,y_val=train_test_split(bjorka['text'],bjorka['sentimen'],test_size=0.2,random_state=1)\n",
    "\n",
    "#Split train data into train and test\n",
    "x_train,x_test,y_train,y_test=train_test_split(x_train,y_train,test_size=0.25,random_state=1)"
   ]
  },
  {
   "cell_type": "code",
   "execution_count": 50,
   "metadata": {},
   "outputs": [],
   "source": [
    "vocab_size=1000\n",
    "max_len=100\n",
    "trunc_type = 'post'\n",
    "padding_type = 'post'\n",
    "oov_tok = \"<OOV>\""
   ]
  },
  {
   "cell_type": "code",
   "execution_count": 51,
   "metadata": {},
   "outputs": [],
   "source": [
    "tokenizer=Tokenizer(num_words=vocab_size,oov_token=oov_tok)\n",
    "tokenizer.fit_on_texts(x_train)"
   ]
  },
  {
   "cell_type": "code",
   "execution_count": 52,
   "metadata": {},
   "outputs": [],
   "source": [
    "sequences=tokenizer.texts_to_sequences(x_train)\n",
    "padded=pad_sequences(sequences=sequences,padding=padding_type,truncating=trunc_type,maxlen=max_len)\n",
    "sequences_val=tokenizer.texts_to_sequences(x_val)\n",
    "padded_val=pad_sequences(sequences=sequences_val,padding=padding_type,truncating=trunc_type,maxlen=max_len)\n",
    "sequences_test=tokenizer.texts_to_sequences(x_test)\n",
    "padded_test=pad_sequences(sequences=sequences_test,padding=padding_type,truncating=trunc_type,maxlen=max_len)"
   ]
  },
  {
   "cell_type": "code",
   "execution_count": 53,
   "metadata": {},
   "outputs": [
    {
     "name": "stdout",
     "output_type": "stream",
     "text": [
      "Model: \"sequential\"\n",
      "_________________________________________________________________\n",
      " Layer (type)                Output Shape              Param #   \n",
      "=================================================================\n",
      " embedding (Embedding)       (None, 100, 64)           64000     \n",
      "                                                                 \n",
      " bidirectional (Bidirectiona  (None, 100, 128)         66048     \n",
      " l)                                                              \n",
      "                                                                 \n",
      " dense (Dense)               (None, 100, 128)          16512     \n",
      "                                                                 \n",
      " dense_1 (Dense)             (None, 100, 16)           2064      \n",
      "                                                                 \n",
      " dense_2 (Dense)             (None, 100, 1)            17        \n",
      "                                                                 \n",
      "=================================================================\n",
      "Total params: 148,641\n",
      "Trainable params: 148,641\n",
      "Non-trainable params: 0\n",
      "_________________________________________________________________\n"
     ]
    }
   ],
   "source": [
    "model=tf.keras.models.Sequential([\n",
    "        tf.keras.layers.Embedding(vocab_size, 64, input_length=max_len),\n",
    "        tf.keras.layers.Bidirectional(tf.keras.layers.LSTM(64,return_sequences=True)),\n",
    "        tf.keras.layers.Dense(128,activation='relu'),\n",
    "        tf.keras.layers.Dense(16,activation='relu'),\n",
    "        tf.keras.layers.Dense(1, activation='sigmoid')\n",
    "])\n",
    "model.summary()"
   ]
  },
  {
   "cell_type": "code",
   "execution_count": 54,
   "metadata": {},
   "outputs": [],
   "source": [
    "model.compile(loss='binary_crossentropy', optimizer='adam',metrics=['accuracy'])"
   ]
  },
  {
   "cell_type": "code",
   "execution_count": 55,
   "metadata": {},
   "outputs": [
    {
     "name": "stdout",
     "output_type": "stream",
     "text": [
      "Epoch 1/20\n",
      "375/375 [==============================] - 19s 25ms/step - loss: 0.3250 - accuracy: 0.9041 - val_loss: 0.3105 - val_accuracy: 0.9051\n",
      "Epoch 2/20\n",
      "375/375 [==============================] - 8s 23ms/step - loss: 0.2952 - accuracy: 0.9124 - val_loss: 0.3023 - val_accuracy: 0.9094\n",
      "Epoch 3/20\n",
      "375/375 [==============================] - 8s 22ms/step - loss: 0.2280 - accuracy: 0.9331 - val_loss: 0.2354 - val_accuracy: 0.9296\n",
      "Epoch 4/20\n",
      "375/375 [==============================] - 8s 22ms/step - loss: 0.2109 - accuracy: 0.9305 - val_loss: 0.2233 - val_accuracy: 0.9354\n",
      "Epoch 5/20\n",
      "375/375 [==============================] - 8s 22ms/step - loss: 0.2004 - accuracy: 0.9420 - val_loss: 0.2240 - val_accuracy: 0.9349\n",
      "Epoch 6/20\n",
      "375/375 [==============================] - 8s 22ms/step - loss: 0.2168 - accuracy: 0.9204 - val_loss: 0.2228 - val_accuracy: 0.9332\n",
      "Epoch 7/20\n",
      "375/375 [==============================] - 8s 22ms/step - loss: 0.1880 - accuracy: 0.9409 - val_loss: 0.2119 - val_accuracy: 0.9343\n",
      "Epoch 8/20\n",
      "375/375 [==============================] - 8s 22ms/step - loss: 0.1798 - accuracy: 0.9450 - val_loss: 0.2108 - val_accuracy: 0.9340\n",
      "Epoch 9/20\n",
      "375/375 [==============================] - 8s 22ms/step - loss: 0.1740 - accuracy: 0.9479 - val_loss: 0.2199 - val_accuracy: 0.9324\n",
      "Epoch 10/20\n",
      "375/375 [==============================] - 8s 22ms/step - loss: 0.1683 - accuracy: 0.9521 - val_loss: 0.2139 - val_accuracy: 0.9342\n",
      "Epoch 11/20\n",
      "375/375 [==============================] - 8s 22ms/step - loss: 0.1649 - accuracy: 0.9531 - val_loss: 0.2139 - val_accuracy: 0.9346\n",
      "Epoch 12/20\n",
      "375/375 [==============================] - 9s 23ms/step - loss: 0.1604 - accuracy: 0.9554 - val_loss: 0.2289 - val_accuracy: 0.9298\n",
      "Epoch 13/20\n",
      "375/375 [==============================] - 8s 22ms/step - loss: 0.1547 - accuracy: 0.9594 - val_loss: 0.2203 - val_accuracy: 0.9321\n",
      "Epoch 14/20\n",
      "375/375 [==============================] - 9s 23ms/step - loss: 0.1522 - accuracy: 0.9595 - val_loss: 0.2312 - val_accuracy: 0.9297\n",
      "Epoch 15/20\n",
      "375/375 [==============================] - 8s 23ms/step - loss: 0.1498 - accuracy: 0.9589 - val_loss: 0.2357 - val_accuracy: 0.9311\n",
      "Epoch 16/20\n",
      "375/375 [==============================] - 8s 23ms/step - loss: 0.1429 - accuracy: 0.9638 - val_loss: 0.2337 - val_accuracy: 0.9347\n",
      "Epoch 17/20\n",
      "375/375 [==============================] - 8s 23ms/step - loss: 0.1408 - accuracy: 0.9644 - val_loss: 0.2250 - val_accuracy: 0.9354\n",
      "Epoch 18/20\n",
      "375/375 [==============================] - 9s 23ms/step - loss: 0.1401 - accuracy: 0.9651 - val_loss: 0.2432 - val_accuracy: 0.9301\n",
      "Epoch 19/20\n",
      "375/375 [==============================] - 8s 22ms/step - loss: 0.1381 - accuracy: 0.9660 - val_loss: 0.2394 - val_accuracy: 0.9313\n",
      "Epoch 20/20\n",
      "375/375 [==============================] - 8s 22ms/step - loss: 0.1366 - accuracy: 0.9654 - val_loss: 0.2383 - val_accuracy: 0.9278\n"
     ]
    }
   ],
   "source": [
    "history=model.fit(padded,y_train,epochs=20,validation_data=(padded_val,y_val))"
   ]
  },
  {
   "cell_type": "code",
   "execution_count": 56,
   "metadata": {},
   "outputs": [
    {
     "name": "stdout",
     "output_type": "stream",
     "text": [
      "125/125 [==============================] - 1s 10ms/step - loss: 0.2580 - accuracy: 0.9213\n",
      "Test Loss: 0.2580266296863556\n",
      "Test Accuracy: 0.9213348627090454\n"
     ]
    }
   ],
   "source": [
    "test_loss, test_acc = model.evaluate(padded_test,y_test)\n",
    "\n",
    "print('Test Loss:', test_loss)\n",
    "print('Test Accuracy:', test_acc)"
   ]
  },
  {
   "cell_type": "code",
   "execution_count": 57,
   "metadata": {},
   "outputs": [],
   "source": [
    "import matplotlib.pyplot as plt\n",
    "\n",
    "\n",
    "def plot_graphs(history, metric):\n",
    "  plt.plot(history.history[metric])\n",
    "  plt.plot(history.history['val_'+metric], '')\n",
    "  plt.xlabel(\"Epochs\")\n",
    "  plt.ylabel(metric)\n",
    "  plt.legend([metric, 'val_'+metric])"
   ]
  },
  {
   "cell_type": "code",
   "execution_count": 58,
   "metadata": {},
   "outputs": [
    {
     "data": {
      "image/png": "[encoded data removed]",
      "text/plain": [
       "<Figure size 432x288 with 1 Axes>"
      ]
     },
     "metadata": {
      "needs_background": "light"
     },
     "output_type": "display_data"
    }
   ],
   "source": [
    "plot_graphs(history=history,metric='accuracy')"
   ]
  },
  {
   "cell_type": "code",
   "execution_count": 59,
   "metadata": {},
   "outputs": [
    {
     "data": {
      "image/png": "[encoded data removed]",
      "text/plain": [
       "<Figure size 432x288 with 1 Axes>"
      ]
     },
     "metadata": {
      "needs_background": "light"
     },
     "output_type": "display_data"
    }
   ],
   "source": [
    "plot_graphs(history=history,metric='loss')"
   ]
  }
 ],
 "metadata": {
  "kernelspec": {
   "display_name": "Python 3.8.0 64-bit",
   "language": "python",
   "name": "python3"
  },
  "language_info": {
   "codemirror_mode": {
    "name": "ipython",
    "version": 3
   },
   "file_extension": ".py",
   "mimetype": "text/x-python",
   "name": "python",
   "nbconvert_exporter": "python",
   "pygments_lexer": "ipython3",
   "version": "3.8.0"
  },
  "orig_nbformat": 4,
  "vscode": {
   "interpreter": {
    "hash": "ff0d91300876931207232d01add3156fa7c8214350996c757a3c6cebc4b3b5d5"
   }
  }
 },
 "nbformat": 4,
 "nbformat_minor": 2
}
