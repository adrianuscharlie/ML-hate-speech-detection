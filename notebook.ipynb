{
 "cells": [
  {
   "cell_type": "markdown",
   "metadata": {},
   "source": [
    "Melakukan import libraries yang dibutukan"
   ]
  },
  {
   "cell_type": "code",
   "execution_count": 1,
   "metadata": {},
   "outputs": [],
   "source": [
    "import pandas as pd\n",
    "import tensorflow as tf\n",
    "import numpy as np"
   ]
  },
  {
   "cell_type": "code",
   "execution_count": 2,
   "metadata": {},
   "outputs": [
    {
     "data": {
      "text/html": [
       "<div>\n",
       "<style scoped>\n",
       "    .dataframe tbody tr th:only-of-type {\n",
       "        vertical-align: middle;\n",
       "    }\n",
       "\n",
       "    .dataframe tbody tr th {\n",
       "        vertical-align: top;\n",
       "    }\n",
       "\n",
       "    .dataframe thead th {\n",
       "        text-align: right;\n",
       "    }\n",
       "</style>\n",
       "<table border=\"1\" class=\"dataframe\">\n",
       "  <thead>\n",
       "    <tr style=\"text-align: right;\">\n",
       "      <th></th>\n",
       "      <th>created at</th>\n",
       "      <th>username</th>\n",
       "      <th>text</th>\n",
       "      <th>english</th>\n",
       "      <th>sentiment</th>\n",
       "      <th>preprocessed</th>\n",
       "    </tr>\n",
       "  </thead>\n",
       "  <tbody>\n",
       "    <tr>\n",
       "      <th>0</th>\n",
       "      <td>2022-11-02</td>\n",
       "      <td>rudiartraa</td>\n",
       "      <td>yaah , udah selesai nih Bjorka Bjorkaan nya ?</td>\n",
       "      <td>Yeah, have you finished Bjorka Bjorkaan?</td>\n",
       "      <td>Positive</td>\n",
       "      <td>selesai nih bjorka bjorkaan</td>\n",
       "    </tr>\n",
       "    <tr>\n",
       "      <th>1</th>\n",
       "      <td>2022-11-02</td>\n",
       "      <td>oi_filix315</td>\n",
       "      <td>Kadang gua mikir sekilas pp gua mirip bjorka, ...</td>\n",
       "      <td>Sometimes I think my pp at a glance is like Bj...</td>\n",
       "      <td>Positive</td>\n",
       "      <td>kadang gue pikir kilas pp gue bjorka gue pakai pp</td>\n",
       "    </tr>\n",
       "    <tr>\n",
       "      <th>2</th>\n",
       "      <td>2022-11-01</td>\n",
       "      <td>falahsanjaya_</td>\n",
       "      <td>Knp ga ada yg jadi Bjorka Halloween party kema...</td>\n",
       "      <td>Why didn't anyone become a Bjorka Halloween Pa...</td>\n",
       "      <td>Positive</td>\n",
       "      <td>bjorka halloween pay kemarin</td>\n",
       "    </tr>\n",
       "    <tr>\n",
       "      <th>3</th>\n",
       "      <td>2022-11-01</td>\n",
       "      <td>namanyaajess</td>\n",
       "      <td>Beritanya taik, mau ferdi sambo, mau bjorka, m...</td>\n",
       "      <td>The news is not, want Ferdy Sambo, want Bjorka...</td>\n",
       "      <td>Negative</td>\n",
       "      <td>berita tai ferdi sambo bjorka lapar tren topik...</td>\n",
       "    </tr>\n",
       "    <tr>\n",
       "      <th>4</th>\n",
       "      <td>2022-11-01</td>\n",
       "      <td>namakubaim</td>\n",
       "      <td>Apa kabar Bjorka?</td>\n",
       "      <td>How are Bjorka?</td>\n",
       "      <td>Positive</td>\n",
       "      <td>kabar bjorka</td>\n",
       "    </tr>\n",
       "    <tr>\n",
       "      <th>...</th>\n",
       "      <td>...</td>\n",
       "      <td>...</td>\n",
       "      <td>...</td>\n",
       "      <td>...</td>\n",
       "      <td>...</td>\n",
       "      <td>...</td>\n",
       "    </tr>\n",
       "    <tr>\n",
       "      <th>19995</th>\n",
       "      <td>2022-09-11</td>\n",
       "      <td>SecretAdmirerOP</td>\n",
       "      <td>hari ini ada 2 hari bersejarah\\n9/11\\nbjorka s...</td>\n",
       "      <td>Today there are 2 historic days \\n 9/11 \\n Bjo...</td>\n",
       "      <td>Negative</td>\n",
       "      <td>sejarah bjorka spill data bunuh munir tau</td>\n",
       "    </tr>\n",
       "    <tr>\n",
       "      <th>19996</th>\n",
       "      <td>2022-09-11</td>\n",
       "      <td>yonforger</td>\n",
       "      <td>lah anjir aku baru tau bjorka tu hacker, kirai...</td>\n",
       "      <td>I just found out bjorka tu hacker, I think bur...</td>\n",
       "      <td>Positive</td>\n",
       "      <td>anjir tau bjorka hacker bubur kacang ijo tukan...</td>\n",
       "    </tr>\n",
       "    <tr>\n",
       "      <th>19997</th>\n",
       "      <td>2022-09-11</td>\n",
       "      <td>semangkalucu</td>\n",
       "      <td>kata w mending bjorka ngewarin tiket the link aja</td>\n",
       "      <td>said wa pending bjorka released the link the link</td>\n",
       "      <td>Positive</td>\n",
       "      <td>gue mending bjorka ngewarin tiket the link</td>\n",
       "    </tr>\n",
       "    <tr>\n",
       "      <th>19998</th>\n",
       "      <td>2022-09-11</td>\n",
       "      <td>choaciao</td>\n",
       "      <td>Bang bjorka bisa ga si hek hati doi biar sama ...</td>\n",
       "      <td>Bang bjorka can not hek heart</td>\n",
       "      <td>Negative</td>\n",
       "      <td>bang bjorka sih hek hati biar ghuweh</td>\n",
       "    </tr>\n",
       "    <tr>\n",
       "      <th>19999</th>\n",
       "      <td>2022-09-11</td>\n",
       "      <td>JrIzzah</td>\n",
       "      <td>Bjorka mending liat data Kominfo daripada data...</td>\n",
       "      <td>Bjorka is better to see the Ministry of Commun...</td>\n",
       "      <td>Positive</td>\n",
       "      <td>bjorka mending data kominfo data wifiku</td>\n",
       "    </tr>\n",
       "  </tbody>\n",
       "</table>\n",
       "<p>20000 rows × 6 columns</p>\n",
       "</div>"
      ],
      "text/plain": [
       "      created at         username  \\\n",
       "0     2022-11-02       rudiartraa   \n",
       "1     2022-11-02      oi_filix315   \n",
       "2     2022-11-01    falahsanjaya_   \n",
       "3     2022-11-01     namanyaajess   \n",
       "4     2022-11-01       namakubaim   \n",
       "...          ...              ...   \n",
       "19995 2022-09-11  SecretAdmirerOP   \n",
       "19996 2022-09-11        yonforger   \n",
       "19997 2022-09-11     semangkalucu   \n",
       "19998 2022-09-11         choaciao   \n",
       "19999 2022-09-11          JrIzzah   \n",
       "\n",
       "                                                    text  \\\n",
       "0          yaah , udah selesai nih Bjorka Bjorkaan nya ?   \n",
       "1      Kadang gua mikir sekilas pp gua mirip bjorka, ...   \n",
       "2      Knp ga ada yg jadi Bjorka Halloween party kema...   \n",
       "3      Beritanya taik, mau ferdi sambo, mau bjorka, m...   \n",
       "4                                      Apa kabar Bjorka?   \n",
       "...                                                  ...   \n",
       "19995  hari ini ada 2 hari bersejarah\\n9/11\\nbjorka s...   \n",
       "19996  lah anjir aku baru tau bjorka tu hacker, kirai...   \n",
       "19997  kata w mending bjorka ngewarin tiket the link aja   \n",
       "19998  Bang bjorka bisa ga si hek hati doi biar sama ...   \n",
       "19999  Bjorka mending liat data Kominfo daripada data...   \n",
       "\n",
       "                                                 english sentiment  \\\n",
       "0               Yeah, have you finished Bjorka Bjorkaan?  Positive   \n",
       "1      Sometimes I think my pp at a glance is like Bj...  Positive   \n",
       "2      Why didn't anyone become a Bjorka Halloween Pa...  Positive   \n",
       "3      The news is not, want Ferdy Sambo, want Bjorka...  Negative   \n",
       "4                                        How are Bjorka?  Positive   \n",
       "...                                                  ...       ...   \n",
       "19995  Today there are 2 historic days \\n 9/11 \\n Bjo...  Negative   \n",
       "19996  I just found out bjorka tu hacker, I think bur...  Positive   \n",
       "19997  said wa pending bjorka released the link the link  Positive   \n",
       "19998                      Bang bjorka can not hek heart  Negative   \n",
       "19999  Bjorka is better to see the Ministry of Commun...  Positive   \n",
       "\n",
       "                                            preprocessed  \n",
       "0                            selesai nih bjorka bjorkaan  \n",
       "1      kadang gue pikir kilas pp gue bjorka gue pakai pp  \n",
       "2                           bjorka halloween pay kemarin  \n",
       "3      berita tai ferdi sambo bjorka lapar tren topik...  \n",
       "4                                           kabar bjorka  \n",
       "...                                                  ...  \n",
       "19995          sejarah bjorka spill data bunuh munir tau  \n",
       "19996  anjir tau bjorka hacker bubur kacang ijo tukan...  \n",
       "19997         gue mending bjorka ngewarin tiket the link  \n",
       "19998               bang bjorka sih hek hati biar ghuweh  \n",
       "19999            bjorka mending data kominfo data wifiku  \n",
       "\n",
       "[20000 rows x 6 columns]"
      ]
     },
     "execution_count": 2,
     "metadata": {},
     "output_type": "execute_result"
    }
   ],
   "source": [
    "data=pd.read_excel('D:/Skripsi/Data/english_sentiment_clean_2polarity.xlsx')\n",
    "del data['Unnamed: 0']\n",
    "data"
   ]
  },
  {
   "cell_type": "code",
   "execution_count": 3,
   "metadata": {},
   "outputs": [
    {
     "data": {
      "text/html": [
       "<div>\n",
       "<style scoped>\n",
       "    .dataframe tbody tr th:only-of-type {\n",
       "        vertical-align: middle;\n",
       "    }\n",
       "\n",
       "    .dataframe tbody tr th {\n",
       "        vertical-align: top;\n",
       "    }\n",
       "\n",
       "    .dataframe thead th {\n",
       "        text-align: right;\n",
       "    }\n",
       "</style>\n",
       "<table border=\"1\" class=\"dataframe\">\n",
       "  <thead>\n",
       "    <tr style=\"text-align: right;\">\n",
       "      <th></th>\n",
       "      <th>preprocessed</th>\n",
       "      <th>sentiment</th>\n",
       "    </tr>\n",
       "  </thead>\n",
       "  <tbody>\n",
       "    <tr>\n",
       "      <th>0</th>\n",
       "      <td>selesai nih bjorka bjorkaan</td>\n",
       "      <td>Positive</td>\n",
       "    </tr>\n",
       "    <tr>\n",
       "      <th>1</th>\n",
       "      <td>kadang gue pikir kilas pp gue bjorka gue pakai pp</td>\n",
       "      <td>Positive</td>\n",
       "    </tr>\n",
       "    <tr>\n",
       "      <th>2</th>\n",
       "      <td>bjorka halloween pay kemarin</td>\n",
       "      <td>Positive</td>\n",
       "    </tr>\n",
       "    <tr>\n",
       "      <th>3</th>\n",
       "      <td>berita tai ferdi sambo bjorka lapar tren topik...</td>\n",
       "      <td>Negative</td>\n",
       "    </tr>\n",
       "    <tr>\n",
       "      <th>4</th>\n",
       "      <td>kabar bjorka</td>\n",
       "      <td>Positive</td>\n",
       "    </tr>\n",
       "    <tr>\n",
       "      <th>...</th>\n",
       "      <td>...</td>\n",
       "      <td>...</td>\n",
       "    </tr>\n",
       "    <tr>\n",
       "      <th>19995</th>\n",
       "      <td>sejarah bjorka spill data bunuh munir tau</td>\n",
       "      <td>Negative</td>\n",
       "    </tr>\n",
       "    <tr>\n",
       "      <th>19996</th>\n",
       "      <td>anjir tau bjorka hacker bubur kacang ijo tukan...</td>\n",
       "      <td>Positive</td>\n",
       "    </tr>\n",
       "    <tr>\n",
       "      <th>19997</th>\n",
       "      <td>gue mending bjorka ngewarin tiket the link</td>\n",
       "      <td>Positive</td>\n",
       "    </tr>\n",
       "    <tr>\n",
       "      <th>19998</th>\n",
       "      <td>bang bjorka sih hek hati biar ghuweh</td>\n",
       "      <td>Negative</td>\n",
       "    </tr>\n",
       "    <tr>\n",
       "      <th>19999</th>\n",
       "      <td>bjorka mending data kominfo data wifiku</td>\n",
       "      <td>Positive</td>\n",
       "    </tr>\n",
       "  </tbody>\n",
       "</table>\n",
       "<p>20000 rows × 2 columns</p>\n",
       "</div>"
      ],
      "text/plain": [
       "                                            preprocessed sentiment\n",
       "0                            selesai nih bjorka bjorkaan  Positive\n",
       "1      kadang gue pikir kilas pp gue bjorka gue pakai pp  Positive\n",
       "2                           bjorka halloween pay kemarin  Positive\n",
       "3      berita tai ferdi sambo bjorka lapar tren topik...  Negative\n",
       "4                                           kabar bjorka  Positive\n",
       "...                                                  ...       ...\n",
       "19995          sejarah bjorka spill data bunuh munir tau  Negative\n",
       "19996  anjir tau bjorka hacker bubur kacang ijo tukan...  Positive\n",
       "19997         gue mending bjorka ngewarin tiket the link  Positive\n",
       "19998               bang bjorka sih hek hati biar ghuweh  Negative\n",
       "19999            bjorka mending data kominfo data wifiku  Positive\n",
       "\n",
       "[20000 rows x 2 columns]"
      ]
     },
     "execution_count": 3,
     "metadata": {},
     "output_type": "execute_result"
    }
   ],
   "source": [
    "data=data[['preprocessed','sentiment']]\n",
    "data"
   ]
  },
  {
   "cell_type": "code",
   "execution_count": 4,
   "metadata": {},
   "outputs": [
    {
     "name": "stderr",
     "output_type": "stream",
     "text": [
      "C:\\Users\\ASUS\\AppData\\Local\\Temp\\ipykernel_18156\\1650668707.py:1: SettingWithCopyWarning: \n",
      "A value is trying to be set on a copy of a slice from a DataFrame.\n",
      "Try using .loc[row_indexer,col_indexer] = value instead\n",
      "\n",
      "See the caveats in the documentation: https://pandas.pydata.org/pandas-docs/stable/user_guide/indexing.html#returning-a-view-versus-a-copy\n",
      "  data.sentiment = pd.Categorical(pd.factorize(data.sentiment)[0])\n"
     ]
    },
    {
     "data": {
      "text/html": [
       "<div>\n",
       "<style scoped>\n",
       "    .dataframe tbody tr th:only-of-type {\n",
       "        vertical-align: middle;\n",
       "    }\n",
       "\n",
       "    .dataframe tbody tr th {\n",
       "        vertical-align: top;\n",
       "    }\n",
       "\n",
       "    .dataframe thead th {\n",
       "        text-align: right;\n",
       "    }\n",
       "</style>\n",
       "<table border=\"1\" class=\"dataframe\">\n",
       "  <thead>\n",
       "    <tr style=\"text-align: right;\">\n",
       "      <th></th>\n",
       "      <th>preprocessed</th>\n",
       "      <th>sentiment</th>\n",
       "    </tr>\n",
       "  </thead>\n",
       "  <tbody>\n",
       "    <tr>\n",
       "      <th>0</th>\n",
       "      <td>selesai nih bjorka bjorkaan</td>\n",
       "      <td>0</td>\n",
       "    </tr>\n",
       "    <tr>\n",
       "      <th>1</th>\n",
       "      <td>kadang gue pikir kilas pp gue bjorka gue pakai pp</td>\n",
       "      <td>0</td>\n",
       "    </tr>\n",
       "    <tr>\n",
       "      <th>2</th>\n",
       "      <td>bjorka halloween pay kemarin</td>\n",
       "      <td>0</td>\n",
       "    </tr>\n",
       "    <tr>\n",
       "      <th>3</th>\n",
       "      <td>berita tai ferdi sambo bjorka lapar tren topik...</td>\n",
       "      <td>1</td>\n",
       "    </tr>\n",
       "    <tr>\n",
       "      <th>4</th>\n",
       "      <td>kabar bjorka</td>\n",
       "      <td>0</td>\n",
       "    </tr>\n",
       "    <tr>\n",
       "      <th>...</th>\n",
       "      <td>...</td>\n",
       "      <td>...</td>\n",
       "    </tr>\n",
       "    <tr>\n",
       "      <th>19995</th>\n",
       "      <td>sejarah bjorka spill data bunuh munir tau</td>\n",
       "      <td>1</td>\n",
       "    </tr>\n",
       "    <tr>\n",
       "      <th>19996</th>\n",
       "      <td>anjir tau bjorka hacker bubur kacang ijo tukan...</td>\n",
       "      <td>0</td>\n",
       "    </tr>\n",
       "    <tr>\n",
       "      <th>19997</th>\n",
       "      <td>gue mending bjorka ngewarin tiket the link</td>\n",
       "      <td>0</td>\n",
       "    </tr>\n",
       "    <tr>\n",
       "      <th>19998</th>\n",
       "      <td>bang bjorka sih hek hati biar ghuweh</td>\n",
       "      <td>1</td>\n",
       "    </tr>\n",
       "    <tr>\n",
       "      <th>19999</th>\n",
       "      <td>bjorka mending data kominfo data wifiku</td>\n",
       "      <td>0</td>\n",
       "    </tr>\n",
       "  </tbody>\n",
       "</table>\n",
       "<p>20000 rows × 2 columns</p>\n",
       "</div>"
      ],
      "text/plain": [
       "                                            preprocessed sentiment\n",
       "0                            selesai nih bjorka bjorkaan         0\n",
       "1      kadang gue pikir kilas pp gue bjorka gue pakai pp         0\n",
       "2                           bjorka halloween pay kemarin         0\n",
       "3      berita tai ferdi sambo bjorka lapar tren topik...         1\n",
       "4                                           kabar bjorka         0\n",
       "...                                                  ...       ...\n",
       "19995          sejarah bjorka spill data bunuh munir tau         1\n",
       "19996  anjir tau bjorka hacker bubur kacang ijo tukan...         0\n",
       "19997         gue mending bjorka ngewarin tiket the link         0\n",
       "19998               bang bjorka sih hek hati biar ghuweh         1\n",
       "19999            bjorka mending data kominfo data wifiku         0\n",
       "\n",
       "[20000 rows x 2 columns]"
      ]
     },
     "execution_count": 4,
     "metadata": {},
     "output_type": "execute_result"
    }
   ],
   "source": [
    "data.sentiment = pd.Categorical(pd.factorize(data.sentiment)[0])\n",
    "data"
   ]
  },
  {
   "cell_type": "code",
   "execution_count": 5,
   "metadata": {},
   "outputs": [],
   "source": [
    "from sklearn.model_selection import train_test_split\n",
    "from tensorflow.keras.preprocessing.text import Tokenizer\n",
    "from tensorflow.keras.preprocessing.sequence import pad_sequences"
   ]
  },
  {
   "cell_type": "code",
   "execution_count": 6,
   "metadata": {},
   "outputs": [],
   "source": [
    "vocab_size=17586\n",
    "max_len=100\n",
    "trunc_type = 'post'\n",
    "padding_type = 'post'\n",
    "oov_tok = \"<OOV>\""
   ]
  },
  {
   "cell_type": "code",
   "execution_count": 7,
   "metadata": {},
   "outputs": [],
   "source": [
    "tokenizer=Tokenizer(num_words=vocab_size,oov_token=oov_tok)\n",
    "tokenizer.fit_on_texts(data['preprocessed'])\n",
    "sequences=tokenizer.texts_to_sequences(data['preprocessed'])\n",
    "padded=pad_sequences(sequences=sequences,padding=padding_type,truncating=trunc_type,maxlen=max_len)"
   ]
  },
  {
   "cell_type": "code",
   "execution_count": 8,
   "metadata": {},
   "outputs": [
    {
     "data": {
      "text/plain": [
       "((16000, 100), (4000, 100), (16000,), (4000,))"
      ]
     },
     "execution_count": 8,
     "metadata": {},
     "output_type": "execute_result"
    }
   ],
   "source": [
    "from sklearn.model_selection import train_test_split\n",
    "x_train,x_test,y_train,y_test=train_test_split(padded,data['sentiment'],test_size=0.2)\n",
    "x_train.shape,x_test.shape,y_train.shape,y_test.shape"
   ]
  },
  {
   "cell_type": "code",
   "execution_count": null,
   "metadata": {},
   "outputs": [],
   "source": [
    "#from imblearn.over_sampling import SMOTE\n",
    "#oversample = SMOTE()\n",
    "#x_train, y_train = oversample.fit_resample(x_train, y_train)\n",
    "#x_train.shape,x_test.shape,y_train.shape,y_test.shape"
   ]
  },
  {
   "cell_type": "code",
   "execution_count": 9,
   "metadata": {},
   "outputs": [
    {
     "data": {
      "text/plain": [
       "((16000, 100), (4000, 100), (16000, 3), (4000, 3))"
      ]
     },
     "execution_count": 9,
     "metadata": {},
     "output_type": "execute_result"
    }
   ],
   "source": [
    "y_train= tf.keras.utils.to_categorical(y_train, num_classes=3)\n",
    "y_test= tf.keras.utils.to_categorical(y_test, num_classes=3)\n",
    "x_train.shape,x_test.shape,y_train.shape,y_test.shape"
   ]
  },
  {
   "cell_type": "code",
   "execution_count": 12,
   "metadata": {},
   "outputs": [
    {
     "name": "stdout",
     "output_type": "stream",
     "text": [
      "Model: \"sequential_1\"\n",
      "_________________________________________________________________\n",
      " Layer (type)                Output Shape              Param #   \n",
      "=================================================================\n",
      " embedding_1 (Embedding)     (None, 100, 100)          1758600   \n",
      "                                                                 \n",
      " flatten_1 (Flatten)         (None, 10000)             0         \n",
      "                                                                 \n",
      " dense_2 (Dense)             (None, 100)               1000100   \n",
      "                                                                 \n",
      " dense_3 (Dense)             (None, 3)                 303       \n",
      "                                                                 \n",
      "=================================================================\n",
      "Total params: 2,759,003\n",
      "Trainable params: 2,759,003\n",
      "Non-trainable params: 0\n",
      "_________________________________________________________________\n"
     ]
    }
   ],
   "source": [
    "model=tf.keras.models.Sequential([\n",
    "        tf.keras.layers.Embedding(vocab_size, 100, input_length=max_len),\n",
    "        tf.keras.layers.Flatten(),\n",
    "        tf.keras.layers.Dense(100,activation='relu'),\n",
    "        tf.keras.layers.Dense(3, activation='softmax')\n",
    "])\n",
    "model.summary()"
   ]
  },
  {
   "cell_type": "code",
   "execution_count": 13,
   "metadata": {},
   "outputs": [],
   "source": [
    "from keras import backend as K\n",
    "\n",
    "def recall_m(y_true, y_pred):\n",
    "    true_positives = K.sum(K.round(K.clip(y_true * y_pred, 0, 1)))\n",
    "    possible_positives = K.sum(K.round(K.clip(y_true, 0, 1)))\n",
    "    recall = true_positives / (possible_positives + K.epsilon())\n",
    "    return recall\n",
    "\n",
    "def precision_m(y_true, y_pred):\n",
    "    true_positives = K.sum(K.round(K.clip(y_true * y_pred, 0, 1)))\n",
    "    predicted_positives = K.sum(K.round(K.clip(y_pred, 0, 1)))\n",
    "    precision = true_positives / (predicted_positives + K.epsilon())\n",
    "    return precision\n",
    "\n",
    "def f1_m(y_true, y_pred):\n",
    "    precision = precision_m(y_true, y_pred)\n",
    "    recall = recall_m(y_true, y_pred)\n",
    "    return 2*((precision*recall)/(precision+recall+K.epsilon()))"
   ]
  },
  {
   "cell_type": "code",
   "execution_count": 111,
   "metadata": {},
   "outputs": [],
   "source": [
    "model.compile(loss='binary_crossentropy', optimizer=tf.keras.optimizers.Adam(),metrics=['accuracy',f1_m])"
   ]
  },
  {
   "cell_type": "code",
   "execution_count": 112,
   "metadata": {},
   "outputs": [
    {
     "name": "stdout",
     "output_type": "stream",
     "text": [
      "Epoch 1/20\n",
      "400/400 [==============================] - 6s 10ms/step - loss: 0.5125 - accuracy: 0.7577 - f1_m: 0.2663 - val_loss: 0.4739 - val_accuracy: 0.7800 - val_f1_m: 0.4332\n",
      "Epoch 2/20\n",
      "400/400 [==============================] - 4s 9ms/step - loss: 0.2946 - accuracy: 0.8798 - f1_m: 0.7422 - val_loss: 0.5245 - val_accuracy: 0.7803 - val_f1_m: 0.5211\n",
      "Epoch 3/20\n",
      "400/400 [==============================] - 3s 7ms/step - loss: 0.1284 - accuracy: 0.9545 - f1_m: 0.9089 - val_loss: 0.6889 - val_accuracy: 0.7631 - val_f1_m: 0.5601\n",
      "Epoch 4/20\n",
      "400/400 [==============================] - 3s 6ms/step - loss: 0.0720 - accuracy: 0.9762 - f1_m: 0.9526 - val_loss: 0.8222 - val_accuracy: 0.7747 - val_f1_m: 0.4913\n",
      "Epoch 5/20\n",
      "400/400 [==============================] - 3s 6ms/step - loss: 0.0519 - accuracy: 0.9819 - f1_m: 0.9629 - val_loss: 0.9066 - val_accuracy: 0.7631 - val_f1_m: 0.5052\n",
      "Epoch 6/20\n",
      "400/400 [==============================] - 3s 6ms/step - loss: 0.0409 - accuracy: 0.9852 - f1_m: 0.9700 - val_loss: 0.9455 - val_accuracy: 0.7594 - val_f1_m: 0.5102\n",
      "Epoch 7/20\n",
      "400/400 [==============================] - 3s 6ms/step - loss: 0.0378 - accuracy: 0.9869 - f1_m: 0.9736 - val_loss: 1.1012 - val_accuracy: 0.7650 - val_f1_m: 0.4850\n",
      "Epoch 8/20\n",
      "400/400 [==============================] - 3s 6ms/step - loss: 0.0342 - accuracy: 0.9874 - f1_m: 0.9717 - val_loss: 0.9919 - val_accuracy: 0.7634 - val_f1_m: 0.5035\n",
      "Epoch 9/20\n",
      "400/400 [==============================] - 3s 7ms/step - loss: 0.0308 - accuracy: 0.9889 - f1_m: 0.9776 - val_loss: 1.2149 - val_accuracy: 0.7619 - val_f1_m: 0.4845\n",
      "Epoch 10/20\n",
      "400/400 [==============================] - 3s 8ms/step - loss: 0.0316 - accuracy: 0.9895 - f1_m: 0.9793 - val_loss: 1.1904 - val_accuracy: 0.7644 - val_f1_m: 0.4867\n",
      "Epoch 11/20\n",
      "400/400 [==============================] - 3s 7ms/step - loss: 0.0272 - accuracy: 0.9892 - f1_m: 0.9772 - val_loss: 1.3834 - val_accuracy: 0.7588 - val_f1_m: 0.4460\n",
      "Epoch 12/20\n",
      "400/400 [==============================] - 3s 7ms/step - loss: 0.0265 - accuracy: 0.9904 - f1_m: 0.9803 - val_loss: 1.3175 - val_accuracy: 0.7441 - val_f1_m: 0.5226\n",
      "Epoch 13/20\n",
      "400/400 [==============================] - 3s 7ms/step - loss: 0.0272 - accuracy: 0.9897 - f1_m: 0.9790 - val_loss: 1.2650 - val_accuracy: 0.7569 - val_f1_m: 0.5144\n",
      "Epoch 14/20\n",
      "400/400 [==============================] - 3s 7ms/step - loss: 0.0259 - accuracy: 0.9906 - f1_m: 0.9812 - val_loss: 1.3048 - val_accuracy: 0.7528 - val_f1_m: 0.5324\n",
      "Epoch 15/20\n",
      "400/400 [==============================] - 3s 6ms/step - loss: 0.0260 - accuracy: 0.9902 - f1_m: 0.9803 - val_loss: 1.2612 - val_accuracy: 0.7522 - val_f1_m: 0.5115\n",
      "Epoch 16/20\n",
      "400/400 [==============================] - 3s 7ms/step - loss: 0.0232 - accuracy: 0.9910 - f1_m: 0.9806 - val_loss: 1.3456 - val_accuracy: 0.7566 - val_f1_m: 0.5029\n",
      "Epoch 17/20\n",
      "400/400 [==============================] - 3s 7ms/step - loss: 0.0232 - accuracy: 0.9908 - f1_m: 0.9819 - val_loss: 1.3483 - val_accuracy: 0.7525 - val_f1_m: 0.5166\n",
      "Epoch 18/20\n",
      "400/400 [==============================] - 7s 18ms/step - loss: 0.0213 - accuracy: 0.9915 - f1_m: 0.9826 - val_loss: 1.4048 - val_accuracy: 0.7509 - val_f1_m: 0.5229\n",
      "Epoch 19/20\n",
      "400/400 [==============================] - 3s 6ms/step - loss: 0.0218 - accuracy: 0.9916 - f1_m: 0.9837 - val_loss: 1.3170 - val_accuracy: 0.7569 - val_f1_m: 0.4895\n",
      "Epoch 20/20\n",
      "400/400 [==============================] - 3s 6ms/step - loss: 0.0213 - accuracy: 0.9912 - f1_m: 0.9827 - val_loss: 1.5025 - val_accuracy: 0.7531 - val_f1_m: 0.5113\n"
     ]
    }
   ],
   "source": [
    "history=model.fit(x_train,y_train,epochs=20,validation_split=0.2)"
   ]
  },
  {
   "cell_type": "code",
   "execution_count": 113,
   "metadata": {},
   "outputs": [
    {
     "name": "stdout",
     "output_type": "stream",
     "text": [
      "125/125 [==============================] - 1s 6ms/step - loss: 1.5166 - accuracy: 0.7538 - f1_m: 0.4933\n"
     ]
    },
    {
     "data": {
      "text/plain": [
       "[1.5165921449661255, 0.7537500262260437, 0.4933173358440399]"
      ]
     },
     "execution_count": 113,
     "metadata": {},
     "output_type": "execute_result"
    }
   ],
   "source": [
    "model.evaluate(x_test,y_test)"
   ]
  },
  {
   "cell_type": "code",
   "execution_count": 99,
   "metadata": {},
   "outputs": [],
   "source": [
    "import matplotlib.pyplot as plt\n",
    "\n",
    "\n",
    "def plot_graphs(history, metric):\n",
    "  plt.plot(history.history[metric])\n",
    "  plt.plot(history.history['val_'+metric], '')\n",
    "  plt.xlabel(\"Epochs\")\n",
    "  plt.ylabel(metric)\n",
    "  plt.legend([metric, 'val_'+metric])"
   ]
  },
  {
   "cell_type": "code",
   "execution_count": 100,
   "metadata": {},
   "outputs": [
    {
     "data": {
      "image/png": "[encoded data removed]",
      "text/plain": [
       "<Figure size 432x288 with 1 Axes>"
      ]
     },
     "metadata": {
      "needs_background": "light"
     },
     "output_type": "display_data"
    }
   ],
   "source": [
    "plot_graphs(history=history,metric='accuracy')"
   ]
  },
  {
   "cell_type": "code",
   "execution_count": 85,
   "metadata": {},
   "outputs": [
    {
     "data": {
      "image/png": "[encoded data removed]",
      "text/plain": [
       "<Figure size 432x288 with 1 Axes>"
      ]
     },
     "metadata": {
      "needs_background": "light"
     },
     "output_type": "display_data"
    }
   ],
   "source": [
    "plot_graphs(history=history,metric='loss')"
   ]
  },
  {
   "cell_type": "code",
   "execution_count": 23,
   "metadata": {},
   "outputs": [
    {
     "name": "stdout",
     "output_type": "stream",
     "text": [
      "Model: \"sequential_7\"\n",
      "_________________________________________________________________\n",
      " Layer (type)                Output Shape              Param #   \n",
      "=================================================================\n",
      " lstm_7 (LSTM)               (None, 250, 3)            1248      \n",
      "                                                                 \n",
      "=================================================================\n",
      "Total params: 1,248\n",
      "Trainable params: 1,248\n",
      "Non-trainable params: 0\n",
      "_________________________________________________________________\n"
     ]
    }
   ],
   "source": [
    "model = tf.keras.models.Sequential()\n",
    "\n",
    "model.add(tf.keras.layers.LSTM(units=3, batch_input_shape=(None,250,100), return_sequences=True))\n",
    "\n",
    "model.summary()"
   ]
  }
 ],
 "metadata": {
  "kernelspec": {
   "display_name": "Python 3.8.0 64-bit",
   "language": "python",
   "name": "python3"
  },
  "language_info": {
   "codemirror_mode": {
    "name": "ipython",
    "version": 3
   },
   "file_extension": ".py",
   "mimetype": "text/x-python",
   "name": "python",
   "nbconvert_exporter": "python",
   "pygments_lexer": "ipython3",
   "version": "3.8.0"
  },
  "orig_nbformat": 4,
  "vscode": {
   "interpreter": {
    "hash": "ff0d91300876931207232d01add3156fa7c8214350996c757a3c6cebc4b3b5d5"
   }
  }
 },
 "nbformat": 4,
 "nbformat_minor": 2
}
