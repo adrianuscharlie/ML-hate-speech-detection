{
 "cells": [
  {
   "cell_type": "code",
   "execution_count": 1,
   "metadata": {},
   "outputs": [],
   "source": [
    "import pandas as pd\n",
    "import tweepy\n",
    "BEARER_TOKEN=\"AAAAAAAAAAAAAAAAAAAAAM83dAEAAAAARMQijLrP6O6Xf7as4kfJY9zM6xo%3DLjbgVWmlp0zsRwyMud2chmHfP6yFI2o3LUjTDyxQZLnb809qbX\"\n",
    "CONSUMER_KEY=\"38dGB9yrVZ4aMHx0RN1UcdzuT\"\n",
    "CONSUMER_SECRET=\"DoBlTGQD6lkQs3llMmku9G0RTUVaBVSZXJMMskMOxAtNmpjjd3\"\n",
    "ACCESS_TOKEN=\"1530207285846614022-YggQwqe1VlIvWZ02ncztL3DtqzfnV1\"\n",
    "ACCESS_TOKEN_SECRET=\"zrd76tW7Ps6JATR2mPmJyspKIbnKsuHYHKhiDDTkfr6nZ\""
   ]
  },
  {
   "cell_type": "code",
   "execution_count": 3,
   "metadata": {},
   "outputs": [],
   "source": [
    "def getApi(bearer_token,consumer_key,consumer_secret,access_token,access_token_secret):\n",
    "    auth = tweepy.OAuthHandler(consumer_key, consumer_secret)\n",
    "    auth.set_access_token(access_token, access_token_secret)\n",
    "    api=tweepy.API(auth)\n",
    "    return api\n",
    "api=getApi(BEARER_TOKEN,CONSUMER_KEY,CONSUMER_SECRET,ACCESS_TOKEN,ACCESS_TOKEN_SECRET)"
   ]
  },
  {
   "cell_type": "code",
   "execution_count": 22,
   "metadata": {},
   "outputs": [],
   "source": [
    "def getTweets(api,query,items):\n",
    "    tweets=[]\n",
    "    for tweet in tweepy.Cursor(api.search_30_day,'skripsi30day',fromDate='202303040000',toDate='202303050000',\n",
    "        query=query,maxResults=100).items(items):\n",
    "        tweets.append(tweet)\n",
    "    return tweets"
   ]
  },
  {
   "cell_type": "code",
   "execution_count": 9,
   "metadata": {},
   "outputs": [],
   "source": [
    "def createDataFrame(tweets,fields):\n",
    "    df=pd.DataFrame(columns=fields)\n",
    "    for tweet in tweets:\n",
    "        data=tweet._json\n",
    "        user=data['user']\n",
    "        df1=pd.DataFrame({'username':[user['screen_name']],'created_at':[data['created_at']],'text':[data['text']]})\n",
    "        df1['created_at']=df1['created_at']\n",
    "        df=df.append(df1,ignore_index=True)\n",
    "    return df\n",
    "\n",
    "        "
   ]
  },
  {
   "cell_type": "code",
   "execution_count": null,
   "metadata": {},
   "outputs": [],
   "source": [
    "query='\"selena gomez\" lang:en -has:links -is:replies'\n",
    "tweets=getTweets(api=api,query=query,items=10000)\n",
    "tweets"
   ]
  },
  {
   "cell_type": "code",
   "execution_count": 17,
   "metadata": {},
   "outputs": [
    {
     "name": "stderr",
     "output_type": "stream",
     "text": [
      "C:\\Users\\ASUS\\AppData\\Local\\Temp\\ipykernel_11296\\1057909973.py:8: FutureWarning: The frame.append method is deprecated and will be removed from pandas in a future version. Use pandas.concat instead.\n",
      "  df=df.append(df1,ignore_index=True)\n"
     ]
    },
    {
     "data": {
      "text/html": [
       "<div>\n",
       "<style scoped>\n",
       "    .dataframe tbody tr th:only-of-type {\n",
       "        vertical-align: middle;\n",
       "    }\n",
       "\n",
       "    .dataframe tbody tr th {\n",
       "        vertical-align: top;\n",
       "    }\n",
       "\n",
       "    .dataframe thead th {\n",
       "        text-align: right;\n",
       "    }\n",
       "</style>\n",
       "<table border=\"1\" class=\"dataframe\">\n",
       "  <thead>\n",
       "    <tr style=\"text-align: right;\">\n",
       "      <th></th>\n",
       "      <th>created_at</th>\n",
       "      <th>username</th>\n",
       "      <th>text</th>\n",
       "    </tr>\n",
       "  </thead>\n",
       "  <tbody>\n",
       "    <tr>\n",
       "      <th>0</th>\n",
       "      <td>Thu Mar 02 23:59:54 +0000 2023</td>\n",
       "      <td>izzvhatirvh</td>\n",
       "      <td>RT @armylieber100: Aren't Selena Gomez fans ti...</td>\n",
       "    </tr>\n",
       "    <tr>\n",
       "      <th>1</th>\n",
       "      <td>Thu Mar 02 23:59:44 +0000 2023</td>\n",
       "      <td>Kenzie5Peterson</td>\n",
       "      <td>RT @juliannarvivas: Im a Selena Gomez &amp;amp; yo...</td>\n",
       "    </tr>\n",
       "    <tr>\n",
       "      <th>2</th>\n",
       "      <td>Thu Mar 02 23:59:44 +0000 2023</td>\n",
       "      <td>sammii_gv</td>\n",
       "      <td>RT @juliannarvivas: Im a Selena Gomez &amp;amp; yo...</td>\n",
       "    </tr>\n",
       "    <tr>\n",
       "      <th>3</th>\n",
       "      <td>Thu Mar 02 23:59:36 +0000 2023</td>\n",
       "      <td>_xolesley</td>\n",
       "      <td>RT @kvnnrxa: justin bieber and selena gomez fo...</td>\n",
       "    </tr>\n",
       "    <tr>\n",
       "      <th>4</th>\n",
       "      <td>Thu Mar 02 23:59:34 +0000 2023</td>\n",
       "      <td>DoncasterAlexis</td>\n",
       "      <td>RT @juliannarvivas: Im a Selena Gomez &amp;amp; yo...</td>\n",
       "    </tr>\n",
       "    <tr>\n",
       "      <th>...</th>\n",
       "      <td>...</td>\n",
       "      <td>...</td>\n",
       "      <td>...</td>\n",
       "    </tr>\n",
       "    <tr>\n",
       "      <th>2995</th>\n",
       "      <td>Thu Mar 02 04:42:18 +0000 2023</td>\n",
       "      <td>adr1anna</td>\n",
       "      <td>RT @SXMBA_: Selena Gomez gave us journals and ...</td>\n",
       "    </tr>\n",
       "    <tr>\n",
       "      <th>2996</th>\n",
       "      <td>Thu Mar 02 04:41:25 +0000 2023</td>\n",
       "      <td>Fly_Jitt</td>\n",
       "      <td>I keep seeing news about Selena Gomez but I ca...</td>\n",
       "    </tr>\n",
       "    <tr>\n",
       "      <th>2997</th>\n",
       "      <td>Thu Mar 02 04:41:24 +0000 2023</td>\n",
       "      <td>_timewithe</td>\n",
       "      <td>Lifetime should make a movie about this Hailey...</td>\n",
       "    </tr>\n",
       "    <tr>\n",
       "      <th>2998</th>\n",
       "      <td>Thu Mar 02 04:41:02 +0000 2023</td>\n",
       "      <td>denicewhy</td>\n",
       "      <td>Last night I finally shared the Hailey Baldwin...</td>\n",
       "    </tr>\n",
       "    <tr>\n",
       "      <th>2999</th>\n",
       "      <td>Thu Mar 02 04:40:53 +0000 2023</td>\n",
       "      <td>chelseyyybug</td>\n",
       "      <td>Very proud to be on \"protect Selena Gomez\" tt</td>\n",
       "    </tr>\n",
       "  </tbody>\n",
       "</table>\n",
       "<p>3000 rows × 3 columns</p>\n",
       "</div>"
      ],
      "text/plain": [
       "                          created_at         username  \\\n",
       "0     Thu Mar 02 23:59:54 +0000 2023      izzvhatirvh   \n",
       "1     Thu Mar 02 23:59:44 +0000 2023  Kenzie5Peterson   \n",
       "2     Thu Mar 02 23:59:44 +0000 2023        sammii_gv   \n",
       "3     Thu Mar 02 23:59:36 +0000 2023        _xolesley   \n",
       "4     Thu Mar 02 23:59:34 +0000 2023  DoncasterAlexis   \n",
       "...                              ...              ...   \n",
       "2995  Thu Mar 02 04:42:18 +0000 2023         adr1anna   \n",
       "2996  Thu Mar 02 04:41:25 +0000 2023         Fly_Jitt   \n",
       "2997  Thu Mar 02 04:41:24 +0000 2023       _timewithe   \n",
       "2998  Thu Mar 02 04:41:02 +0000 2023        denicewhy   \n",
       "2999  Thu Mar 02 04:40:53 +0000 2023     chelseyyybug   \n",
       "\n",
       "                                                   text  \n",
       "0     RT @armylieber100: Aren't Selena Gomez fans ti...  \n",
       "1     RT @juliannarvivas: Im a Selena Gomez &amp; yo...  \n",
       "2     RT @juliannarvivas: Im a Selena Gomez &amp; yo...  \n",
       "3     RT @kvnnrxa: justin bieber and selena gomez fo...  \n",
       "4     RT @juliannarvivas: Im a Selena Gomez &amp; yo...  \n",
       "...                                                 ...  \n",
       "2995  RT @SXMBA_: Selena Gomez gave us journals and ...  \n",
       "2996  I keep seeing news about Selena Gomez but I ca...  \n",
       "2997  Lifetime should make a movie about this Hailey...  \n",
       "2998  Last night I finally shared the Hailey Baldwin...  \n",
       "2999      Very proud to be on \"protect Selena Gomez\" tt  \n",
       "\n",
       "[3000 rows x 3 columns]"
      ]
     },
     "execution_count": 17,
     "metadata": {},
     "output_type": "execute_result"
    }
   ],
   "source": [
    "data=createDataFrame(tweets,fields=['created_at','username','text'])\n",
    "data.to_excel('selenagomez.xlsx')"
   ]
  }
 ],
 "metadata": {
  "kernelspec": {
   "display_name": "Python 3.8.0 64-bit",
   "language": "python",
   "name": "python3"
  },
  "language_info": {
   "codemirror_mode": {
    "name": "ipython",
    "version": 3
   },
   "file_extension": ".py",
   "mimetype": "text/x-python",
   "name": "python",
   "nbconvert_exporter": "python",
   "pygments_lexer": "ipython3",
   "version": "3.8.0"
  },
  "orig_nbformat": 4,
  "vscode": {
   "interpreter": {
    "hash": "ff0d91300876931207232d01add3156fa7c8214350996c757a3c6cebc4b3b5d5"
   }
  }
 },
 "nbformat": 4,
 "nbformat_minor": 2
}
