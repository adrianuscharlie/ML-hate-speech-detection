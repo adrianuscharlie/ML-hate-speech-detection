{
 "cells": [
  {
   "cell_type": "markdown",
   "metadata": {},
   "source": [
    "Melakukan import libraries yang dibutukan"
   ]
  },
  {
   "cell_type": "code",
   "execution_count": 1,
   "metadata": {},
   "outputs": [],
   "source": [
    "import pandas as pd\n",
    "import tensorflow as tf"
   ]
  },
  {
   "cell_type": "code",
   "execution_count": 2,
   "metadata": {},
   "outputs": [
    {
     "data": {
      "text/html": [
       "<div>\n",
       "<style scoped>\n",
       "    .dataframe tbody tr th:only-of-type {\n",
       "        vertical-align: middle;\n",
       "    }\n",
       "\n",
       "    .dataframe tbody tr th {\n",
       "        vertical-align: top;\n",
       "    }\n",
       "\n",
       "    .dataframe thead th {\n",
       "        text-align: right;\n",
       "    }\n",
       "</style>\n",
       "<table border=\"1\" class=\"dataframe\">\n",
       "  <thead>\n",
       "    <tr style=\"text-align: right;\">\n",
       "      <th></th>\n",
       "      <th>created_at</th>\n",
       "      <th>username</th>\n",
       "      <th>text</th>\n",
       "      <th>preprocessed</th>\n",
       "      <th>sentiment</th>\n",
       "    </tr>\n",
       "  </thead>\n",
       "  <tbody>\n",
       "    <tr>\n",
       "      <th>0</th>\n",
       "      <td>Thu Mar 02 23:59:30 +0000 2023</td>\n",
       "      <td>darkonsun</td>\n",
       "      <td>social media is a disease and this hailey bieb...</td>\n",
       "      <td>social media diseas hailey bieber selena gomez...</td>\n",
       "      <td>Neutral</td>\n",
       "    </tr>\n",
       "    <tr>\n",
       "      <th>1</th>\n",
       "      <td>Thu Mar 02 23:56:18 +0000 2023</td>\n",
       "      <td>babyyyannieee</td>\n",
       "      <td>Justin Bieber &amp;amp; Selena Gomez followed each...</td>\n",
       "      <td>justin bieber amp selena gomez follow twitter ...</td>\n",
       "      <td>Neutral</td>\n",
       "    </tr>\n",
       "    <tr>\n",
       "      <th>2</th>\n",
       "      <td>Thu Mar 02 23:55:57 +0000 2023</td>\n",
       "      <td>likabeast101</td>\n",
       "      <td>Selena Gomez drove by my house 🙀</td>\n",
       "      <td>selena gomez drive hous</td>\n",
       "      <td>Neutral</td>\n",
       "    </tr>\n",
       "    <tr>\n",
       "      <th>3</th>\n",
       "      <td>Thu Mar 02 23:55:36 +0000 2023</td>\n",
       "      <td>whoismelanyway</td>\n",
       "      <td>I understand hailey Bieber because if my husba...</td>\n",
       "      <td>understand hailey bieber husband ex selena gom...</td>\n",
       "      <td>Neutral</td>\n",
       "    </tr>\n",
       "    <tr>\n",
       "      <th>4</th>\n",
       "      <td>Thu Mar 02 23:54:50 +0000 2023</td>\n",
       "      <td>_mayyraa</td>\n",
       "      <td>but then i always realize because SELENA GOMEZ...</td>\n",
       "      <td>alway realiz selena gomez alway look good</td>\n",
       "      <td>Positive</td>\n",
       "    </tr>\n",
       "    <tr>\n",
       "      <th>...</th>\n",
       "      <td>...</td>\n",
       "      <td>...</td>\n",
       "      <td>...</td>\n",
       "      <td>...</td>\n",
       "      <td>...</td>\n",
       "    </tr>\n",
       "    <tr>\n",
       "      <th>5201</th>\n",
       "      <td>Wed Mar 01 10:19:04 +0000 2023</td>\n",
       "      <td>SAFFAOnAirRadio</td>\n",
       "      <td>@SAFFAOnAirRadio is now playing, Selena Gomez,...</td>\n",
       "      <td>saffaonairradio play selena gomez marshmello w...</td>\n",
       "      <td>Positive</td>\n",
       "    </tr>\n",
       "    <tr>\n",
       "      <th>5202</th>\n",
       "      <td>Wed Mar 01 10:19:01 +0000 2023</td>\n",
       "      <td>tshepiixx</td>\n",
       "      <td>Go follow Selena Gomez on IG 😡</td>\n",
       "      <td>go follow selena gomez ig</td>\n",
       "      <td>Neutral</td>\n",
       "    </tr>\n",
       "    <tr>\n",
       "      <th>5203</th>\n",
       "      <td>Wed Mar 01 10:17:59 +0000 2023</td>\n",
       "      <td>Chief_I_H8_U</td>\n",
       "      <td>@Ricius496 @endlessbonerz Selena Gomez has a m...</td>\n",
       "      <td>riciu endlessbonerz selena gomez medic issu st...</td>\n",
       "      <td>Neutral</td>\n",
       "    </tr>\n",
       "    <tr>\n",
       "      <th>5204</th>\n",
       "      <td>Wed Mar 01 10:15:42 +0000 2023</td>\n",
       "      <td>vinalraswati</td>\n",
       "      <td>I still can taste it and i hate it. \\n\\nPeople...</td>\n",
       "      <td>still tast hate peopl know selena gomez</td>\n",
       "      <td>Negative</td>\n",
       "    </tr>\n",
       "    <tr>\n",
       "      <th>5205</th>\n",
       "      <td>Wed Mar 01 10:13:24 +0000 2023</td>\n",
       "      <td>TheSwaddle</td>\n",
       "      <td>Over the past few days, the alleged feud betwe...</td>\n",
       "      <td>past day alleg feud selena gomez hailey bieber...</td>\n",
       "      <td>Negative</td>\n",
       "    </tr>\n",
       "  </tbody>\n",
       "</table>\n",
       "<p>5206 rows × 5 columns</p>\n",
       "</div>"
      ],
      "text/plain": [
       "                          created_at         username  \\\n",
       "0     Thu Mar 02 23:59:30 +0000 2023        darkonsun   \n",
       "1     Thu Mar 02 23:56:18 +0000 2023    babyyyannieee   \n",
       "2     Thu Mar 02 23:55:57 +0000 2023     likabeast101   \n",
       "3     Thu Mar 02 23:55:36 +0000 2023   whoismelanyway   \n",
       "4     Thu Mar 02 23:54:50 +0000 2023         _mayyraa   \n",
       "...                              ...              ...   \n",
       "5201  Wed Mar 01 10:19:04 +0000 2023  SAFFAOnAirRadio   \n",
       "5202  Wed Mar 01 10:19:01 +0000 2023        tshepiixx   \n",
       "5203  Wed Mar 01 10:17:59 +0000 2023     Chief_I_H8_U   \n",
       "5204  Wed Mar 01 10:15:42 +0000 2023     vinalraswati   \n",
       "5205  Wed Mar 01 10:13:24 +0000 2023       TheSwaddle   \n",
       "\n",
       "                                                   text  \\\n",
       "0     social media is a disease and this hailey bieb...   \n",
       "1     Justin Bieber &amp; Selena Gomez followed each...   \n",
       "2                      Selena Gomez drove by my house 🙀   \n",
       "3     I understand hailey Bieber because if my husba...   \n",
       "4     but then i always realize because SELENA GOMEZ...   \n",
       "...                                                 ...   \n",
       "5201  @SAFFAOnAirRadio is now playing, Selena Gomez,...   \n",
       "5202                     Go follow Selena Gomez on IG 😡   \n",
       "5203  @Ricius496 @endlessbonerz Selena Gomez has a m...   \n",
       "5204  I still can taste it and i hate it. \\n\\nPeople...   \n",
       "5205  Over the past few days, the alleged feud betwe...   \n",
       "\n",
       "                                           preprocessed sentiment  \n",
       "0     social media diseas hailey bieber selena gomez...   Neutral  \n",
       "1     justin bieber amp selena gomez follow twitter ...   Neutral  \n",
       "2                               selena gomez drive hous   Neutral  \n",
       "3     understand hailey bieber husband ex selena gom...   Neutral  \n",
       "4             alway realiz selena gomez alway look good  Positive  \n",
       "...                                                 ...       ...  \n",
       "5201  saffaonairradio play selena gomez marshmello w...  Positive  \n",
       "5202                          go follow selena gomez ig   Neutral  \n",
       "5203  riciu endlessbonerz selena gomez medic issu st...   Neutral  \n",
       "5204            still tast hate peopl know selena gomez  Negative  \n",
       "5205  past day alleg feud selena gomez hailey bieber...  Negative  \n",
       "\n",
       "[5206 rows x 5 columns]"
      ]
     },
     "execution_count": 2,
     "metadata": {},
     "output_type": "execute_result"
    }
   ],
   "source": [
    "data=pd.read_excel('./selenagomez_clean.xlsx')\n",
    "del data['Unnamed: 0']\n",
    "data"
   ]
  },
  {
   "cell_type": "code",
   "execution_count": 3,
   "metadata": {},
   "outputs": [
    {
     "data": {
      "text/html": [
       "<div>\n",
       "<style scoped>\n",
       "    .dataframe tbody tr th:only-of-type {\n",
       "        vertical-align: middle;\n",
       "    }\n",
       "\n",
       "    .dataframe tbody tr th {\n",
       "        vertical-align: top;\n",
       "    }\n",
       "\n",
       "    .dataframe thead th {\n",
       "        text-align: right;\n",
       "    }\n",
       "</style>\n",
       "<table border=\"1\" class=\"dataframe\">\n",
       "  <thead>\n",
       "    <tr style=\"text-align: right;\">\n",
       "      <th></th>\n",
       "      <th>preprocessed</th>\n",
       "      <th>sentiment</th>\n",
       "    </tr>\n",
       "  </thead>\n",
       "  <tbody>\n",
       "    <tr>\n",
       "      <th>0</th>\n",
       "      <td>social media diseas hailey bieber selena gomez...</td>\n",
       "      <td>Neutral</td>\n",
       "    </tr>\n",
       "    <tr>\n",
       "      <th>1</th>\n",
       "      <td>justin bieber amp selena gomez follow twitter ...</td>\n",
       "      <td>Neutral</td>\n",
       "    </tr>\n",
       "    <tr>\n",
       "      <th>2</th>\n",
       "      <td>selena gomez drive hous</td>\n",
       "      <td>Neutral</td>\n",
       "    </tr>\n",
       "    <tr>\n",
       "      <th>3</th>\n",
       "      <td>understand hailey bieber husband ex selena gom...</td>\n",
       "      <td>Neutral</td>\n",
       "    </tr>\n",
       "    <tr>\n",
       "      <th>4</th>\n",
       "      <td>alway realiz selena gomez alway look good</td>\n",
       "      <td>Positive</td>\n",
       "    </tr>\n",
       "    <tr>\n",
       "      <th>...</th>\n",
       "      <td>...</td>\n",
       "      <td>...</td>\n",
       "    </tr>\n",
       "    <tr>\n",
       "      <th>5201</th>\n",
       "      <td>saffaonairradio play selena gomez marshmello w...</td>\n",
       "      <td>Positive</td>\n",
       "    </tr>\n",
       "    <tr>\n",
       "      <th>5202</th>\n",
       "      <td>go follow selena gomez ig</td>\n",
       "      <td>Neutral</td>\n",
       "    </tr>\n",
       "    <tr>\n",
       "      <th>5203</th>\n",
       "      <td>riciu endlessbonerz selena gomez medic issu st...</td>\n",
       "      <td>Neutral</td>\n",
       "    </tr>\n",
       "    <tr>\n",
       "      <th>5204</th>\n",
       "      <td>still tast hate peopl know selena gomez</td>\n",
       "      <td>Negative</td>\n",
       "    </tr>\n",
       "    <tr>\n",
       "      <th>5205</th>\n",
       "      <td>past day alleg feud selena gomez hailey bieber...</td>\n",
       "      <td>Negative</td>\n",
       "    </tr>\n",
       "  </tbody>\n",
       "</table>\n",
       "<p>5206 rows × 2 columns</p>\n",
       "</div>"
      ],
      "text/plain": [
       "                                           preprocessed sentiment\n",
       "0     social media diseas hailey bieber selena gomez...   Neutral\n",
       "1     justin bieber amp selena gomez follow twitter ...   Neutral\n",
       "2                               selena gomez drive hous   Neutral\n",
       "3     understand hailey bieber husband ex selena gom...   Neutral\n",
       "4             alway realiz selena gomez alway look good  Positive\n",
       "...                                                 ...       ...\n",
       "5201  saffaonairradio play selena gomez marshmello w...  Positive\n",
       "5202                          go follow selena gomez ig   Neutral\n",
       "5203  riciu endlessbonerz selena gomez medic issu st...   Neutral\n",
       "5204            still tast hate peopl know selena gomez  Negative\n",
       "5205  past day alleg feud selena gomez hailey bieber...  Negative\n",
       "\n",
       "[5206 rows x 2 columns]"
      ]
     },
     "execution_count": 3,
     "metadata": {},
     "output_type": "execute_result"
    }
   ],
   "source": [
    "data=data[['preprocessed','sentiment']]\n",
    "data"
   ]
  },
  {
   "cell_type": "code",
   "execution_count": 4,
   "metadata": {},
   "outputs": [
    {
     "name": "stderr",
     "output_type": "stream",
     "text": [
      "C:\\Users\\ASUS\\AppData\\Local\\Temp\\ipykernel_16180\\1650668707.py:1: SettingWithCopyWarning: \n",
      "A value is trying to be set on a copy of a slice from a DataFrame.\n",
      "Try using .loc[row_indexer,col_indexer] = value instead\n",
      "\n",
      "See the caveats in the documentation: https://pandas.pydata.org/pandas-docs/stable/user_guide/indexing.html#returning-a-view-versus-a-copy\n",
      "  data.sentiment = pd.Categorical(pd.factorize(data.sentiment)[0])\n"
     ]
    },
    {
     "data": {
      "text/html": [
       "<div>\n",
       "<style scoped>\n",
       "    .dataframe tbody tr th:only-of-type {\n",
       "        vertical-align: middle;\n",
       "    }\n",
       "\n",
       "    .dataframe tbody tr th {\n",
       "        vertical-align: top;\n",
       "    }\n",
       "\n",
       "    .dataframe thead th {\n",
       "        text-align: right;\n",
       "    }\n",
       "</style>\n",
       "<table border=\"1\" class=\"dataframe\">\n",
       "  <thead>\n",
       "    <tr style=\"text-align: right;\">\n",
       "      <th></th>\n",
       "      <th>preprocessed</th>\n",
       "      <th>sentiment</th>\n",
       "    </tr>\n",
       "  </thead>\n",
       "  <tbody>\n",
       "    <tr>\n",
       "      <th>0</th>\n",
       "      <td>social media diseas hailey bieber selena gomez...</td>\n",
       "      <td>0</td>\n",
       "    </tr>\n",
       "    <tr>\n",
       "      <th>1</th>\n",
       "      <td>justin bieber amp selena gomez follow twitter ...</td>\n",
       "      <td>0</td>\n",
       "    </tr>\n",
       "    <tr>\n",
       "      <th>2</th>\n",
       "      <td>selena gomez drive hous</td>\n",
       "      <td>0</td>\n",
       "    </tr>\n",
       "    <tr>\n",
       "      <th>3</th>\n",
       "      <td>understand hailey bieber husband ex selena gom...</td>\n",
       "      <td>0</td>\n",
       "    </tr>\n",
       "    <tr>\n",
       "      <th>4</th>\n",
       "      <td>alway realiz selena gomez alway look good</td>\n",
       "      <td>1</td>\n",
       "    </tr>\n",
       "    <tr>\n",
       "      <th>...</th>\n",
       "      <td>...</td>\n",
       "      <td>...</td>\n",
       "    </tr>\n",
       "    <tr>\n",
       "      <th>5201</th>\n",
       "      <td>saffaonairradio play selena gomez marshmello w...</td>\n",
       "      <td>1</td>\n",
       "    </tr>\n",
       "    <tr>\n",
       "      <th>5202</th>\n",
       "      <td>go follow selena gomez ig</td>\n",
       "      <td>0</td>\n",
       "    </tr>\n",
       "    <tr>\n",
       "      <th>5203</th>\n",
       "      <td>riciu endlessbonerz selena gomez medic issu st...</td>\n",
       "      <td>0</td>\n",
       "    </tr>\n",
       "    <tr>\n",
       "      <th>5204</th>\n",
       "      <td>still tast hate peopl know selena gomez</td>\n",
       "      <td>2</td>\n",
       "    </tr>\n",
       "    <tr>\n",
       "      <th>5205</th>\n",
       "      <td>past day alleg feud selena gomez hailey bieber...</td>\n",
       "      <td>2</td>\n",
       "    </tr>\n",
       "  </tbody>\n",
       "</table>\n",
       "<p>5206 rows × 2 columns</p>\n",
       "</div>"
      ],
      "text/plain": [
       "                                           preprocessed sentiment\n",
       "0     social media diseas hailey bieber selena gomez...         0\n",
       "1     justin bieber amp selena gomez follow twitter ...         0\n",
       "2                               selena gomez drive hous         0\n",
       "3     understand hailey bieber husband ex selena gom...         0\n",
       "4             alway realiz selena gomez alway look good         1\n",
       "...                                                 ...       ...\n",
       "5201  saffaonairradio play selena gomez marshmello w...         1\n",
       "5202                          go follow selena gomez ig         0\n",
       "5203  riciu endlessbonerz selena gomez medic issu st...         0\n",
       "5204            still tast hate peopl know selena gomez         2\n",
       "5205  past day alleg feud selena gomez hailey bieber...         2\n",
       "\n",
       "[5206 rows x 2 columns]"
      ]
     },
     "execution_count": 4,
     "metadata": {},
     "output_type": "execute_result"
    }
   ],
   "source": [
    "data.sentiment = pd.Categorical(pd.factorize(data.sentiment)[0])\n",
    "data"
   ]
  },
  {
   "cell_type": "code",
   "execution_count": 5,
   "metadata": {},
   "outputs": [],
   "source": [
    "from sklearn.model_selection import train_test_split\n",
    "from tensorflow.keras.preprocessing.text import Tokenizer\n",
    "from tensorflow.keras.preprocessing.sequence import pad_sequences"
   ]
  },
  {
   "cell_type": "code",
   "execution_count": 6,
   "metadata": {},
   "outputs": [],
   "source": [
    "#vectorizer = TfidfVectorizer()\n",
    "##vectors = vectorizer.fit_transform(data['preprocessed'])\n",
    "#feature_names = vectorizer.get_feature_names()\n",
    "#dense = vectors.todense()\n",
    "#denselist=dense.tolist()"
   ]
  },
  {
   "cell_type": "code",
   "execution_count": 7,
   "metadata": {},
   "outputs": [],
   "source": [
    "max_len=15\n",
    "trunc_type = 'post'\n",
    "padding_type = 'post'\n",
    "oov_tok = \"<OOV>\"\n",
    "tokenizer=Tokenizer(oov_token=oov_tok)\n",
    "tokenizer.fit_on_texts(data['preprocessed'])"
   ]
  },
  {
   "cell_type": "code",
   "execution_count": 8,
   "metadata": {},
   "outputs": [
    {
     "data": {
      "text/plain": [
       "6995"
      ]
     },
     "execution_count": 8,
     "metadata": {},
     "output_type": "execute_result"
    }
   ],
   "source": [
    "len(tokenizer.word_index)"
   ]
  },
  {
   "cell_type": "code",
   "execution_count": 9,
   "metadata": {},
   "outputs": [],
   "source": [
    "sequences=tokenizer.texts_to_sequences(data['preprocessed'])\n",
    "padded=pad_sequences(sequences=sequences,padding=padding_type,truncating=trunc_type,maxlen=max_len)\n",
    "temp=0\n",
    "kamus={}\n",
    "for item in sequences:\n",
    "    coba=len(item)\n",
    "    if coba not in kamus:\n",
    "        kamus[coba]=1\n",
    "    else:\n",
    "        kamus[coba]+=1"
   ]
  },
  {
   "cell_type": "code",
   "execution_count": 10,
   "metadata": {},
   "outputs": [
    {
     "data": {
      "image/png": "[encoded data removed]",
      "text/plain": [
       "<Figure size 432x288 with 1 Axes>"
      ]
     },
     "metadata": {
      "needs_background": "light"
     },
     "output_type": "display_data"
    }
   ],
   "source": [
    "import matplotlib.pylab as plt\n",
    "\n",
    "lists = sorted(kamus.items()) # sorted by key, return a list of tuples\n",
    "\n",
    "x, y = zip(*lists) # unpack a list of pairs into two tuples\n",
    "\n",
    "plt.plot(x, y)\n",
    "plt.show()"
   ]
  },
  {
   "cell_type": "code",
   "execution_count": 11,
   "metadata": {},
   "outputs": [],
   "source": [
    "sequences=tokenizer.texts_to_sequences(data['preprocessed'])\n",
    "padded=pad_sequences(sequences=sequences,padding=padding_type,truncating=trunc_type,maxlen=max_len)"
   ]
  },
  {
   "cell_type": "code",
   "execution_count": 12,
   "metadata": {},
   "outputs": [
    {
     "data": {
      "text/plain": [
       "5206"
      ]
     },
     "execution_count": 12,
     "metadata": {},
     "output_type": "execute_result"
    }
   ],
   "source": [
    "len(padded)"
   ]
  },
  {
   "cell_type": "code",
   "execution_count": 13,
   "metadata": {},
   "outputs": [
    {
     "data": {
      "text/plain": [
       "((4685, 15), (521, 15), (4685,), (521,))"
      ]
     },
     "execution_count": 13,
     "metadata": {},
     "output_type": "execute_result"
    }
   ],
   "source": [
    "from sklearn.model_selection import train_test_split\n",
    "x_train,x_test,y_train,y_test=train_test_split(padded,data['sentiment'],test_size=0.1)\n",
    "x_train.shape,x_test.shape,y_train.shape,y_test.shape"
   ]
  },
  {
   "cell_type": "code",
   "execution_count": 14,
   "metadata": {},
   "outputs": [
    {
     "data": {
      "text/plain": [
       "((4685, 15), (521, 15), (4685, 3), (521, 3))"
      ]
     },
     "execution_count": 14,
     "metadata": {},
     "output_type": "execute_result"
    }
   ],
   "source": [
    "y_train= tf.keras.utils.to_categorical(y_train, num_classes=3)\n",
    "y_test= tf.keras.utils.to_categorical(y_test, num_classes=3)\n",
    "x_train.shape,x_test.shape,y_train.shape,y_test.shape"
   ]
  },
  {
   "cell_type": "code",
   "execution_count": 15,
   "metadata": {},
   "outputs": [],
   "source": [
    "from keras import backend as K\n",
    "\n",
    "def recall_m(y_true, y_pred):\n",
    "    true_positives = K.sum(K.round(K.clip(y_true * y_pred, 0, 1)))\n",
    "    possible_positives = K.sum(K.round(K.clip(y_true, 0, 1)))\n",
    "    recall = true_positives / (possible_positives + K.epsilon())\n",
    "    return recall\n",
    "\n",
    "def precision_m(y_true, y_pred):\n",
    "    true_positives = K.sum(K.round(K.clip(y_true * y_pred, 0, 1)))\n",
    "    predicted_positives = K.sum(K.round(K.clip(y_pred, 0, 1)))\n",
    "    precision = true_positives / (predicted_positives + K.epsilon())\n",
    "    return precision\n",
    "\n",
    "def f1_m(y_true, y_pred):\n",
    "    precision = precision_m(y_true, y_pred)\n",
    "    recall = recall_m(y_true, y_pred)\n",
    "    return 2*((precision*recall)/(precision+recall+K.epsilon()))"
   ]
  },
  {
   "cell_type": "code",
   "execution_count": 16,
   "metadata": {},
   "outputs": [],
   "source": [
    "def createSimpleModel(skenario):\n",
    "    if skenario ==1:\n",
    "        model=tf.keras.models.Sequential([\n",
    "            tf.keras.layers.Embedding(len(tokenizer.word_index),16,input_length=max_len),\n",
    "            tf.keras.layers.LSTM(64,return_sequences=True,activation='tanh'),\n",
    "            tf.keras.layers.Flatten(),\n",
    "            tf.keras.layers.Dense(3, activation='softmax')\n",
    "        ])\n",
    "        model.compile(loss='mse',optimizer=tf.keras.optimizers.RMSprop(),metrics=['accuracy',f1_m])\n",
    "    else:\n",
    "        model=tf.keras.models.Sequential([\n",
    "        tf.keras.layers.Embedding(len(tokenizer.word_index),16,input_length=max_len),\n",
    "        tf.keras.layers.Bidirectional(tf.keras.layers.LSTM(64,return_sequences=True,activation='tanh')),\n",
    "        tf.keras.layers.Flatten(),\n",
    "        tf.keras.layers.Dense(3,activation='softmax')\n",
    "        ])\n",
    "        model.compile(loss='mse',optimizer=tf.keras.optimizers.Adam(),metrics=['accuracy',f1_m])\n",
    "    model.summary()\n",
    "    return model\n"
   ]
  },
  {
   "cell_type": "code",
   "execution_count": 17,
   "metadata": {},
   "outputs": [],
   "source": [
    "callback = tf.keras.callbacks.EarlyStopping(\n",
    "    monitor=\"val_accuracy\",\n",
    "    min_delta=0,\n",
    "    patience=5,\n",
    "    verbose=1,\n",
    "    mode=\"auto\",\n",
    "    baseline=None,\n",
    "    restore_best_weights=True,\n",
    ")"
   ]
  },
  {
   "cell_type": "code",
   "execution_count": 18,
   "metadata": {},
   "outputs": [],
   "source": [
    "#from scikeras.wrappers import KerasClassifier\n",
    "#from sklearn.model_selection import KFold\n",
    "#from sklearn.model_selection import cross_val_score\n",
    "##estimator = KerasClassifier(build_fn=createSimpleModel(2), epochs=20, verbose=1,callbacks=[callback],validation_split=0.1)\n",
    "#kfold = KFold(n_splits=5, shuffle=True)\n",
    "#results = cross_val_score(estimator, x_train, y_train, cv=kfold,scoring='accuracy')\n",
    "#results"
   ]
  },
  {
   "cell_type": "code",
   "execution_count": 58,
   "metadata": {},
   "outputs": [
    {
     "name": "stdout",
     "output_type": "stream",
     "text": [
      "Model: \"sequential_11\"\n",
      "_________________________________________________________________\n",
      " Layer (type)                Output Shape              Param #   \n",
      "=================================================================\n",
      " embedding_11 (Embedding)    (None, 15, 16)            111920    \n",
      "                                                                 \n",
      " lstm_29 (LSTM)              (None, 15, 64)            20736     \n",
      "                                                                 \n",
      " flatten_11 (Flatten)        (None, 960)               0         \n",
      "                                                                 \n",
      " dense_20 (Dense)            (None, 3)                 2883      \n",
      "                                                                 \n",
      "=================================================================\n",
      "Total params: 135,539\n",
      "Trainable params: 135,539\n",
      "Non-trainable params: 0\n",
      "_________________________________________________________________\n",
      "Epoch 1/20\n",
      "132/132 [==============================] - 6s 23ms/step - loss: 0.1750 - accuracy: 0.5754 - f1_m: 0.4290 - val_loss: 0.1357 - val_accuracy: 0.7058 - val_f1_m: 0.6491\n",
      "Epoch 2/20\n",
      "132/132 [==============================] - 2s 16ms/step - loss: 0.1024 - accuracy: 0.7844 - f1_m: 0.7660 - val_loss: 0.1144 - val_accuracy: 0.7420 - val_f1_m: 0.7338\n",
      "Epoch 3/20\n",
      "132/132 [==============================] - 2s 12ms/step - loss: 0.0663 - accuracy: 0.8631 - f1_m: 0.8626 - val_loss: 0.0901 - val_accuracy: 0.8230 - val_f1_m: 0.8104\n",
      "Epoch 4/20\n",
      "132/132 [==============================] - 2s 12ms/step - loss: 0.0428 - accuracy: 0.9215 - f1_m: 0.9202 - val_loss: 0.0801 - val_accuracy: 0.8294 - val_f1_m: 0.8270\n",
      "Epoch 5/20\n",
      "132/132 [==============================] - 2s 12ms/step - loss: 0.0308 - accuracy: 0.9419 - f1_m: 0.9404 - val_loss: 0.0969 - val_accuracy: 0.7953 - val_f1_m: 0.7916\n",
      "Epoch 6/20\n",
      "132/132 [==============================] - 2s 12ms/step - loss: 0.0240 - accuracy: 0.9566 - f1_m: 0.9547 - val_loss: 0.0835 - val_accuracy: 0.8380 - val_f1_m: 0.8348\n",
      "Epoch 7/20\n",
      "132/132 [==============================] - 2s 12ms/step - loss: 0.0189 - accuracy: 0.9647 - f1_m: 0.9662 - val_loss: 0.0735 - val_accuracy: 0.8465 - val_f1_m: 0.8443\n",
      "Epoch 8/20\n",
      "132/132 [==============================] - 2s 12ms/step - loss: 0.0159 - accuracy: 0.9732 - f1_m: 0.9720 - val_loss: 0.0880 - val_accuracy: 0.8380 - val_f1_m: 0.8334\n",
      "Epoch 9/20\n",
      "132/132 [==============================] - 2s 12ms/step - loss: 0.0139 - accuracy: 0.9749 - f1_m: 0.9746 - val_loss: 0.0831 - val_accuracy: 0.8422 - val_f1_m: 0.8480\n",
      "Epoch 10/20\n",
      "132/132 [==============================] - 2s 12ms/step - loss: 0.0121 - accuracy: 0.9787 - f1_m: 0.9789 - val_loss: 0.0781 - val_accuracy: 0.8507 - val_f1_m: 0.8499\n",
      "Epoch 11/20\n",
      "132/132 [==============================] - 2s 12ms/step - loss: 0.0098 - accuracy: 0.9829 - f1_m: 0.9827 - val_loss: 0.0900 - val_accuracy: 0.8337 - val_f1_m: 0.8338\n",
      "Epoch 12/20\n",
      "132/132 [==============================] - 2s 12ms/step - loss: 0.0091 - accuracy: 0.9848 - f1_m: 0.9852 - val_loss: 0.0831 - val_accuracy: 0.8465 - val_f1_m: 0.8477\n",
      "Epoch 13/20\n",
      "132/132 [==============================] - 2s 12ms/step - loss: 0.0086 - accuracy: 0.9855 - f1_m: 0.9856 - val_loss: 0.0851 - val_accuracy: 0.8337 - val_f1_m: 0.8349\n",
      "Epoch 14/20\n",
      "132/132 [==============================] - 2s 12ms/step - loss: 0.0077 - accuracy: 0.9870 - f1_m: 0.9870 - val_loss: 0.0911 - val_accuracy: 0.8273 - val_f1_m: 0.8299\n",
      "Epoch 15/20\n",
      "128/132 [============================>.] - ETA: 0s - loss: 0.0073 - accuracy: 0.9875 - f1_m: 0.9874Restoring model weights from the end of the best epoch: 10.\n",
      "132/132 [==============================] - 2s 12ms/step - loss: 0.0073 - accuracy: 0.9877 - f1_m: 0.9876 - val_loss: 0.0844 - val_accuracy: 0.8401 - val_f1_m: 0.8486\n",
      "Epoch 00015: early stopping\n"
     ]
    }
   ],
   "source": [
    "model=createSimpleModel(1)\n",
    "history=model.fit(x_train,y_train,epochs=20,validation_split=0.1,callbacks=[callback])"
   ]
  },
  {
   "cell_type": "code",
   "execution_count": 59,
   "metadata": {},
   "outputs": [
    {
     "name": "stdout",
     "output_type": "stream",
     "text": [
      "17/17 [==============================] - 0s 6ms/step - loss: 0.0969 - accuracy: 0.8119 - f1_m: 0.8094\n"
     ]
    },
    {
     "data": {
      "text/plain": [
       "[0.09692107141017914, 0.8119001984596252, 0.8094069957733154]"
      ]
     },
     "execution_count": 59,
     "metadata": {},
     "output_type": "execute_result"
    }
   ],
   "source": [
    "temp=model.evaluate(x_test,y_test)\n",
    "temp"
   ]
  },
  {
   "cell_type": "code",
   "execution_count": 60,
   "metadata": {},
   "outputs": [
    {
     "data": {
      "text/plain": [
       "<sklearn.metrics._plot.confusion_matrix.ConfusionMatrixDisplay at 0x22a6e6d7850>"
      ]
     },
     "execution_count": 60,
     "metadata": {},
     "output_type": "execute_result"
    },
    {
     "data": {
      "image/png": "[encoded data removed]",
      "text/plain": [
       "<Figure size 432x288 with 2 Axes>"
      ]
     },
     "metadata": {
      "needs_background": "light"
     },
     "output_type": "display_data"
    }
   ],
   "source": [
    "from sklearn.metrics import confusion_matrix, ConfusionMatrixDisplay\n",
    "import numpy as np\n",
    "predict=model.predict(x_test)\n",
    "confusion=confusion_matrix(np.argmax(y_test,axis=1),np.argmax(predict,axis=1))\n",
    "display=ConfusionMatrixDisplay(confusion_matrix=confusion)\n",
    "display.plot()"
   ]
  },
  {
   "cell_type": "code",
   "execution_count": 22,
   "metadata": {},
   "outputs": [],
   "source": [
    "import matplotlib.pyplot as plt\n",
    "\n",
    "def plot_graphs(history):\n",
    "  figure, axis = plt.subplots(2, 2)\n",
    "  figure.set_size_inches(18.5, 10.5, forward=True)\n",
    "\n",
    "  axis[0,0].plot(history.history['accuracy'])\n",
    "  axis[0,0].plot(history.history['val_accuracy'])\n",
    "  axis[0,0].set_title('Accuracy')\n",
    "  axis[0,0].legend(['accuracy','val_accuracy'])\n",
    "\n",
    "  axis[0,1].plot(history.history['loss'])\n",
    "  axis[0,1].plot(history.history['val_loss'])\n",
    "  axis[0,1].set_title('Loss')\n",
    "  axis[0,1].legend(['loss','val_loss'])\n",
    "\n",
    "  axis[1,0].plot(history.history['f1_m'])\n",
    "  axis[1,0].plot(history.history['val_f1_m'])\n",
    "  axis[1,0].set_title('F1-Score')\n",
    "  axis[1,0].legend(['f1_m','val_f1_m'])\n",
    "  plt.show()"
   ]
  },
  {
   "cell_type": "code",
   "execution_count": 23,
   "metadata": {},
   "outputs": [
    {
     "data": {
      "image/png": "[encoded data removed]",
      "text/plain": [
       "<Figure size 1332x756 with 4 Axes>"
      ]
     },
     "metadata": {
      "needs_background": "light"
     },
     "output_type": "display_data"
    }
   ],
   "source": [
    "plot_graphs(history=history)"
   ]
  },
  {
   "cell_type": "code",
   "execution_count": 34,
   "metadata": {},
   "outputs": [],
   "source": [
    "def createComplexModel(skenario):\n",
    "    if skenario ==1:\n",
    "        model=tf.keras.models.Sequential([\n",
    "            tf.keras.layers.Embedding(len(tokenizer.word_index),128,input_length=max_len),\n",
    "            tf.keras.layers.LSTM(128,return_sequences=True,activation='tanh',dropout=0.2),\n",
    "            tf.keras.layers.LSTM(128,return_sequences=True,activation='tanh',dropout=0.2),\n",
    "            tf.keras.layers.LSTM(128,return_sequences=True,activation='tanh',dropout=0.2),\n",
    "            tf.keras.layers.Flatten(),\n",
    "            tf.keras.layers.Dense(512,activation='relu'),\n",
    "            tf.keras.layers.Dropout(0.5),\n",
    "            tf.keras.layers.Dense(3, activation='softmax')\n",
    "        ])\n",
    "        model.compile(loss='mse',optimizer=tf.keras.optimizers.RMSprop(),metrics=['accuracy',f1_m])\n",
    "    else:\n",
    "        model=tf.keras.models.Sequential([\n",
    "        tf.keras.layers.Embedding(len(tokenizer.word_index),128,input_length=max_len),\n",
    "        tf.keras.layers.Bidirectional(tf.keras.layers.LSTM(128,return_sequences=True,activation='tanh',dropout=0.2)),\n",
    "        tf.keras.layers.Bidirectional(tf.keras.layers.LSTM(128,return_sequences=True,activation='tanh',dropout=0.2)),\n",
    "        tf.keras.layers.Bidirectional(tf.keras.layers.LSTM(128,return_sequences=True,activation='tanh',dropout=0.2)),\n",
    "        tf.keras.layers.Flatten(),\n",
    "        tf.keras.layers.Dense(512,activation='relu'),\n",
    "        tf.keras.layers.Dropout(0.5),\n",
    "        tf.keras.layers.Dense(3,activation='softmax')\n",
    "        ])\n",
    "        model.compile(loss='mse',optimizer=tf.keras.optimizers.RMSprop(),metrics=['accuracy',f1_m])\n",
    "    model.summary()\n",
    "    return model\n"
   ]
  },
  {
   "cell_type": "code",
   "execution_count": 55,
   "metadata": {},
   "outputs": [
    {
     "name": "stdout",
     "output_type": "stream",
     "text": [
      "Model: \"sequential_10\"\n",
      "_________________________________________________________________\n",
      " Layer (type)                Output Shape              Param #   \n",
      "=================================================================\n",
      " embedding_10 (Embedding)    (None, 15, 128)           895360    \n",
      "                                                                 \n",
      " bidirectional_12 (Bidirecti  (None, 15, 256)          263168    \n",
      " onal)                                                           \n",
      "                                                                 \n",
      " bidirectional_13 (Bidirecti  (None, 15, 256)          394240    \n",
      " onal)                                                           \n",
      "                                                                 \n",
      " bidirectional_14 (Bidirecti  (None, 15, 256)          394240    \n",
      " onal)                                                           \n",
      "                                                                 \n",
      " flatten_10 (Flatten)        (None, 3840)              0         \n",
      "                                                                 \n",
      " dense_18 (Dense)            (None, 512)               1966592   \n",
      "                                                                 \n",
      " dropout_8 (Dropout)         (None, 512)               0         \n",
      "                                                                 \n",
      " dense_19 (Dense)            (None, 3)                 1539      \n",
      "                                                                 \n",
      "=================================================================\n",
      "Total params: 3,915,139\n",
      "Trainable params: 3,915,139\n",
      "Non-trainable params: 0\n",
      "_________________________________________________________________\n",
      "Epoch 1/20\n",
      "132/132 [==============================] - 18s 55ms/step - loss: 0.8239 - accuracy: 0.6321 - f1_m: 0.5431 - val_loss: 0.5873 - val_accuracy: 0.7932 - val_f1_m: 0.7701\n",
      "Epoch 2/20\n",
      "132/132 [==============================] - 5s 38ms/step - loss: 0.3966 - accuracy: 0.8653 - f1_m: 0.8647 - val_loss: 0.5742 - val_accuracy: 0.7996 - val_f1_m: 0.8013\n",
      "Epoch 3/20\n",
      "132/132 [==============================] - 5s 37ms/step - loss: 0.2500 - accuracy: 0.9227 - f1_m: 0.9212 - val_loss: 0.3869 - val_accuracy: 0.8678 - val_f1_m: 0.8560\n",
      "Epoch 4/20\n",
      "132/132 [==============================] - 5s 40ms/step - loss: 0.1565 - accuracy: 0.9542 - f1_m: 0.9539 - val_loss: 0.4261 - val_accuracy: 0.8401 - val_f1_m: 0.8421\n",
      "Epoch 5/20\n",
      "132/132 [==============================] - 5s 38ms/step - loss: 0.1231 - accuracy: 0.9635 - f1_m: 0.9626 - val_loss: 0.4509 - val_accuracy: 0.8571 - val_f1_m: 0.8539\n",
      "Epoch 6/20\n",
      "132/132 [==============================] - 5s 39ms/step - loss: 0.1005 - accuracy: 0.9720 - f1_m: 0.9722 - val_loss: 0.3989 - val_accuracy: 0.8699 - val_f1_m: 0.8620\n",
      "Epoch 7/20\n",
      "132/132 [==============================] - 5s 39ms/step - loss: 0.0775 - accuracy: 0.9763 - f1_m: 0.9766 - val_loss: 0.5164 - val_accuracy: 0.8785 - val_f1_m: 0.8808\n",
      "Epoch 8/20\n",
      "132/132 [==============================] - 5s 39ms/step - loss: 0.0611 - accuracy: 0.9817 - f1_m: 0.9817 - val_loss: 0.4865 - val_accuracy: 0.8785 - val_f1_m: 0.8807\n",
      "Epoch 9/20\n",
      "132/132 [==============================] - 5s 39ms/step - loss: 0.0544 - accuracy: 0.9848 - f1_m: 0.9846 - val_loss: 0.6683 - val_accuracy: 0.8507 - val_f1_m: 0.8520\n",
      "Epoch 10/20\n",
      "132/132 [==============================] - 5s 39ms/step - loss: 0.0439 - accuracy: 0.9879 - f1_m: 0.9878 - val_loss: 1.9408 - val_accuracy: 0.8721 - val_f1_m: 0.8714\n",
      "Epoch 11/20\n",
      "132/132 [==============================] - 5s 37ms/step - loss: 0.0470 - accuracy: 0.9886 - f1_m: 0.9887 - val_loss: 0.9230 - val_accuracy: 0.8763 - val_f1_m: 0.8794\n",
      "Epoch 12/20\n",
      "131/132 [============================>.] - ETA: 0s - loss: 0.0319 - accuracy: 0.9921 - f1_m: 0.9921- ETA: 0s - loss: 0.0313 - accuracy: 0.9927 - Restoring model weights from the end of the best epoch: 7.\n",
      "132/132 [==============================] - 5s 37ms/step - loss: 0.0317 - accuracy: 0.9922 - f1_m: 0.9922 - val_loss: 1.1515 - val_accuracy: 0.8614 - val_f1_m: 0.8668\n",
      "Epoch 00012: early stopping\n"
     ]
    }
   ],
   "source": [
    "model=createComplexModel(2)\n",
    "history=model.fit(x_train,y_train,epochs=20,validation_split=0.1,callbacks=[callback])"
   ]
  },
  {
   "cell_type": "code",
   "execution_count": 57,
   "metadata": {},
   "outputs": [
    {
     "name": "stdout",
     "output_type": "stream",
     "text": [
      "17/17 [==============================] - 1s 32ms/step - loss: 0.5319 - accuracy: 0.8580 - f1_m: 0.8578\n"
     ]
    },
    {
     "data": {
      "text/plain": [
       "[0.5319363474845886, 0.8579654693603516, 0.8578073382377625]"
      ]
     },
     "execution_count": 57,
     "metadata": {},
     "output_type": "execute_result"
    }
   ],
   "source": [
    "temp=model.evaluate(x_test,y_test)\n",
    "temp"
   ]
  },
  {
   "cell_type": "code",
   "execution_count": 53,
   "metadata": {},
   "outputs": [
    {
     "data": {
      "text/plain": [
       "<sklearn.metrics._plot.confusion_matrix.ConfusionMatrixDisplay at 0x22a826ab130>"
      ]
     },
     "execution_count": 53,
     "metadata": {},
     "output_type": "execute_result"
    },
    {
     "data": {
      "image/png": "[encoded data removed]",
      "text/plain": [
       "<Figure size 432x288 with 2 Axes>"
      ]
     },
     "metadata": {
      "needs_background": "light"
     },
     "output_type": "display_data"
    }
   ],
   "source": [
    "from sklearn.metrics import confusion_matrix, ConfusionMatrixDisplay\n",
    "import numpy as np\n",
    "predict=model.predict(x_test)\n",
    "confusion=confusion_matrix(np.argmax(y_test,axis=1),np.argmax(predict,axis=1))\n",
    "display=ConfusionMatrixDisplay(confusion_matrix=confusion)\n",
    "display.plot()"
   ]
  },
  {
   "cell_type": "code",
   "execution_count": 54,
   "metadata": {},
   "outputs": [
    {
     "data": {
      "image/png": "[encoded data removed]",
      "text/plain": [
       "<Figure size 1332x756 with 4 Axes>"
      ]
     },
     "metadata": {
      "needs_background": "light"
     },
     "output_type": "display_data"
    }
   ],
   "source": [
    "plot_graphs(history=history)"
   ]
  }
 ],
 "metadata": {
  "kernelspec": {
   "display_name": "Python 3.8.0 64-bit",
   "language": "python",
   "name": "python3"
  },
  "language_info": {
   "codemirror_mode": {
    "name": "ipython",
    "version": 3
   },
   "file_extension": ".py",
   "mimetype": "text/x-python",
   "name": "python",
   "nbconvert_exporter": "python",
   "pygments_lexer": "ipython3",
   "version": "3.8.0"
  },
  "orig_nbformat": 4,
  "vscode": {
   "interpreter": {
    "hash": "ff0d91300876931207232d01add3156fa7c8214350996c757a3c6cebc4b3b5d5"
   }
  }
 },
 "nbformat": 4,
 "nbformat_minor": 2
}
