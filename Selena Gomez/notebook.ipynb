{
 "cells": [
  {
   "attachments": {},
   "cell_type": "markdown",
   "metadata": {},
   "source": [
    "### Import libraries yang dibutuhkan"
   ]
  },
  {
   "cell_type": "code",
   "execution_count": 1,
   "metadata": {},
   "outputs": [],
   "source": [
    "import pandas as pd\n",
    "import tensorflow as tf\n",
    "from tensorflow.keras.preprocessing.text import Tokenizer\n",
    "from tensorflow.keras.preprocessing.sequence import pad_sequences"
   ]
  },
  {
   "attachments": {},
   "cell_type": "markdown",
   "metadata": {},
   "source": [
    "### Membaca data"
   ]
  },
  {
   "cell_type": "code",
   "execution_count": 2,
   "metadata": {},
   "outputs": [
    {
     "data": {
      "text/html": [
       "<div>\n",
       "<style scoped>\n",
       "    .dataframe tbody tr th:only-of-type {\n",
       "        vertical-align: middle;\n",
       "    }\n",
       "\n",
       "    .dataframe tbody tr th {\n",
       "        vertical-align: top;\n",
       "    }\n",
       "\n",
       "    .dataframe thead th {\n",
       "        text-align: right;\n",
       "    }\n",
       "</style>\n",
       "<table border=\"1\" class=\"dataframe\">\n",
       "  <thead>\n",
       "    <tr style=\"text-align: right;\">\n",
       "      <th></th>\n",
       "      <th>created_at</th>\n",
       "      <th>username</th>\n",
       "      <th>text</th>\n",
       "      <th>preprocessed</th>\n",
       "      <th>sentiment</th>\n",
       "    </tr>\n",
       "  </thead>\n",
       "  <tbody>\n",
       "    <tr>\n",
       "      <th>0</th>\n",
       "      <td>Thu Mar 02 23:59:30 +0000 2023</td>\n",
       "      <td>darkonsun</td>\n",
       "      <td>social media is a disease and this hailey bieb...</td>\n",
       "      <td>social media diseas hailey bieber selena gomez...</td>\n",
       "      <td>Neutral</td>\n",
       "    </tr>\n",
       "    <tr>\n",
       "      <th>1</th>\n",
       "      <td>Thu Mar 02 23:56:18 +0000 2023</td>\n",
       "      <td>babyyyannieee</td>\n",
       "      <td>Justin Bieber &amp;amp; Selena Gomez followed each...</td>\n",
       "      <td>justin bieber amp selena gomez follow twitter ...</td>\n",
       "      <td>Neutral</td>\n",
       "    </tr>\n",
       "    <tr>\n",
       "      <th>2</th>\n",
       "      <td>Thu Mar 02 23:55:57 +0000 2023</td>\n",
       "      <td>likabeast101</td>\n",
       "      <td>Selena Gomez drove by my house 🙀</td>\n",
       "      <td>selena gomez drive hous</td>\n",
       "      <td>Neutral</td>\n",
       "    </tr>\n",
       "    <tr>\n",
       "      <th>3</th>\n",
       "      <td>Thu Mar 02 23:55:36 +0000 2023</td>\n",
       "      <td>whoismelanyway</td>\n",
       "      <td>I understand hailey Bieber because if my husba...</td>\n",
       "      <td>understand hailey bieber husband ex selena gom...</td>\n",
       "      <td>Neutral</td>\n",
       "    </tr>\n",
       "    <tr>\n",
       "      <th>4</th>\n",
       "      <td>Thu Mar 02 23:54:50 +0000 2023</td>\n",
       "      <td>_mayyraa</td>\n",
       "      <td>but then i always realize because SELENA GOMEZ...</td>\n",
       "      <td>alway realiz selena gomez alway look good</td>\n",
       "      <td>Positive</td>\n",
       "    </tr>\n",
       "    <tr>\n",
       "      <th>...</th>\n",
       "      <td>...</td>\n",
       "      <td>...</td>\n",
       "      <td>...</td>\n",
       "      <td>...</td>\n",
       "      <td>...</td>\n",
       "    </tr>\n",
       "    <tr>\n",
       "      <th>5201</th>\n",
       "      <td>Wed Mar 01 10:19:04 +0000 2023</td>\n",
       "      <td>SAFFAOnAirRadio</td>\n",
       "      <td>@SAFFAOnAirRadio is now playing, Selena Gomez,...</td>\n",
       "      <td>saffaonairradio play selena gomez marshmello w...</td>\n",
       "      <td>Positive</td>\n",
       "    </tr>\n",
       "    <tr>\n",
       "      <th>5202</th>\n",
       "      <td>Wed Mar 01 10:19:01 +0000 2023</td>\n",
       "      <td>tshepiixx</td>\n",
       "      <td>Go follow Selena Gomez on IG 😡</td>\n",
       "      <td>go follow selena gomez ig</td>\n",
       "      <td>Neutral</td>\n",
       "    </tr>\n",
       "    <tr>\n",
       "      <th>5203</th>\n",
       "      <td>Wed Mar 01 10:17:59 +0000 2023</td>\n",
       "      <td>Chief_I_H8_U</td>\n",
       "      <td>@Ricius496 @endlessbonerz Selena Gomez has a m...</td>\n",
       "      <td>riciu endlessbonerz selena gomez medic issu st...</td>\n",
       "      <td>Neutral</td>\n",
       "    </tr>\n",
       "    <tr>\n",
       "      <th>5204</th>\n",
       "      <td>Wed Mar 01 10:15:42 +0000 2023</td>\n",
       "      <td>vinalraswati</td>\n",
       "      <td>I still can taste it and i hate it. \\n\\nPeople...</td>\n",
       "      <td>still tast hate peopl know selena gomez</td>\n",
       "      <td>Negative</td>\n",
       "    </tr>\n",
       "    <tr>\n",
       "      <th>5205</th>\n",
       "      <td>Wed Mar 01 10:13:24 +0000 2023</td>\n",
       "      <td>TheSwaddle</td>\n",
       "      <td>Over the past few days, the alleged feud betwe...</td>\n",
       "      <td>past day alleg feud selena gomez hailey bieber...</td>\n",
       "      <td>Negative</td>\n",
       "    </tr>\n",
       "  </tbody>\n",
       "</table>\n",
       "<p>5206 rows × 5 columns</p>\n",
       "</div>"
      ],
      "text/plain": [
       "                          created_at         username   \n",
       "0     Thu Mar 02 23:59:30 +0000 2023        darkonsun  \\\n",
       "1     Thu Mar 02 23:56:18 +0000 2023    babyyyannieee   \n",
       "2     Thu Mar 02 23:55:57 +0000 2023     likabeast101   \n",
       "3     Thu Mar 02 23:55:36 +0000 2023   whoismelanyway   \n",
       "4     Thu Mar 02 23:54:50 +0000 2023         _mayyraa   \n",
       "...                              ...              ...   \n",
       "5201  Wed Mar 01 10:19:04 +0000 2023  SAFFAOnAirRadio   \n",
       "5202  Wed Mar 01 10:19:01 +0000 2023        tshepiixx   \n",
       "5203  Wed Mar 01 10:17:59 +0000 2023     Chief_I_H8_U   \n",
       "5204  Wed Mar 01 10:15:42 +0000 2023     vinalraswati   \n",
       "5205  Wed Mar 01 10:13:24 +0000 2023       TheSwaddle   \n",
       "\n",
       "                                                   text   \n",
       "0     social media is a disease and this hailey bieb...  \\\n",
       "1     Justin Bieber &amp; Selena Gomez followed each...   \n",
       "2                      Selena Gomez drove by my house 🙀   \n",
       "3     I understand hailey Bieber because if my husba...   \n",
       "4     but then i always realize because SELENA GOMEZ...   \n",
       "...                                                 ...   \n",
       "5201  @SAFFAOnAirRadio is now playing, Selena Gomez,...   \n",
       "5202                     Go follow Selena Gomez on IG 😡   \n",
       "5203  @Ricius496 @endlessbonerz Selena Gomez has a m...   \n",
       "5204  I still can taste it and i hate it. \\n\\nPeople...   \n",
       "5205  Over the past few days, the alleged feud betwe...   \n",
       "\n",
       "                                           preprocessed sentiment  \n",
       "0     social media diseas hailey bieber selena gomez...   Neutral  \n",
       "1     justin bieber amp selena gomez follow twitter ...   Neutral  \n",
       "2                               selena gomez drive hous   Neutral  \n",
       "3     understand hailey bieber husband ex selena gom...   Neutral  \n",
       "4             alway realiz selena gomez alway look good  Positive  \n",
       "...                                                 ...       ...  \n",
       "5201  saffaonairradio play selena gomez marshmello w...  Positive  \n",
       "5202                          go follow selena gomez ig   Neutral  \n",
       "5203  riciu endlessbonerz selena gomez medic issu st...   Neutral  \n",
       "5204            still tast hate peopl know selena gomez  Negative  \n",
       "5205  past day alleg feud selena gomez hailey bieber...  Negative  \n",
       "\n",
       "[5206 rows x 5 columns]"
      ]
     },
     "execution_count": 2,
     "metadata": {},
     "output_type": "execute_result"
    }
   ],
   "source": [
    "data=pd.read_excel('./selenagomez_clean.xlsx')\n",
    "del data['Unnamed: 0']\n",
    "data"
   ]
  },
  {
   "attachments": {},
   "cell_type": "markdown",
   "metadata": {},
   "source": [
    "### Memilih data teks dan label"
   ]
  },
  {
   "cell_type": "code",
   "execution_count": 3,
   "metadata": {},
   "outputs": [
    {
     "data": {
      "text/html": [
       "<div>\n",
       "<style scoped>\n",
       "    .dataframe tbody tr th:only-of-type {\n",
       "        vertical-align: middle;\n",
       "    }\n",
       "\n",
       "    .dataframe tbody tr th {\n",
       "        vertical-align: top;\n",
       "    }\n",
       "\n",
       "    .dataframe thead th {\n",
       "        text-align: right;\n",
       "    }\n",
       "</style>\n",
       "<table border=\"1\" class=\"dataframe\">\n",
       "  <thead>\n",
       "    <tr style=\"text-align: right;\">\n",
       "      <th></th>\n",
       "      <th>preprocessed</th>\n",
       "      <th>sentiment</th>\n",
       "    </tr>\n",
       "  </thead>\n",
       "  <tbody>\n",
       "    <tr>\n",
       "      <th>0</th>\n",
       "      <td>social media diseas hailey bieber selena gomez...</td>\n",
       "      <td>Neutral</td>\n",
       "    </tr>\n",
       "    <tr>\n",
       "      <th>1</th>\n",
       "      <td>justin bieber amp selena gomez follow twitter ...</td>\n",
       "      <td>Neutral</td>\n",
       "    </tr>\n",
       "    <tr>\n",
       "      <th>2</th>\n",
       "      <td>selena gomez drive hous</td>\n",
       "      <td>Neutral</td>\n",
       "    </tr>\n",
       "    <tr>\n",
       "      <th>3</th>\n",
       "      <td>understand hailey bieber husband ex selena gom...</td>\n",
       "      <td>Neutral</td>\n",
       "    </tr>\n",
       "    <tr>\n",
       "      <th>4</th>\n",
       "      <td>alway realiz selena gomez alway look good</td>\n",
       "      <td>Positive</td>\n",
       "    </tr>\n",
       "    <tr>\n",
       "      <th>...</th>\n",
       "      <td>...</td>\n",
       "      <td>...</td>\n",
       "    </tr>\n",
       "    <tr>\n",
       "      <th>5201</th>\n",
       "      <td>saffaonairradio play selena gomez marshmello w...</td>\n",
       "      <td>Positive</td>\n",
       "    </tr>\n",
       "    <tr>\n",
       "      <th>5202</th>\n",
       "      <td>go follow selena gomez ig</td>\n",
       "      <td>Neutral</td>\n",
       "    </tr>\n",
       "    <tr>\n",
       "      <th>5203</th>\n",
       "      <td>riciu endlessbonerz selena gomez medic issu st...</td>\n",
       "      <td>Neutral</td>\n",
       "    </tr>\n",
       "    <tr>\n",
       "      <th>5204</th>\n",
       "      <td>still tast hate peopl know selena gomez</td>\n",
       "      <td>Negative</td>\n",
       "    </tr>\n",
       "    <tr>\n",
       "      <th>5205</th>\n",
       "      <td>past day alleg feud selena gomez hailey bieber...</td>\n",
       "      <td>Negative</td>\n",
       "    </tr>\n",
       "  </tbody>\n",
       "</table>\n",
       "<p>5206 rows × 2 columns</p>\n",
       "</div>"
      ],
      "text/plain": [
       "                                           preprocessed sentiment\n",
       "0     social media diseas hailey bieber selena gomez...   Neutral\n",
       "1     justin bieber amp selena gomez follow twitter ...   Neutral\n",
       "2                               selena gomez drive hous   Neutral\n",
       "3     understand hailey bieber husband ex selena gom...   Neutral\n",
       "4             alway realiz selena gomez alway look good  Positive\n",
       "...                                                 ...       ...\n",
       "5201  saffaonairradio play selena gomez marshmello w...  Positive\n",
       "5202                          go follow selena gomez ig   Neutral\n",
       "5203  riciu endlessbonerz selena gomez medic issu st...   Neutral\n",
       "5204            still tast hate peopl know selena gomez  Negative\n",
       "5205  past day alleg feud selena gomez hailey bieber...  Negative\n",
       "\n",
       "[5206 rows x 2 columns]"
      ]
     },
     "execution_count": 3,
     "metadata": {},
     "output_type": "execute_result"
    }
   ],
   "source": [
    "data=data[['preprocessed','sentiment']]\n",
    "data"
   ]
  },
  {
   "cell_type": "code",
   "execution_count": 4,
   "metadata": {},
   "outputs": [
    {
     "data": {
      "text/plain": [
       "sentiment\n",
       "Neutral     2103\n",
       "Positive    1942\n",
       "Negative    1161\n",
       "Name: count, dtype: int64"
      ]
     },
     "execution_count": 4,
     "metadata": {},
     "output_type": "execute_result"
    }
   ],
   "source": [
    "data['sentiment'].value_counts()"
   ]
  },
  {
   "attachments": {},
   "cell_type": "markdown",
   "metadata": {},
   "source": [
    "### Mengubah label sentimen menjadi numeris"
   ]
  },
  {
   "cell_type": "code",
   "execution_count": 5,
   "metadata": {},
   "outputs": [
    {
     "name": "stderr",
     "output_type": "stream",
     "text": [
      "C:\\Users\\ASUS\\AppData\\Local\\Temp\\ipykernel_1004\\1650668707.py:1: SettingWithCopyWarning: \n",
      "A value is trying to be set on a copy of a slice from a DataFrame.\n",
      "Try using .loc[row_indexer,col_indexer] = value instead\n",
      "\n",
      "See the caveats in the documentation: https://pandas.pydata.org/pandas-docs/stable/user_guide/indexing.html#returning-a-view-versus-a-copy\n",
      "  data.sentiment = pd.Categorical(pd.factorize(data.sentiment)[0])\n"
     ]
    },
    {
     "data": {
      "text/html": [
       "<div>\n",
       "<style scoped>\n",
       "    .dataframe tbody tr th:only-of-type {\n",
       "        vertical-align: middle;\n",
       "    }\n",
       "\n",
       "    .dataframe tbody tr th {\n",
       "        vertical-align: top;\n",
       "    }\n",
       "\n",
       "    .dataframe thead th {\n",
       "        text-align: right;\n",
       "    }\n",
       "</style>\n",
       "<table border=\"1\" class=\"dataframe\">\n",
       "  <thead>\n",
       "    <tr style=\"text-align: right;\">\n",
       "      <th></th>\n",
       "      <th>preprocessed</th>\n",
       "      <th>sentiment</th>\n",
       "    </tr>\n",
       "  </thead>\n",
       "  <tbody>\n",
       "    <tr>\n",
       "      <th>0</th>\n",
       "      <td>social media diseas hailey bieber selena gomez...</td>\n",
       "      <td>0</td>\n",
       "    </tr>\n",
       "    <tr>\n",
       "      <th>1</th>\n",
       "      <td>justin bieber amp selena gomez follow twitter ...</td>\n",
       "      <td>0</td>\n",
       "    </tr>\n",
       "    <tr>\n",
       "      <th>2</th>\n",
       "      <td>selena gomez drive hous</td>\n",
       "      <td>0</td>\n",
       "    </tr>\n",
       "    <tr>\n",
       "      <th>3</th>\n",
       "      <td>understand hailey bieber husband ex selena gom...</td>\n",
       "      <td>0</td>\n",
       "    </tr>\n",
       "    <tr>\n",
       "      <th>4</th>\n",
       "      <td>alway realiz selena gomez alway look good</td>\n",
       "      <td>1</td>\n",
       "    </tr>\n",
       "    <tr>\n",
       "      <th>...</th>\n",
       "      <td>...</td>\n",
       "      <td>...</td>\n",
       "    </tr>\n",
       "    <tr>\n",
       "      <th>5201</th>\n",
       "      <td>saffaonairradio play selena gomez marshmello w...</td>\n",
       "      <td>1</td>\n",
       "    </tr>\n",
       "    <tr>\n",
       "      <th>5202</th>\n",
       "      <td>go follow selena gomez ig</td>\n",
       "      <td>0</td>\n",
       "    </tr>\n",
       "    <tr>\n",
       "      <th>5203</th>\n",
       "      <td>riciu endlessbonerz selena gomez medic issu st...</td>\n",
       "      <td>0</td>\n",
       "    </tr>\n",
       "    <tr>\n",
       "      <th>5204</th>\n",
       "      <td>still tast hate peopl know selena gomez</td>\n",
       "      <td>2</td>\n",
       "    </tr>\n",
       "    <tr>\n",
       "      <th>5205</th>\n",
       "      <td>past day alleg feud selena gomez hailey bieber...</td>\n",
       "      <td>2</td>\n",
       "    </tr>\n",
       "  </tbody>\n",
       "</table>\n",
       "<p>5206 rows × 2 columns</p>\n",
       "</div>"
      ],
      "text/plain": [
       "                                           preprocessed sentiment\n",
       "0     social media diseas hailey bieber selena gomez...         0\n",
       "1     justin bieber amp selena gomez follow twitter ...         0\n",
       "2                               selena gomez drive hous         0\n",
       "3     understand hailey bieber husband ex selena gom...         0\n",
       "4             alway realiz selena gomez alway look good         1\n",
       "...                                                 ...       ...\n",
       "5201  saffaonairradio play selena gomez marshmello w...         1\n",
       "5202                          go follow selena gomez ig         0\n",
       "5203  riciu endlessbonerz selena gomez medic issu st...         0\n",
       "5204            still tast hate peopl know selena gomez         2\n",
       "5205  past day alleg feud selena gomez hailey bieber...         2\n",
       "\n",
       "[5206 rows x 2 columns]"
      ]
     },
     "execution_count": 5,
     "metadata": {},
     "output_type": "execute_result"
    }
   ],
   "source": [
    "data.sentiment = pd.Categorical(pd.factorize(data.sentiment)[0])\n",
    "data"
   ]
  },
  {
   "cell_type": "code",
   "execution_count": 6,
   "metadata": {},
   "outputs": [],
   "source": [
    "max_len=15\n",
    "trunc_type = 'post'\n",
    "padding_type = 'post'\n",
    "oov_tok = \"<OOV>\"\n",
    "tokenizer=Tokenizer(oov_token=oov_tok)\n",
    "tokenizer.fit_on_texts(data['preprocessed'])"
   ]
  },
  {
   "cell_type": "code",
   "execution_count": 7,
   "metadata": {},
   "outputs": [
    {
     "data": {
      "text/plain": [
       "6995"
      ]
     },
     "execution_count": 7,
     "metadata": {},
     "output_type": "execute_result"
    }
   ],
   "source": [
    "len(tokenizer.word_index)"
   ]
  },
  {
   "cell_type": "code",
   "execution_count": 8,
   "metadata": {},
   "outputs": [],
   "source": [
    "sequences=tokenizer.texts_to_sequences(data['preprocessed'])\n",
    "padded=pad_sequences(sequences=sequences,padding=padding_type,truncating=trunc_type,maxlen=max_len)\n",
    "temp=0\n",
    "kamus={}\n",
    "for item in sequences:\n",
    "    coba=len(item)\n",
    "    if coba not in kamus:\n",
    "        kamus[coba]=1\n",
    "    else:\n",
    "        kamus[coba]+=1"
   ]
  },
  {
   "cell_type": "code",
   "execution_count": 9,
   "metadata": {},
   "outputs": [
    {
     "data": {
      "image/png": "[encoded data removed]",
      "text/plain": [
       "<Figure size 640x480 with 1 Axes>"
      ]
     },
     "metadata": {},
     "output_type": "display_data"
    }
   ],
   "source": [
    "import matplotlib.pylab as plt\n",
    "\n",
    "lists = sorted(kamus.items()) # sorted by key, return a list of tuples\n",
    "\n",
    "x, y = zip(*lists) # unpack a list of pairs into two tuples\n",
    "\n",
    "plt.plot(x, y)\n",
    "plt.show()"
   ]
  },
  {
   "attachments": {},
   "cell_type": "markdown",
   "metadata": {},
   "source": [
    "### Tokenizing data "
   ]
  },
  {
   "cell_type": "code",
   "execution_count": 10,
   "metadata": {},
   "outputs": [
    {
     "data": {
      "text/plain": [
       "array([[ 183,  226, 1686, ...,    0,    0,    0],\n",
       "       [   9,    6,   18, ...,    0,    0,    0],\n",
       "       [   2,    3,  800, ...,    0,    0,    0],\n",
       "       ...,\n",
       "       [6993, 1674,    2, ...,    0,    0,    0],\n",
       "       [  72,  553,   45, ...,    0,    0,    0],\n",
       "       [ 166,   46, 2003, ...,    5, 6995,    0]])"
      ]
     },
     "execution_count": 10,
     "metadata": {},
     "output_type": "execute_result"
    }
   ],
   "source": [
    "sequences=tokenizer.texts_to_sequences(data['preprocessed'])\n",
    "padded=pad_sequences(sequences=sequences,padding=padding_type,truncating=trunc_type,maxlen=max_len)\n",
    "padded"
   ]
  },
  {
   "attachments": {},
   "cell_type": "markdown",
   "metadata": {},
   "source": [
    "### Split data menjadi training dan testing"
   ]
  },
  {
   "cell_type": "code",
   "execution_count": 11,
   "metadata": {},
   "outputs": [
    {
     "data": {
      "text/plain": [
       "((4685, 15), (521, 15), (4685,), (521,))"
      ]
     },
     "execution_count": 11,
     "metadata": {},
     "output_type": "execute_result"
    }
   ],
   "source": [
    "from sklearn.model_selection import train_test_split\n",
    "x_train,x_test,y_train,y_test=train_test_split(padded,data['sentiment'],test_size=0.1,random_state=42)\n",
    "x_train.shape,x_test.shape,y_train.shape,y_test.shape"
   ]
  },
  {
   "attachments": {},
   "cell_type": "markdown",
   "metadata": {},
   "source": [
    "### Encode label "
   ]
  },
  {
   "cell_type": "code",
   "execution_count": 12,
   "metadata": {},
   "outputs": [
    {
     "data": {
      "text/plain": [
       "((4685, 15), (521, 15), (4685, 3), (521, 3))"
      ]
     },
     "execution_count": 12,
     "metadata": {},
     "output_type": "execute_result"
    }
   ],
   "source": [
    "y_train= tf.keras.utils.to_categorical(y_train, num_classes=3)\n",
    "y_test= tf.keras.utils.to_categorical(y_test, num_classes=3)\n",
    "x_train.shape,x_test.shape,y_train.shape,y_test.shape"
   ]
  },
  {
   "attachments": {},
   "cell_type": "markdown",
   "metadata": {},
   "source": [
    "### Definisikan fungsi metric evaluasi f1 score"
   ]
  },
  {
   "cell_type": "code",
   "execution_count": 13,
   "metadata": {},
   "outputs": [],
   "source": [
    "from keras import backend as K\n",
    "\n",
    "def recall_m(y_true, y_pred):\n",
    "    true_positives = K.sum(K.round(K.clip(y_true * y_pred, 0, 1)))\n",
    "    possible_positives = K.sum(K.round(K.clip(y_true, 0, 1)))\n",
    "    recall = true_positives / (possible_positives + K.epsilon())\n",
    "    return recall\n",
    "\n",
    "def precision_m(y_true, y_pred):\n",
    "    true_positives = K.sum(K.round(K.clip(y_true * y_pred, 0, 1)))\n",
    "    predicted_positives = K.sum(K.round(K.clip(y_pred, 0, 1)))\n",
    "    precision = true_positives / (predicted_positives + K.epsilon())\n",
    "    return precision\n",
    "\n",
    "def f1_m(y_true, y_pred):\n",
    "    precision = precision_m(y_true, y_pred)\n",
    "    recall = recall_m(y_true, y_pred)\n",
    "    return 2*((precision*recall)/(precision+recall+K.epsilon()))"
   ]
  },
  {
   "attachments": {},
   "cell_type": "markdown",
   "metadata": {},
   "source": [
    "### Function untuk melatih model sederhana"
   ]
  },
  {
   "cell_type": "code",
   "execution_count": 14,
   "metadata": {},
   "outputs": [],
   "source": [
    "def createSimpleModel(skenario):\n",
    "    if skenario ==1:\n",
    "        model=tf.keras.models.Sequential([\n",
    "            tf.keras.layers.Embedding(len(tokenizer.word_index),16,input_length=max_len),\n",
    "            tf.keras.layers.LSTM(64,activation='tanh',return_sequences=True),\n",
    "            tf.keras.layers.Flatten(),\n",
    "            tf.keras.layers.Dense(3, activation='softmax')\n",
    "        ])\n",
    "        model.compile(loss='categorical_crossentropy',optimizer=tf.keras.optimizers.Adam(),metrics=['accuracy',f1_m])\n",
    "    else:\n",
    "        model=tf.keras.models.Sequential([\n",
    "        tf.keras.layers.Embedding(len(tokenizer.word_index),16,input_length=max_len),\n",
    "        tf.keras.layers.Bidirectional(tf.keras.layers.LSTM(64,activation='tanh',return_sequences=True)),\n",
    "        tf.keras.layers.Flatten(),\n",
    "        tf.keras.layers.Dense(3,activation='softmax')\n",
    "        ])\n",
    "        model.compile(loss='categorical_crossentropy',optimizer=tf.keras.optimizers.Adam(),metrics=['accuracy',f1_m])\n",
    "    model.summary()\n",
    "    return model\n"
   ]
  },
  {
   "attachments": {},
   "cell_type": "markdown",
   "metadata": {},
   "source": [
    "### Inisialisasi callback Early Stopping"
   ]
  },
  {
   "cell_type": "code",
   "execution_count": 15,
   "metadata": {},
   "outputs": [],
   "source": [
    "callback = tf.keras.callbacks.EarlyStopping(\n",
    "    monitor=\"val_accuracy\",\n",
    "    min_delta=0,\n",
    "    patience=6,\n",
    "    verbose=1,\n",
    "    mode=\"auto\",\n",
    "    baseline=None,\n",
    "    restore_best_weights=True,\n",
    ")"
   ]
  },
  {
   "attachments": {},
   "cell_type": "markdown",
   "metadata": {},
   "source": [
    "### Function untuk melatih model kompleks"
   ]
  },
  {
   "cell_type": "code",
   "execution_count": 16,
   "metadata": {},
   "outputs": [],
   "source": [
    "def createComplexModel(skenario):\n",
    "    if skenario ==1:\n",
    "        model=tf.keras.models.Sequential([\n",
    "            tf.keras.layers.Embedding(len(tokenizer.word_index),128,input_length=max_len),\n",
    "            tf.keras.layers.LSTM(128,return_sequences=True,activation='relu',dropout=0.2),\n",
    "            tf.keras.layers.LSTM(128,return_sequences=True,activation='relu',dropout=0.2),\n",
    "            tf.keras.layers.LSTM(128,return_sequences=True,activation='relu',dropout=0.2),\n",
    "            tf.keras.layers.Flatten(),\n",
    "            tf.keras.layers.Dense(512,activation='relu'),\n",
    "            tf.keras.layers.Dropout(0.5),\n",
    "            tf.keras.layers.Dense(3, activation='softmax')\n",
    "        ])\n",
    "        model.compile(loss='categorical_crossentropy',optimizer=tf.keras.optimizers.RMSprop(),metrics=['accuracy',f1_m])\n",
    "    else:\n",
    "        model=tf.keras.models.Sequential([\n",
    "        tf.keras.layers.Embedding(len(tokenizer.word_index),128,input_length=max_len),\n",
    "        tf.keras.layers.Bidirectional(tf.keras.layers.LSTM(128,return_sequences=True,activation='relu',dropout=0.2)),\n",
    "        tf.keras.layers.Bidirectional(tf.keras.layers.LSTM(128,return_sequences=True,activation='relu',dropout=0.2)),\n",
    "        tf.keras.layers.Bidirectional(tf.keras.layers.LSTM(128,return_sequences=True,activation='relu',dropout=0.2)),\n",
    "        tf.keras.layers.Flatten(),\n",
    "        tf.keras.layers.Dense(512,activation='relu'),\n",
    "        tf.keras.layers.Dropout(0.5),\n",
    "        tf.keras.layers.Dense(3,activation='softmax')\n",
    "        ])\n",
    "        model.compile(loss='categorical_crossentropy',optimizer=tf.keras.optimizers.RMSprop(),metrics=['accuracy',f1_m])\n",
    "    model.summary()\n",
    "    return model\n"
   ]
  },
  {
   "attachments": {},
   "cell_type": "markdown",
   "metadata": {},
   "source": [
    "### Melatih model sederhana"
   ]
  },
  {
   "cell_type": "code",
   "execution_count": 21,
   "metadata": {},
   "outputs": [
    {
     "name": "stdout",
     "output_type": "stream",
     "text": [
      "Model: \"sequential_2\"\n",
      "_________________________________________________________________\n",
      " Layer (type)                Output Shape              Param #   \n",
      "=================================================================\n",
      " embedding_2 (Embedding)     (None, 15, 16)            111920    \n",
      "                                                                 \n",
      " lstm_2 (LSTM)               (None, 15, 64)            20736     \n",
      "                                                                 \n",
      " flatten_2 (Flatten)         (None, 960)               0         \n",
      "                                                                 \n",
      " dense_2 (Dense)             (None, 3)                 2883      \n",
      "                                                                 \n",
      "=================================================================\n",
      "Total params: 135,539\n",
      "Trainable params: 135,539\n",
      "Non-trainable params: 0\n",
      "_________________________________________________________________\n",
      "Epoch 1/20\n",
      "132/132 [==============================] - 3s 14ms/step - loss: 0.9194 - accuracy: 0.5296 - f1_m: 0.3343 - val_loss: 0.6229 - val_accuracy: 0.7591 - val_f1_m: 0.7483\n",
      "Epoch 2/20\n",
      "132/132 [==============================] - 1s 10ms/step - loss: 0.3967 - accuracy: 0.8591 - f1_m: 0.8537 - val_loss: 0.5084 - val_accuracy: 0.8081 - val_f1_m: 0.8061\n",
      "Epoch 3/20\n",
      "132/132 [==============================] - 1s 10ms/step - loss: 0.1678 - accuracy: 0.9473 - f1_m: 0.9445 - val_loss: 0.5631 - val_accuracy: 0.8102 - val_f1_m: 0.8161\n",
      "Epoch 4/20\n",
      "132/132 [==============================] - 1s 9ms/step - loss: 0.0862 - accuracy: 0.9763 - f1_m: 0.9769 - val_loss: 0.6804 - val_accuracy: 0.7996 - val_f1_m: 0.7981\n",
      "Epoch 5/20\n",
      "132/132 [==============================] - 1s 9ms/step - loss: 0.0480 - accuracy: 0.9874 - f1_m: 0.9880 - val_loss: 0.8228 - val_accuracy: 0.8166 - val_f1_m: 0.8155\n",
      "Epoch 6/20\n",
      "132/132 [==============================] - 1s 9ms/step - loss: 0.0331 - accuracy: 0.9919 - f1_m: 0.9918 - val_loss: 0.8553 - val_accuracy: 0.8038 - val_f1_m: 0.8068\n",
      "Epoch 7/20\n",
      "132/132 [==============================] - 1s 10ms/step - loss: 0.0326 - accuracy: 0.9912 - f1_m: 0.9912 - val_loss: 0.8511 - val_accuracy: 0.7846 - val_f1_m: 0.7878\n",
      "Epoch 8/20\n",
      "132/132 [==============================] - 1s 10ms/step - loss: 0.0234 - accuracy: 0.9945 - f1_m: 0.9942 - val_loss: 0.9945 - val_accuracy: 0.7910 - val_f1_m: 0.7905\n",
      "Epoch 9/20\n",
      "132/132 [==============================] - 1s 10ms/step - loss: 0.0150 - accuracy: 0.9967 - f1_m: 0.9966 - val_loss: 1.0743 - val_accuracy: 0.7761 - val_f1_m: 0.7754\n",
      "Epoch 10/20\n",
      "132/132 [==============================] - 1s 10ms/step - loss: 0.0114 - accuracy: 0.9969 - f1_m: 0.9972 - val_loss: 1.1847 - val_accuracy: 0.7868 - val_f1_m: 0.7892\n",
      "Epoch 11/20\n",
      "131/132 [============================>.] - ETA: 0s - loss: 0.0108 - accuracy: 0.9971 - f1_m: 0.9973Restoring model weights from the end of the best epoch: 5.\n",
      "132/132 [==============================] - 1s 9ms/step - loss: 0.0108 - accuracy: 0.9972 - f1_m: 0.9973 - val_loss: 1.4302 - val_accuracy: 0.8038 - val_f1_m: 0.8034\n",
      "Epoch 00011: early stopping\n",
      "Model: \"sequential_3\"\n",
      "_________________________________________________________________\n",
      " Layer (type)                Output Shape              Param #   \n",
      "=================================================================\n",
      " embedding_3 (Embedding)     (None, 15, 16)            111920    \n",
      "                                                                 \n",
      " bidirectional_1 (Bidirectio  (None, 15, 128)          41472     \n",
      " nal)                                                            \n",
      "                                                                 \n",
      " flatten_3 (Flatten)         (None, 1920)              0         \n",
      "                                                                 \n",
      " dense_3 (Dense)             (None, 3)                 5763      \n",
      "                                                                 \n",
      "=================================================================\n",
      "Total params: 159,155\n",
      "Trainable params: 159,155\n",
      "Non-trainable params: 0\n",
      "_________________________________________________________________\n",
      "Epoch 1/20\n",
      "132/132 [==============================] - 5s 18ms/step - loss: 0.9024 - accuracy: 0.5517 - f1_m: 0.3796 - val_loss: 0.6783 - val_accuracy: 0.7122 - val_f1_m: 0.6736\n",
      "Epoch 2/20\n",
      "132/132 [==============================] - 2s 13ms/step - loss: 0.3616 - accuracy: 0.8657 - f1_m: 0.8641 - val_loss: 0.5210 - val_accuracy: 0.7953 - val_f1_m: 0.7883\n",
      "Epoch 3/20\n",
      "132/132 [==============================] - 2s 13ms/step - loss: 0.1307 - accuracy: 0.9651 - f1_m: 0.9642 - val_loss: 0.5642 - val_accuracy: 0.8060 - val_f1_m: 0.8006\n",
      "Epoch 4/20\n",
      "132/132 [==============================] - 2s 14ms/step - loss: 0.0701 - accuracy: 0.9817 - f1_m: 0.9816 - val_loss: 0.6874 - val_accuracy: 0.8124 - val_f1_m: 0.8163\n",
      "Epoch 5/20\n",
      "132/132 [==============================] - 2s 13ms/step - loss: 0.0424 - accuracy: 0.9893 - f1_m: 0.9895 - val_loss: 0.7486 - val_accuracy: 0.7825 - val_f1_m: 0.7808\n",
      "Epoch 6/20\n",
      "132/132 [==============================] - 2s 13ms/step - loss: 0.0305 - accuracy: 0.9934 - f1_m: 0.9934 - val_loss: 0.7447 - val_accuracy: 0.8081 - val_f1_m: 0.8051\n",
      "Epoch 7/20\n",
      "132/132 [==============================] - 2s 13ms/step - loss: 0.0207 - accuracy: 0.9957 - f1_m: 0.9957 - val_loss: 0.7493 - val_accuracy: 0.7974 - val_f1_m: 0.7920\n",
      "Epoch 8/20\n",
      "132/132 [==============================] - 2s 13ms/step - loss: 0.0207 - accuracy: 0.9967 - f1_m: 0.9964 - val_loss: 0.7823 - val_accuracy: 0.8209 - val_f1_m: 0.8155\n",
      "Epoch 9/20\n",
      "132/132 [==============================] - 2s 14ms/step - loss: 0.0181 - accuracy: 0.9950 - f1_m: 0.9950 - val_loss: 0.8403 - val_accuracy: 0.8081 - val_f1_m: 0.8084\n",
      "Epoch 10/20\n",
      "132/132 [==============================] - 2s 13ms/step - loss: 0.0108 - accuracy: 0.9976 - f1_m: 0.9976 - val_loss: 1.0182 - val_accuracy: 0.8102 - val_f1_m: 0.8102\n",
      "Epoch 11/20\n",
      "132/132 [==============================] - 2s 13ms/step - loss: 0.0085 - accuracy: 0.9974 - f1_m: 0.9975 - val_loss: 0.9033 - val_accuracy: 0.8017 - val_f1_m: 0.8026\n",
      "Epoch 12/20\n",
      "132/132 [==============================] - 2s 14ms/step - loss: 0.0096 - accuracy: 0.9981 - f1_m: 0.9980 - val_loss: 1.1531 - val_accuracy: 0.7996 - val_f1_m: 0.7980\n",
      "Epoch 13/20\n",
      "132/132 [==============================] - 2s 13ms/step - loss: 0.0091 - accuracy: 0.9969 - f1_m: 0.9969 - val_loss: 1.5010 - val_accuracy: 0.7719 - val_f1_m: 0.7702\n",
      "Epoch 14/20\n",
      "131/132 [============================>.] - ETA: 0s - loss: 0.0166 - accuracy: 0.9938 - f1_m: 0.9939Restoring model weights from the end of the best epoch: 8.\n",
      "132/132 [==============================] - 2s 13ms/step - loss: 0.0171 - accuracy: 0.9936 - f1_m: 0.9936 - val_loss: 1.0164 - val_accuracy: 0.7932 - val_f1_m: 0.7925\n",
      "Epoch 00014: early stopping\n"
     ]
    }
   ],
   "source": [
    "result=[]\n",
    "models=[]\n",
    "for i in range(1,3):\n",
    "    model=createSimpleModel(i)\n",
    "    history=model.fit(x_train,y_train,epochs=20,validation_split=0.1,callbacks=[callback])\n",
    "    models.append(model)\n",
    "    result.append(history)"
   ]
  },
  {
   "attachments": {},
   "cell_type": "markdown",
   "metadata": {},
   "source": [
    "### Visualisasi hasil training model sederhana"
   ]
  },
  {
   "cell_type": "code",
   "execution_count": 23,
   "metadata": {},
   "outputs": [
    {
     "data": {
      "image/png": "[encoded data removed]",
      "text/plain": [
       "<Figure size 640x480 with 1 Axes>"
      ]
     },
     "metadata": {},
     "output_type": "display_data"
    },
    {
     "data": {
      "image/png": "[encoded data removed]",
      "text/plain": [
       "<Figure size 640x480 with 1 Axes>"
      ]
     },
     "metadata": {},
     "output_type": "display_data"
    },
    {
     "data": {
      "image/png": "[encoded data removed]",
      "text/plain": [
       "<Figure size 640x480 with 1 Axes>"
      ]
     },
     "metadata": {},
     "output_type": "display_data"
    }
   ],
   "source": [
    "def compareAccuracyArchitecture(result):\n",
    "    plt.plot(result[0].history['accuracy'],color='r',label='LSTM accuracy')\n",
    "    plt.plot(result[1].history['accuracy'],color='g',label='BiLSTM accuracy')\n",
    "    plt.plot(result[0].history['val_accuracy'],color='y',label='LSTM Validation accuracy')\n",
    "    plt.plot(result[1].history['val_accuracy'],color='b',label='BiLSTM Validation accuracy')\n",
    "    plt.xlabel(\"Epochs\")\n",
    "    plt.ylabel(\"Value\")\n",
    "    plt.title(\"LSTM and BiLSTM Accuracy\")\n",
    "    plt.legend()\n",
    "    plt.show()\n",
    "compareAccuracyArchitecture(result)\n",
    "def comparef1scoreArchitecture(result):\n",
    "    plt.plot(result[0].history['f1_m'],color='r',label='LSTM F1 Score')\n",
    "    plt.plot(result[1].history['f1_m'],color='g',label='BiLSTM F1 Score')\n",
    "    plt.plot(result[0].history['val_f1_m'],color='y',label='LSTM Validation F1 Score')\n",
    "    plt.plot(result[1].history['val_f1_m'],color='b',label='BiLSTM Validation F1 Score')\n",
    "    plt.xlabel(\"Epochs\")\n",
    "    plt.ylabel(\"Value\")\n",
    "    plt.title(\"LSTM and BiLSTM F1 Score\")\n",
    "    plt.legend()\n",
    "    plt.show()\n",
    "comparef1scoreArchitecture(result)\n",
    "def compareLossArchitecture(result):\n",
    "    plt.plot(result[0].history['loss'],color='r',label='LSTM Loss')\n",
    "    plt.plot(result[1].history['loss'],color='g',label='BiLSTM Loss')\n",
    "    plt.plot(result[0].history['val_loss'],color='y',label='LSTM Validation Loss')\n",
    "    plt.plot(result[1].history['val_loss'],color='b',label='BiLSTM Validation Loss')\n",
    "    plt.xlabel(\"Epochs\")\n",
    "    plt.ylabel(\"Value\")\n",
    "    plt.title(\"LSTM and BiLSTM Loss\")\n",
    "    plt.legend()\n",
    "    plt.show()\n",
    "compareLossArchitecture(result)"
   ]
  },
  {
   "attachments": {},
   "cell_type": "markdown",
   "metadata": {},
   "source": [
    "### Evaluasi model sederhana"
   ]
  },
  {
   "cell_type": "code",
   "execution_count": 24,
   "metadata": {},
   "outputs": [
    {
     "name": "stdout",
     "output_type": "stream",
     "text": [
      "17/17 [==============================] - 0s 6ms/step - loss: 0.9279 - accuracy: 0.7831 - f1_m: 0.7868\n",
      "17/17 [==============================] - 0s 8ms/step - loss: 0.7966 - accuracy: 0.8157 - f1_m: 0.8197\n"
     ]
    }
   ],
   "source": [
    "for item in models:\n",
    "    temp=item.evaluate(x_test,y_test)\n",
    "    temp"
   ]
  },
  {
   "attachments": {},
   "cell_type": "markdown",
   "metadata": {},
   "source": [
    "### Save model sederhana"
   ]
  },
  {
   "cell_type": "code",
   "execution_count": 25,
   "metadata": {},
   "outputs": [],
   "source": [
    "# models[0].save('./Model/Simple/Architecture/lstm.h5')\n",
    "# models[1].save('./Model/Simple/Architecture/bilstm.h5')"
   ]
  },
  {
   "attachments": {},
   "cell_type": "markdown",
   "metadata": {},
   "source": [
    "### Load and Testing Model"
   ]
  },
  {
   "cell_type": "code",
   "execution_count": 26,
   "metadata": {},
   "outputs": [
    {
     "name": "stdout",
     "output_type": "stream",
     "text": [
      "17/17 [==============================] - 1s 7ms/step - loss: 0.9279 - accuracy: 0.7831 - f1_m: 0.7868\n"
     ]
    },
    {
     "data": {
      "text/plain": [
       "[0.9279114603996277, 0.7831094264984131, 0.786816418170929]"
      ]
     },
     "execution_count": 26,
     "metadata": {},
     "output_type": "execute_result"
    }
   ],
   "source": [
    "lstm_model=tf.keras.models.load_model('./Model/Simple/Architecture/lstm.h5',custom_objects={'f1_m':f1_m})\n",
    "lstm_model.evaluate(x_test,y_test)"
   ]
  },
  {
   "cell_type": "code",
   "execution_count": 27,
   "metadata": {},
   "outputs": [
    {
     "name": "stdout",
     "output_type": "stream",
     "text": [
      "17/17 [==============================] - 1s 9ms/step - loss: 0.7966 - accuracy: 0.8157 - f1_m: 0.8197\n"
     ]
    },
    {
     "data": {
      "text/plain": [
       "[0.7966405749320984, 0.8157389760017395, 0.8197032809257507]"
      ]
     },
     "execution_count": 27,
     "metadata": {},
     "output_type": "execute_result"
    }
   ],
   "source": [
    "bi_lstm_model=tf.keras.models.load_model('./Model/Simple/Architecture/bilstm.h5',custom_objects={'f1_m':f1_m})\n",
    "bi_lstm_model.evaluate(x_test,y_test)"
   ]
  },
  {
   "attachments": {},
   "cell_type": "markdown",
   "metadata": {},
   "source": [
    "### Confusion Matrix skenario sederhana"
   ]
  },
  {
   "cell_type": "code",
   "execution_count": 20,
   "metadata": {},
   "outputs": [
    {
     "data": {
      "image/png": "[encoded data removed]",
      "text/plain": [
       "<Figure size 640x480 with 2 Axes>"
      ]
     },
     "metadata": {},
     "output_type": "display_data"
    },
    {
     "data": {
      "image/png": "[encoded data removed]",
      "text/plain": [
       "<Figure size 640x480 with 2 Axes>"
      ]
     },
     "metadata": {},
     "output_type": "display_data"
    }
   ],
   "source": [
    "from sklearn.metrics import confusion_matrix, ConfusionMatrixDisplay\n",
    "import numpy as np\n",
    "for item in models:\n",
    "    predict=item.predict(x_test)\n",
    "    confusion=confusion_matrix(np.argmax(y_test,axis=1),np.argmax(predict,axis=1))\n",
    "    display=ConfusionMatrixDisplay(confusion_matrix=confusion)\n",
    "    display.plot()"
   ]
  },
  {
   "attachments": {},
   "cell_type": "markdown",
   "metadata": {},
   "source": [
    "### Melatih model skenario kompleks"
   ]
  },
  {
   "cell_type": "code",
   "execution_count": 17,
   "metadata": {},
   "outputs": [
    {
     "name": "stdout",
     "output_type": "stream",
     "text": [
      "WARNING:tensorflow:Layer lstm will not use cuDNN kernels since it doesn't meet the criteria. It will use a generic GPU kernel as fallback when running on GPU.\n",
      "WARNING:tensorflow:Layer lstm_1 will not use cuDNN kernels since it doesn't meet the criteria. It will use a generic GPU kernel as fallback when running on GPU.\n",
      "WARNING:tensorflow:Layer lstm_2 will not use cuDNN kernels since it doesn't meet the criteria. It will use a generic GPU kernel as fallback when running on GPU.\n",
      "Model: \"sequential\"\n",
      "_________________________________________________________________\n",
      " Layer (type)                Output Shape              Param #   \n",
      "=================================================================\n",
      " embedding (Embedding)       (None, 15, 128)           895360    \n",
      "                                                                 \n",
      " lstm (LSTM)                 (None, 15, 128)           131584    \n",
      "                                                                 \n",
      " lstm_1 (LSTM)               (None, 15, 128)           131584    \n",
      "                                                                 \n",
      " lstm_2 (LSTM)               (None, 15, 128)           131584    \n",
      "                                                                 \n",
      " flatten (Flatten)           (None, 1920)              0         \n",
      "                                                                 \n",
      " dense (Dense)               (None, 512)               983552    \n",
      "                                                                 \n",
      " dropout (Dropout)           (None, 512)               0         \n",
      "                                                                 \n",
      " dense_1 (Dense)             (None, 3)                 1539      \n",
      "                                                                 \n",
      "=================================================================\n",
      "Total params: 2,275,203\n",
      "Trainable params: 2,275,203\n",
      "Non-trainable params: 0\n",
      "_________________________________________________________________\n",
      "Epoch 1/20\n",
      "132/132 [==============================] - 30s 168ms/step - loss: 0.8826 - accuracy: 0.5780 - f1_m: 0.4476 - val_loss: 0.6751 - val_accuracy: 0.6951 - val_f1_m: 0.6839\n",
      "Epoch 2/20\n",
      "132/132 [==============================] - 18s 139ms/step - loss: 0.5392 - accuracy: 0.7754 - f1_m: 0.7578 - val_loss: 0.5990 - val_accuracy: 0.7569 - val_f1_m: 0.7544\n",
      "Epoch 3/20\n",
      "132/132 [==============================] - 18s 140ms/step - loss: 0.3994 - accuracy: 0.8612 - f1_m: 0.8589 - val_loss: 0.5815 - val_accuracy: 0.7463 - val_f1_m: 0.7354\n",
      "Epoch 4/20\n",
      "132/132 [==============================] - 19s 141ms/step - loss: 0.2664 - accuracy: 0.9096 - f1_m: 0.9097 - val_loss: 0.5718 - val_accuracy: 0.7868 - val_f1_m: 0.7821\n",
      "Epoch 5/20\n",
      "132/132 [==============================] - 19s 144ms/step - loss: 0.1737 - accuracy: 0.9450 - f1_m: 0.9449 - val_loss: 0.5495 - val_accuracy: 0.8209 - val_f1_m: 0.8173\n",
      "Epoch 6/20\n",
      "132/132 [==============================] - 19s 143ms/step - loss: 0.1334 - accuracy: 0.9630 - f1_m: 0.9642 - val_loss: 0.5946 - val_accuracy: 0.7974 - val_f1_m: 0.8022\n",
      "Epoch 7/20\n",
      "132/132 [==============================] - 19s 143ms/step - loss: 0.1043 - accuracy: 0.9694 - f1_m: 0.9686 - val_loss: 0.7918 - val_accuracy: 0.7868 - val_f1_m: 0.7777\n",
      "Epoch 8/20\n",
      "132/132 [==============================] - 19s 142ms/step - loss: 0.0764 - accuracy: 0.9758 - f1_m: 0.9766 - val_loss: 0.8892 - val_accuracy: 0.8465 - val_f1_m: 0.8436\n",
      "Epoch 9/20\n",
      "132/132 [==============================] - 21s 157ms/step - loss: 0.0619 - accuracy: 0.9815 - f1_m: 0.9818 - val_loss: 0.9099 - val_accuracy: 0.8188 - val_f1_m: 0.8195\n",
      "Epoch 10/20\n",
      "132/132 [==============================] - 26s 196ms/step - loss: 0.0784 - accuracy: 0.9832 - f1_m: 0.9842 - val_loss: 0.8611 - val_accuracy: 0.8081 - val_f1_m: 0.8072\n",
      "Epoch 11/20\n",
      "132/132 [==============================] - 30s 225ms/step - loss: 0.0474 - accuracy: 0.9855 - f1_m: 0.9857 - val_loss: 1.0233 - val_accuracy: 0.8124 - val_f1_m: 0.8187\n",
      "Epoch 12/20\n",
      "132/132 [==============================] - 23s 173ms/step - loss: 0.0468 - accuracy: 0.9881 - f1_m: 0.9881 - val_loss: 1.1156 - val_accuracy: 0.8294 - val_f1_m: 0.8308\n",
      "Epoch 13/20\n",
      "132/132 [==============================] - 23s 175ms/step - loss: 0.0429 - accuracy: 0.9881 - f1_m: 0.9880 - val_loss: 0.9237 - val_accuracy: 0.8273 - val_f1_m: 0.8310\n",
      "Epoch 14/20\n",
      "132/132 [==============================] - ETA: 0s - loss: 0.0468 - accuracy: 0.9891 - f1_m: 0.9891Restoring model weights from the end of the best epoch: 8.\n",
      "132/132 [==============================] - 23s 172ms/step - loss: 0.0468 - accuracy: 0.9891 - f1_m: 0.9891 - val_loss: 0.8013 - val_accuracy: 0.8145 - val_f1_m: 0.8125\n",
      "Epoch 00014: early stopping\n",
      "WARNING:tensorflow:Layer lstm_3 will not use cuDNN kernels since it doesn't meet the criteria. It will use a generic GPU kernel as fallback when running on GPU.\n",
      "WARNING:tensorflow:Layer lstm_3 will not use cuDNN kernels since it doesn't meet the criteria. It will use a generic GPU kernel as fallback when running on GPU.\n",
      "WARNING:tensorflow:Layer lstm_3 will not use cuDNN kernels since it doesn't meet the criteria. It will use a generic GPU kernel as fallback when running on GPU.\n",
      "WARNING:tensorflow:Layer lstm_4 will not use cuDNN kernels since it doesn't meet the criteria. It will use a generic GPU kernel as fallback when running on GPU.\n",
      "WARNING:tensorflow:Layer lstm_4 will not use cuDNN kernels since it doesn't meet the criteria. It will use a generic GPU kernel as fallback when running on GPU.\n",
      "WARNING:tensorflow:Layer lstm_4 will not use cuDNN kernels since it doesn't meet the criteria. It will use a generic GPU kernel as fallback when running on GPU.\n",
      "WARNING:tensorflow:Layer lstm_5 will not use cuDNN kernels since it doesn't meet the criteria. It will use a generic GPU kernel as fallback when running on GPU.\n",
      "WARNING:tensorflow:Layer lstm_5 will not use cuDNN kernels since it doesn't meet the criteria. It will use a generic GPU kernel as fallback when running on GPU.\n",
      "WARNING:tensorflow:Layer lstm_5 will not use cuDNN kernels since it doesn't meet the criteria. It will use a generic GPU kernel as fallback when running on GPU.\n",
      "Model: \"sequential_1\"\n",
      "_________________________________________________________________\n",
      " Layer (type)                Output Shape              Param #   \n",
      "=================================================================\n",
      " embedding_1 (Embedding)     (None, 15, 128)           895360    \n",
      "                                                                 \n",
      " bidirectional (Bidirectiona  (None, 15, 256)          263168    \n",
      " l)                                                              \n",
      "                                                                 \n",
      " bidirectional_1 (Bidirectio  (None, 15, 256)          394240    \n",
      " nal)                                                            \n",
      "                                                                 \n",
      " bidirectional_2 (Bidirectio  (None, 15, 256)          394240    \n",
      " nal)                                                            \n",
      "                                                                 \n",
      " flatten_1 (Flatten)         (None, 3840)              0         \n",
      "                                                                 \n",
      " dense_2 (Dense)             (None, 512)               1966592   \n",
      "                                                                 \n",
      " dropout_1 (Dropout)         (None, 512)               0         \n",
      "                                                                 \n",
      " dense_3 (Dense)             (None, 3)                 1539      \n",
      "                                                                 \n",
      "=================================================================\n",
      "Total params: 3,915,139\n",
      "Trainable params: 3,915,139\n",
      "Non-trainable params: 0\n",
      "_________________________________________________________________\n",
      "Epoch 1/20\n",
      "132/132 [==============================] - 54s 354ms/step - loss: 0.8161 - accuracy: 0.6300 - f1_m: 0.5419 - val_loss: 0.7054 - val_accuracy: 0.7463 - val_f1_m: 0.6653\n",
      "Epoch 2/20\n",
      "132/132 [==============================] - 44s 335ms/step - loss: 0.4924 - accuracy: 0.8143 - f1_m: 0.7965 - val_loss: 0.5315 - val_accuracy: 0.8124 - val_f1_m: 0.8160\n",
      "Epoch 3/20\n",
      "132/132 [==============================] - 43s 329ms/step - loss: 0.2863 - accuracy: 0.9125 - f1_m: 0.9109 - val_loss: 0.5510 - val_accuracy: 0.8060 - val_f1_m: 0.8023\n",
      "Epoch 4/20\n",
      "132/132 [==============================] - 42s 320ms/step - loss: 0.1668 - accuracy: 0.9504 - f1_m: 0.9505 - val_loss: 0.6153 - val_accuracy: 0.8337 - val_f1_m: 0.8369\n",
      "Epoch 5/20\n",
      "132/132 [==============================] - 43s 325ms/step - loss: 0.1154 - accuracy: 0.9673 - f1_m: 0.9676 - val_loss: 0.6305 - val_accuracy: 0.8443 - val_f1_m: 0.8450\n",
      "Epoch 6/20\n",
      "132/132 [==============================] - 41s 313ms/step - loss: 0.0871 - accuracy: 0.9784 - f1_m: 0.9773 - val_loss: 0.7637 - val_accuracy: 0.8188 - val_f1_m: 0.8205\n",
      "Epoch 7/20\n",
      "132/132 [==============================] - 41s 312ms/step - loss: 0.0688 - accuracy: 0.9827 - f1_m: 0.9829 - val_loss: 0.9280 - val_accuracy: 0.8188 - val_f1_m: 0.8118\n",
      "Epoch 8/20\n",
      "132/132 [==============================] - 41s 313ms/step - loss: 0.0510 - accuracy: 0.9855 - f1_m: 0.9861 - val_loss: 1.0714 - val_accuracy: 0.7655 - val_f1_m: 0.7668\n",
      "Epoch 9/20\n",
      "132/132 [==============================] - 43s 327ms/step - loss: 0.0457 - accuracy: 0.9870 - f1_m: 0.9877 - val_loss: 1.2016 - val_accuracy: 0.7996 - val_f1_m: 0.8055\n",
      "Epoch 10/20\n",
      "132/132 [==============================] - 44s 332ms/step - loss: 0.0381 - accuracy: 0.9896 - f1_m: 0.9900 - val_loss: 1.1702 - val_accuracy: 0.8145 - val_f1_m: 0.8108\n",
      "Epoch 11/20\n",
      "132/132 [==============================] - ETA: 0s - loss: 0.0414 - accuracy: 0.9900 - f1_m: 0.9904Restoring model weights from the end of the best epoch: 5.\n",
      "132/132 [==============================] - 43s 326ms/step - loss: 0.0414 - accuracy: 0.9900 - f1_m: 0.9904 - val_loss: 2.1339 - val_accuracy: 0.8380 - val_f1_m: 0.8369\n",
      "Epoch 00011: early stopping\n"
     ]
    }
   ],
   "source": [
    "result_complex=[]\n",
    "models_complex=[]\n",
    "for i in range(1,3):\n",
    "    model=createComplexModel(i)\n",
    "    history=model.fit(x_train,y_train,epochs=20,validation_split=0.1,callbacks=[callback])\n",
    "    models_complex.append(model)\n",
    "    result_complex.append(history)"
   ]
  },
  {
   "attachments": {},
   "cell_type": "markdown",
   "metadata": {},
   "source": [
    "### Visualisasi hasil training model kompleks"
   ]
  },
  {
   "cell_type": "code",
   "execution_count": 18,
   "metadata": {},
   "outputs": [
    {
     "data": {
      "image/png": "[encoded data removed]",
      "text/plain": [
       "<Figure size 640x480 with 1 Axes>"
      ]
     },
     "metadata": {},
     "output_type": "display_data"
    },
    {
     "data": {
      "image/png": "[encoded data removed]",
      "text/plain": [
       "<Figure size 640x480 with 1 Axes>"
      ]
     },
     "metadata": {},
     "output_type": "display_data"
    },
    {
     "data": {
      "image/png": "[encoded data removed]",
      "text/plain": [
       "<Figure size 640x480 with 1 Axes>"
      ]
     },
     "metadata": {},
     "output_type": "display_data"
    }
   ],
   "source": [
    "def compareAccuracyArchitecture(result):\n",
    "    plt.plot(result[0].history['accuracy'],color='r',label='LSTM accuracy')\n",
    "    plt.plot(result[1].history['accuracy'],color='g',label='BiLSTM accuracy')\n",
    "    plt.plot(result[0].history['val_accuracy'],color='y',label='LSTM Validation accuracy')\n",
    "    plt.plot(result[1].history['val_accuracy'],color='b',label='BiLSTM Validation accuracy')\n",
    "    plt.xlabel(\"Epochs\")\n",
    "    plt.ylabel(\"Value\")\n",
    "    plt.title(\"LSTM and BiLSTM Accuracy\")\n",
    "    plt.legend()\n",
    "    plt.show()\n",
    "compareAccuracyArchitecture(result_complex)\n",
    "def comparef1scoreArchitecture(result):\n",
    "    plt.plot(result[0].history['f1_m'],color='r',label='LSTM F1 Score')\n",
    "    plt.plot(result[1].history['f1_m'],color='g',label='BiLSTM F1 Score')\n",
    "    plt.plot(result[0].history['val_f1_m'],color='y',label='LSTM Validation F1 Score')\n",
    "    plt.plot(result[1].history['val_f1_m'],color='b',label='BiLSTM Validation F1 Score')\n",
    "    plt.xlabel(\"Epochs\")\n",
    "    plt.ylabel(\"Value\")\n",
    "    plt.title(\"LSTM and BiLSTM F1 Score\")\n",
    "    plt.legend()\n",
    "    plt.show()\n",
    "comparef1scoreArchitecture(result_complex)\n",
    "def compareLossArchitecture(result):\n",
    "    plt.plot(result[0].history['loss'],color='r',label='LSTM Loss')\n",
    "    plt.plot(result[1].history['loss'],color='g',label='BiLSTM Loss')\n",
    "    plt.plot(result[0].history['val_loss'],color='y',label='LSTM Validation Loss')\n",
    "    plt.plot(result[1].history['val_loss'],color='b',label='BiLSTM Validation Loss')\n",
    "    plt.xlabel(\"Epochs\")\n",
    "    plt.ylabel(\"Value\")\n",
    "    plt.title(\"LSTM and BiLSTM Loss\")\n",
    "    plt.legend()\n",
    "    plt.show()\n",
    "compareLossArchitecture(result_complex)"
   ]
  },
  {
   "attachments": {},
   "cell_type": "markdown",
   "metadata": {},
   "source": [
    "### Confussion matrix model skenario kompleks"
   ]
  },
  {
   "cell_type": "code",
   "execution_count": 20,
   "metadata": {},
   "outputs": [
    {
     "data": {
      "image/png": "[encoded data removed]",
      "text/plain": [
       "<Figure size 640x480 with 2 Axes>"
      ]
     },
     "metadata": {},
     "output_type": "display_data"
    },
    {
     "data": {
      "image/png": "[encoded data removed]",
      "text/plain": [
       "<Figure size 640x480 with 2 Axes>"
      ]
     },
     "metadata": {},
     "output_type": "display_data"
    }
   ],
   "source": [
    "from sklearn.metrics import confusion_matrix, ConfusionMatrixDisplay\n",
    "import numpy as np\n",
    "for item in models_complex:\n",
    "    predict=item.predict(x_test)\n",
    "    confusion=confusion_matrix(np.argmax(y_test,axis=1),np.argmax(predict,axis=1))\n",
    "    display=ConfusionMatrixDisplay(confusion_matrix=confusion)\n",
    "    display.plot()"
   ]
  },
  {
   "attachments": {},
   "cell_type": "markdown",
   "metadata": {},
   "source": [
    "### Evaluasi model kompleks"
   ]
  },
  {
   "cell_type": "code",
   "execution_count": 19,
   "metadata": {},
   "outputs": [
    {
     "name": "stdout",
     "output_type": "stream",
     "text": [
      "17/17 [==============================] - 1s 28ms/step - loss: 0.9005 - accuracy: 0.8580 - f1_m: 0.8632\n",
      "17/17 [==============================] - 1s 58ms/step - loss: 0.5886 - accuracy: 0.8752 - f1_m: 0.8778\n"
     ]
    }
   ],
   "source": [
    "for item in models_complex:\n",
    "    temp=item.evaluate(x_test,y_test)\n",
    "    temp"
   ]
  },
  {
   "cell_type": "code",
   "execution_count": 22,
   "metadata": {},
   "outputs": [],
   "source": [
    "# models_complex[0].save('./Model/Complex/Architecture/lstm.h5')\n",
    "# models_complex[1].save('./Model/Complex/Architecture/bilstm.h5')"
   ]
  },
  {
   "cell_type": "code",
   "execution_count": 28,
   "metadata": {},
   "outputs": [
    {
     "name": "stdout",
     "output_type": "stream",
     "text": [
      "WARNING:tensorflow:Layer lstm_2 will not use cuDNN kernels since it doesn't meet the criteria. It will use a generic GPU kernel as fallback when running on GPU.\n",
      "WARNING:tensorflow:Layer lstm_3 will not use cuDNN kernels since it doesn't meet the criteria. It will use a generic GPU kernel as fallback when running on GPU.\n",
      "WARNING:tensorflow:Layer lstm_4 will not use cuDNN kernels since it doesn't meet the criteria. It will use a generic GPU kernel as fallback when running on GPU.\n",
      "17/17 [==============================] - 1s 23ms/step - loss: 0.5291 - accuracy: 0.8369 - f1_m: 0.8385\n"
     ]
    },
    {
     "data": {
      "text/plain": [
       "[0.5290623307228088, 0.8368521928787231, 0.8384764194488525]"
      ]
     },
     "execution_count": 28,
     "metadata": {},
     "output_type": "execute_result"
    }
   ],
   "source": [
    "lstm_model=tf.keras.models.load_model('./Model/Complex/Architecture/lstm.h5',custom_objects={'f1_m':f1_m})\n",
    "lstm_model.evaluate(x_test,y_test)"
   ]
  },
  {
   "cell_type": "code",
   "execution_count": 29,
   "metadata": {},
   "outputs": [
    {
     "name": "stdout",
     "output_type": "stream",
     "text": [
      "WARNING:tensorflow:Layer lstm_5 will not use cuDNN kernels since it doesn't meet the criteria. It will use a generic GPU kernel as fallback when running on GPU.\n",
      "WARNING:tensorflow:Layer lstm_5 will not use cuDNN kernels since it doesn't meet the criteria. It will use a generic GPU kernel as fallback when running on GPU.\n",
      "WARNING:tensorflow:Layer lstm_5 will not use cuDNN kernels since it doesn't meet the criteria. It will use a generic GPU kernel as fallback when running on GPU.\n",
      "WARNING:tensorflow:Layer lstm_6 will not use cuDNN kernels since it doesn't meet the criteria. It will use a generic GPU kernel as fallback when running on GPU.\n",
      "WARNING:tensorflow:Layer lstm_6 will not use cuDNN kernels since it doesn't meet the criteria. It will use a generic GPU kernel as fallback when running on GPU.\n",
      "WARNING:tensorflow:Layer lstm_6 will not use cuDNN kernels since it doesn't meet the criteria. It will use a generic GPU kernel as fallback when running on GPU.\n",
      "WARNING:tensorflow:Layer lstm_7 will not use cuDNN kernels since it doesn't meet the criteria. It will use a generic GPU kernel as fallback when running on GPU.\n",
      "WARNING:tensorflow:Layer lstm_7 will not use cuDNN kernels since it doesn't meet the criteria. It will use a generic GPU kernel as fallback when running on GPU.\n",
      "WARNING:tensorflow:Layer lstm_7 will not use cuDNN kernels since it doesn't meet the criteria. It will use a generic GPU kernel as fallback when running on GPU.\n",
      "17/17 [==============================] - 1s 29ms/step - loss: 0.4158 - accuracy: 0.8637 - f1_m: 0.8598\n"
     ]
    },
    {
     "data": {
      "text/plain": [
       "[0.415822833776474, 0.863723635673523, 0.8597713708877563]"
      ]
     },
     "execution_count": 29,
     "metadata": {},
     "output_type": "execute_result"
    }
   ],
   "source": [
    "bi_lstm_model=tf.keras.models.load_model('./Model/Complex/Architecture/bilstm.h5',custom_objects={'f1_m':f1_m})\n",
    "bi_lstm_model.evaluate(x_test,y_test)"
   ]
  },
  {
   "cell_type": "code",
   "execution_count": 36,
   "metadata": {},
   "outputs": [],
   "source": [
    "np.save('./Sidang/x_test.npy',x_test)\n",
    "np.save('./Sidang/y_test.npy',y_test)"
   ]
  },
  {
   "cell_type": "code",
   "execution_count": 177,
   "metadata": {},
   "outputs": [],
   "source": [
    "def createComplexModel(skenario):\n",
    "    if skenario ==1:\n",
    "        model=tf.keras.models.Sequential([\n",
    "            tf.keras.layers.Embedding(len(tokenizer.word_index),128,input_length=max_len),\n",
    "            tf.keras.layers.LSTM(128,return_sequences=True,activation='tanh',dropout=0.2),\n",
    "            tf.keras.layers.LSTM(128,return_sequences=True,activation='tanh',dropout=0.2),\n",
    "            tf.keras.layers.LSTM(128,return_sequences=True,activation='tanh',dropout=0.2),\n",
    "            tf.keras.layers.Flatten(),\n",
    "            tf.keras.layers.Dense(512,activation='relu'),\n",
    "            tf.keras.layers.Dropout(0.5),\n",
    "            tf.keras.layers.Dense(3, activation='softmax')\n",
    "        ])\n",
    "        model.compile(loss='categorical_crossentropy',optimizer=tf.keras.optimizers.Adam(),metrics=['accuracy',f1_m])\n",
    "    else:\n",
    "        model=tf.keras.models.Sequential([\n",
    "        tf.keras.layers.Embedding(len(tokenizer.word_index),128,input_length=max_len),\n",
    "        tf.keras.layers.Bidirectional(tf.keras.layers.LSTM(128,return_sequences=True,activation='tanh',dropout=0.2)),\n",
    "        tf.keras.layers.Bidirectional(tf.keras.layers.LSTM(128,return_sequences=True,activation='tanh',dropout=0.2)),\n",
    "        tf.keras.layers.Bidirectional(tf.keras.layers.LSTM(128,return_sequences=True,activation='tanh',dropout=0.2)),\n",
    "        tf.keras.layers.Flatten(),\n",
    "        tf.keras.layers.Dense(512,activation='relu'),\n",
    "        tf.keras.layers.Dropout(0.5),\n",
    "        tf.keras.layers.Dense(3,activation='softmax')\n",
    "        ])\n",
    "        model.compile(loss='categorical_crossentropy',optimizer=tf.keras.optimizers.Adam(),metrics=['accuracy',f1_m])\n",
    "    model.summary()\n",
    "    return model\n"
   ]
  },
  {
   "cell_type": "code",
   "execution_count": 178,
   "metadata": {},
   "outputs": [
    {
     "name": "stdout",
     "output_type": "stream",
     "text": [
      "Model: \"sequential_6\"\n",
      "_________________________________________________________________\n",
      " Layer (type)                Output Shape              Param #   \n",
      "=================================================================\n",
      " embedding_6 (Embedding)     (None, 15, 16)            111920    \n",
      "                                                                 \n",
      " lstm_12 (LSTM)              (None, 64)                20736     \n",
      "                                                                 \n",
      " dense_9 (Dense)             (None, 3)                 195       \n",
      "                                                                 \n",
      "=================================================================\n",
      "Total params: 132,851\n",
      "Trainable params: 132,851\n",
      "Non-trainable params: 0\n",
      "_________________________________________________________________\n",
      "Epoch 1/20\n",
      "132/132 [==============================] - 3s 11ms/step - loss: 0.9443 - accuracy: 0.5140 - f1_m: 0.2948 - val_loss: 0.7974 - val_accuracy: 0.6375 - val_f1_m: 0.6092\n",
      "Epoch 2/20\n",
      "132/132 [==============================] - 1s 8ms/step - loss: 0.5657 - accuracy: 0.7438 - f1_m: 0.7369 - val_loss: 0.7131 - val_accuracy: 0.7122 - val_f1_m: 0.6984\n",
      "Epoch 3/20\n",
      "132/132 [==============================] - 1s 8ms/step - loss: 0.2899 - accuracy: 0.8959 - f1_m: 0.8944 - val_loss: 0.6468 - val_accuracy: 0.7910 - val_f1_m: 0.7905\n",
      "Epoch 4/20\n",
      "132/132 [==============================] - 1s 8ms/step - loss: 0.1538 - accuracy: 0.9519 - f1_m: 0.9511 - val_loss: 0.7797 - val_accuracy: 0.7740 - val_f1_m: 0.7707\n",
      "Epoch 5/20\n",
      "132/132 [==============================] - 1s 8ms/step - loss: 0.0971 - accuracy: 0.9720 - f1_m: 0.9721 - val_loss: 0.8737 - val_accuracy: 0.7783 - val_f1_m: 0.7813\n",
      "Epoch 6/20\n",
      "132/132 [==============================] - 1s 8ms/step - loss: 0.0731 - accuracy: 0.9824 - f1_m: 0.9811 - val_loss: 0.8087 - val_accuracy: 0.7996 - val_f1_m: 0.7999\n",
      "Epoch 7/20\n",
      "132/132 [==============================] - 1s 8ms/step - loss: 0.0598 - accuracy: 0.9846 - f1_m: 0.9854 - val_loss: 0.8616 - val_accuracy: 0.8038 - val_f1_m: 0.8029\n",
      "Epoch 8/20\n",
      "132/132 [==============================] - 1s 8ms/step - loss: 0.0424 - accuracy: 0.9891 - f1_m: 0.9895 - val_loss: 0.8565 - val_accuracy: 0.8124 - val_f1_m: 0.8109\n",
      "Epoch 9/20\n",
      "132/132 [==============================] - 1s 8ms/step - loss: 0.0451 - accuracy: 0.9893 - f1_m: 0.9889 - val_loss: 0.7652 - val_accuracy: 0.7846 - val_f1_m: 0.7803\n",
      "Epoch 10/20\n",
      "132/132 [==============================] - 1s 8ms/step - loss: 0.0331 - accuracy: 0.9922 - f1_m: 0.9923 - val_loss: 0.8652 - val_accuracy: 0.7932 - val_f1_m: 0.7962\n",
      "Epoch 11/20\n",
      "132/132 [==============================] - 1s 8ms/step - loss: 0.0235 - accuracy: 0.9938 - f1_m: 0.9938 - val_loss: 0.8706 - val_accuracy: 0.8017 - val_f1_m: 0.7980\n",
      "Epoch 12/20\n",
      "132/132 [==============================] - 1s 8ms/step - loss: 0.0258 - accuracy: 0.9929 - f1_m: 0.9932 - val_loss: 0.8588 - val_accuracy: 0.8017 - val_f1_m: 0.8034\n",
      "Epoch 13/20\n",
      "132/132 [==============================] - 1s 8ms/step - loss: 0.0236 - accuracy: 0.9941 - f1_m: 0.9938 - val_loss: 0.7391 - val_accuracy: 0.8230 - val_f1_m: 0.8237\n",
      "Epoch 14/20\n",
      "132/132 [==============================] - 1s 8ms/step - loss: 0.0145 - accuracy: 0.9969 - f1_m: 0.9972 - val_loss: 1.0081 - val_accuracy: 0.8038 - val_f1_m: 0.8028\n",
      "Epoch 15/20\n",
      "132/132 [==============================] - 1s 8ms/step - loss: 0.0130 - accuracy: 0.9969 - f1_m: 0.9967 - val_loss: 0.9592 - val_accuracy: 0.8145 - val_f1_m: 0.8145\n",
      "Epoch 16/20\n",
      "132/132 [==============================] - 1s 8ms/step - loss: 0.0130 - accuracy: 0.9972 - f1_m: 0.9974 - val_loss: 0.9225 - val_accuracy: 0.8124 - val_f1_m: 0.8155\n",
      "Epoch 17/20\n",
      "132/132 [==============================] - 1s 8ms/step - loss: 0.0078 - accuracy: 0.9981 - f1_m: 0.9980 - val_loss: 1.1515 - val_accuracy: 0.7889 - val_f1_m: 0.7877\n",
      "Epoch 18/20\n",
      "132/132 [==============================] - 1s 8ms/step - loss: 0.0187 - accuracy: 0.9948 - f1_m: 0.9943 - val_loss: 1.1653 - val_accuracy: 0.7953 - val_f1_m: 0.7961\n",
      "Epoch 19/20\n",
      "132/132 [==============================] - ETA: 0s - loss: 0.0144 - accuracy: 0.9967 - f1_m: 0.9967Restoring model weights from the end of the best epoch: 13.\n",
      "132/132 [==============================] - 1s 8ms/step - loss: 0.0144 - accuracy: 0.9967 - f1_m: 0.9967 - val_loss: 1.0013 - val_accuracy: 0.8102 - val_f1_m: 0.8113\n",
      "Epoch 00019: early stopping\n"
     ]
    }
   ],
   "source": [
    "model=createSimpleModel(skenario=1)\n",
    "history=model.fit(x_train,y_train,epochs=20,validation_split=0.1,callbacks=[callback])"
   ]
  },
  {
   "cell_type": "code",
   "execution_count": 179,
   "metadata": {},
   "outputs": [
    {
     "data": {
      "text/plain": [
       "[<keras.layers.embeddings.Embedding at 0x19e6bbb18b0>,\n",
       " <keras.layers.recurrent_v2.LSTM at 0x19e6bbb1a60>,\n",
       " <keras.layers.core.dense.Dense at 0x19e6bbba520>]"
      ]
     },
     "execution_count": 179,
     "metadata": {},
     "output_type": "execute_result"
    }
   ],
   "source": [
    "model.layers"
   ]
  },
  {
   "attachments": {},
   "cell_type": "markdown",
   "metadata": {},
   "source": [
    "### Input test data"
   ]
  },
  {
   "cell_type": "code",
   "execution_count": 180,
   "metadata": {},
   "outputs": [
    {
     "data": {
      "text/plain": [
       "(array([[ 173,   16, 6405, ...,    0,    0,    0],\n",
       "        [5250,  369,    2, ...,  128,    0,    0],\n",
       "        [2404, 1678, 2405, ..., 2405,    4,    5],\n",
       "        ...,\n",
       "        [1763,  365,   74, ...,    0,    0,    0],\n",
       "        [4844, 4845, 4846, ...,    0,    0,    0],\n",
       "        [ 117,  140,    2, ...,    0,    0,    0]]),\n",
       " (521, 15))"
      ]
     },
     "execution_count": 180,
     "metadata": {},
     "output_type": "execute_result"
    }
   ],
   "source": [
    "x_test,x_test.shape"
   ]
  },
  {
   "attachments": {},
   "cell_type": "markdown",
   "metadata": {},
   "source": [
    "### Embedding layer"
   ]
  },
  {
   "cell_type": "code",
   "execution_count": 182,
   "metadata": {},
   "outputs": [
    {
     "data": {
      "text/plain": [
       "(array([[[-0.08564696, -0.01744049,  0.1172644 ,  0.12727132,\n",
       "          -0.01384822, -0.09773464,  0.14303532,  0.02509661,\n",
       "           0.06805536, -0.12647988, -0.00644191, -0.12054568,\n",
       "          -0.13721839,  0.03718762, -0.10092895, -0.04226707],\n",
       "         [-0.01906524,  0.001363  ,  0.01712277, -0.05112733,\n",
       "          -0.03723992, -0.0108652 , -0.01587733, -0.0166717 ,\n",
       "           0.01384304, -0.02254228, -0.03825673,  0.07405116,\n",
       "           0.02555125, -0.05676028,  0.06948423,  0.04732694],\n",
       "         [ 0.01422781, -0.04537791, -0.0150496 ,  0.03225912,\n",
       "          -0.00381384,  0.02500587,  0.03923127, -0.00954064,\n",
       "           0.03555639,  0.03373199, -0.04378393,  0.04088188,\n",
       "          -0.01602812, -0.01531584, -0.03982463,  0.04818117],\n",
       "         [-0.00580217, -0.0201135 , -0.01666092, -0.03838816,\n",
       "           0.01658286,  0.05133421, -0.00276106, -0.01935991,\n",
       "          -0.04370663, -0.03281876,  0.01902615,  0.01438101,\n",
       "          -0.04125885, -0.04126599,  0.04331795,  0.00544324],\n",
       "         [-0.00445383,  0.00666187,  0.04717003, -0.03940133,\n",
       "          -0.05487306,  0.00824794, -0.01838021, -0.01784876,\n",
       "           0.01961075, -0.01821935, -0.04789359, -0.00943616,\n",
       "           0.06164444, -0.04479295,  0.02817702, -0.00533096],\n",
       "         [ 0.07562645, -0.06467614, -0.02631977, -0.04715898,\n",
       "           0.03831418,  0.04770591, -0.06865494,  0.05749125,\n",
       "          -0.04205084,  0.02244832,  0.00985115,  0.04503117,\n",
       "           0.04117499, -0.01508362,  0.03281993, -0.01859406],\n",
       "         [ 0.0491269 , -0.0416014 ,  0.02012265,  0.00037871,\n",
       "          -0.00618862, -0.01417837, -0.0768657 ,  0.02945287,\n",
       "          -0.05472672,  0.1012876 ,  0.05202391,  0.06232154,\n",
       "           0.11290061, -0.01959911, -0.01999322, -0.04202046],\n",
       "         [ 0.07871515, -0.00399021, -0.00748628,  0.03443415,\n",
       "          -0.06257174, -0.09073113, -0.02131354, -0.04872627,\n",
       "          -0.0098621 ,  0.06454649, -0.01381115,  0.01246761,\n",
       "           0.01135022,  0.00763574,  0.03233579, -0.0052681 ],\n",
       "         [ 0.07871515, -0.00399021, -0.00748628,  0.03443415,\n",
       "          -0.06257174, -0.09073113, -0.02131354, -0.04872627,\n",
       "          -0.0098621 ,  0.06454649, -0.01381115,  0.01246761,\n",
       "           0.01135022,  0.00763574,  0.03233579, -0.0052681 ],\n",
       "         [ 0.07871515, -0.00399021, -0.00748628,  0.03443415,\n",
       "          -0.06257174, -0.09073113, -0.02131354, -0.04872627,\n",
       "          -0.0098621 ,  0.06454649, -0.01381115,  0.01246761,\n",
       "           0.01135022,  0.00763574,  0.03233579, -0.0052681 ],\n",
       "         [ 0.07871515, -0.00399021, -0.00748628,  0.03443415,\n",
       "          -0.06257174, -0.09073113, -0.02131354, -0.04872627,\n",
       "          -0.0098621 ,  0.06454649, -0.01381115,  0.01246761,\n",
       "           0.01135022,  0.00763574,  0.03233579, -0.0052681 ],\n",
       "         [ 0.07871515, -0.00399021, -0.00748628,  0.03443415,\n",
       "          -0.06257174, -0.09073113, -0.02131354, -0.04872627,\n",
       "          -0.0098621 ,  0.06454649, -0.01381115,  0.01246761,\n",
       "           0.01135022,  0.00763574,  0.03233579, -0.0052681 ],\n",
       "         [ 0.07871515, -0.00399021, -0.00748628,  0.03443415,\n",
       "          -0.06257174, -0.09073113, -0.02131354, -0.04872627,\n",
       "          -0.0098621 ,  0.06454649, -0.01381115,  0.01246761,\n",
       "           0.01135022,  0.00763574,  0.03233579, -0.0052681 ],\n",
       "         [ 0.07871515, -0.00399021, -0.00748628,  0.03443415,\n",
       "          -0.06257174, -0.09073113, -0.02131354, -0.04872627,\n",
       "          -0.0098621 ,  0.06454649, -0.01381115,  0.01246761,\n",
       "           0.01135022,  0.00763574,  0.03233579, -0.0052681 ],\n",
       "         [ 0.07871515, -0.00399021, -0.00748628,  0.03443415,\n",
       "          -0.06257174, -0.09073113, -0.02131354, -0.04872627,\n",
       "          -0.0098621 ,  0.06454649, -0.01381115,  0.01246761,\n",
       "           0.01135022,  0.00763574,  0.03233579, -0.0052681 ]]],\n",
       "       dtype=float32),\n",
       " (1, 15, 16))"
      ]
     },
     "execution_count": 182,
     "metadata": {},
     "output_type": "execute_result"
    }
   ],
   "source": [
    "from tensorflow import keras\n",
    "import numpy as np\n",
    "embedding_input=model.layers[0].input\n",
    "embedding_output=model.layers[0].output\n",
    "embedding=keras.Model(inputs=embedding_input,outputs=embedding_output)\n",
    "output_embedding=embedding.predict(np.expand_dims(x_test[0],axis=0))\n",
    "output_embedding,output_embedding.shape"
   ]
  },
  {
   "attachments": {},
   "cell_type": "markdown",
   "metadata": {},
   "source": [
    "### LSTM Layer"
   ]
  },
  {
   "cell_type": "code",
   "execution_count": 183,
   "metadata": {},
   "outputs": [
    {
     "data": {
      "text/plain": [
       "(array([[ 0.6065825 ,  0.07432146,  0.02300354, -0.52221584, -0.46148956,\n",
       "         -0.41951177, -0.05062771,  0.63255435,  0.424027  , -0.47803652,\n",
       "         -0.04570314,  0.03052162, -0.4882037 ,  0.34545335, -0.42776427,\n",
       "          0.08055538,  0.0033612 ,  0.31964132, -0.7654764 ,  0.4108446 ,\n",
       "          0.23798093, -0.5075801 ,  0.01382415, -0.11718388, -0.10080931,\n",
       "          0.50461334,  0.07643717,  0.41815025, -0.4956271 , -0.6382972 ,\n",
       "          0.08000343,  0.0568576 ,  0.03240082,  0.3500124 ,  0.00233129,\n",
       "         -0.12512758,  0.39160246, -0.00352364,  0.4263153 , -0.49354485,\n",
       "         -0.23003075, -0.2461164 ,  0.53223336,  0.11060859,  0.47915676,\n",
       "          0.00306759, -0.24988228, -0.32790026,  0.02685227, -0.0659815 ,\n",
       "         -0.36370838,  0.05806285,  0.03193521, -0.6516039 ,  0.09097835,\n",
       "          0.48730865, -0.24649319,  0.088048  ,  0.12428961, -0.15627727,\n",
       "          0.0842758 ,  0.51604736,  0.08575077, -0.5109891 ]],\n",
       "       dtype=float32),\n",
       " (1, 64))"
      ]
     },
     "execution_count": 183,
     "metadata": {},
     "output_type": "execute_result"
    }
   ],
   "source": [
    "lstm_input=model.layers[1].input\n",
    "lstm_output=model.layers[1].output\n",
    "lstm=keras.Model(inputs=lstm_input,outputs=lstm_output)\n",
    "output_lstm=lstm.predict(output_embedding)\n",
    "output_lstm,output_lstm.shape"
   ]
  },
  {
   "attachments": {},
   "cell_type": "markdown",
   "metadata": {},
   "source": [
    "### Dense layer (Output Layer)"
   ]
  },
  {
   "cell_type": "code",
   "execution_count": 184,
   "metadata": {},
   "outputs": [
    {
     "data": {
      "text/plain": [
       "(array([[0.00325259, 0.9955721 , 0.00117532]], dtype=float32), (1, 3))"
      ]
     },
     "execution_count": 184,
     "metadata": {},
     "output_type": "execute_result"
    }
   ],
   "source": [
    "dense_input=model.layers[2].input\n",
    "dense_output=model.layers[2].output\n",
    "dense=keras.Model(inputs=dense_input,outputs=dense_output)\n",
    "output_dense=dense.predict(output_lstm)\n",
    "output_dense,output_dense.shape"
   ]
  },
  {
   "cell_type": "code",
   "execution_count": 185,
   "metadata": {},
   "outputs": [
    {
     "name": "stdout",
     "output_type": "stream",
     "text": [
      "Model: \"sequential_7\"\n",
      "_________________________________________________________________\n",
      " Layer (type)                Output Shape              Param #   \n",
      "=================================================================\n",
      " embedding_7 (Embedding)     (None, 15, 128)           895360    \n",
      "                                                                 \n",
      " bidirectional_7 (Bidirectio  (None, 15, 256)          263168    \n",
      " nal)                                                            \n",
      "                                                                 \n",
      " bidirectional_8 (Bidirectio  (None, 15, 256)          394240    \n",
      " nal)                                                            \n",
      "                                                                 \n",
      " bidirectional_9 (Bidirectio  (None, 15, 256)          394240    \n",
      " nal)                                                            \n",
      "                                                                 \n",
      " flatten_3 (Flatten)         (None, 3840)              0         \n",
      "                                                                 \n",
      " dense_10 (Dense)            (None, 512)               1966592   \n",
      "                                                                 \n",
      " dropout_3 (Dropout)         (None, 512)               0         \n",
      "                                                                 \n",
      " dense_11 (Dense)            (None, 3)                 1539      \n",
      "                                                                 \n",
      "=================================================================\n",
      "Total params: 3,915,139\n",
      "Trainable params: 3,915,139\n",
      "Non-trainable params: 0\n",
      "_________________________________________________________________\n",
      "Epoch 1/20\n",
      "132/132 [==============================] - 12s 39ms/step - loss: 0.7765 - accuracy: 0.6570 - f1_m: 0.5887 - val_loss: 0.5856 - val_accuracy: 0.7697 - val_f1_m: 0.7681\n",
      "Epoch 2/20\n",
      "132/132 [==============================] - 4s 27ms/step - loss: 0.2774 - accuracy: 0.9099 - f1_m: 0.9085 - val_loss: 0.5049 - val_accuracy: 0.8401 - val_f1_m: 0.8412\n",
      "Epoch 3/20\n",
      "132/132 [==============================] - 3s 26ms/step - loss: 0.1141 - accuracy: 0.9656 - f1_m: 0.9647 - val_loss: 0.5947 - val_accuracy: 0.8273 - val_f1_m: 0.8279\n",
      "Epoch 4/20\n",
      "132/132 [==============================] - 3s 26ms/step - loss: 0.0822 - accuracy: 0.9775 - f1_m: 0.9763 - val_loss: 0.5488 - val_accuracy: 0.8529 - val_f1_m: 0.8518\n",
      "Epoch 5/20\n",
      "132/132 [==============================] - 4s 28ms/step - loss: 0.0541 - accuracy: 0.9841 - f1_m: 0.9844 - val_loss: 0.7344 - val_accuracy: 0.8635 - val_f1_m: 0.8618\n",
      "Epoch 6/20\n",
      "132/132 [==============================] - 4s 28ms/step - loss: 0.0544 - accuracy: 0.9846 - f1_m: 0.9847 - val_loss: 0.8263 - val_accuracy: 0.8230 - val_f1_m: 0.8226\n",
      "Epoch 7/20\n",
      "132/132 [==============================] - 4s 27ms/step - loss: 0.0292 - accuracy: 0.9910 - f1_m: 0.9911 - val_loss: 0.7882 - val_accuracy: 0.8529 - val_f1_m: 0.8533\n",
      "Epoch 8/20\n",
      "132/132 [==============================] - 4s 28ms/step - loss: 0.0277 - accuracy: 0.9924 - f1_m: 0.9923 - val_loss: 0.7517 - val_accuracy: 0.8401 - val_f1_m: 0.8399\n",
      "Epoch 9/20\n",
      "132/132 [==============================] - 4s 28ms/step - loss: 0.0395 - accuracy: 0.9867 - f1_m: 0.9864 - val_loss: 0.8404 - val_accuracy: 0.8401 - val_f1_m: 0.8387\n",
      "Epoch 10/20\n",
      "132/132 [==============================] - 4s 28ms/step - loss: 0.0422 - accuracy: 0.9874 - f1_m: 0.9871 - val_loss: 1.0243 - val_accuracy: 0.8465 - val_f1_m: 0.8419\n",
      "Epoch 11/20\n",
      "130/132 [============================>.] - ETA: 0s - loss: 0.0376 - accuracy: 0.9885 - f1_m: 0.9885- ETA: 2s - loss: 0.0204 -Restoring model weights from the end of the best epoch: 5.\n",
      "132/132 [==============================] - 4s 28ms/step - loss: 0.0380 - accuracy: 0.9884 - f1_m: 0.9885 - val_loss: 0.8912 - val_accuracy: 0.8571 - val_f1_m: 0.8572\n",
      "Epoch 00011: early stopping\n"
     ]
    }
   ],
   "source": [
    "model=createComplexModel(2)\n",
    "history=model.fit(x_train,y_train,epochs=20,validation_split=0.1,callbacks=[callback])"
   ]
  },
  {
   "cell_type": "code",
   "execution_count": 186,
   "metadata": {},
   "outputs": [
    {
     "name": "stdout",
     "output_type": "stream",
     "text": [
      "17/17 [==============================] - 0s 12ms/step - loss: 0.5524 - accuracy: 0.8791 - f1_m: 0.8862\n"
     ]
    },
    {
     "data": {
      "text/plain": [
       "[0.5524386763572693, 0.8790786862373352, 0.8861987590789795]"
      ]
     },
     "execution_count": 186,
     "metadata": {},
     "output_type": "execute_result"
    }
   ],
   "source": [
    "temp=model.evaluate(x_test,y_test)\n",
    "temp"
   ]
  },
  {
   "cell_type": "code",
   "execution_count": 187,
   "metadata": {},
   "outputs": [
    {
     "data": {
      "text/plain": [
       "<keras.engine.functional.Functional at 0x19e791d7340>"
      ]
     },
     "execution_count": 187,
     "metadata": {},
     "output_type": "execute_result"
    }
   ],
   "source": [
    "from tensorflow import keras\n",
    "import numpy as np\n",
    "intermediate_model = keras.Model(inputs=model.input, outputs=model.layers[1].output) \n",
    "intermediate_model"
   ]
  },
  {
   "attachments": {},
   "cell_type": "markdown",
   "metadata": {},
   "source": [
    "### List Semua Layer yang ada di deep learning"
   ]
  },
  {
   "cell_type": "code",
   "execution_count": 188,
   "metadata": {},
   "outputs": [
    {
     "data": {
      "text/plain": [
       "[<keras.layers.embeddings.Embedding at 0x19e6c21ed60>,\n",
       " <keras.layers.wrappers.Bidirectional at 0x19e746618b0>,\n",
       " <keras.layers.wrappers.Bidirectional at 0x19e74682fd0>,\n",
       " <keras.layers.wrappers.Bidirectional at 0x19e7468dfd0>,\n",
       " <keras.layers.core.flatten.Flatten at 0x19e74699fa0>,\n",
       " <keras.layers.core.dense.Dense at 0x19e745b50a0>,\n",
       " <keras.layers.core.dropout.Dropout at 0x19e746617c0>,\n",
       " <keras.layers.core.dense.Dense at 0x19e746612e0>]"
      ]
     },
     "execution_count": 188,
     "metadata": {},
     "output_type": "execute_result"
    }
   ],
   "source": [
    "model.layers"
   ]
  },
  {
   "attachments": {},
   "cell_type": "markdown",
   "metadata": {},
   "source": [
    "### Embedding layer"
   ]
  },
  {
   "cell_type": "code",
   "execution_count": 189,
   "metadata": {},
   "outputs": [
    {
     "data": {
      "text/plain": [
       "array([[[-0.10029772,  0.08240913,  0.04698651, ..., -0.06365843,\n",
       "          0.00448414,  0.05073181],\n",
       "        [ 0.03037432, -0.02477089,  0.01509915, ..., -0.00816446,\n",
       "         -0.05283854,  0.03083451],\n",
       "        [ 0.01518885, -0.01734103, -0.02457405, ...,  0.01154898,\n",
       "          0.03334842,  0.02895344],\n",
       "        ...,\n",
       "        [-0.03315816, -0.00910833, -0.01032697, ...,  0.00631205,\n",
       "         -0.01741631, -0.03524626],\n",
       "        [-0.03315816, -0.00910833, -0.01032697, ...,  0.00631205,\n",
       "         -0.01741631, -0.03524626],\n",
       "        [-0.03315816, -0.00910833, -0.01032697, ...,  0.00631205,\n",
       "         -0.01741631, -0.03524626]],\n",
       "\n",
       "       [[-0.0280486 , -0.022088  , -0.03516274, ...,  0.02839096,\n",
       "         -0.00148554, -0.04477645],\n",
       "        [ 0.01745749, -0.02135714, -0.07549311, ..., -0.01454849,\n",
       "          0.03161804, -0.04970148],\n",
       "        [ 0.04437547, -0.03951878,  0.00265059, ..., -0.02408721,\n",
       "         -0.02213774,  0.0385293 ],\n",
       "        ...,\n",
       "        [-0.01371258,  0.05896948, -0.01127262, ...,  0.00198286,\n",
       "         -0.04551741, -0.02819911],\n",
       "        [-0.03315816, -0.00910833, -0.01032697, ...,  0.00631205,\n",
       "         -0.01741631, -0.03524626],\n",
       "        [-0.03315816, -0.00910833, -0.01032697, ...,  0.00631205,\n",
       "         -0.01741631, -0.03524626]],\n",
       "\n",
       "       [[ 0.005466  ,  0.0493361 , -0.03404408, ...,  0.01513368,\n",
       "          0.01811851, -0.0284212 ],\n",
       "        [-0.01549096,  0.02542661, -0.03771501, ...,  0.01900954,\n",
       "          0.00397022,  0.03014872],\n",
       "        [-0.01335484,  0.03331535, -0.04346521, ..., -0.001019  ,\n",
       "         -0.049291  , -0.02052207],\n",
       "        ...,\n",
       "        [-0.01335484,  0.03331535, -0.04346521, ..., -0.001019  ,\n",
       "         -0.049291  , -0.02052207],\n",
       "        [ 0.02514721, -0.00267226, -0.04414247, ...,  0.0395946 ,\n",
       "          0.02268768, -0.0235135 ],\n",
       "        [ 0.01000821,  0.0251659 , -0.00832386, ..., -0.03742599,\n",
       "          0.03667776, -0.04261906]],\n",
       "\n",
       "       ...,\n",
       "\n",
       "       [[ 0.04526393,  0.03739109,  0.03029554, ..., -0.01298273,\n",
       "         -0.00188139, -0.02148216],\n",
       "        [-0.03716893,  0.00030456,  0.0185423 , ...,  0.00515133,\n",
       "         -0.00684898, -0.02475968],\n",
       "        [ 0.0197967 ,  0.03320646, -0.06572545, ...,  0.03471039,\n",
       "         -0.03949996, -0.02208785],\n",
       "        ...,\n",
       "        [-0.03315816, -0.00910833, -0.01032697, ...,  0.00631205,\n",
       "         -0.01741631, -0.03524626],\n",
       "        [-0.03315816, -0.00910833, -0.01032697, ...,  0.00631205,\n",
       "         -0.01741631, -0.03524626],\n",
       "        [-0.03315816, -0.00910833, -0.01032697, ...,  0.00631205,\n",
       "         -0.01741631, -0.03524626]],\n",
       "\n",
       "       [[-0.04042978, -0.01721668, -0.0263996 , ..., -0.03972523,\n",
       "          0.00737246,  0.02826757],\n",
       "        [-0.04515845, -0.04851575,  0.01767713, ...,  0.04364381,\n",
       "         -0.04830747, -0.02466244],\n",
       "        [ 0.04571624,  0.00564674, -0.03988856, ..., -0.02003778,\n",
       "         -0.04985734,  0.03649965],\n",
       "        ...,\n",
       "        [-0.03315816, -0.00910833, -0.01032697, ...,  0.00631205,\n",
       "         -0.01741631, -0.03524626],\n",
       "        [-0.03315816, -0.00910833, -0.01032697, ...,  0.00631205,\n",
       "         -0.01741631, -0.03524626],\n",
       "        [-0.03315816, -0.00910833, -0.01032697, ...,  0.00631205,\n",
       "         -0.01741631, -0.03524626]],\n",
       "\n",
       "       [[ 0.00669873, -0.01551132, -0.06018837, ..., -0.01650518,\n",
       "         -0.04850173,  0.01960037],\n",
       "        [ 0.02759181,  0.02939847, -0.03701141, ...,  0.00200224,\n",
       "         -0.05123784, -0.00870858],\n",
       "        [ 0.04437547, -0.03951878,  0.00265059, ..., -0.02408721,\n",
       "         -0.02213774,  0.0385293 ],\n",
       "        ...,\n",
       "        [-0.03315816, -0.00910833, -0.01032697, ...,  0.00631205,\n",
       "         -0.01741631, -0.03524626],\n",
       "        [-0.03315816, -0.00910833, -0.01032697, ...,  0.00631205,\n",
       "         -0.01741631, -0.03524626],\n",
       "        [-0.03315816, -0.00910833, -0.01032697, ...,  0.00631205,\n",
       "         -0.01741631, -0.03524626]]], dtype=float32)"
      ]
     },
     "execution_count": 189,
     "metadata": {},
     "output_type": "execute_result"
    }
   ],
   "source": [
    "embedding_input=model.layers[0].input\n",
    "embedding_output=model.layers[0].output\n",
    "embedding=keras.Model(inputs=embedding_input,outputs=embedding_output)\n",
    "output_embedding=embedding.predict(x_test)\n",
    "output_embedding"
   ]
  },
  {
   "attachments": {},
   "cell_type": "markdown",
   "metadata": {},
   "source": [
    "### BILSTM #1"
   ]
  },
  {
   "cell_type": "code",
   "execution_count": 190,
   "metadata": {},
   "outputs": [
    {
     "data": {
      "text/plain": [
       "array([[[-2.91805416e-02,  7.01623363e-03, -5.07524796e-02, ...,\n",
       "          1.29828341e-02, -1.50924688e-03, -7.78731541e-04],\n",
       "        [-2.03534309e-02,  2.16276087e-02, -3.74379978e-02, ...,\n",
       "         -1.51067749e-02, -1.66436320e-03, -6.22126320e-03],\n",
       "        [-2.08701715e-02,  2.40315031e-02, -2.66275778e-02, ...,\n",
       "          3.83477146e-03,  4.48278664e-03, -8.42124410e-03],\n",
       "        ...,\n",
       "        [ 5.96259022e-03,  4.30622604e-03,  1.49633614e-02, ...,\n",
       "         -7.68624991e-03,  4.13706526e-04, -5.19284979e-03],\n",
       "        [ 6.63484819e-03,  2.60239071e-03,  1.51868658e-02, ...,\n",
       "         -5.64206857e-03,  3.06402391e-04, -3.75021761e-03],\n",
       "        [ 7.45580764e-03,  1.05877116e-03,  1.54832415e-02, ...,\n",
       "         -3.11869010e-03,  1.80459669e-04, -2.00234610e-03]],\n",
       "\n",
       "       [[ 1.82253891e-03,  2.48059165e-03,  3.34804319e-03, ...,\n",
       "         -9.53252707e-03, -1.30109154e-02,  6.89233746e-03],\n",
       "        [-5.88515133e-04,  5.77991363e-03,  8.21620226e-03, ...,\n",
       "         -1.26094893e-02, -1.60524510e-02,  7.69392075e-03],\n",
       "        [ 6.22057915e-03,  5.47003606e-03,  1.22279655e-02, ...,\n",
       "          3.25676659e-03, -1.24475192e-02,  1.60917547e-02],\n",
       "        ...,\n",
       "        [-2.25086194e-02,  2.71856673e-02, -3.97246592e-02, ...,\n",
       "         -1.86341628e-02, -9.11127645e-05, -2.22599413e-03],\n",
       "        [-1.82917658e-02,  2.47812103e-02, -2.53165644e-02, ...,\n",
       "         -5.64206857e-03,  3.06402391e-04, -3.75021761e-03],\n",
       "        [-1.44799063e-02,  2.33761221e-02, -1.41987996e-02, ...,\n",
       "         -3.11869010e-03,  1.80459669e-04, -2.00234610e-03]],\n",
       "\n",
       "       [[-7.61204690e-04, -6.00492163e-03, -2.89021991e-03, ...,\n",
       "          4.32911441e-02, -1.66641397e-03,  4.32614721e-02],\n",
       "        [ 1.48426951e-03, -5.05138282e-03, -5.24874451e-03, ...,\n",
       "          3.91401425e-02, -5.23032248e-03,  4.78923433e-02],\n",
       "        [-2.31097639e-03, -5.10938093e-03, -4.98833228e-03, ...,\n",
       "          4.41302322e-02, -8.81916471e-03,  5.01204394e-02],\n",
       "        ...,\n",
       "        [-7.71755632e-03, -1.82184391e-02, -1.31536974e-02, ...,\n",
       "         -1.80046204e-02,  1.72957359e-03, -2.17988854e-03],\n",
       "        [ 9.34265496e-04, -1.51478164e-02, -4.81610000e-03, ...,\n",
       "         -1.94748156e-02, -1.44588389e-03,  1.13029091e-03],\n",
       "        [ 5.40579669e-03, -1.44829685e-02, -8.00201390e-03, ...,\n",
       "         -1.26595674e-02, -3.11009749e-03, -3.52037954e-03]],\n",
       "\n",
       "       ...,\n",
       "\n",
       "       [[-1.66682585e-03, -9.08388116e-04, -1.37941167e-03, ...,\n",
       "          9.45938155e-02, -7.91937392e-03,  8.03678110e-02],\n",
       "        [ 6.29599765e-03, -7.98318256e-03,  1.60872508e-02, ...,\n",
       "          1.02529168e-01, -1.06684240e-02,  7.60576427e-02],\n",
       "        [ 5.95398899e-03, -4.95738443e-03,  1.59872994e-02, ...,\n",
       "          9.33177993e-02, -1.22558717e-02,  6.69584870e-02],\n",
       "        ...,\n",
       "        [-8.89307354e-03, -3.32931094e-02, -2.02928837e-02, ...,\n",
       "         -7.68624898e-03,  4.13704780e-04, -5.19284932e-03],\n",
       "        [-9.64548998e-03, -2.94015836e-02, -1.98205970e-02, ...,\n",
       "         -5.64206811e-03,  3.06401053e-04, -3.75021715e-03],\n",
       "        [-1.00879241e-02, -2.57444475e-02, -1.91864502e-02, ...,\n",
       "         -3.11869010e-03,  1.80458941e-04, -2.00234610e-03]],\n",
       "\n",
       "       [[-4.55380650e-04, -2.44113314e-03,  3.17757740e-03, ...,\n",
       "         -9.06179287e-03,  2.32906709e-03,  3.70956655e-03],\n",
       "        [ 1.02112386e-02, -1.43670035e-03,  3.44317220e-03, ...,\n",
       "         -1.07689882e-02, -7.64589757e-04,  8.60269740e-03],\n",
       "        [ 1.08634150e-02, -6.78542815e-03,  1.34256845e-02, ...,\n",
       "         -1.27621423e-02, -6.44687144e-03,  1.21291177e-02],\n",
       "        ...,\n",
       "        [ 4.17412166e-03,  2.19141995e-03,  6.81644119e-03, ...,\n",
       "         -7.68624898e-03,  4.13704780e-04, -5.19284932e-03],\n",
       "        [ 3.73405032e-03,  2.93082511e-03,  8.18497315e-03, ...,\n",
       "         -5.64206811e-03,  3.06401053e-04, -3.75021715e-03],\n",
       "        [ 3.56694404e-03,  3.26395105e-03,  9.05904267e-03, ...,\n",
       "         -3.11869010e-03,  1.80458941e-04, -2.00234610e-03]],\n",
       "\n",
       "       [[ 3.34343407e-03,  1.21693732e-03,  1.24471933e-02, ...,\n",
       "         -1.76279414e-02,  6.18926948e-03,  2.96322629e-03],\n",
       "        [ 9.26662795e-03,  8.14866391e-04,  1.12617183e-02, ...,\n",
       "         -6.83823880e-03,  1.90455373e-03,  7.97231030e-03],\n",
       "        [ 1.30940629e-02,  5.28493489e-04,  1.20123113e-02, ...,\n",
       "          3.55728043e-05, -8.86805076e-03,  7.72853196e-03],\n",
       "        ...,\n",
       "        [ 7.93515146e-03, -4.43684083e-04,  1.30687663e-02, ...,\n",
       "         -7.68624898e-03,  4.13704780e-04, -5.19284932e-03],\n",
       "        [ 8.96736700e-03, -1.35202101e-03,  1.39412470e-02, ...,\n",
       "         -5.64206811e-03,  3.06401053e-04, -3.75021715e-03],\n",
       "        [ 9.96543188e-03, -2.24873144e-03,  1.47798266e-02, ...,\n",
       "         -3.11869010e-03,  1.80458941e-04, -2.00234610e-03]]],\n",
       "      dtype=float32)"
      ]
     },
     "execution_count": 190,
     "metadata": {},
     "output_type": "execute_result"
    }
   ],
   "source": [
    "lstm_input=model.layers[1].input\n",
    "lstm_output=model.layers[1].output\n",
    "lstm=keras.Model(inputs=lstm_input,outputs=lstm_output)\n",
    "output_lstm=lstm.predict(output_embedding)\n",
    "output_lstm"
   ]
  },
  {
   "attachments": {},
   "cell_type": "markdown",
   "metadata": {},
   "source": [
    "### BILSTM #2"
   ]
  },
  {
   "cell_type": "code",
   "execution_count": 191,
   "metadata": {},
   "outputs": [
    {
     "data": {
      "text/plain": [
       "array([[[-0.02780793, -0.01645498, -0.00734741, ..., -0.03116002,\n",
       "          0.00103737,  0.01606689],\n",
       "        [-0.03646852, -0.01549974, -0.00535821, ..., -0.01900684,\n",
       "         -0.00275586,  0.01423931],\n",
       "        [-0.04268724, -0.01274047, -0.00734195, ..., -0.01189499,\n",
       "         -0.00264086,  0.01420826],\n",
       "        ...,\n",
       "        [ 0.02363249,  0.01865226,  0.00331911, ...,  0.00761982,\n",
       "         -0.00194693,  0.00254154],\n",
       "        [ 0.02976502,  0.01705731,  0.00139125, ...,  0.00648835,\n",
       "         -0.00164696,  0.00125212],\n",
       "        [ 0.03520648,  0.01522291, -0.0008463 , ...,  0.00415986,\n",
       "         -0.00116855,  0.00027721]],\n",
       "\n",
       "       [[-0.00028956,  0.00097999,  0.00059324, ..., -0.00657956,\n",
       "          0.00277249, -0.00976616],\n",
       "        [ 0.00334238,  0.00177269,  0.0063644 , ..., -0.00821231,\n",
       "         -0.00029467, -0.01328383],\n",
       "        [ 0.006639  ,  0.0026361 ,  0.00827275, ..., -0.00738887,\n",
       "         -0.00095905, -0.01685791],\n",
       "        ...,\n",
       "        [-0.04970801, -0.0234348 , -0.00320188, ..., -0.02572043,\n",
       "          0.0016313 ,  0.01383949],\n",
       "        [-0.05582252, -0.01839429, -0.00462858, ..., -0.01928876,\n",
       "          0.00150121,  0.01285109],\n",
       "        [-0.05854217, -0.01360342, -0.00499454, ..., -0.01121875,\n",
       "          0.00088637,  0.00874132]],\n",
       "\n",
       "       [[-0.00210819, -0.00072068, -0.0049484 , ...,  0.01242864,\n",
       "          0.00664433, -0.00320242],\n",
       "        [-0.0035165 , -0.0039733 , -0.00586921, ...,  0.01078858,\n",
       "          0.00645986, -0.00192541],\n",
       "        [-0.00528894, -0.0067278 , -0.00710077, ...,  0.00962791,\n",
       "          0.00751153, -0.00131484],\n",
       "        ...,\n",
       "        [-0.014224  , -0.00986796,  0.00633378, ...,  0.00831514,\n",
       "          0.00332352, -0.00681882],\n",
       "        [-0.01057414, -0.00966451,  0.00888528, ...,  0.00850788,\n",
       "          0.00253834, -0.00782342],\n",
       "        [-0.00796878, -0.01031297,  0.01101541, ...,  0.00546431,\n",
       "          0.00078536, -0.00505468]],\n",
       "\n",
       "       ...,\n",
       "\n",
       "       [[-0.00531749, -0.00766383, -0.01062096, ...,  0.02293756,\n",
       "          0.00901157, -0.01382541],\n",
       "        [-0.00995214, -0.01567123, -0.01515636, ...,  0.01944769,\n",
       "          0.0130801 , -0.01201863],\n",
       "        [-0.01426751, -0.02031578, -0.01426789, ...,  0.0148329 ,\n",
       "          0.01873583, -0.00718479],\n",
       "        ...,\n",
       "        [-0.00684896, -0.019152  ,  0.02190834, ...,  0.0182848 ,\n",
       "          0.01000644, -0.0174158 ],\n",
       "        [-0.00644076, -0.0206326 ,  0.02429208, ...,  0.0169306 ,\n",
       "          0.00882079, -0.0165381 ],\n",
       "        [-0.00628929, -0.0222933 ,  0.02601177, ...,  0.01224986,\n",
       "          0.00632266, -0.0120156 ]],\n",
       "\n",
       "       [[ 0.00191936, -0.00195539, -0.00073822, ...,  0.00010685,\n",
       "         -0.00179309, -0.01322137],\n",
       "        [ 0.002739  , -0.00504786,  0.00039969, ..., -0.00134144,\n",
       "         -0.00247182, -0.012475  ],\n",
       "        [ 0.00190571, -0.00713016,  0.00165702, ..., -0.00276267,\n",
       "         -0.00350592, -0.00974172],\n",
       "        ...,\n",
       "        [-0.009118  ,  0.00022804,  0.00877577, ...,  0.0009016 ,\n",
       "         -0.0028308 ,  0.0028753 ],\n",
       "        [-0.0054607 ,  0.00094303,  0.0087353 , ...,  0.00155347,\n",
       "         -0.00226542,  0.00146573],\n",
       "        [-0.00176096,  0.0009996 ,  0.00817844, ...,  0.00135059,\n",
       "         -0.00138365,  0.00043496]],\n",
       "\n",
       "       [[ 0.00705508,  0.00470963,  0.00313248, ...,  0.01295839,\n",
       "         -0.00994746,  0.00611977],\n",
       "        [ 0.01593004,  0.00872946,  0.00538092, ...,  0.01242657,\n",
       "         -0.01127796,  0.00725083],\n",
       "        [ 0.02234562,  0.01084387,  0.00577292, ...,  0.01143326,\n",
       "         -0.01262195,  0.00880677],\n",
       "        ...,\n",
       "        [ 0.05109129,  0.01986653, -0.01189528, ...,  0.00953576,\n",
       "         -0.00154589,  0.00513602],\n",
       "        [ 0.05473362,  0.01870483, -0.01400523, ...,  0.00789599,\n",
       "         -0.001353  ,  0.00304671],\n",
       "        [ 0.05788552,  0.01729913, -0.01613275, ...,  0.00493634,\n",
       "         -0.00102923,  0.00123446]]], dtype=float32)"
      ]
     },
     "execution_count": 191,
     "metadata": {},
     "output_type": "execute_result"
    }
   ],
   "source": [
    "lstm_input2=model.layers[2].input\n",
    "lstm_output2=model.layers[2].output\n",
    "lstm=keras.Model(inputs=lstm_input2,outputs=lstm_output2)\n",
    "output_lstm2=lstm.predict(output_lstm)\n",
    "output_lstm2"
   ]
  },
  {
   "attachments": {},
   "cell_type": "markdown",
   "metadata": {},
   "source": [
    "### BILSTM #3"
   ]
  },
  {
   "cell_type": "code",
   "execution_count": 192,
   "metadata": {},
   "outputs": [
    {
     "data": {
      "text/plain": [
       "array([[[-0.00525806, -0.00723923, -0.01255045, ...,  0.10293604,\n",
       "         -0.00220604, -0.01175069],\n",
       "        [-0.01080132, -0.00762487, -0.01647944, ...,  0.08568821,\n",
       "         -0.00646206, -0.01158566],\n",
       "        [-0.01577377, -0.00663682, -0.01749464, ...,  0.06848708,\n",
       "         -0.0089945 , -0.01132007],\n",
       "        ...,\n",
       "        [ 0.0098234 ,  0.0243351 ,  0.01546351, ..., -0.03571593,\n",
       "         -0.01616449,  0.00350716],\n",
       "        [ 0.01461427,  0.0245992 ,  0.01429113, ..., -0.02864838,\n",
       "         -0.01314671,  0.00265788],\n",
       "        [ 0.01842243,  0.02357775,  0.01195621, ..., -0.01694328,\n",
       "         -0.008004  ,  0.00149056]],\n",
       "\n",
       "       [[ 0.00130053,  0.00249171,  0.00045426, ...,  0.08827001,\n",
       "          0.00911607, -0.0072435 ],\n",
       "        [ 0.00315671,  0.006607  ,  0.00163562, ...,  0.10035191,\n",
       "          0.00560203, -0.00930098],\n",
       "        [ 0.00504236,  0.00957297,  0.00190922, ...,  0.11254647,\n",
       "          0.00254626, -0.0112133 ],\n",
       "        ...,\n",
       "        [-0.02782251, -0.01695123, -0.03304524, ...,  0.13271171,\n",
       "         -0.0201872 , -0.01954567],\n",
       "        [-0.0364738 , -0.01618123, -0.03126569, ...,  0.09442879,\n",
       "         -0.01679033, -0.01639701],\n",
       "        [-0.04286982, -0.01485625, -0.0282437 , ...,  0.04989411,\n",
       "         -0.01027416, -0.01034352]],\n",
       "\n",
       "       [[ 0.00092425, -0.00190308, -0.0013455 , ..., -0.05244198,\n",
       "         -0.0035564 , -0.00503057],\n",
       "        [ 0.00225706, -0.00389059, -0.00250914, ..., -0.05369235,\n",
       "          0.00219273, -0.00536264],\n",
       "        [ 0.00403667, -0.00595064, -0.00380926, ..., -0.05490021,\n",
       "          0.00794674, -0.00557552],\n",
       "        ...,\n",
       "        [ 0.00594373, -0.02524607, -0.00181893, ..., -0.02876676,\n",
       "          0.03054099,  0.00397228],\n",
       "        [ 0.00720502, -0.02221551,  0.00045587, ..., -0.02283317,\n",
       "          0.02430529,  0.00343575],\n",
       "        [ 0.00908855, -0.01963442,  0.00277476, ..., -0.01296151,\n",
       "          0.0144904 ,  0.0022258 ]],\n",
       "\n",
       "       ...,\n",
       "\n",
       "       [[ 0.00209681, -0.01189256, -0.00768953, ..., -0.08317731,\n",
       "          0.01795191, -0.00729897],\n",
       "        [ 0.00495519, -0.02211474, -0.01291212, ..., -0.0802951 ,\n",
       "          0.03155013, -0.00298663],\n",
       "        [ 0.00816649, -0.03093126, -0.01623369, ..., -0.07749826,\n",
       "          0.04335921,  0.00106573],\n",
       "        ...,\n",
       "        [ 0.00836118, -0.0421396 , -0.01288064, ..., -0.05342585,\n",
       "          0.07125074,  0.00776386],\n",
       "        [ 0.00890144, -0.0402983 , -0.01176082, ..., -0.04133997,\n",
       "          0.05795424,  0.00681667],\n",
       "        [ 0.00994567, -0.0383762 , -0.00987968, ..., -0.02394521,\n",
       "          0.03597266,  0.0045461 ]],\n",
       "\n",
       "       [[ 0.00105986, -0.00083326, -0.00093318, ...,  0.01440988,\n",
       "          0.00257471, -0.00717957],\n",
       "        [ 0.00188844, -0.00253535, -0.00194419, ...,  0.02105309,\n",
       "          0.00407288, -0.00700277],\n",
       "        [ 0.00267761, -0.00444523, -0.0027907 , ...,  0.02964398,\n",
       "          0.00471349, -0.00717652],\n",
       "        ...,\n",
       "        [-0.00155741, -0.00170254,  0.00270511, ...,  0.00331575,\n",
       "         -0.00239977, -0.00152588],\n",
       "        [ 0.00083459, -0.00038917,  0.00448138, ...,  0.0006633 ,\n",
       "         -0.00255106, -0.00098062],\n",
       "        [ 0.00312922,  0.00037179,  0.00553277, ..., -0.00051793,\n",
       "         -0.0018611 , -0.00047535]],\n",
       "\n",
       "       [[ 0.00254805,  0.00644959,  0.0061783 , ..., -0.05941226,\n",
       "         -0.01036611,  0.01129095],\n",
       "        [ 0.0054246 ,  0.01218545,  0.01122252, ..., -0.06607746,\n",
       "         -0.0124457 ,  0.0123076 ],\n",
       "        [ 0.00848336,  0.01707261,  0.0143672 , ..., -0.07059459,\n",
       "         -0.01459756,  0.01328897],\n",
       "        ...,\n",
       "        [ 0.04154563,  0.03678925,  0.0044925 , ..., -0.05789081,\n",
       "         -0.02420714,  0.00967646],\n",
       "        [ 0.04312373,  0.03579268,  0.00235564, ..., -0.04363353,\n",
       "         -0.01873672,  0.00686905],\n",
       "        [ 0.04347565,  0.03345444, -0.00036123, ..., -0.02456953,\n",
       "         -0.01091668,  0.00366513]]], dtype=float32)"
      ]
     },
     "execution_count": 192,
     "metadata": {},
     "output_type": "execute_result"
    }
   ],
   "source": [
    "lstm_input3=model.layers[3].input\n",
    "lstm_output3=model.layers[3].output\n",
    "lstm=keras.Model(inputs=lstm_input3,outputs=lstm_output3)\n",
    "output_lstm3=lstm.predict(output_lstm2)\n",
    "output_lstm3"
   ]
  },
  {
   "attachments": {},
   "cell_type": "markdown",
   "metadata": {},
   "source": [
    "### Flatten"
   ]
  },
  {
   "cell_type": "code",
   "execution_count": 193,
   "metadata": {},
   "outputs": [
    {
     "data": {
      "text/plain": [
       "array([[-0.00525806, -0.00723923, -0.01255045, ..., -0.01694328,\n",
       "        -0.008004  ,  0.00149056],\n",
       "       [ 0.00130053,  0.00249171,  0.00045426, ...,  0.04989411,\n",
       "        -0.01027416, -0.01034352],\n",
       "       [ 0.00092425, -0.00190308, -0.0013455 , ..., -0.01296151,\n",
       "         0.0144904 ,  0.0022258 ],\n",
       "       ...,\n",
       "       [ 0.00209681, -0.01189256, -0.00768953, ..., -0.02394521,\n",
       "         0.03597266,  0.0045461 ],\n",
       "       [ 0.00105986, -0.00083326, -0.00093318, ..., -0.00051793,\n",
       "        -0.0018611 , -0.00047535],\n",
       "       [ 0.00254805,  0.00644959,  0.0061783 , ..., -0.02456953,\n",
       "        -0.01091668,  0.00366513]], dtype=float32)"
      ]
     },
     "execution_count": 193,
     "metadata": {},
     "output_type": "execute_result"
    }
   ],
   "source": [
    "flatten_input=model.layers[4].input\n",
    "flatten_output=model.layers[4].output\n",
    "flatten=keras.Model(inputs=flatten_input,outputs=flatten_output)\n",
    "output_flatten=flatten.predict(output_lstm3)\n",
    "output_flatten"
   ]
  },
  {
   "attachments": {},
   "cell_type": "markdown",
   "metadata": {},
   "source": [
    "### Dense #1"
   ]
  },
  {
   "cell_type": "code",
   "execution_count": 194,
   "metadata": {},
   "outputs": [
    {
     "data": {
      "text/plain": [
       "array([[0.        , 0.21970543, 0.32891756, ..., 0.        , 0.3968811 ,\n",
       "        0.06640249],\n",
       "       [0.        , 1.0891544 , 0.        , ..., 0.        , 1.7729037 ,\n",
       "        0.        ],\n",
       "       [0.16622178, 0.        , 0.        , ..., 0.4366429 , 0.        ,\n",
       "        0.        ],\n",
       "       ...,\n",
       "       [0.4185146 , 0.        , 0.        , ..., 0.69497967, 0.        ,\n",
       "        0.        ],\n",
       "       [0.        , 0.11176557, 0.        , ..., 0.        , 0.17159869,\n",
       "        0.        ],\n",
       "       [0.21807827, 0.        , 0.9429705 , ..., 0.6589502 , 0.        ,\n",
       "        1.6723186 ]], dtype=float32)"
      ]
     },
     "execution_count": 194,
     "metadata": {},
     "output_type": "execute_result"
    }
   ],
   "source": [
    "dense_input=model.layers[5].input\n",
    "dense_output=model.layers[5].output\n",
    "dense=keras.Model(inputs=dense_input,outputs=dense_output)\n",
    "output_dense=dense.predict(output_flatten)\n",
    "output_dense"
   ]
  },
  {
   "attachments": {},
   "cell_type": "markdown",
   "metadata": {},
   "source": [
    "### Dropout Layer"
   ]
  },
  {
   "cell_type": "code",
   "execution_count": 195,
   "metadata": {},
   "outputs": [
    {
     "data": {
      "text/plain": [
       "array([[0.        , 0.21970543, 0.32891756, ..., 0.        , 0.3968811 ,\n",
       "        0.06640249],\n",
       "       [0.        , 1.0891544 , 0.        , ..., 0.        , 1.7729037 ,\n",
       "        0.        ],\n",
       "       [0.16622178, 0.        , 0.        , ..., 0.4366429 , 0.        ,\n",
       "        0.        ],\n",
       "       ...,\n",
       "       [0.4185146 , 0.        , 0.        , ..., 0.69497967, 0.        ,\n",
       "        0.        ],\n",
       "       [0.        , 0.11176557, 0.        , ..., 0.        , 0.17159869,\n",
       "        0.        ],\n",
       "       [0.21807827, 0.        , 0.9429705 , ..., 0.6589502 , 0.        ,\n",
       "        1.6723186 ]], dtype=float32)"
      ]
     },
     "execution_count": 195,
     "metadata": {},
     "output_type": "execute_result"
    }
   ],
   "source": [
    "dropout_input=model.layers[6].input\n",
    "dropout_output=model.layers[6].output\n",
    "dropout=keras.Model(inputs=dropout_input,outputs=dropout_output)\n",
    "output_dropout=dropout.predict(output_dense)\n",
    "output_dropout"
   ]
  },
  {
   "attachments": {},
   "cell_type": "markdown",
   "metadata": {},
   "source": [
    "### Dense 2"
   ]
  },
  {
   "cell_type": "code",
   "execution_count": 196,
   "metadata": {},
   "outputs": [
    {
     "data": {
      "text/plain": [
       "array([[0.        , 0.21970543, 0.32891756, ..., 0.        , 0.3968811 ,\n",
       "        0.06640249],\n",
       "       [0.        , 1.0891544 , 0.        , ..., 0.        , 1.7729037 ,\n",
       "        0.        ],\n",
       "       [0.16622178, 0.        , 0.        , ..., 0.4366429 , 0.        ,\n",
       "        0.        ],\n",
       "       ...,\n",
       "       [0.4185146 , 0.        , 0.        , ..., 0.69497967, 0.        ,\n",
       "        0.        ],\n",
       "       [0.        , 0.11176557, 0.        , ..., 0.        , 0.17159869,\n",
       "        0.        ],\n",
       "       [0.21807827, 0.        , 0.9429705 , ..., 0.6589502 , 0.        ,\n",
       "        1.6723186 ]], dtype=float32)"
      ]
     },
     "execution_count": 196,
     "metadata": {},
     "output_type": "execute_result"
    }
   ],
   "source": [
    "dense_input2=model.layers[7].input\n",
    "dense_output2=model.layers[7].output\n",
    "dense2=keras.Model(inputs=dense_input2,outputs=dense_output2)\n",
    "output_dense2=dropout.predict(output_dense)\n",
    "output_dense2"
   ]
  }
 ],
 "metadata": {
  "kernelspec": {
   "display_name": "Python 3.8.0 64-bit",
   "language": "python",
   "name": "python3"
  },
  "language_info": {
   "codemirror_mode": {
    "name": "ipython",
    "version": 3
   },
   "file_extension": ".py",
   "mimetype": "text/x-python",
   "name": "python",
   "nbconvert_exporter": "python",
   "pygments_lexer": "ipython3",
   "version": "3.8.0"
  },
  "orig_nbformat": 4,
  "vscode": {
   "interpreter": {
    "hash": "ff0d91300876931207232d01add3156fa7c8214350996c757a3c6cebc4b3b5d5"
   }
  }
 },
 "nbformat": 4,
 "nbformat_minor": 2
}
