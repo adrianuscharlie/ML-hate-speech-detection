{
 "cells": [
  {
   "cell_type": "markdown",
   "metadata": {},
   "source": [
    "Melakukan import libraries yang dibutukan"
   ]
  },
  {
   "cell_type": "code",
   "execution_count": 1,
   "metadata": {},
   "outputs": [],
   "source": [
    "import pandas as pd\n",
    "import tensorflow as tf"
   ]
  },
  {
   "cell_type": "code",
   "execution_count": 2,
   "metadata": {},
   "outputs": [
    {
     "data": {
      "text/html": [
       "<div>\n",
       "<style scoped>\n",
       "    .dataframe tbody tr th:only-of-type {\n",
       "        vertical-align: middle;\n",
       "    }\n",
       "\n",
       "    .dataframe tbody tr th {\n",
       "        vertical-align: top;\n",
       "    }\n",
       "\n",
       "    .dataframe thead th {\n",
       "        text-align: right;\n",
       "    }\n",
       "</style>\n",
       "<table border=\"1\" class=\"dataframe\">\n",
       "  <thead>\n",
       "    <tr style=\"text-align: right;\">\n",
       "      <th></th>\n",
       "      <th>created_at</th>\n",
       "      <th>username</th>\n",
       "      <th>text</th>\n",
       "      <th>preprocessed</th>\n",
       "      <th>sentiment</th>\n",
       "    </tr>\n",
       "  </thead>\n",
       "  <tbody>\n",
       "    <tr>\n",
       "      <th>0</th>\n",
       "      <td>Thu Mar 02 23:59:30 +0000 2023</td>\n",
       "      <td>darkonsun</td>\n",
       "      <td>social media is a disease and this hailey bieb...</td>\n",
       "      <td>social media diseas hailey bieber selena gomez...</td>\n",
       "      <td>Neutral</td>\n",
       "    </tr>\n",
       "    <tr>\n",
       "      <th>1</th>\n",
       "      <td>Thu Mar 02 23:56:18 +0000 2023</td>\n",
       "      <td>babyyyannieee</td>\n",
       "      <td>Justin Bieber &amp;amp; Selena Gomez followed each...</td>\n",
       "      <td>justin bieber amp selena gomez follow twitter ...</td>\n",
       "      <td>Neutral</td>\n",
       "    </tr>\n",
       "    <tr>\n",
       "      <th>2</th>\n",
       "      <td>Thu Mar 02 23:55:57 +0000 2023</td>\n",
       "      <td>likabeast101</td>\n",
       "      <td>Selena Gomez drove by my house 🙀</td>\n",
       "      <td>selena gomez drive hous</td>\n",
       "      <td>Neutral</td>\n",
       "    </tr>\n",
       "    <tr>\n",
       "      <th>3</th>\n",
       "      <td>Thu Mar 02 23:55:36 +0000 2023</td>\n",
       "      <td>whoismelanyway</td>\n",
       "      <td>I understand hailey Bieber because if my husba...</td>\n",
       "      <td>understand hailey bieber husband ex selena gom...</td>\n",
       "      <td>Neutral</td>\n",
       "    </tr>\n",
       "    <tr>\n",
       "      <th>4</th>\n",
       "      <td>Thu Mar 02 23:54:50 +0000 2023</td>\n",
       "      <td>_mayyraa</td>\n",
       "      <td>but then i always realize because SELENA GOMEZ...</td>\n",
       "      <td>alway realiz selena gomez alway look good</td>\n",
       "      <td>Positive</td>\n",
       "    </tr>\n",
       "    <tr>\n",
       "      <th>...</th>\n",
       "      <td>...</td>\n",
       "      <td>...</td>\n",
       "      <td>...</td>\n",
       "      <td>...</td>\n",
       "      <td>...</td>\n",
       "    </tr>\n",
       "    <tr>\n",
       "      <th>5201</th>\n",
       "      <td>Wed Mar 01 10:19:04 +0000 2023</td>\n",
       "      <td>SAFFAOnAirRadio</td>\n",
       "      <td>@SAFFAOnAirRadio is now playing, Selena Gomez,...</td>\n",
       "      <td>saffaonairradio play selena gomez marshmello w...</td>\n",
       "      <td>Positive</td>\n",
       "    </tr>\n",
       "    <tr>\n",
       "      <th>5202</th>\n",
       "      <td>Wed Mar 01 10:19:01 +0000 2023</td>\n",
       "      <td>tshepiixx</td>\n",
       "      <td>Go follow Selena Gomez on IG 😡</td>\n",
       "      <td>go follow selena gomez ig</td>\n",
       "      <td>Neutral</td>\n",
       "    </tr>\n",
       "    <tr>\n",
       "      <th>5203</th>\n",
       "      <td>Wed Mar 01 10:17:59 +0000 2023</td>\n",
       "      <td>Chief_I_H8_U</td>\n",
       "      <td>@Ricius496 @endlessbonerz Selena Gomez has a m...</td>\n",
       "      <td>riciu endlessbonerz selena gomez medic issu st...</td>\n",
       "      <td>Neutral</td>\n",
       "    </tr>\n",
       "    <tr>\n",
       "      <th>5204</th>\n",
       "      <td>Wed Mar 01 10:15:42 +0000 2023</td>\n",
       "      <td>vinalraswati</td>\n",
       "      <td>I still can taste it and i hate it. \\n\\nPeople...</td>\n",
       "      <td>still tast hate peopl know selena gomez</td>\n",
       "      <td>Negative</td>\n",
       "    </tr>\n",
       "    <tr>\n",
       "      <th>5205</th>\n",
       "      <td>Wed Mar 01 10:13:24 +0000 2023</td>\n",
       "      <td>TheSwaddle</td>\n",
       "      <td>Over the past few days, the alleged feud betwe...</td>\n",
       "      <td>past day alleg feud selena gomez hailey bieber...</td>\n",
       "      <td>Negative</td>\n",
       "    </tr>\n",
       "  </tbody>\n",
       "</table>\n",
       "<p>5206 rows × 5 columns</p>\n",
       "</div>"
      ],
      "text/plain": [
       "                          created_at         username  \\\n",
       "0     Thu Mar 02 23:59:30 +0000 2023        darkonsun   \n",
       "1     Thu Mar 02 23:56:18 +0000 2023    babyyyannieee   \n",
       "2     Thu Mar 02 23:55:57 +0000 2023     likabeast101   \n",
       "3     Thu Mar 02 23:55:36 +0000 2023   whoismelanyway   \n",
       "4     Thu Mar 02 23:54:50 +0000 2023         _mayyraa   \n",
       "...                              ...              ...   \n",
       "5201  Wed Mar 01 10:19:04 +0000 2023  SAFFAOnAirRadio   \n",
       "5202  Wed Mar 01 10:19:01 +0000 2023        tshepiixx   \n",
       "5203  Wed Mar 01 10:17:59 +0000 2023     Chief_I_H8_U   \n",
       "5204  Wed Mar 01 10:15:42 +0000 2023     vinalraswati   \n",
       "5205  Wed Mar 01 10:13:24 +0000 2023       TheSwaddle   \n",
       "\n",
       "                                                   text  \\\n",
       "0     social media is a disease and this hailey bieb...   \n",
       "1     Justin Bieber &amp; Selena Gomez followed each...   \n",
       "2                      Selena Gomez drove by my house 🙀   \n",
       "3     I understand hailey Bieber because if my husba...   \n",
       "4     but then i always realize because SELENA GOMEZ...   \n",
       "...                                                 ...   \n",
       "5201  @SAFFAOnAirRadio is now playing, Selena Gomez,...   \n",
       "5202                     Go follow Selena Gomez on IG 😡   \n",
       "5203  @Ricius496 @endlessbonerz Selena Gomez has a m...   \n",
       "5204  I still can taste it and i hate it. \\n\\nPeople...   \n",
       "5205  Over the past few days, the alleged feud betwe...   \n",
       "\n",
       "                                           preprocessed sentiment  \n",
       "0     social media diseas hailey bieber selena gomez...   Neutral  \n",
       "1     justin bieber amp selena gomez follow twitter ...   Neutral  \n",
       "2                               selena gomez drive hous   Neutral  \n",
       "3     understand hailey bieber husband ex selena gom...   Neutral  \n",
       "4             alway realiz selena gomez alway look good  Positive  \n",
       "...                                                 ...       ...  \n",
       "5201  saffaonairradio play selena gomez marshmello w...  Positive  \n",
       "5202                          go follow selena gomez ig   Neutral  \n",
       "5203  riciu endlessbonerz selena gomez medic issu st...   Neutral  \n",
       "5204            still tast hate peopl know selena gomez  Negative  \n",
       "5205  past day alleg feud selena gomez hailey bieber...  Negative  \n",
       "\n",
       "[5206 rows x 5 columns]"
      ]
     },
     "execution_count": 2,
     "metadata": {},
     "output_type": "execute_result"
    }
   ],
   "source": [
    "data=pd.read_excel('./selenagomez_clean.xlsx')\n",
    "del data['Unnamed: 0']\n",
    "data"
   ]
  },
  {
   "cell_type": "code",
   "execution_count": 3,
   "metadata": {},
   "outputs": [
    {
     "data": {
      "text/html": [
       "<div>\n",
       "<style scoped>\n",
       "    .dataframe tbody tr th:only-of-type {\n",
       "        vertical-align: middle;\n",
       "    }\n",
       "\n",
       "    .dataframe tbody tr th {\n",
       "        vertical-align: top;\n",
       "    }\n",
       "\n",
       "    .dataframe thead th {\n",
       "        text-align: right;\n",
       "    }\n",
       "</style>\n",
       "<table border=\"1\" class=\"dataframe\">\n",
       "  <thead>\n",
       "    <tr style=\"text-align: right;\">\n",
       "      <th></th>\n",
       "      <th>preprocessed</th>\n",
       "      <th>sentiment</th>\n",
       "    </tr>\n",
       "  </thead>\n",
       "  <tbody>\n",
       "    <tr>\n",
       "      <th>0</th>\n",
       "      <td>social media diseas hailey bieber selena gomez...</td>\n",
       "      <td>Neutral</td>\n",
       "    </tr>\n",
       "    <tr>\n",
       "      <th>1</th>\n",
       "      <td>justin bieber amp selena gomez follow twitter ...</td>\n",
       "      <td>Neutral</td>\n",
       "    </tr>\n",
       "    <tr>\n",
       "      <th>2</th>\n",
       "      <td>selena gomez drive hous</td>\n",
       "      <td>Neutral</td>\n",
       "    </tr>\n",
       "    <tr>\n",
       "      <th>3</th>\n",
       "      <td>understand hailey bieber husband ex selena gom...</td>\n",
       "      <td>Neutral</td>\n",
       "    </tr>\n",
       "    <tr>\n",
       "      <th>4</th>\n",
       "      <td>alway realiz selena gomez alway look good</td>\n",
       "      <td>Positive</td>\n",
       "    </tr>\n",
       "    <tr>\n",
       "      <th>...</th>\n",
       "      <td>...</td>\n",
       "      <td>...</td>\n",
       "    </tr>\n",
       "    <tr>\n",
       "      <th>5201</th>\n",
       "      <td>saffaonairradio play selena gomez marshmello w...</td>\n",
       "      <td>Positive</td>\n",
       "    </tr>\n",
       "    <tr>\n",
       "      <th>5202</th>\n",
       "      <td>go follow selena gomez ig</td>\n",
       "      <td>Neutral</td>\n",
       "    </tr>\n",
       "    <tr>\n",
       "      <th>5203</th>\n",
       "      <td>riciu endlessbonerz selena gomez medic issu st...</td>\n",
       "      <td>Neutral</td>\n",
       "    </tr>\n",
       "    <tr>\n",
       "      <th>5204</th>\n",
       "      <td>still tast hate peopl know selena gomez</td>\n",
       "      <td>Negative</td>\n",
       "    </tr>\n",
       "    <tr>\n",
       "      <th>5205</th>\n",
       "      <td>past day alleg feud selena gomez hailey bieber...</td>\n",
       "      <td>Negative</td>\n",
       "    </tr>\n",
       "  </tbody>\n",
       "</table>\n",
       "<p>5206 rows × 2 columns</p>\n",
       "</div>"
      ],
      "text/plain": [
       "                                           preprocessed sentiment\n",
       "0     social media diseas hailey bieber selena gomez...   Neutral\n",
       "1     justin bieber amp selena gomez follow twitter ...   Neutral\n",
       "2                               selena gomez drive hous   Neutral\n",
       "3     understand hailey bieber husband ex selena gom...   Neutral\n",
       "4             alway realiz selena gomez alway look good  Positive\n",
       "...                                                 ...       ...\n",
       "5201  saffaonairradio play selena gomez marshmello w...  Positive\n",
       "5202                          go follow selena gomez ig   Neutral\n",
       "5203  riciu endlessbonerz selena gomez medic issu st...   Neutral\n",
       "5204            still tast hate peopl know selena gomez  Negative\n",
       "5205  past day alleg feud selena gomez hailey bieber...  Negative\n",
       "\n",
       "[5206 rows x 2 columns]"
      ]
     },
     "execution_count": 3,
     "metadata": {},
     "output_type": "execute_result"
    }
   ],
   "source": [
    "data=data[['preprocessed','sentiment']]\n",
    "data"
   ]
  },
  {
   "cell_type": "code",
   "execution_count": 4,
   "metadata": {},
   "outputs": [
    {
     "name": "stderr",
     "output_type": "stream",
     "text": [
      "C:\\Users\\ASUS\\AppData\\Local\\Temp\\ipykernel_17656\\1650668707.py:1: SettingWithCopyWarning: \n",
      "A value is trying to be set on a copy of a slice from a DataFrame.\n",
      "Try using .loc[row_indexer,col_indexer] = value instead\n",
      "\n",
      "See the caveats in the documentation: https://pandas.pydata.org/pandas-docs/stable/user_guide/indexing.html#returning-a-view-versus-a-copy\n",
      "  data.sentiment = pd.Categorical(pd.factorize(data.sentiment)[0])\n"
     ]
    },
    {
     "data": {
      "text/html": [
       "<div>\n",
       "<style scoped>\n",
       "    .dataframe tbody tr th:only-of-type {\n",
       "        vertical-align: middle;\n",
       "    }\n",
       "\n",
       "    .dataframe tbody tr th {\n",
       "        vertical-align: top;\n",
       "    }\n",
       "\n",
       "    .dataframe thead th {\n",
       "        text-align: right;\n",
       "    }\n",
       "</style>\n",
       "<table border=\"1\" class=\"dataframe\">\n",
       "  <thead>\n",
       "    <tr style=\"text-align: right;\">\n",
       "      <th></th>\n",
       "      <th>preprocessed</th>\n",
       "      <th>sentiment</th>\n",
       "    </tr>\n",
       "  </thead>\n",
       "  <tbody>\n",
       "    <tr>\n",
       "      <th>0</th>\n",
       "      <td>social media diseas hailey bieber selena gomez...</td>\n",
       "      <td>0</td>\n",
       "    </tr>\n",
       "    <tr>\n",
       "      <th>1</th>\n",
       "      <td>justin bieber amp selena gomez follow twitter ...</td>\n",
       "      <td>0</td>\n",
       "    </tr>\n",
       "    <tr>\n",
       "      <th>2</th>\n",
       "      <td>selena gomez drive hous</td>\n",
       "      <td>0</td>\n",
       "    </tr>\n",
       "    <tr>\n",
       "      <th>3</th>\n",
       "      <td>understand hailey bieber husband ex selena gom...</td>\n",
       "      <td>0</td>\n",
       "    </tr>\n",
       "    <tr>\n",
       "      <th>4</th>\n",
       "      <td>alway realiz selena gomez alway look good</td>\n",
       "      <td>1</td>\n",
       "    </tr>\n",
       "    <tr>\n",
       "      <th>...</th>\n",
       "      <td>...</td>\n",
       "      <td>...</td>\n",
       "    </tr>\n",
       "    <tr>\n",
       "      <th>5201</th>\n",
       "      <td>saffaonairradio play selena gomez marshmello w...</td>\n",
       "      <td>1</td>\n",
       "    </tr>\n",
       "    <tr>\n",
       "      <th>5202</th>\n",
       "      <td>go follow selena gomez ig</td>\n",
       "      <td>0</td>\n",
       "    </tr>\n",
       "    <tr>\n",
       "      <th>5203</th>\n",
       "      <td>riciu endlessbonerz selena gomez medic issu st...</td>\n",
       "      <td>0</td>\n",
       "    </tr>\n",
       "    <tr>\n",
       "      <th>5204</th>\n",
       "      <td>still tast hate peopl know selena gomez</td>\n",
       "      <td>2</td>\n",
       "    </tr>\n",
       "    <tr>\n",
       "      <th>5205</th>\n",
       "      <td>past day alleg feud selena gomez hailey bieber...</td>\n",
       "      <td>2</td>\n",
       "    </tr>\n",
       "  </tbody>\n",
       "</table>\n",
       "<p>5206 rows × 2 columns</p>\n",
       "</div>"
      ],
      "text/plain": [
       "                                           preprocessed sentiment\n",
       "0     social media diseas hailey bieber selena gomez...         0\n",
       "1     justin bieber amp selena gomez follow twitter ...         0\n",
       "2                               selena gomez drive hous         0\n",
       "3     understand hailey bieber husband ex selena gom...         0\n",
       "4             alway realiz selena gomez alway look good         1\n",
       "...                                                 ...       ...\n",
       "5201  saffaonairradio play selena gomez marshmello w...         1\n",
       "5202                          go follow selena gomez ig         0\n",
       "5203  riciu endlessbonerz selena gomez medic issu st...         0\n",
       "5204            still tast hate peopl know selena gomez         2\n",
       "5205  past day alleg feud selena gomez hailey bieber...         2\n",
       "\n",
       "[5206 rows x 2 columns]"
      ]
     },
     "execution_count": 4,
     "metadata": {},
     "output_type": "execute_result"
    }
   ],
   "source": [
    "data.sentiment = pd.Categorical(pd.factorize(data.sentiment)[0])\n",
    "data"
   ]
  },
  {
   "cell_type": "code",
   "execution_count": 6,
   "metadata": {},
   "outputs": [],
   "source": [
    "from sklearn.model_selection import train_test_split\n",
    "from tensorflow.keras.preprocessing.text import Tokenizer\n",
    "from tensorflow.keras.preprocessing.sequence import pad_sequences"
   ]
  },
  {
   "cell_type": "code",
   "execution_count": null,
   "metadata": {},
   "outputs": [],
   "source": [
    "#vectorizer = TfidfVectorizer()\n",
    "##vectors = vectorizer.fit_transform(data['preprocessed'])\n",
    "#feature_names = vectorizer.get_feature_names()\n",
    "#dense = vectors.todense()\n",
    "#denselist=dense.tolist()"
   ]
  },
  {
   "cell_type": "code",
   "execution_count": 39,
   "metadata": {},
   "outputs": [],
   "source": [
    "max_len=15\n",
    "trunc_type = 'post'\n",
    "padding_type = 'post'\n",
    "oov_tok = \"<OOV>\"\n",
    "tokenizer=Tokenizer(oov_token=oov_tok)\n",
    "tokenizer.fit_on_texts(data['preprocessed'])"
   ]
  },
  {
   "cell_type": "code",
   "execution_count": 58,
   "metadata": {},
   "outputs": [
    {
     "data": {
      "text/plain": [
       "6995"
      ]
     },
     "execution_count": 58,
     "metadata": {},
     "output_type": "execute_result"
    }
   ],
   "source": [
    "len(tokenizer.word_index)"
   ]
  },
  {
   "cell_type": "code",
   "execution_count": 59,
   "metadata": {},
   "outputs": [],
   "source": [
    "sequences=tokenizer.texts_to_sequences(data['preprocessed'])\n",
    "padded=pad_sequences(sequences=sequences,padding=padding_type,truncating=trunc_type,maxlen=max_len)\n",
    "temp=0\n",
    "kamus={}\n",
    "for item in sequences:\n",
    "    coba=len(item)\n",
    "    if coba not in kamus:\n",
    "        kamus[coba]=1\n",
    "    else:\n",
    "        kamus[coba]+=1"
   ]
  },
  {
   "cell_type": "code",
   "execution_count": 60,
   "metadata": {},
   "outputs": [
    {
     "data": {
      "image/png": "[encoded data removed]",
      "text/plain": [
       "<Figure size 432x288 with 1 Axes>"
      ]
     },
     "metadata": {
      "needs_background": "light"
     },
     "output_type": "display_data"
    }
   ],
   "source": [
    "import matplotlib.pylab as plt\n",
    "\n",
    "lists = sorted(kamus.items()) # sorted by key, return a list of tuples\n",
    "\n",
    "x, y = zip(*lists) # unpack a list of pairs into two tuples\n",
    "\n",
    "plt.plot(x, y)\n",
    "plt.show()"
   ]
  },
  {
   "cell_type": "code",
   "execution_count": 42,
   "metadata": {},
   "outputs": [],
   "source": [
    "sequences=tokenizer.texts_to_sequences(data['preprocessed'])\n",
    "padded=pad_sequences(sequences=sequences,padding=padding_type,truncating=trunc_type,maxlen=max_len)"
   ]
  },
  {
   "cell_type": "code",
   "execution_count": 62,
   "metadata": {},
   "outputs": [
    {
     "data": {
      "text/plain": [
       "5206"
      ]
     },
     "execution_count": 62,
     "metadata": {},
     "output_type": "execute_result"
    }
   ],
   "source": [
    "len(padded)"
   ]
  },
  {
   "cell_type": "code",
   "execution_count": 43,
   "metadata": {},
   "outputs": [
    {
     "data": {
      "text/plain": [
       "((4685, 15), (521, 15), (4685,), (521,))"
      ]
     },
     "execution_count": 43,
     "metadata": {},
     "output_type": "execute_result"
    }
   ],
   "source": [
    "from sklearn.model_selection import train_test_split\n",
    "x_train,x_test,y_train,y_test=train_test_split(padded,data['sentiment'],test_size=0.1)\n",
    "x_train.shape,x_test.shape,y_train.shape,y_test.shape"
   ]
  },
  {
   "cell_type": "code",
   "execution_count": 44,
   "metadata": {},
   "outputs": [
    {
     "data": {
      "text/plain": [
       "((4685, 15), (521, 15), (4685, 3), (521, 3))"
      ]
     },
     "execution_count": 44,
     "metadata": {},
     "output_type": "execute_result"
    }
   ],
   "source": [
    "y_train= tf.keras.utils.to_categorical(y_train, num_classes=3)\n",
    "y_test= tf.keras.utils.to_categorical(y_test, num_classes=3)\n",
    "x_train.shape,x_test.shape,y_train.shape,y_test.shape"
   ]
  },
  {
   "cell_type": "code",
   "execution_count": 45,
   "metadata": {},
   "outputs": [],
   "source": [
    "from keras import backend as K\n",
    "\n",
    "def recall_m(y_true, y_pred):\n",
    "    true_positives = K.sum(K.round(K.clip(y_true * y_pred, 0, 1)))\n",
    "    possible_positives = K.sum(K.round(K.clip(y_true, 0, 1)))\n",
    "    recall = true_positives / (possible_positives + K.epsilon())\n",
    "    return recall\n",
    "\n",
    "def precision_m(y_true, y_pred):\n",
    "    true_positives = K.sum(K.round(K.clip(y_true * y_pred, 0, 1)))\n",
    "    predicted_positives = K.sum(K.round(K.clip(y_pred, 0, 1)))\n",
    "    precision = true_positives / (predicted_positives + K.epsilon())\n",
    "    return precision\n",
    "\n",
    "def f1_m(y_true, y_pred):\n",
    "    precision = precision_m(y_true, y_pred)\n",
    "    recall = recall_m(y_true, y_pred)\n",
    "    return 2*((precision*recall)/(precision+recall+K.epsilon()))"
   ]
  },
  {
   "cell_type": "code",
   "execution_count": 53,
   "metadata": {},
   "outputs": [],
   "source": [
    "def createSimpleModel(skenario):\n",
    "    if skenario ==2:\n",
    "        model=tf.keras.models.Sequential([\n",
    "            tf.keras.layers.Embedding(len(tokenizer.word_index),16,input_length=max_len),\n",
    "            tf.keras.layers.LSTM(64,return_sequences=True,activation='tanh'),\n",
    "            tf.keras.layers.Flatten(),\n",
    "            tf.keras.layers.Dense(3, activation='softmax')\n",
    "        ])\n",
    "        model.compile(loss='categorical_crossentropy',optimizer=tf.keras.optimizers.RMSprop(),metrics=['accuracy',f1_m])\n",
    "    else:\n",
    "        model=tf.keras.models.Sequential([\n",
    "        tf.keras.layers.Embedding(len(tokenizer.word_index),1228,input_length=max_len),\n",
    "        tf.keras.layers.Bidirectional(tf.keras.layers.LSTM(64,return_sequences=True,activation='tanh')),\n",
    "        tf.keras.layers.Flatten(),\n",
    "        tf.keras.layers.Dense(3,activation='softmax')\n",
    "        ])\n",
    "        model.compile(loss='categorical_crossentropy',optimizer=tf.keras.optimizers.Adam(),metrics=['accuracy',f1_m])\n",
    "    model.summary()\n",
    "    return model\n"
   ]
  },
  {
   "cell_type": "code",
   "execution_count": null,
   "metadata": {},
   "outputs": [],
   "source": [
    "#from scikeras.wrappers import KerasClassifier\n",
    "##from sklearn.model_selection import KFold\n",
    "#from sklearn.model_selection import cross_val_score\n",
    "#estimator = KerasClassifier(build_fn=createModel(3), epochs=10, verbose=0)\n",
    "#kfold = KFold(n_splits=3, shuffle=True)\n",
    "#results = cross_val_score(estimator, x_train, y_train, cv=kfold)\n",
    "#print(results.mean())"
   ]
  },
  {
   "cell_type": "code",
   "execution_count": 47,
   "metadata": {},
   "outputs": [],
   "source": [
    "callback = tf.keras.callbacks.EarlyStopping(\n",
    "    monitor=\"val_accuracy\",\n",
    "    min_delta=0,\n",
    "    patience=5,\n",
    "    verbose=1,\n",
    "    mode=\"auto\",\n",
    "    baseline=None,\n",
    "    restore_best_weights=True,\n",
    ")"
   ]
  },
  {
   "cell_type": "code",
   "execution_count": 54,
   "metadata": {},
   "outputs": [
    {
     "name": "stdout",
     "output_type": "stream",
     "text": [
      "Model: \"sequential_4\"\n",
      "_________________________________________________________________\n",
      " Layer (type)                Output Shape              Param #   \n",
      "=================================================================\n",
      " embedding_4 (Embedding)     (None, 15, 1228)          8589860   \n",
      "                                                                 \n",
      " bidirectional_3 (Bidirectio  (None, 15, 128)          662016    \n",
      " nal)                                                            \n",
      "                                                                 \n",
      " flatten_4 (Flatten)         (None, 1920)              0         \n",
      "                                                                 \n",
      " dense_4 (Dense)             (None, 3)                 5763      \n",
      "                                                                 \n",
      "=================================================================\n",
      "Total params: 9,257,639\n",
      "Trainable params: 9,257,639\n",
      "Non-trainable params: 0\n",
      "_________________________________________________________________\n",
      "Epoch 1/20\n",
      "132/132 [==============================] - 6s 25ms/step - loss: 0.6561 - accuracy: 0.7118 - f1_m: 0.6443 - val_loss: 0.3712 - val_accuracy: 0.8678 - val_f1_m: 0.8618\n",
      "Epoch 2/20\n",
      "132/132 [==============================] - 2s 17ms/step - loss: 0.1568 - accuracy: 0.9559 - f1_m: 0.9549 - val_loss: 0.3662 - val_accuracy: 0.8977 - val_f1_m: 0.8994\n",
      "Epoch 3/20\n",
      "132/132 [==============================] - 2s 16ms/step - loss: 0.0437 - accuracy: 0.9872 - f1_m: 0.9872 - val_loss: 0.4162 - val_accuracy: 0.8763 - val_f1_m: 0.8811\n",
      "Epoch 4/20\n",
      "132/132 [==============================] - 2s 18ms/step - loss: 0.0214 - accuracy: 0.9950 - f1_m: 0.9949 - val_loss: 0.5646 - val_accuracy: 0.8465 - val_f1_m: 0.8450\n",
      "Epoch 5/20\n",
      "132/132 [==============================] - 2s 18ms/step - loss: 0.0251 - accuracy: 0.9943 - f1_m: 0.9942 - val_loss: 0.5317 - val_accuracy: 0.8571 - val_f1_m: 0.8492\n",
      "Epoch 6/20\n",
      "132/132 [==============================] - 2s 17ms/step - loss: 0.0165 - accuracy: 0.9953 - f1_m: 0.9952 - val_loss: 0.4916 - val_accuracy: 0.8763 - val_f1_m: 0.8785\n",
      "Epoch 7/20\n",
      "132/132 [==============================] - 2s 18ms/step - loss: 0.0068 - accuracy: 0.9983 - f1_m: 0.9982 - val_loss: 0.5463 - val_accuracy: 0.8742 - val_f1_m: 0.8729\n",
      "Epoch 8/20\n",
      "132/132 [==============================] - 3s 19ms/step - loss: 0.0051 - accuracy: 0.9988 - f1_m: 0.9988 - val_loss: 0.6416 - val_accuracy: 0.8678 - val_f1_m: 0.8720\n",
      "Epoch 9/20\n",
      "132/132 [==============================] - 2s 18ms/step - loss: 0.0076 - accuracy: 0.9981 - f1_m: 0.9980 - val_loss: 0.5976 - val_accuracy: 0.8657 - val_f1_m: 0.8666\n",
      "Epoch 10/20\n",
      "132/132 [==============================] - 2s 18ms/step - loss: 0.0059 - accuracy: 0.9976 - f1_m: 0.9977 - val_loss: 0.6890 - val_accuracy: 0.8678 - val_f1_m: 0.8674\n",
      "Epoch 11/20\n",
      "132/132 [==============================] - 2s 17ms/step - loss: 0.0110 - accuracy: 0.9967 - f1_m: 0.9966 - val_loss: 0.6383 - val_accuracy: 0.8678 - val_f1_m: 0.8701\n",
      "Epoch 12/20\n",
      "132/132 [==============================] - 2s 17ms/step - loss: 8.9636e-04 - accuracy: 1.0000 - f1_m: 1.0000 - val_loss: 0.6530 - val_accuracy: 0.8699 - val_f1_m: 0.8693\n",
      "Epoch 13/20\n",
      "132/132 [==============================] - 2s 17ms/step - loss: 1.8891e-04 - accuracy: 1.0000 - f1_m: 1.0000 - val_loss: 0.6832 - val_accuracy: 0.8699 - val_f1_m: 0.8708\n",
      "Epoch 14/20\n",
      "132/132 [==============================] - 2s 17ms/step - loss: 1.1113e-04 - accuracy: 1.0000 - f1_m: 1.0000 - val_loss: 0.7031 - val_accuracy: 0.8699 - val_f1_m: 0.8696\n",
      "Epoch 15/20\n",
      "132/132 [==============================] - 3s 19ms/step - loss: 7.8142e-05 - accuracy: 1.0000 - f1_m: 1.0000 - val_loss: 0.7195 - val_accuracy: 0.8699 - val_f1_m: 0.8696\n",
      "Epoch 16/20\n",
      "132/132 [==============================] - 2s 17ms/step - loss: 5.8724e-05 - accuracy: 1.0000 - f1_m: 1.0000 - val_loss: 0.7338 - val_accuracy: 0.8699 - val_f1_m: 0.8705\n",
      "Epoch 17/20\n",
      "132/132 [==============================] - 2s 18ms/step - loss: 4.6449e-05 - accuracy: 1.0000 - f1_m: 1.0000 - val_loss: 0.7463 - val_accuracy: 0.8699 - val_f1_m: 0.8705\n",
      "Epoch 18/20\n",
      "132/132 [==============================] - 2s 17ms/step - loss: 3.7901e-05 - accuracy: 1.0000 - f1_m: 1.0000 - val_loss: 0.7580 - val_accuracy: 0.8721 - val_f1_m: 0.8726\n",
      "Epoch 19/20\n",
      "132/132 [==============================] - 2s 18ms/step - loss: 3.0981e-05 - accuracy: 1.0000 - f1_m: 1.0000 - val_loss: 0.7685 - val_accuracy: 0.8721 - val_f1_m: 0.8726\n",
      "Epoch 20/20\n",
      "132/132 [==============================] - 2s 17ms/step - loss: 2.5908e-05 - accuracy: 1.0000 - f1_m: 1.0000 - val_loss: 0.7785 - val_accuracy: 0.8721 - val_f1_m: 0.8726\n"
     ]
    }
   ],
   "source": [
    "model=createSimpleModel(3)\n",
    "history=model.fit(x_train,y_train,epochs=20,validation_split=0.1)"
   ]
  },
  {
   "cell_type": "code",
   "execution_count": 55,
   "metadata": {},
   "outputs": [
    {
     "name": "stdout",
     "output_type": "stream",
     "text": [
      "17/17 [==============================] - 0s 8ms/step - loss: 0.7330 - accuracy: 0.8791 - f1_m: 0.8756\n"
     ]
    },
    {
     "data": {
      "text/plain": [
       "[0.7329792380332947, 0.8790786862373352, 0.8756126761436462]"
      ]
     },
     "execution_count": 55,
     "metadata": {},
     "output_type": "execute_result"
    }
   ],
   "source": [
    "temp=model.evaluate(x_test,y_test)\n",
    "temp"
   ]
  },
  {
   "cell_type": "code",
   "execution_count": 56,
   "metadata": {},
   "outputs": [
    {
     "data": {
      "text/plain": [
       "<sklearn.metrics._plot.confusion_matrix.ConfusionMatrixDisplay at 0x17b364a6fd0>"
      ]
     },
     "execution_count": 56,
     "metadata": {},
     "output_type": "execute_result"
    },
    {
     "data": {
      "image/png": "[encoded data removed]",
      "text/plain": [
       "<Figure size 432x288 with 2 Axes>"
      ]
     },
     "metadata": {
      "needs_background": "light"
     },
     "output_type": "display_data"
    }
   ],
   "source": [
    "from sklearn.metrics import confusion_matrix, ConfusionMatrixDisplay\n",
    "import numpy as np\n",
    "predict=model.predict(x_test)\n",
    "confusion=confusion_matrix(np.argmax(y_test,axis=1),np.argmax(predict,axis=1))\n",
    "display=ConfusionMatrixDisplay(confusion_matrix=confusion)\n",
    "display.plot()"
   ]
  },
  {
   "cell_type": "code",
   "execution_count": 35,
   "metadata": {},
   "outputs": [],
   "source": [
    "import matplotlib.pyplot as plt\n",
    "\n",
    "def plot_graphs(history):\n",
    "  figure, axis = plt.subplots(2, 2)\n",
    "  figure.set_size_inches(18.5, 10.5, forward=True)\n",
    "\n",
    "  axis[0,0].plot(history.history['accuracy'])\n",
    "  axis[0,0].plot(history.history['val_accuracy'])\n",
    "  axis[0,0].set_title('Accuracy')\n",
    "  axis[0,0].legend(['accuracy','val_accuracy'])\n",
    "\n",
    "  axis[0,1].plot(history.history['loss'])\n",
    "  axis[0,1].plot(history.history['val_loss'])\n",
    "  axis[0,1].set_title('Loss')\n",
    "  axis[0,1].legend(['loss','val_loss'])\n",
    "\n",
    "  axis[1,0].plot(history.history['f1_m'])\n",
    "  axis[1,0].plot(history.history['val_f1_m'])\n",
    "  axis[1,0].set_title('F1-Score')\n",
    "  axis[1,0].legend(['f1_m','val_f1_m'])\n",
    "  plt.show()"
   ]
  },
  {
   "cell_type": "code",
   "execution_count": 57,
   "metadata": {},
   "outputs": [
    {
     "data": {
      "image/png": "[encoded data removed]",
      "text/plain": [
       "<Figure size 1332x756 with 4 Axes>"
      ]
     },
     "metadata": {
      "needs_background": "light"
     },
     "output_type": "display_data"
    }
   ],
   "source": [
    "plot_graphs(history=history)"
   ]
  }
 ],
 "metadata": {
  "kernelspec": {
   "display_name": "Python 3.8.0 64-bit",
   "language": "python",
   "name": "python3"
  },
  "language_info": {
   "codemirror_mode": {
    "name": "ipython",
    "version": 3
   },
   "file_extension": ".py",
   "mimetype": "text/x-python",
   "name": "python",
   "nbconvert_exporter": "python",
   "pygments_lexer": "ipython3",
   "version": "3.8.0"
  },
  "orig_nbformat": 4,
  "vscode": {
   "interpreter": {
    "hash": "ff0d91300876931207232d01add3156fa7c8214350996c757a3c6cebc4b3b5d5"
   }
  }
 },
 "nbformat": 4,
 "nbformat_minor": 2
}
