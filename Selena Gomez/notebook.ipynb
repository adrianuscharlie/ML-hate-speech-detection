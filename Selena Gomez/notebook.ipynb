{
 "cells": [
  {
   "cell_type": "markdown",
   "metadata": {},
   "source": [
    "Melakukan import libraries yang dibutukan"
   ]
  },
  {
   "cell_type": "code",
   "execution_count": 1,
   "metadata": {},
   "outputs": [],
   "source": [
    "import pandas as pd\n",
    "import tensorflow as tf"
   ]
  },
  {
   "cell_type": "code",
   "execution_count": 2,
   "metadata": {},
   "outputs": [
    {
     "data": {
      "text/html": [
       "<div>\n",
       "<style scoped>\n",
       "    .dataframe tbody tr th:only-of-type {\n",
       "        vertical-align: middle;\n",
       "    }\n",
       "\n",
       "    .dataframe tbody tr th {\n",
       "        vertical-align: top;\n",
       "    }\n",
       "\n",
       "    .dataframe thead th {\n",
       "        text-align: right;\n",
       "    }\n",
       "</style>\n",
       "<table border=\"1\" class=\"dataframe\">\n",
       "  <thead>\n",
       "    <tr style=\"text-align: right;\">\n",
       "      <th></th>\n",
       "      <th>created_at</th>\n",
       "      <th>username</th>\n",
       "      <th>text</th>\n",
       "      <th>preprocessed</th>\n",
       "      <th>sentiment</th>\n",
       "    </tr>\n",
       "  </thead>\n",
       "  <tbody>\n",
       "    <tr>\n",
       "      <th>0</th>\n",
       "      <td>Thu Mar 02 23:59:30 +0000 2023</td>\n",
       "      <td>darkonsun</td>\n",
       "      <td>social media is a disease and this hailey bieb...</td>\n",
       "      <td>social media diseas hailey bieber selena gomez...</td>\n",
       "      <td>Neutral</td>\n",
       "    </tr>\n",
       "    <tr>\n",
       "      <th>1</th>\n",
       "      <td>Thu Mar 02 23:56:18 +0000 2023</td>\n",
       "      <td>babyyyannieee</td>\n",
       "      <td>Justin Bieber &amp;amp; Selena Gomez followed each...</td>\n",
       "      <td>justin bieber amp selena gomez follow twitter ...</td>\n",
       "      <td>Neutral</td>\n",
       "    </tr>\n",
       "    <tr>\n",
       "      <th>2</th>\n",
       "      <td>Thu Mar 02 23:55:57 +0000 2023</td>\n",
       "      <td>likabeast101</td>\n",
       "      <td>Selena Gomez drove by my house 🙀</td>\n",
       "      <td>selena gomez drive hous</td>\n",
       "      <td>Neutral</td>\n",
       "    </tr>\n",
       "    <tr>\n",
       "      <th>3</th>\n",
       "      <td>Thu Mar 02 23:55:36 +0000 2023</td>\n",
       "      <td>whoismelanyway</td>\n",
       "      <td>I understand hailey Bieber because if my husba...</td>\n",
       "      <td>understand hailey bieber husband ex selena gom...</td>\n",
       "      <td>Neutral</td>\n",
       "    </tr>\n",
       "    <tr>\n",
       "      <th>4</th>\n",
       "      <td>Thu Mar 02 23:54:50 +0000 2023</td>\n",
       "      <td>_mayyraa</td>\n",
       "      <td>but then i always realize because SELENA GOMEZ...</td>\n",
       "      <td>alway realiz selena gomez alway look good</td>\n",
       "      <td>Positive</td>\n",
       "    </tr>\n",
       "    <tr>\n",
       "      <th>...</th>\n",
       "      <td>...</td>\n",
       "      <td>...</td>\n",
       "      <td>...</td>\n",
       "      <td>...</td>\n",
       "      <td>...</td>\n",
       "    </tr>\n",
       "    <tr>\n",
       "      <th>5201</th>\n",
       "      <td>Wed Mar 01 10:19:04 +0000 2023</td>\n",
       "      <td>SAFFAOnAirRadio</td>\n",
       "      <td>@SAFFAOnAirRadio is now playing, Selena Gomez,...</td>\n",
       "      <td>saffaonairradio play selena gomez marshmello w...</td>\n",
       "      <td>Positive</td>\n",
       "    </tr>\n",
       "    <tr>\n",
       "      <th>5202</th>\n",
       "      <td>Wed Mar 01 10:19:01 +0000 2023</td>\n",
       "      <td>tshepiixx</td>\n",
       "      <td>Go follow Selena Gomez on IG 😡</td>\n",
       "      <td>go follow selena gomez ig</td>\n",
       "      <td>Neutral</td>\n",
       "    </tr>\n",
       "    <tr>\n",
       "      <th>5203</th>\n",
       "      <td>Wed Mar 01 10:17:59 +0000 2023</td>\n",
       "      <td>Chief_I_H8_U</td>\n",
       "      <td>@Ricius496 @endlessbonerz Selena Gomez has a m...</td>\n",
       "      <td>riciu endlessbonerz selena gomez medic issu st...</td>\n",
       "      <td>Neutral</td>\n",
       "    </tr>\n",
       "    <tr>\n",
       "      <th>5204</th>\n",
       "      <td>Wed Mar 01 10:15:42 +0000 2023</td>\n",
       "      <td>vinalraswati</td>\n",
       "      <td>I still can taste it and i hate it. \\n\\nPeople...</td>\n",
       "      <td>still tast hate peopl know selena gomez</td>\n",
       "      <td>Negative</td>\n",
       "    </tr>\n",
       "    <tr>\n",
       "      <th>5205</th>\n",
       "      <td>Wed Mar 01 10:13:24 +0000 2023</td>\n",
       "      <td>TheSwaddle</td>\n",
       "      <td>Over the past few days, the alleged feud betwe...</td>\n",
       "      <td>past day alleg feud selena gomez hailey bieber...</td>\n",
       "      <td>Negative</td>\n",
       "    </tr>\n",
       "  </tbody>\n",
       "</table>\n",
       "<p>5206 rows × 5 columns</p>\n",
       "</div>"
      ],
      "text/plain": [
       "                          created_at         username  \\\n",
       "0     Thu Mar 02 23:59:30 +0000 2023        darkonsun   \n",
       "1     Thu Mar 02 23:56:18 +0000 2023    babyyyannieee   \n",
       "2     Thu Mar 02 23:55:57 +0000 2023     likabeast101   \n",
       "3     Thu Mar 02 23:55:36 +0000 2023   whoismelanyway   \n",
       "4     Thu Mar 02 23:54:50 +0000 2023         _mayyraa   \n",
       "...                              ...              ...   \n",
       "5201  Wed Mar 01 10:19:04 +0000 2023  SAFFAOnAirRadio   \n",
       "5202  Wed Mar 01 10:19:01 +0000 2023        tshepiixx   \n",
       "5203  Wed Mar 01 10:17:59 +0000 2023     Chief_I_H8_U   \n",
       "5204  Wed Mar 01 10:15:42 +0000 2023     vinalraswati   \n",
       "5205  Wed Mar 01 10:13:24 +0000 2023       TheSwaddle   \n",
       "\n",
       "                                                   text  \\\n",
       "0     social media is a disease and this hailey bieb...   \n",
       "1     Justin Bieber &amp; Selena Gomez followed each...   \n",
       "2                      Selena Gomez drove by my house 🙀   \n",
       "3     I understand hailey Bieber because if my husba...   \n",
       "4     but then i always realize because SELENA GOMEZ...   \n",
       "...                                                 ...   \n",
       "5201  @SAFFAOnAirRadio is now playing, Selena Gomez,...   \n",
       "5202                     Go follow Selena Gomez on IG 😡   \n",
       "5203  @Ricius496 @endlessbonerz Selena Gomez has a m...   \n",
       "5204  I still can taste it and i hate it. \\n\\nPeople...   \n",
       "5205  Over the past few days, the alleged feud betwe...   \n",
       "\n",
       "                                           preprocessed sentiment  \n",
       "0     social media diseas hailey bieber selena gomez...   Neutral  \n",
       "1     justin bieber amp selena gomez follow twitter ...   Neutral  \n",
       "2                               selena gomez drive hous   Neutral  \n",
       "3     understand hailey bieber husband ex selena gom...   Neutral  \n",
       "4             alway realiz selena gomez alway look good  Positive  \n",
       "...                                                 ...       ...  \n",
       "5201  saffaonairradio play selena gomez marshmello w...  Positive  \n",
       "5202                          go follow selena gomez ig   Neutral  \n",
       "5203  riciu endlessbonerz selena gomez medic issu st...   Neutral  \n",
       "5204            still tast hate peopl know selena gomez  Negative  \n",
       "5205  past day alleg feud selena gomez hailey bieber...  Negative  \n",
       "\n",
       "[5206 rows x 5 columns]"
      ]
     },
     "execution_count": 2,
     "metadata": {},
     "output_type": "execute_result"
    }
   ],
   "source": [
    "data=pd.read_excel('./selenagomez_clean.xlsx')\n",
    "del data['Unnamed: 0']\n",
    "data"
   ]
  },
  {
   "cell_type": "code",
   "execution_count": 3,
   "metadata": {},
   "outputs": [
    {
     "data": {
      "text/html": [
       "<div>\n",
       "<style scoped>\n",
       "    .dataframe tbody tr th:only-of-type {\n",
       "        vertical-align: middle;\n",
       "    }\n",
       "\n",
       "    .dataframe tbody tr th {\n",
       "        vertical-align: top;\n",
       "    }\n",
       "\n",
       "    .dataframe thead th {\n",
       "        text-align: right;\n",
       "    }\n",
       "</style>\n",
       "<table border=\"1\" class=\"dataframe\">\n",
       "  <thead>\n",
       "    <tr style=\"text-align: right;\">\n",
       "      <th></th>\n",
       "      <th>preprocessed</th>\n",
       "      <th>sentiment</th>\n",
       "    </tr>\n",
       "  </thead>\n",
       "  <tbody>\n",
       "    <tr>\n",
       "      <th>0</th>\n",
       "      <td>social media diseas hailey bieber selena gomez...</td>\n",
       "      <td>Neutral</td>\n",
       "    </tr>\n",
       "    <tr>\n",
       "      <th>1</th>\n",
       "      <td>justin bieber amp selena gomez follow twitter ...</td>\n",
       "      <td>Neutral</td>\n",
       "    </tr>\n",
       "    <tr>\n",
       "      <th>2</th>\n",
       "      <td>selena gomez drive hous</td>\n",
       "      <td>Neutral</td>\n",
       "    </tr>\n",
       "    <tr>\n",
       "      <th>3</th>\n",
       "      <td>understand hailey bieber husband ex selena gom...</td>\n",
       "      <td>Neutral</td>\n",
       "    </tr>\n",
       "    <tr>\n",
       "      <th>4</th>\n",
       "      <td>alway realiz selena gomez alway look good</td>\n",
       "      <td>Positive</td>\n",
       "    </tr>\n",
       "    <tr>\n",
       "      <th>...</th>\n",
       "      <td>...</td>\n",
       "      <td>...</td>\n",
       "    </tr>\n",
       "    <tr>\n",
       "      <th>5201</th>\n",
       "      <td>saffaonairradio play selena gomez marshmello w...</td>\n",
       "      <td>Positive</td>\n",
       "    </tr>\n",
       "    <tr>\n",
       "      <th>5202</th>\n",
       "      <td>go follow selena gomez ig</td>\n",
       "      <td>Neutral</td>\n",
       "    </tr>\n",
       "    <tr>\n",
       "      <th>5203</th>\n",
       "      <td>riciu endlessbonerz selena gomez medic issu st...</td>\n",
       "      <td>Neutral</td>\n",
       "    </tr>\n",
       "    <tr>\n",
       "      <th>5204</th>\n",
       "      <td>still tast hate peopl know selena gomez</td>\n",
       "      <td>Negative</td>\n",
       "    </tr>\n",
       "    <tr>\n",
       "      <th>5205</th>\n",
       "      <td>past day alleg feud selena gomez hailey bieber...</td>\n",
       "      <td>Negative</td>\n",
       "    </tr>\n",
       "  </tbody>\n",
       "</table>\n",
       "<p>5206 rows × 2 columns</p>\n",
       "</div>"
      ],
      "text/plain": [
       "                                           preprocessed sentiment\n",
       "0     social media diseas hailey bieber selena gomez...   Neutral\n",
       "1     justin bieber amp selena gomez follow twitter ...   Neutral\n",
       "2                               selena gomez drive hous   Neutral\n",
       "3     understand hailey bieber husband ex selena gom...   Neutral\n",
       "4             alway realiz selena gomez alway look good  Positive\n",
       "...                                                 ...       ...\n",
       "5201  saffaonairradio play selena gomez marshmello w...  Positive\n",
       "5202                          go follow selena gomez ig   Neutral\n",
       "5203  riciu endlessbonerz selena gomez medic issu st...   Neutral\n",
       "5204            still tast hate peopl know selena gomez  Negative\n",
       "5205  past day alleg feud selena gomez hailey bieber...  Negative\n",
       "\n",
       "[5206 rows x 2 columns]"
      ]
     },
     "execution_count": 3,
     "metadata": {},
     "output_type": "execute_result"
    }
   ],
   "source": [
    "data=data[['preprocessed','sentiment']]\n",
    "data"
   ]
  },
  {
   "cell_type": "code",
   "execution_count": 4,
   "metadata": {},
   "outputs": [
    {
     "name": "stderr",
     "output_type": "stream",
     "text": [
      "C:\\Users\\ASUS\\AppData\\Local\\Temp\\ipykernel_8300\\1650668707.py:1: SettingWithCopyWarning: \n",
      "A value is trying to be set on a copy of a slice from a DataFrame.\n",
      "Try using .loc[row_indexer,col_indexer] = value instead\n",
      "\n",
      "See the caveats in the documentation: https://pandas.pydata.org/pandas-docs/stable/user_guide/indexing.html#returning-a-view-versus-a-copy\n",
      "  data.sentiment = pd.Categorical(pd.factorize(data.sentiment)[0])\n"
     ]
    },
    {
     "data": {
      "text/html": [
       "<div>\n",
       "<style scoped>\n",
       "    .dataframe tbody tr th:only-of-type {\n",
       "        vertical-align: middle;\n",
       "    }\n",
       "\n",
       "    .dataframe tbody tr th {\n",
       "        vertical-align: top;\n",
       "    }\n",
       "\n",
       "    .dataframe thead th {\n",
       "        text-align: right;\n",
       "    }\n",
       "</style>\n",
       "<table border=\"1\" class=\"dataframe\">\n",
       "  <thead>\n",
       "    <tr style=\"text-align: right;\">\n",
       "      <th></th>\n",
       "      <th>preprocessed</th>\n",
       "      <th>sentiment</th>\n",
       "    </tr>\n",
       "  </thead>\n",
       "  <tbody>\n",
       "    <tr>\n",
       "      <th>0</th>\n",
       "      <td>social media diseas hailey bieber selena gomez...</td>\n",
       "      <td>0</td>\n",
       "    </tr>\n",
       "    <tr>\n",
       "      <th>1</th>\n",
       "      <td>justin bieber amp selena gomez follow twitter ...</td>\n",
       "      <td>0</td>\n",
       "    </tr>\n",
       "    <tr>\n",
       "      <th>2</th>\n",
       "      <td>selena gomez drive hous</td>\n",
       "      <td>0</td>\n",
       "    </tr>\n",
       "    <tr>\n",
       "      <th>3</th>\n",
       "      <td>understand hailey bieber husband ex selena gom...</td>\n",
       "      <td>0</td>\n",
       "    </tr>\n",
       "    <tr>\n",
       "      <th>4</th>\n",
       "      <td>alway realiz selena gomez alway look good</td>\n",
       "      <td>1</td>\n",
       "    </tr>\n",
       "    <tr>\n",
       "      <th>...</th>\n",
       "      <td>...</td>\n",
       "      <td>...</td>\n",
       "    </tr>\n",
       "    <tr>\n",
       "      <th>5201</th>\n",
       "      <td>saffaonairradio play selena gomez marshmello w...</td>\n",
       "      <td>1</td>\n",
       "    </tr>\n",
       "    <tr>\n",
       "      <th>5202</th>\n",
       "      <td>go follow selena gomez ig</td>\n",
       "      <td>0</td>\n",
       "    </tr>\n",
       "    <tr>\n",
       "      <th>5203</th>\n",
       "      <td>riciu endlessbonerz selena gomez medic issu st...</td>\n",
       "      <td>0</td>\n",
       "    </tr>\n",
       "    <tr>\n",
       "      <th>5204</th>\n",
       "      <td>still tast hate peopl know selena gomez</td>\n",
       "      <td>2</td>\n",
       "    </tr>\n",
       "    <tr>\n",
       "      <th>5205</th>\n",
       "      <td>past day alleg feud selena gomez hailey bieber...</td>\n",
       "      <td>2</td>\n",
       "    </tr>\n",
       "  </tbody>\n",
       "</table>\n",
       "<p>5206 rows × 2 columns</p>\n",
       "</div>"
      ],
      "text/plain": [
       "                                           preprocessed sentiment\n",
       "0     social media diseas hailey bieber selena gomez...         0\n",
       "1     justin bieber amp selena gomez follow twitter ...         0\n",
       "2                               selena gomez drive hous         0\n",
       "3     understand hailey bieber husband ex selena gom...         0\n",
       "4             alway realiz selena gomez alway look good         1\n",
       "...                                                 ...       ...\n",
       "5201  saffaonairradio play selena gomez marshmello w...         1\n",
       "5202                          go follow selena gomez ig         0\n",
       "5203  riciu endlessbonerz selena gomez medic issu st...         0\n",
       "5204            still tast hate peopl know selena gomez         2\n",
       "5205  past day alleg feud selena gomez hailey bieber...         2\n",
       "\n",
       "[5206 rows x 2 columns]"
      ]
     },
     "execution_count": 4,
     "metadata": {},
     "output_type": "execute_result"
    }
   ],
   "source": [
    "data.sentiment = pd.Categorical(pd.factorize(data.sentiment)[0])\n",
    "data"
   ]
  },
  {
   "cell_type": "code",
   "execution_count": 5,
   "metadata": {},
   "outputs": [],
   "source": [
    "from sklearn.model_selection import train_test_split\n",
    "from tensorflow.keras.preprocessing.text import Tokenizer\n",
    "from tensorflow.keras.preprocessing.sequence import pad_sequences"
   ]
  },
  {
   "cell_type": "code",
   "execution_count": 6,
   "metadata": {},
   "outputs": [],
   "source": [
    "#vectorizer = TfidfVectorizer()\n",
    "##vectors = vectorizer.fit_transform(data['preprocessed'])\n",
    "#feature_names = vectorizer.get_feature_names()\n",
    "#dense = vectors.todense()\n",
    "#denselist=dense.tolist()"
   ]
  },
  {
   "cell_type": "code",
   "execution_count": 7,
   "metadata": {},
   "outputs": [],
   "source": [
    "max_len=15\n",
    "trunc_type = 'post'\n",
    "padding_type = 'post'\n",
    "oov_tok = \"<OOV>\"\n",
    "tokenizer=Tokenizer(oov_token=oov_tok)\n",
    "tokenizer.fit_on_texts(data['preprocessed'])"
   ]
  },
  {
   "cell_type": "code",
   "execution_count": 8,
   "metadata": {},
   "outputs": [
    {
     "data": {
      "text/plain": [
       "6995"
      ]
     },
     "execution_count": 8,
     "metadata": {},
     "output_type": "execute_result"
    }
   ],
   "source": [
    "len(tokenizer.word_index)"
   ]
  },
  {
   "cell_type": "code",
   "execution_count": 9,
   "metadata": {},
   "outputs": [],
   "source": [
    "sequences=tokenizer.texts_to_sequences(data['preprocessed'])\n",
    "padded=pad_sequences(sequences=sequences,padding=padding_type,truncating=trunc_type,maxlen=max_len)\n",
    "temp=0\n",
    "kamus={}\n",
    "for item in sequences:\n",
    "    coba=len(item)\n",
    "    if coba not in kamus:\n",
    "        kamus[coba]=1\n",
    "    else:\n",
    "        kamus[coba]+=1"
   ]
  },
  {
   "cell_type": "code",
   "execution_count": 10,
   "metadata": {},
   "outputs": [
    {
     "data": {
      "image/png": "[encoded data removed]",
      "text/plain": [
       "<Figure size 432x288 with 1 Axes>"
      ]
     },
     "metadata": {
      "needs_background": "light"
     },
     "output_type": "display_data"
    }
   ],
   "source": [
    "import matplotlib.pylab as plt\n",
    "\n",
    "lists = sorted(kamus.items()) # sorted by key, return a list of tuples\n",
    "\n",
    "x, y = zip(*lists) # unpack a list of pairs into two tuples\n",
    "\n",
    "plt.plot(x, y)\n",
    "plt.show()"
   ]
  },
  {
   "cell_type": "code",
   "execution_count": 11,
   "metadata": {},
   "outputs": [],
   "source": [
    "sequences=tokenizer.texts_to_sequences(data['preprocessed'])\n",
    "padded=pad_sequences(sequences=sequences,padding=padding_type,truncating=trunc_type,maxlen=max_len)"
   ]
  },
  {
   "cell_type": "code",
   "execution_count": 12,
   "metadata": {},
   "outputs": [
    {
     "data": {
      "text/plain": [
       "((4685, 15), (521, 15), (4685,), (521,))"
      ]
     },
     "execution_count": 12,
     "metadata": {},
     "output_type": "execute_result"
    }
   ],
   "source": [
    "from sklearn.model_selection import train_test_split\n",
    "x_train,x_test,y_train,y_test=train_test_split(padded,data['sentiment'],test_size=0.1)\n",
    "x_train.shape,x_test.shape,y_train.shape,y_test.shape"
   ]
  },
  {
   "cell_type": "code",
   "execution_count": 13,
   "metadata": {},
   "outputs": [
    {
     "data": {
      "text/plain": [
       "((4685, 15), (521, 15), (4685, 3), (521, 3))"
      ]
     },
     "execution_count": 13,
     "metadata": {},
     "output_type": "execute_result"
    }
   ],
   "source": [
    "y_train= tf.keras.utils.to_categorical(y_train, num_classes=3)\n",
    "y_test= tf.keras.utils.to_categorical(y_test, num_classes=3)\n",
    "x_train.shape,x_test.shape,y_train.shape,y_test.shape"
   ]
  },
  {
   "cell_type": "code",
   "execution_count": 14,
   "metadata": {},
   "outputs": [],
   "source": [
    "from keras import backend as K\n",
    "\n",
    "def recall_m(y_true, y_pred):\n",
    "    true_positives = K.sum(K.round(K.clip(y_true * y_pred, 0, 1)))\n",
    "    possible_positives = K.sum(K.round(K.clip(y_true, 0, 1)))\n",
    "    recall = true_positives / (possible_positives + K.epsilon())\n",
    "    return recall\n",
    "\n",
    "def precision_m(y_true, y_pred):\n",
    "    true_positives = K.sum(K.round(K.clip(y_true * y_pred, 0, 1)))\n",
    "    predicted_positives = K.sum(K.round(K.clip(y_pred, 0, 1)))\n",
    "    precision = true_positives / (predicted_positives + K.epsilon())\n",
    "    return precision\n",
    "\n",
    "def f1_m(y_true, y_pred):\n",
    "    precision = precision_m(y_true, y_pred)\n",
    "    recall = recall_m(y_true, y_pred)\n",
    "    return 2*((precision*recall)/(precision+recall+K.epsilon()))"
   ]
  },
  {
   "cell_type": "code",
   "execution_count": 31,
   "metadata": {},
   "outputs": [],
   "source": [
    "def createSimpleModel(skenario):\n",
    "    if skenario ==1:\n",
    "        model=tf.keras.models.Sequential([\n",
    "            tf.keras.layers.Embedding(len(tokenizer.word_index),16,input_length=max_len),\n",
    "            tf.keras.layers.LSTM(64,return_sequences=True,activation='sigmoid'),\n",
    "            tf.keras.layers.Flatten(),\n",
    "            tf.keras.layers.Dense(3, activation='sigmoid')\n",
    "        ])\n",
    "        model.compile(loss='categorical_crossentropy',optimizer=tf.keras.optimizers.Adam(),metrics=['accuracy',f1_m])\n",
    "    else:\n",
    "        model=tf.keras.models.Sequential([\n",
    "        tf.keras.layers.Embedding(len(tokenizer.word_index),16,input_length=max_len),\n",
    "        tf.keras.layers.Bidirectional(tf.keras.layers.LSTM(64,return_sequences=True,activation='sigmoid')),\n",
    "        tf.keras.layers.Flatten(),\n",
    "        tf.keras.layers.Dense(3,activation='sigmoid')\n",
    "        ])\n",
    "        model.compile(loss='categorical_crossentropy',optimizer=tf.keras.optimizers.Adam(),metrics=['accuracy',f1_m])\n",
    "    model.summary()\n",
    "    return model\n"
   ]
  },
  {
   "cell_type": "code",
   "execution_count": 15,
   "metadata": {},
   "outputs": [],
   "source": [
    "callback = tf.keras.callbacks.EarlyStopping(\n",
    "    monitor=\"val_accuracy\",\n",
    "    min_delta=0,\n",
    "    patience=5,\n",
    "    verbose=1,\n",
    "    mode=\"auto\",\n",
    "    baseline=None,\n",
    "    restore_best_weights=True,\n",
    ")"
   ]
  },
  {
   "cell_type": "code",
   "execution_count": 17,
   "metadata": {},
   "outputs": [],
   "source": [
    "#from scikeras.wrappers import KerasClassifier\n",
    "#from sklearn.model_selection import KFold\n",
    "#from sklearn.model_selection import cross_val_score\n",
    "##estimator = KerasClassifier(build_fn=createSimpleModel(2), epochs=20, verbose=1,callbacks=[callback],validation_split=0.1)\n",
    "#kfold = KFold(n_splits=5, shuffle=True)\n",
    "#results = cross_val_score(estimator, x_train, y_train, cv=kfold,scoring='accuracy')\n",
    "#results"
   ]
  },
  {
   "cell_type": "code",
   "execution_count": 16,
   "metadata": {},
   "outputs": [],
   "source": [
    "def createComplexModel(skenario):\n",
    "    if skenario ==1:\n",
    "        model=tf.keras.models.Sequential([\n",
    "            tf.keras.layers.Embedding(len(tokenizer.word_index),128,input_length=max_len),\n",
    "            tf.keras.layers.LSTM(128,return_sequences=True,activation='relu',dropout=0.2),\n",
    "            tf.keras.layers.LSTM(128,return_sequences=True,activation='relu',dropout=0.2),\n",
    "            tf.keras.layers.LSTM(128,return_sequences=True,activation='relu',dropout=0.2),\n",
    "            tf.keras.layers.Flatten(),\n",
    "            tf.keras.layers.Dense(512,activation='relu'),\n",
    "            tf.keras.layers.Dropout(0.5),\n",
    "            tf.keras.layers.Dense(3, activation='softmax')\n",
    "        ])\n",
    "        model.compile(loss='mse',optimizer=tf.keras.optimizers.RMSprop(),metrics=['accuracy',f1_m])\n",
    "    else:\n",
    "        model=tf.keras.models.Sequential([\n",
    "        tf.keras.layers.Embedding(len(tokenizer.word_index),128,input_length=max_len),\n",
    "        tf.keras.layers.Bidirectional(tf.keras.layers.LSTM(128,return_sequences=True,activation='relu',dropout=0.2)),\n",
    "        tf.keras.layers.Bidirectional(tf.keras.layers.LSTM(128,return_sequences=True,activation='relu',dropout=0.2)),\n",
    "        tf.keras.layers.Bidirectional(tf.keras.layers.LSTM(128,return_sequences=True,activation='relu',dropout=0.2)),\n",
    "        tf.keras.layers.Flatten(),\n",
    "        tf.keras.layers.Dense(512,activation='relu'),\n",
    "        tf.keras.layers.Dropout(0.5),\n",
    "        tf.keras.layers.Dense(3,activation='softmax')\n",
    "        ])\n",
    "        model.compile(loss='mse',optimizer=tf.keras.optimizers.RMSprop(),metrics=['accuracy',f1_m])\n",
    "    model.summary()\n",
    "    return model\n"
   ]
  },
  {
   "cell_type": "code",
   "execution_count": 17,
   "metadata": {},
   "outputs": [
    {
     "ename": "NameError",
     "evalue": "name 'createSimpleModel' is not defined",
     "output_type": "error",
     "traceback": [
      "\u001b[1;31m---------------------------------------------------------------------------\u001b[0m",
      "\u001b[1;31mNameError\u001b[0m                                 Traceback (most recent call last)",
      "\u001b[1;32md:\\Skripsi\\Selena Gomez\\notebook.ipynb Cell 20\u001b[0m in \u001b[0;36m<cell line: 3>\u001b[1;34m()\u001b[0m\n\u001b[0;32m      <a href='vscode-notebook-cell:/d%3A/Skripsi/Selena%20Gomez/notebook.ipynb#X25sZmlsZQ%3D%3D?line=1'>2</a>\u001b[0m models\u001b[39m=\u001b[39m[]\n\u001b[0;32m      <a href='vscode-notebook-cell:/d%3A/Skripsi/Selena%20Gomez/notebook.ipynb#X25sZmlsZQ%3D%3D?line=2'>3</a>\u001b[0m \u001b[39mfor\u001b[39;00m i \u001b[39min\u001b[39;00m \u001b[39mrange\u001b[39m(\u001b[39m1\u001b[39m,\u001b[39m3\u001b[39m):\n\u001b[1;32m----> <a href='vscode-notebook-cell:/d%3A/Skripsi/Selena%20Gomez/notebook.ipynb#X25sZmlsZQ%3D%3D?line=3'>4</a>\u001b[0m     model\u001b[39m=\u001b[39mcreateSimpleModel(i)\n\u001b[0;32m      <a href='vscode-notebook-cell:/d%3A/Skripsi/Selena%20Gomez/notebook.ipynb#X25sZmlsZQ%3D%3D?line=4'>5</a>\u001b[0m     history\u001b[39m=\u001b[39mmodel\u001b[39m.\u001b[39mfit(x_train,y_train,epochs\u001b[39m=\u001b[39m\u001b[39m20\u001b[39m,validation_split\u001b[39m=\u001b[39m\u001b[39m0.1\u001b[39m,callbacks\u001b[39m=\u001b[39m[callback])\n\u001b[0;32m      <a href='vscode-notebook-cell:/d%3A/Skripsi/Selena%20Gomez/notebook.ipynb#X25sZmlsZQ%3D%3D?line=5'>6</a>\u001b[0m     models\u001b[39m.\u001b[39mappend(model)\n",
      "\u001b[1;31mNameError\u001b[0m: name 'createSimpleModel' is not defined"
     ]
    }
   ],
   "source": [
    "result=[]\n",
    "models=[]\n",
    "for i in range(1,3):\n",
    "    model=createSimpleModel(i)\n",
    "    history=model.fit(x_train,y_train,epochs=20,validation_split=0.1,callbacks=[callback])\n",
    "    models.append(model)\n",
    "    result.append(history)"
   ]
  },
  {
   "cell_type": "code",
   "execution_count": 37,
   "metadata": {},
   "outputs": [
    {
     "name": "stdout",
     "output_type": "stream",
     "text": [
      "WARNING:tensorflow:Layer lstm_24 will not use cuDNN kernels since it doesn't meet the criteria. It will use a generic GPU kernel as fallback when running on GPU.\n",
      "WARNING:tensorflow:Layer lstm_25 will not use cuDNN kernels since it doesn't meet the criteria. It will use a generic GPU kernel as fallback when running on GPU.\n",
      "WARNING:tensorflow:Layer lstm_26 will not use cuDNN kernels since it doesn't meet the criteria. It will use a generic GPU kernel as fallback when running on GPU.\n",
      "Model: \"sequential_8\"\n",
      "_________________________________________________________________\n",
      " Layer (type)                Output Shape              Param #   \n",
      "=================================================================\n",
      " embedding_8 (Embedding)     (None, 15, 128)           895360    \n",
      "                                                                 \n",
      " lstm_24 (LSTM)              (None, 15, 128)           131584    \n",
      "                                                                 \n",
      " lstm_25 (LSTM)              (None, 15, 128)           131584    \n",
      "                                                                 \n",
      " lstm_26 (LSTM)              (None, 15, 128)           131584    \n",
      "                                                                 \n",
      " flatten_8 (Flatten)         (None, 1920)              0         \n",
      "                                                                 \n",
      " dense_16 (Dense)            (None, 512)               983552    \n",
      "                                                                 \n",
      " dropout_8 (Dropout)         (None, 512)               0         \n",
      "                                                                 \n",
      " dense_17 (Dense)            (None, 3)                 1539      \n",
      "                                                                 \n",
      "=================================================================\n",
      "Total params: 2,275,203\n",
      "Trainable params: 2,275,203\n",
      "Non-trainable params: 0\n",
      "_________________________________________________________________\n",
      "Epoch 1/20\n",
      "132/132 [==============================] - 27s 161ms/step - loss: 0.1727 - accuracy: 0.5759 - f1_m: 0.4605 - val_loss: 0.1253 - val_accuracy: 0.7079 - val_f1_m: 0.7108\n",
      "Epoch 2/20\n",
      "132/132 [==============================] - 20s 151ms/step - loss: 0.1025 - accuracy: 0.7891 - f1_m: 0.7692 - val_loss: 0.0950 - val_accuracy: 0.7974 - val_f1_m: 0.7967\n",
      "Epoch 3/20\n",
      "132/132 [==============================] - 20s 149ms/step - loss: 0.0687 - accuracy: 0.8681 - f1_m: 0.8691 - val_loss: 0.0847 - val_accuracy: 0.8465 - val_f1_m: 0.8450\n",
      "Epoch 4/20\n",
      "132/132 [==============================] - 20s 151ms/step - loss: 0.0419 - accuracy: 0.9213 - f1_m: 0.9209 - val_loss: 0.0737 - val_accuracy: 0.8529 - val_f1_m: 0.8504\n",
      "Epoch 5/20\n",
      "132/132 [==============================] - 22s 167ms/step - loss: 0.0282 - accuracy: 0.9485 - f1_m: 0.9488 - val_loss: 0.0639 - val_accuracy: 0.8891 - val_f1_m: 0.8879\n",
      "Epoch 6/20\n",
      "132/132 [==============================] - 19s 146ms/step - loss: 0.0220 - accuracy: 0.9602 - f1_m: 0.9606 - val_loss: 0.0632 - val_accuracy: 0.8870 - val_f1_m: 0.8812\n",
      "Epoch 7/20\n",
      "132/132 [==============================] - 19s 142ms/step - loss: 0.0176 - accuracy: 0.9694 - f1_m: 0.9692 - val_loss: 0.0872 - val_accuracy: 0.8358 - val_f1_m: 0.8348\n",
      "Epoch 8/20\n",
      "132/132 [==============================] - 408s 3s/step - loss: 0.0151 - accuracy: 0.9749 - f1_m: 0.9751 - val_loss: 0.0672 - val_accuracy: 0.8763 - val_f1_m: 0.8784\n",
      "Epoch 9/20\n",
      "132/132 [==============================] - 22s 167ms/step - loss: 0.0141 - accuracy: 0.9763 - f1_m: 0.9759 - val_loss: 0.0650 - val_accuracy: 0.8827 - val_f1_m: 0.8870\n",
      "Epoch 10/20\n",
      "132/132 [==============================] - ETA: 0s - loss: 0.0115 - accuracy: 0.9810 - f1_m: 0.9809Restoring model weights from the end of the best epoch: 5.\n",
      "132/132 [==============================] - 22s 168ms/step - loss: 0.0115 - accuracy: 0.9810 - f1_m: 0.9809 - val_loss: 0.0665 - val_accuracy: 0.8806 - val_f1_m: 0.8834\n",
      "Epoch 00010: early stopping\n",
      "WARNING:tensorflow:Layer lstm_27 will not use cuDNN kernels since it doesn't meet the criteria. It will use a generic GPU kernel as fallback when running on GPU.\n",
      "WARNING:tensorflow:Layer lstm_27 will not use cuDNN kernels since it doesn't meet the criteria. It will use a generic GPU kernel as fallback when running on GPU.\n",
      "WARNING:tensorflow:Layer lstm_27 will not use cuDNN kernels since it doesn't meet the criteria. It will use a generic GPU kernel as fallback when running on GPU.\n",
      "WARNING:tensorflow:Layer lstm_28 will not use cuDNN kernels since it doesn't meet the criteria. It will use a generic GPU kernel as fallback when running on GPU.\n",
      "WARNING:tensorflow:Layer lstm_28 will not use cuDNN kernels since it doesn't meet the criteria. It will use a generic GPU kernel as fallback when running on GPU.\n",
      "WARNING:tensorflow:Layer lstm_28 will not use cuDNN kernels since it doesn't meet the criteria. It will use a generic GPU kernel as fallback when running on GPU.\n",
      "WARNING:tensorflow:Layer lstm_29 will not use cuDNN kernels since it doesn't meet the criteria. It will use a generic GPU kernel as fallback when running on GPU.\n",
      "WARNING:tensorflow:Layer lstm_29 will not use cuDNN kernels since it doesn't meet the criteria. It will use a generic GPU kernel as fallback when running on GPU.\n",
      "WARNING:tensorflow:Layer lstm_29 will not use cuDNN kernels since it doesn't meet the criteria. It will use a generic GPU kernel as fallback when running on GPU.\n",
      "Model: \"sequential_9\"\n",
      "_________________________________________________________________\n",
      " Layer (type)                Output Shape              Param #   \n",
      "=================================================================\n",
      " embedding_9 (Embedding)     (None, 15, 128)           895360    \n",
      "                                                                 \n",
      " bidirectional_12 (Bidirecti  (None, 15, 256)          263168    \n",
      " onal)                                                           \n",
      "                                                                 \n",
      " bidirectional_13 (Bidirecti  (None, 15, 256)          394240    \n",
      " onal)                                                           \n",
      "                                                                 \n",
      " bidirectional_14 (Bidirecti  (None, 15, 256)          394240    \n",
      " onal)                                                           \n",
      "                                                                 \n",
      " flatten_9 (Flatten)         (None, 3840)              0         \n",
      "                                                                 \n",
      " dense_18 (Dense)            (None, 512)               1966592   \n",
      "                                                                 \n",
      " dropout_9 (Dropout)         (None, 512)               0         \n",
      "                                                                 \n",
      " dense_19 (Dense)            (None, 3)                 1539      \n",
      "                                                                 \n",
      "=================================================================\n",
      "Total params: 3,915,139\n",
      "Trainable params: 3,915,139\n",
      "Non-trainable params: 0\n",
      "_________________________________________________________________\n",
      "Epoch 1/20\n",
      "132/132 [==============================] - 49s 285ms/step - loss: 0.1594 - accuracy: 0.6098 - f1_m: 0.4883 - val_loss: 0.0933 - val_accuracy: 0.8188 - val_f1_m: 0.8187\n",
      "Epoch 2/20\n",
      "132/132 [==============================] - 38s 287ms/step - loss: 0.0566 - accuracy: 0.8923 - f1_m: 0.8925 - val_loss: 0.0608 - val_accuracy: 0.8913 - val_f1_m: 0.8904\n",
      "Epoch 3/20\n",
      "132/132 [==============================] - 38s 290ms/step - loss: 0.0311 - accuracy: 0.9450 - f1_m: 0.9448 - val_loss: 0.0554 - val_accuracy: 0.8998 - val_f1_m: 0.8945\n",
      "Epoch 4/20\n",
      "132/132 [==============================] - 38s 288ms/step - loss: 0.0212 - accuracy: 0.9623 - f1_m: 0.9623 - val_loss: 0.0528 - val_accuracy: 0.9083 - val_f1_m: 0.9024\n",
      "Epoch 5/20\n",
      "132/132 [==============================] - 37s 282ms/step - loss: 0.0167 - accuracy: 0.9720 - f1_m: 0.9721 - val_loss: 0.0497 - val_accuracy: 0.9019 - val_f1_m: 0.9042\n",
      "Epoch 6/20\n",
      "132/132 [==============================] - 36s 275ms/step - loss: 0.0126 - accuracy: 0.9789 - f1_m: 0.9787 - val_loss: 0.0494 - val_accuracy: 0.9147 - val_f1_m: 0.9093\n",
      "Epoch 7/20\n",
      "132/132 [==============================] - 38s 286ms/step - loss: 0.0113 - accuracy: 0.9815 - f1_m: 0.9813 - val_loss: 0.0870 - val_accuracy: 0.8422 - val_f1_m: 0.8368\n",
      "Epoch 8/20\n",
      "132/132 [==============================] - 37s 282ms/step - loss: 0.0116 - accuracy: 0.9808 - f1_m: 0.9802 - val_loss: 0.0748 - val_accuracy: 0.8785 - val_f1_m: 0.8798\n",
      "Epoch 9/20\n",
      "132/132 [==============================] - 37s 278ms/step - loss: 0.0100 - accuracy: 0.9832 - f1_m: 0.9832 - val_loss: 0.0597 - val_accuracy: 0.8955 - val_f1_m: 0.8976\n",
      "Epoch 10/20\n",
      "132/132 [==============================] - 37s 278ms/step - loss: 0.0129 - accuracy: 0.9791 - f1_m: 0.9789 - val_loss: 0.0660 - val_accuracy: 0.8891 - val_f1_m: 0.8934\n",
      "Epoch 11/20\n",
      "132/132 [==============================] - ETA: 0s - loss: 0.0085 - accuracy: 0.9860 - f1_m: 0.9864Restoring model weights from the end of the best epoch: 6.\n",
      "132/132 [==============================] - 38s 286ms/step - loss: 0.0085 - accuracy: 0.9860 - f1_m: 0.9864 - val_loss: 0.0718 - val_accuracy: 0.8806 - val_f1_m: 0.8838\n",
      "Epoch 00011: early stopping\n"
     ]
    }
   ],
   "source": [
    "result=[]\n",
    "models=[]\n",
    "for i in range(1,3):\n",
    "    model=createComplexModel(i)\n",
    "    history=model.fit(x_train,y_train,epochs=20,validation_split=0.1,callbacks=[callback])\n",
    "    models.append(model)\n",
    "    result.append(history)"
   ]
  },
  {
   "cell_type": "code",
   "execution_count": 38,
   "metadata": {},
   "outputs": [
    {
     "data": {
      "image/png": "[encoded data removed]",
      "text/plain": [
       "<Figure size 432x288 with 1 Axes>"
      ]
     },
     "metadata": {
      "needs_background": "light"
     },
     "output_type": "display_data"
    },
    {
     "data": {
      "image/png": "[encoded data removed]",
      "text/plain": [
       "<Figure size 432x288 with 1 Axes>"
      ]
     },
     "metadata": {
      "needs_background": "light"
     },
     "output_type": "display_data"
    },
    {
     "data": {
      "image/png": "[encoded data removed]",
      "text/plain": [
       "<Figure size 432x288 with 1 Axes>"
      ]
     },
     "metadata": {
      "needs_background": "light"
     },
     "output_type": "display_data"
    }
   ],
   "source": [
    "def compareAccuracyArchitecture(result):\n",
    "    plt.plot(result[0].history['accuracy'],color='r',label='LSTM accuracy')\n",
    "    plt.plot(result[1].history['accuracy'],color='g',label='BiLSTM accuracy')\n",
    "    plt.plot(result[0].history['val_accuracy'],color='y',label='LSTM Validation accuracy')\n",
    "    plt.plot(result[1].history['val_accuracy'],color='b',label='BiLSTM Validation accuracy')\n",
    "    plt.xlabel(\"Epochs\")\n",
    "    plt.ylabel(\"Nilai\")\n",
    "    plt.title(\"Akurasi LSTM dan BiLSTM\")\n",
    "    plt.legend()\n",
    "    plt.show()\n",
    "compareAccuracyArchitecture(result)\n",
    "def comparef1scoreArchitecture(result):\n",
    "    plt.plot(result[0].history['f1_m'],color='r',label='LSTM F1 Score')\n",
    "    plt.plot(result[1].history['f1_m'],color='g',label='BiLSTM F1 Score')\n",
    "    plt.plot(result[0].history['val_f1_m'],color='y',label='LSTM Validation F1 Score')\n",
    "    plt.plot(result[1].history['val_f1_m'],color='b',label='BiLSTM Validation F1 Score')\n",
    "    plt.xlabel(\"Epochs\")\n",
    "    plt.ylabel(\"Nilai\")\n",
    "    plt.title(\"F1 Score LSTM dan BiLSTM\")\n",
    "    plt.legend()\n",
    "    plt.show()\n",
    "comparef1scoreArchitecture(result)\n",
    "def compareLossArchitecture(result):\n",
    "    plt.plot(result[0].history['loss'],color='r',label='LSTM Loss')\n",
    "    plt.plot(result[1].history['loss'],color='g',label='BiLSTM Loss')\n",
    "    plt.plot(result[0].history['val_loss'],color='y',label='LSTM Validation Loss')\n",
    "    plt.plot(result[1].history['val_loss'],color='b',label='BiLSTM Validation Loss')\n",
    "    plt.xlabel(\"Epochs\")\n",
    "    plt.ylabel(\"Nilai\")\n",
    "    plt.title(\"Loss LSTM dan BiLSTM\")\n",
    "    plt.legend()\n",
    "    plt.show()\n",
    "compareLossArchitecture(result)"
   ]
  },
  {
   "cell_type": "code",
   "execution_count": 39,
   "metadata": {},
   "outputs": [
    {
     "data": {
      "image/png": "[encoded data removed]",
      "text/plain": [
       "<Figure size 432x288 with 2 Axes>"
      ]
     },
     "metadata": {
      "needs_background": "light"
     },
     "output_type": "display_data"
    },
    {
     "data": {
      "image/png": "[encoded data removed]",
      "text/plain": [
       "<Figure size 432x288 with 2 Axes>"
      ]
     },
     "metadata": {
      "needs_background": "light"
     },
     "output_type": "display_data"
    }
   ],
   "source": [
    "from sklearn.metrics import confusion_matrix, ConfusionMatrixDisplay\n",
    "import numpy as np\n",
    "for item in models:\n",
    "    predict=item.predict(x_test)\n",
    "    confusion=confusion_matrix(np.argmax(y_test,axis=1),np.argmax(predict,axis=1))\n",
    "    display=ConfusionMatrixDisplay(confusion_matrix=confusion)\n",
    "    display.plot()"
   ]
  },
  {
   "cell_type": "code",
   "execution_count": 40,
   "metadata": {},
   "outputs": [
    {
     "name": "stdout",
     "output_type": "stream",
     "text": [
      "17/17 [==============================] - 0s 15ms/step - loss: 0.0572 - accuracy: 0.8887 - f1_m: 0.8929\n",
      "17/17 [==============================] - 0s 28ms/step - loss: 0.0504 - accuracy: 0.9098 - f1_m: 0.9113\n"
     ]
    }
   ],
   "source": [
    "for item in models:\n",
    "    temp=item.evaluate(x_test,y_test)\n",
    "    temp"
   ]
  },
  {
   "cell_type": "code",
   "execution_count": null,
   "metadata": {},
   "outputs": [],
   "source": [
    "def createComplexModel(skenario):\n",
    "    if skenario ==1:\n",
    "        model=tf.keras.models.Sequential([\n",
    "            tf.keras.layers.Embedding(len(tokenizer.word_index),128,input_length=max_len),\n",
    "            tf.keras.layers.LSTM(128,return_sequences=True,activation='tanh',dropout=0.2),\n",
    "            tf.keras.layers.LSTM(128,return_sequences=True,activation='tanh',dropout=0.2),\n",
    "            tf.keras.layers.LSTM(128,return_sequences=True,activation='tanh',dropout=0.2),\n",
    "            tf.keras.layers.Flatten(),\n",
    "            tf.keras.layers.Dense(512,activation='relu'),\n",
    "            tf.keras.layers.Dropout(0.5),\n",
    "            tf.keras.layers.Dense(3, activation='softmax')\n",
    "        ])\n",
    "        model.compile(loss='mse',optimizer=tf.keras.optimizers.RMSprop(),metrics=['accuracy',f1_m])\n",
    "    else:\n",
    "        model=tf.keras.models.Sequential([\n",
    "        tf.keras.layers.Embedding(len(tokenizer.word_index),128,input_length=max_len),\n",
    "        tf.keras.layers.Bidirectional(tf.keras.layers.LSTM(128,return_sequences=True,activation='tanh',dropout=0.2)),\n",
    "        tf.keras.layers.Bidirectional(tf.keras.layers.LSTM(128,return_sequences=True,activation='tanh',dropout=0.2)),\n",
    "        tf.keras.layers.Bidirectional(tf.keras.layers.LSTM(128,return_sequences=True,activation='tanh',dropout=0.2)),\n",
    "        tf.keras.layers.Flatten(),\n",
    "        tf.keras.layers.Dense(512,activation='relu'),\n",
    "        tf.keras.layers.Dropout(0.5),\n",
    "        tf.keras.layers.Dense(3,activation='softmax')\n",
    "        ])\n",
    "        model.compile(loss='mse',optimizer=tf.keras.optimizers.RMSprop(),metrics=['accuracy',f1_m])\n",
    "    model.summary()\n",
    "    return model\n"
   ]
  },
  {
   "cell_type": "code",
   "execution_count": null,
   "metadata": {},
   "outputs": [
    {
     "name": "stdout",
     "output_type": "stream",
     "text": [
      "Model: \"sequential_10\"\n",
      "_________________________________________________________________\n",
      " Layer (type)                Output Shape              Param #   \n",
      "=================================================================\n",
      " embedding_10 (Embedding)    (None, 15, 128)           895360    \n",
      "                                                                 \n",
      " bidirectional_12 (Bidirecti  (None, 15, 256)          263168    \n",
      " onal)                                                           \n",
      "                                                                 \n",
      " bidirectional_13 (Bidirecti  (None, 15, 256)          394240    \n",
      " onal)                                                           \n",
      "                                                                 \n",
      " bidirectional_14 (Bidirecti  (None, 15, 256)          394240    \n",
      " onal)                                                           \n",
      "                                                                 \n",
      " flatten_10 (Flatten)        (None, 3840)              0         \n",
      "                                                                 \n",
      " dense_18 (Dense)            (None, 512)               1966592   \n",
      "                                                                 \n",
      " dropout_8 (Dropout)         (None, 512)               0         \n",
      "                                                                 \n",
      " dense_19 (Dense)            (None, 3)                 1539      \n",
      "                                                                 \n",
      "=================================================================\n",
      "Total params: 3,915,139\n",
      "Trainable params: 3,915,139\n",
      "Non-trainable params: 0\n",
      "_________________________________________________________________\n",
      "Epoch 1/20\n",
      "132/132 [==============================] - 18s 55ms/step - loss: 0.8239 - accuracy: 0.6321 - f1_m: 0.5431 - val_loss: 0.5873 - val_accuracy: 0.7932 - val_f1_m: 0.7701\n",
      "Epoch 2/20\n",
      "132/132 [==============================] - 5s 38ms/step - loss: 0.3966 - accuracy: 0.8653 - f1_m: 0.8647 - val_loss: 0.5742 - val_accuracy: 0.7996 - val_f1_m: 0.8013\n",
      "Epoch 3/20\n",
      "132/132 [==============================] - 5s 37ms/step - loss: 0.2500 - accuracy: 0.9227 - f1_m: 0.9212 - val_loss: 0.3869 - val_accuracy: 0.8678 - val_f1_m: 0.8560\n",
      "Epoch 4/20\n",
      "132/132 [==============================] - 5s 40ms/step - loss: 0.1565 - accuracy: 0.9542 - f1_m: 0.9539 - val_loss: 0.4261 - val_accuracy: 0.8401 - val_f1_m: 0.8421\n",
      "Epoch 5/20\n",
      "132/132 [==============================] - 5s 38ms/step - loss: 0.1231 - accuracy: 0.9635 - f1_m: 0.9626 - val_loss: 0.4509 - val_accuracy: 0.8571 - val_f1_m: 0.8539\n",
      "Epoch 6/20\n",
      "132/132 [==============================] - 5s 39ms/step - loss: 0.1005 - accuracy: 0.9720 - f1_m: 0.9722 - val_loss: 0.3989 - val_accuracy: 0.8699 - val_f1_m: 0.8620\n",
      "Epoch 7/20\n",
      "132/132 [==============================] - 5s 39ms/step - loss: 0.0775 - accuracy: 0.9763 - f1_m: 0.9766 - val_loss: 0.5164 - val_accuracy: 0.8785 - val_f1_m: 0.8808\n",
      "Epoch 8/20\n",
      "132/132 [==============================] - 5s 39ms/step - loss: 0.0611 - accuracy: 0.9817 - f1_m: 0.9817 - val_loss: 0.4865 - val_accuracy: 0.8785 - val_f1_m: 0.8807\n",
      "Epoch 9/20\n",
      "132/132 [==============================] - 5s 39ms/step - loss: 0.0544 - accuracy: 0.9848 - f1_m: 0.9846 - val_loss: 0.6683 - val_accuracy: 0.8507 - val_f1_m: 0.8520\n",
      "Epoch 10/20\n",
      "132/132 [==============================] - 5s 39ms/step - loss: 0.0439 - accuracy: 0.9879 - f1_m: 0.9878 - val_loss: 1.9408 - val_accuracy: 0.8721 - val_f1_m: 0.8714\n",
      "Epoch 11/20\n",
      "132/132 [==============================] - 5s 37ms/step - loss: 0.0470 - accuracy: 0.9886 - f1_m: 0.9887 - val_loss: 0.9230 - val_accuracy: 0.8763 - val_f1_m: 0.8794\n",
      "Epoch 12/20\n",
      "131/132 [============================>.] - ETA: 0s - loss: 0.0319 - accuracy: 0.9921 - f1_m: 0.9921- ETA: 0s - loss: 0.0313 - accuracy: 0.9927 - Restoring model weights from the end of the best epoch: 7.\n",
      "132/132 [==============================] - 5s 37ms/step - loss: 0.0317 - accuracy: 0.9922 - f1_m: 0.9922 - val_loss: 1.1515 - val_accuracy: 0.8614 - val_f1_m: 0.8668\n",
      "Epoch 00012: early stopping\n"
     ]
    }
   ],
   "source": [
    "model=createComplexModel(2)\n",
    "history=model.fit(x_train,y_train,epochs=20,validation_split=0.1,callbacks=[callback])"
   ]
  },
  {
   "cell_type": "code",
   "execution_count": null,
   "metadata": {},
   "outputs": [
    {
     "name": "stdout",
     "output_type": "stream",
     "text": [
      "17/17 [==============================] - 1s 32ms/step - loss: 0.5319 - accuracy: 0.8580 - f1_m: 0.8578\n"
     ]
    },
    {
     "data": {
      "text/plain": [
       "[0.5319363474845886, 0.8579654693603516, 0.8578073382377625]"
      ]
     },
     "execution_count": 57,
     "metadata": {},
     "output_type": "execute_result"
    }
   ],
   "source": [
    "temp=model.evaluate(x_test,y_test)\n",
    "temp"
   ]
  }
 ],
 "metadata": {
  "kernelspec": {
   "display_name": "Python 3.8.0 64-bit",
   "language": "python",
   "name": "python3"
  },
  "language_info": {
   "codemirror_mode": {
    "name": "ipython",
    "version": 3
   },
   "file_extension": ".py",
   "mimetype": "text/x-python",
   "name": "python",
   "nbconvert_exporter": "python",
   "pygments_lexer": "ipython3",
   "version": "3.8.0"
  },
  "orig_nbformat": 4,
  "vscode": {
   "interpreter": {
    "hash": "ff0d91300876931207232d01add3156fa7c8214350996c757a3c6cebc4b3b5d5"
   }
  }
 },
 "nbformat": 4,
 "nbformat_minor": 2
}
