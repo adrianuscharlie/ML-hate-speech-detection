{
 "cells": [
  {
   "attachments": {},
   "cell_type": "markdown",
   "metadata": {},
   "source": [
    "### Import libraries yang dibutuhkan"
   ]
  },
  {
   "cell_type": "code",
   "execution_count": 34,
   "metadata": {},
   "outputs": [],
   "source": [
    "import numpy as np\n",
    "import tensorflow as tf"
   ]
  },
  {
   "attachments": {},
   "cell_type": "markdown",
   "metadata": {},
   "source": [
    "### Load Data testing untuk semua skenario"
   ]
  },
  {
   "cell_type": "code",
   "execution_count": 35,
   "metadata": {},
   "outputs": [
    {
     "data": {
      "text/plain": [
       "(array([[ 216, 1811,  308, ...,   41,   50,  157],\n",
       "        [ 399,  345,   56, ...,    0,    0,    0],\n",
       "        [ 467,  360,  116, ...,    0,    0,    0],\n",
       "        ...,\n",
       "        [4960,  302,  148, ...,    2,   15,  255],\n",
       "        [   2,    3,   43, ...,    0,    0,    0],\n",
       "        [5882,  334,   15, ...,    0,    0,    0]]),\n",
       " (521, 15))"
      ]
     },
     "execution_count": 35,
     "metadata": {},
     "output_type": "execute_result"
    }
   ],
   "source": [
    "x_test=np.load('./x_test.npy')\n",
    "x_test,x_test.shape"
   ]
  },
  {
   "cell_type": "code",
   "execution_count": 36,
   "metadata": {},
   "outputs": [
    {
     "data": {
      "text/plain": [
       "(array([[0., 0., 1.],\n",
       "        [1., 0., 0.],\n",
       "        [0., 1., 0.],\n",
       "        ...,\n",
       "        [1., 0., 0.],\n",
       "        [1., 0., 0.],\n",
       "        [0., 1., 0.]], dtype=float32),\n",
       " (521, 3))"
      ]
     },
     "execution_count": 36,
     "metadata": {},
     "output_type": "execute_result"
    }
   ],
   "source": [
    "y_test=np.load('./y_test.npy')\n",
    "y_test,y_test.shape"
   ]
  },
  {
   "attachments": {},
   "cell_type": "markdown",
   "metadata": {},
   "source": [
    "### Definisikan metrics f1-score"
   ]
  },
  {
   "cell_type": "code",
   "execution_count": 29,
   "metadata": {},
   "outputs": [],
   "source": [
    "from keras import backend as K\n",
    "\n",
    "def recall_m(y_true, y_pred):\n",
    "    true_positives = K.sum(K.round(K.clip(y_true * y_pred, 0, 1)))\n",
    "    possible_positives = K.sum(K.round(K.clip(y_true, 0, 1)))\n",
    "    recall = true_positives / (possible_positives + K.epsilon())\n",
    "    return recall\n",
    "\n",
    "def precision_m(y_true, y_pred):\n",
    "    true_positives = K.sum(K.round(K.clip(y_true * y_pred, 0, 1)))\n",
    "    predicted_positives = K.sum(K.round(K.clip(y_pred, 0, 1)))\n",
    "    precision = true_positives / (predicted_positives + K.epsilon())\n",
    "    return precision\n",
    "\n",
    "def f1_m(y_true, y_pred):\n",
    "    precision = precision_m(y_true, y_pred)\n",
    "    recall = recall_m(y_true, y_pred)\n",
    "    return 2*((precision*recall)/(precision+recall+K.epsilon()))"
   ]
  },
  {
   "attachments": {},
   "cell_type": "markdown",
   "metadata": {},
   "source": [
    "### Mencoba Skenario Sederhana Arsitektur"
   ]
  },
  {
   "cell_type": "code",
   "execution_count": 30,
   "metadata": {},
   "outputs": [
    {
     "name": "stdout",
     "output_type": "stream",
     "text": [
      "Model: \"sequential_2\"\n",
      "_________________________________________________________________\n",
      " Layer (type)                Output Shape              Param #   \n",
      "=================================================================\n",
      " embedding_2 (Embedding)     (None, 15, 16)            111920    \n",
      "                                                                 \n",
      " lstm_2 (LSTM)               (None, 15, 64)            20736     \n",
      "                                                                 \n",
      " flatten_2 (Flatten)         (None, 960)               0         \n",
      "                                                                 \n",
      " dense_2 (Dense)             (None, 3)                 2883      \n",
      "                                                                 \n",
      "=================================================================\n",
      "Total params: 135,539\n",
      "Trainable params: 135,539\n",
      "Non-trainable params: 0\n",
      "_________________________________________________________________\n"
     ]
    }
   ],
   "source": [
    "lstm_model=tf.keras.models.load_model('../Model/Simple/Architecture/lstm.h5',custom_objects={'f1_m':f1_m})\n",
    "lstm_model.summary()"
   ]
  },
  {
   "cell_type": "code",
   "execution_count": 31,
   "metadata": {},
   "outputs": [
    {
     "name": "stdout",
     "output_type": "stream",
     "text": [
      "17/17 [==============================] - 1s 6ms/step - loss: 0.9279 - accuracy: 0.7831 - f1_m: 0.7868\n"
     ]
    },
    {
     "data": {
      "text/plain": [
       "[0.9279114603996277, 0.7831094264984131, 0.786816418170929]"
      ]
     },
     "execution_count": 31,
     "metadata": {},
     "output_type": "execute_result"
    }
   ],
   "source": [
    "lstm_model.evaluate(x_test,y_test)"
   ]
  },
  {
   "cell_type": "code",
   "execution_count": 32,
   "metadata": {},
   "outputs": [
    {
     "name": "stdout",
     "output_type": "stream",
     "text": [
      "Model: \"sequential_3\"\n",
      "_________________________________________________________________\n",
      " Layer (type)                Output Shape              Param #   \n",
      "=================================================================\n",
      " embedding_3 (Embedding)     (None, 15, 16)            111920    \n",
      "                                                                 \n",
      " bidirectional_1 (Bidirectio  (None, 15, 128)          41472     \n",
      " nal)                                                            \n",
      "                                                                 \n",
      " flatten_3 (Flatten)         (None, 1920)              0         \n",
      "                                                                 \n",
      " dense_3 (Dense)             (None, 3)                 5763      \n",
      "                                                                 \n",
      "=================================================================\n",
      "Total params: 159,155\n",
      "Trainable params: 159,155\n",
      "Non-trainable params: 0\n",
      "_________________________________________________________________\n"
     ]
    }
   ],
   "source": [
    "bilstm_model=tf.keras.models.load_model('../Model/Simple/Architecture/bilstm.h5',custom_objects={'f1_m':f1_m})\n",
    "bilstm_model.summary()"
   ]
  },
  {
   "cell_type": "code",
   "execution_count": 33,
   "metadata": {},
   "outputs": [
    {
     "name": "stdout",
     "output_type": "stream",
     "text": [
      "17/17 [==============================] - 1s 7ms/step - loss: 0.7966 - accuracy: 0.8157 - f1_m: 0.8197\n"
     ]
    },
    {
     "data": {
      "text/plain": [
       "[0.7966405749320984, 0.8157389760017395, 0.8197032809257507]"
      ]
     },
     "execution_count": 33,
     "metadata": {},
     "output_type": "execute_result"
    }
   ],
   "source": [
    "bilstm_model.evaluate(x_test,y_test)"
   ]
  },
  {
   "attachments": {},
   "cell_type": "markdown",
   "metadata": {},
   "source": [
    "### Mencoba skenario sederhana activation function"
   ]
  },
  {
   "cell_type": "code",
   "execution_count": 9,
   "metadata": {},
   "outputs": [],
   "source": [
    "import os\n",
    "BASE_PATH='../Model/Simple/Activation/'"
   ]
  },
  {
   "cell_type": "code",
   "execution_count": 10,
   "metadata": {},
   "outputs": [
    {
     "name": "stdout",
     "output_type": "stream",
     "text": [
      "WARNING:tensorflow:Layer lstm will not use cuDNN kernels since it doesn't meet the criteria. It will use a generic GPU kernel as fallback when running on GPU.\n"
     ]
    },
    {
     "name": "stdout",
     "output_type": "stream",
     "text": [
      "WARNING:tensorflow:Layer lstm will not use cuDNN kernels since it doesn't meet the criteria. It will use a generic GPU kernel as fallback when running on GPU.\n",
      "WARNING:tensorflow:Layer lstm will not use cuDNN kernels since it doesn't meet the criteria. It will use a generic GPU kernel as fallback when running on GPU.\n",
      "Evaluating Model relu_sigmoid\n",
      "17/17 [==============================] - 1s 16ms/step - loss: 0.5836 - accuracy: 0.8273 - f1_m: 0.8319\n",
      "WARNING:tensorflow:Layer lstm_1 will not use cuDNN kernels since it doesn't meet the criteria. It will use a generic GPU kernel as fallback when running on GPU.\n",
      "WARNING:tensorflow:Layer lstm_1 will not use cuDNN kernels since it doesn't meet the criteria. It will use a generic GPU kernel as fallback when running on GPU.\n",
      "WARNING:tensorflow:Layer lstm_1 will not use cuDNN kernels since it doesn't meet the criteria. It will use a generic GPU kernel as fallback when running on GPU.\n",
      "Evaluating Model relu_softmax\n",
      "17/17 [==============================] - 1s 16ms/step - loss: 0.4453 - accuracy: 0.8426 - f1_m: 0.8420\n",
      "WARNING:tensorflow:Layer lstm_2 will not use cuDNN kernels since it doesn't meet the criteria. It will use a generic GPU kernel as fallback when running on GPU.\n",
      "WARNING:tensorflow:Layer lstm_2 will not use cuDNN kernels since it doesn't meet the criteria. It will use a generic GPU kernel as fallback when running on GPU.\n",
      "WARNING:tensorflow:Layer lstm_2 will not use cuDNN kernels since it doesn't meet the criteria. It will use a generic GPU kernel as fallback when running on GPU.\n",
      "Evaluating Model sigmoid_sigmoid\n",
      "17/17 [==============================] - 1s 12ms/step - loss: 0.9002 - accuracy: 0.7946 - f1_m: 0.7146\n",
      "WARNING:tensorflow:Layer lstm_3 will not use cuDNN kernels since it doesn't meet the criteria. It will use a generic GPU kernel as fallback when running on GPU.\n",
      "WARNING:tensorflow:Layer lstm_3 will not use cuDNN kernels since it doesn't meet the criteria. It will use a generic GPU kernel as fallback when running on GPU.\n",
      "WARNING:tensorflow:Layer lstm_3 will not use cuDNN kernels since it doesn't meet the criteria. It will use a generic GPU kernel as fallback when running on GPU.\n",
      "Evaluating Model sigmoid_softmax\n",
      "17/17 [==============================] - 1s 13ms/step - loss: 0.8918 - accuracy: 0.7524 - f1_m: 0.7598\n",
      "Evaluating Model tanh_sigmoid\n",
      "17/17 [==============================] - 1s 13ms/step - loss: 0.5462 - accuracy: 0.8177 - f1_m: 0.7745\n",
      "Evaluating Model tanh_softmax\n",
      "17/17 [==============================] - 1s 6ms/step - loss: 0.5089 - accuracy: 0.8157 - f1_m: 0.8182\n"
     ]
    }
   ],
   "source": [
    "for model in os.listdir(BASE_PATH):\n",
    "    template=f'Model {model[:-3]}'\n",
    "    model=tf.keras.models.load_model(os.path.join(BASE_PATH,model),custom_objects={'f1_m':f1_m})\n",
    "    print('Evaluating',template)\n",
    "    model.evaluate(x_test,y_test)"
   ]
  },
  {
   "attachments": {},
   "cell_type": "markdown",
   "metadata": {},
   "source": [
    "### Mencoba skenario sederhana optimizer"
   ]
  },
  {
   "cell_type": "code",
   "execution_count": 11,
   "metadata": {},
   "outputs": [
    {
     "name": "stdout",
     "output_type": "stream",
     "text": [
      "WARNING:tensorflow:Layer lstm will not use cuDNN kernels since it doesn't meet the criteria. It will use a generic GPU kernel as fallback when running on GPU.\n",
      "WARNING:tensorflow:Layer lstm will not use cuDNN kernels since it doesn't meet the criteria. It will use a generic GPU kernel as fallback when running on GPU.\n",
      "WARNING:tensorflow:Layer lstm will not use cuDNN kernels since it doesn't meet the criteria. It will use a generic GPU kernel as fallback when running on GPU.\n"
     ]
    },
    {
     "name": "stdout",
     "output_type": "stream",
     "text": [
      "Model: \"sequential\"\n",
      "_________________________________________________________________\n",
      " Layer (type)                Output Shape              Param #   \n",
      "=================================================================\n",
      " embedding (Embedding)       (None, 15, 16)            111920    \n",
      "                                                                 \n",
      " bidirectional (Bidirectiona  (None, 15, 128)          41472     \n",
      " l)                                                              \n",
      "                                                                 \n",
      " flatten (Flatten)           (None, 1920)              0         \n",
      "                                                                 \n",
      " dense (Dense)               (None, 3)                 5763      \n",
      "                                                                 \n",
      "=================================================================\n",
      "Total params: 159,155\n",
      "Trainable params: 159,155\n",
      "Non-trainable params: 0\n",
      "_________________________________________________________________\n"
     ]
    }
   ],
   "source": [
    "adam=tf.keras.models.load_model('../Model/Simple/Optimizer/adam.h5',custom_objects={'f1_m':f1_m})\n",
    "adam.summary()"
   ]
  },
  {
   "cell_type": "code",
   "execution_count": 12,
   "metadata": {},
   "outputs": [
    {
     "name": "stdout",
     "output_type": "stream",
     "text": [
      "17/17 [==============================] - 1s 14ms/step - loss: 0.6350 - accuracy: 0.8157 - f1_m: 0.8204\n"
     ]
    },
    {
     "data": {
      "text/plain": [
       "[0.6350417137145996, 0.8157389760017395, 0.8204213380813599]"
      ]
     },
     "execution_count": 12,
     "metadata": {},
     "output_type": "execute_result"
    }
   ],
   "source": [
    "adam.evaluate(x_test,y_test)"
   ]
  },
  {
   "cell_type": "code",
   "execution_count": 13,
   "metadata": {},
   "outputs": [
    {
     "name": "stdout",
     "output_type": "stream",
     "text": [
      "WARNING:tensorflow:Layer lstm_1 will not use cuDNN kernels since it doesn't meet the criteria. It will use a generic GPU kernel as fallback when running on GPU.\n",
      "WARNING:tensorflow:Layer lstm_1 will not use cuDNN kernels since it doesn't meet the criteria. It will use a generic GPU kernel as fallback when running on GPU.\n",
      "WARNING:tensorflow:Layer lstm_1 will not use cuDNN kernels since it doesn't meet the criteria. It will use a generic GPU kernel as fallback when running on GPU.\n"
     ]
    },
    {
     "name": "stdout",
     "output_type": "stream",
     "text": [
      "Model: \"sequential_1\"\n",
      "_________________________________________________________________\n",
      " Layer (type)                Output Shape              Param #   \n",
      "=================================================================\n",
      " embedding_1 (Embedding)     (None, 15, 16)            111920    \n",
      "                                                                 \n",
      " bidirectional_1 (Bidirectio  (None, 15, 128)          41472     \n",
      " nal)                                                            \n",
      "                                                                 \n",
      " flatten_1 (Flatten)         (None, 1920)              0         \n",
      "                                                                 \n",
      " dense_1 (Dense)             (None, 3)                 5763      \n",
      "                                                                 \n",
      "=================================================================\n",
      "Total params: 159,155\n",
      "Trainable params: 159,155\n",
      "Non-trainable params: 0\n",
      "_________________________________________________________________\n"
     ]
    }
   ],
   "source": [
    "rmsprop=tf.keras.models.load_model('../Model/Simple/Optimizer/rmsprop.h5',custom_objects={'f1_m':f1_m})\n",
    "rmsprop.summary()"
   ]
  },
  {
   "cell_type": "code",
   "execution_count": 14,
   "metadata": {},
   "outputs": [
    {
     "name": "stdout",
     "output_type": "stream",
     "text": [
      "17/17 [==============================] - 1s 16ms/step - loss: 0.7578 - accuracy: 0.8445 - f1_m: 0.8471\n"
     ]
    },
    {
     "data": {
      "text/plain": [
       "[0.7578050494194031, 0.8445297479629517, 0.8470896482467651]"
      ]
     },
     "execution_count": 14,
     "metadata": {},
     "output_type": "execute_result"
    }
   ],
   "source": [
    "rmsprop.evaluate(x_test,y_test)"
   ]
  },
  {
   "attachments": {},
   "cell_type": "markdown",
   "metadata": {},
   "source": [
    "### Mencoba skenario kompleks arsitektur"
   ]
  },
  {
   "cell_type": "code",
   "execution_count": 15,
   "metadata": {},
   "outputs": [
    {
     "name": "stdout",
     "output_type": "stream",
     "text": [
      "WARNING:tensorflow:Layer lstm_12 will not use cuDNN kernels since it doesn't meet the criteria. It will use a generic GPU kernel as fallback when running on GPU.\n"
     ]
    },
    {
     "name": "stdout",
     "output_type": "stream",
     "text": [
      "WARNING:tensorflow:Layer lstm_13 will not use cuDNN kernels since it doesn't meet the criteria. It will use a generic GPU kernel as fallback when running on GPU.\n",
      "WARNING:tensorflow:Layer lstm_14 will not use cuDNN kernels since it doesn't meet the criteria. It will use a generic GPU kernel as fallback when running on GPU.\n",
      "Model: \"sequential_4\"\n",
      "_________________________________________________________________\n",
      " Layer (type)                Output Shape              Param #   \n",
      "=================================================================\n",
      " embedding_4 (Embedding)     (None, 15, 128)           895360    \n",
      "                                                                 \n",
      " lstm_12 (LSTM)              (None, 15, 128)           131584    \n",
      "                                                                 \n",
      " lstm_13 (LSTM)              (None, 15, 128)           131584    \n",
      "                                                                 \n",
      " lstm_14 (LSTM)              (None, 15, 128)           131584    \n",
      "                                                                 \n",
      " flatten_4 (Flatten)         (None, 1920)              0         \n",
      "                                                                 \n",
      " dense_8 (Dense)             (None, 512)               983552    \n",
      "                                                                 \n",
      " dropout_4 (Dropout)         (None, 512)               0         \n",
      "                                                                 \n",
      " dense_9 (Dense)             (None, 3)                 1539      \n",
      "                                                                 \n",
      "=================================================================\n",
      "Total params: 2,275,203\n",
      "Trainable params: 2,275,203\n",
      "Non-trainable params: 0\n",
      "_________________________________________________________________\n"
     ]
    }
   ],
   "source": [
    "lstm_complex=tf.keras.models.load_model('../Model/Complex/Architecture/lstm.h5',custom_objects={'f1_m':f1_m})\n",
    "lstm_complex.summary()"
   ]
  },
  {
   "cell_type": "code",
   "execution_count": 16,
   "metadata": {},
   "outputs": [
    {
     "name": "stdout",
     "output_type": "stream",
     "text": [
      "17/17 [==============================] - 1s 22ms/step - loss: 0.7413 - accuracy: 0.8695 - f1_m: 0.8670\n"
     ]
    },
    {
     "data": {
      "text/plain": [
       "[0.7412736415863037, 0.8694817423820496, 0.8670119643211365]"
      ]
     },
     "execution_count": 16,
     "metadata": {},
     "output_type": "execute_result"
    }
   ],
   "source": [
    "lstm_complex.evaluate(x_test,y_test)"
   ]
  },
  {
   "cell_type": "code",
   "execution_count": 17,
   "metadata": {},
   "outputs": [
    {
     "name": "stdout",
     "output_type": "stream",
     "text": [
      "WARNING:tensorflow:Layer lstm_15 will not use cuDNN kernels since it doesn't meet the criteria. It will use a generic GPU kernel as fallback when running on GPU.\n",
      "WARNING:tensorflow:Layer lstm_15 will not use cuDNN kernels since it doesn't meet the criteria. It will use a generic GPU kernel as fallback when running on GPU.\n",
      "WARNING:tensorflow:Layer lstm_15 will not use cuDNN kernels since it doesn't meet the criteria. It will use a generic GPU kernel as fallback when running on GPU.\n"
     ]
    },
    {
     "name": "stdout",
     "output_type": "stream",
     "text": [
      "WARNING:tensorflow:Layer lstm_16 will not use cuDNN kernels since it doesn't meet the criteria. It will use a generic GPU kernel as fallback when running on GPU.\n",
      "WARNING:tensorflow:Layer lstm_16 will not use cuDNN kernels since it doesn't meet the criteria. It will use a generic GPU kernel as fallback when running on GPU.\n",
      "WARNING:tensorflow:Layer lstm_16 will not use cuDNN kernels since it doesn't meet the criteria. It will use a generic GPU kernel as fallback when running on GPU.\n",
      "WARNING:tensorflow:Layer lstm_17 will not use cuDNN kernels since it doesn't meet the criteria. It will use a generic GPU kernel as fallback when running on GPU.\n",
      "WARNING:tensorflow:Layer lstm_17 will not use cuDNN kernels since it doesn't meet the criteria. It will use a generic GPU kernel as fallback when running on GPU.\n",
      "WARNING:tensorflow:Layer lstm_17 will not use cuDNN kernels since it doesn't meet the criteria. It will use a generic GPU kernel as fallback when running on GPU.\n",
      "Model: \"sequential_5\"\n",
      "_________________________________________________________________\n",
      " Layer (type)                Output Shape              Param #   \n",
      "=================================================================\n",
      " embedding_5 (Embedding)     (None, 15, 128)           895360    \n",
      "                                                                 \n",
      " bidirectional_6 (Bidirectio  (None, 15, 256)          263168    \n",
      " nal)                                                            \n",
      "                                                                 \n",
      " bidirectional_7 (Bidirectio  (None, 15, 256)          394240    \n",
      " nal)                                                            \n",
      "                                                                 \n",
      " bidirectional_8 (Bidirectio  (None, 15, 256)          394240    \n",
      " nal)                                                            \n",
      "                                                                 \n",
      " flatten_5 (Flatten)         (None, 3840)              0         \n",
      "                                                                 \n",
      " dense_10 (Dense)            (None, 512)               1966592   \n",
      "                                                                 \n",
      " dropout_5 (Dropout)         (None, 512)               0         \n",
      "                                                                 \n",
      " dense_11 (Dense)            (None, 3)                 1539      \n",
      "                                                                 \n",
      "=================================================================\n",
      "Total params: 3,915,139\n",
      "Trainable params: 3,915,139\n",
      "Non-trainable params: 0\n",
      "_________________________________________________________________\n"
     ]
    }
   ],
   "source": [
    "bilstm_complex=tf.keras.models.load_model('../Model/Complex/Architecture/bilstm.h5',custom_objects={'f1_m':f1_m})\n",
    "bilstm_complex.summary()"
   ]
  },
  {
   "cell_type": "code",
   "execution_count": 18,
   "metadata": {},
   "outputs": [
    {
     "name": "stdout",
     "output_type": "stream",
     "text": [
      "17/17 [==============================] - 1s 32ms/step - loss: 0.3686 - accuracy: 0.8944 - f1_m: 0.8916\n"
     ]
    },
    {
     "data": {
      "text/plain": [
       "[0.3685898184776306, 0.8944337964057922, 0.8916236758232117]"
      ]
     },
     "execution_count": 18,
     "metadata": {},
     "output_type": "execute_result"
    }
   ],
   "source": [
    "bilstm_complex.evaluate(x_test,y_test)"
   ]
  },
  {
   "attachments": {},
   "cell_type": "markdown",
   "metadata": {},
   "source": [
    "### Mencoba skenario kompleks optimizer"
   ]
  },
  {
   "cell_type": "code",
   "execution_count": 19,
   "metadata": {},
   "outputs": [
    {
     "name": "stdout",
     "output_type": "stream",
     "text": [
      "WARNING:tensorflow:Layer lstm_5 will not use cuDNN kernels since it doesn't meet the criteria. It will use a generic GPU kernel as fallback when running on GPU.\n",
      "WARNING:tensorflow:Layer lstm_5 will not use cuDNN kernels since it doesn't meet the criteria. It will use a generic GPU kernel as fallback when running on GPU.\n",
      "WARNING:tensorflow:Layer lstm_5 will not use cuDNN kernels since it doesn't meet the criteria. It will use a generic GPU kernel as fallback when running on GPU.\n",
      "WARNING:tensorflow:Layer lstm_6 will not use cuDNN kernels since it doesn't meet the criteria. It will use a generic GPU kernel as fallback when running on GPU.\n",
      "WARNING:tensorflow:Layer lstm_6 will not use cuDNN kernels since it doesn't meet the criteria. It will use a generic GPU kernel as fallback when running on GPU.\n",
      "WARNING:tensorflow:Layer lstm_6 will not use cuDNN kernels since it doesn't meet the criteria. It will use a generic GPU kernel as fallback when running on GPU.\n",
      "WARNING:tensorflow:Layer lstm_7 will not use cuDNN kernels since it doesn't meet the criteria. It will use a generic GPU kernel as fallback when running on GPU.\n",
      "WARNING:tensorflow:Layer lstm_7 will not use cuDNN kernels since it doesn't meet the criteria. It will use a generic GPU kernel as fallback when running on GPU.\n",
      "WARNING:tensorflow:Layer lstm_7 will not use cuDNN kernels since it doesn't meet the criteria. It will use a generic GPU kernel as fallback when running on GPU.\n",
      "Model: \"sequential_3\"\n",
      "_________________________________________________________________\n",
      " Layer (type)                Output Shape              Param #   \n",
      "=================================================================\n",
      " embedding_3 (Embedding)     (None, 15, 128)           895360    \n",
      "                                                                 \n",
      " bidirectional_5 (Bidirectio  (None, 15, 256)          263168    \n",
      " nal)                                                            \n",
      "                                                                 \n",
      " bidirectional_6 (Bidirectio  (None, 15, 256)          394240    \n",
      " nal)                                                            \n",
      "                                                                 \n",
      " bidirectional_7 (Bidirectio  (None, 15, 256)          394240    \n",
      " nal)                                                            \n",
      "                                                                 \n",
      " flatten_3 (Flatten)         (None, 3840)              0         \n",
      "                                                                 \n",
      " dense_4 (Dense)             (None, 512)               1966592   \n",
      "                                                                 \n",
      " dropout_1 (Dropout)         (None, 512)               0         \n",
      "                                                                 \n",
      " dense_5 (Dense)             (None, 3)                 1539      \n",
      "                                                                 \n",
      "=================================================================\n",
      "Total params: 3,915,139\n",
      "Trainable params: 3,915,139\n",
      "Non-trainable params: 0\n",
      "_________________________________________________________________\n"
     ]
    }
   ],
   "source": [
    "adam_complex=tf.keras.models.load_model('../Model/Complex/Optimizer/adam.h5',custom_objects={'f1_m':f1_m})\n",
    "adam_complex.summary()"
   ]
  },
  {
   "cell_type": "code",
   "execution_count": 20,
   "metadata": {},
   "outputs": [
    {
     "name": "stdout",
     "output_type": "stream",
     "text": [
      "17/17 [==============================] - 2s 31ms/step - loss: 0.6145 - accuracy: 0.8964 - f1_m: 0.8990\n"
     ]
    },
    {
     "data": {
      "text/plain": [
       "[0.614516019821167, 0.8963531851768494, 0.8990137577056885]"
      ]
     },
     "execution_count": 20,
     "metadata": {},
     "output_type": "execute_result"
    }
   ],
   "source": [
    "adam_complex.evaluate(x_test,y_test)"
   ]
  },
  {
   "cell_type": "code",
   "execution_count": 22,
   "metadata": {},
   "outputs": [
    {
     "name": "stdout",
     "output_type": "stream",
     "text": [
      "WARNING:tensorflow:Layer lstm_8 will not use cuDNN kernels since it doesn't meet the criteria. It will use a generic GPU kernel as fallback when running on GPU.\n",
      "WARNING:tensorflow:Layer lstm_8 will not use cuDNN kernels since it doesn't meet the criteria. It will use a generic GPU kernel as fallback when running on GPU.\n",
      "WARNING:tensorflow:Layer lstm_8 will not use cuDNN kernels since it doesn't meet the criteria. It will use a generic GPU kernel as fallback when running on GPU.\n"
     ]
    },
    {
     "name": "stdout",
     "output_type": "stream",
     "text": [
      "WARNING:tensorflow:Layer lstm_9 will not use cuDNN kernels since it doesn't meet the criteria. It will use a generic GPU kernel as fallback when running on GPU.\n",
      "WARNING:tensorflow:Layer lstm_9 will not use cuDNN kernels since it doesn't meet the criteria. It will use a generic GPU kernel as fallback when running on GPU.\n",
      "WARNING:tensorflow:Layer lstm_9 will not use cuDNN kernels since it doesn't meet the criteria. It will use a generic GPU kernel as fallback when running on GPU.\n",
      "WARNING:tensorflow:Layer lstm_10 will not use cuDNN kernels since it doesn't meet the criteria. It will use a generic GPU kernel as fallback when running on GPU.\n",
      "WARNING:tensorflow:Layer lstm_10 will not use cuDNN kernels since it doesn't meet the criteria. It will use a generic GPU kernel as fallback when running on GPU.\n",
      "WARNING:tensorflow:Layer lstm_10 will not use cuDNN kernels since it doesn't meet the criteria. It will use a generic GPU kernel as fallback when running on GPU.\n",
      "Model: \"sequential_4\"\n",
      "_________________________________________________________________\n",
      " Layer (type)                Output Shape              Param #   \n",
      "=================================================================\n",
      " embedding_4 (Embedding)     (None, 15, 128)           895360    \n",
      "                                                                 \n",
      " bidirectional_8 (Bidirectio  (None, 15, 256)          263168    \n",
      " nal)                                                            \n",
      "                                                                 \n",
      " bidirectional_9 (Bidirectio  (None, 15, 256)          394240    \n",
      " nal)                                                            \n",
      "                                                                 \n",
      " bidirectional_10 (Bidirecti  (None, 15, 256)          394240    \n",
      " onal)                                                           \n",
      "                                                                 \n",
      " flatten_4 (Flatten)         (None, 3840)              0         \n",
      "                                                                 \n",
      " dense_6 (Dense)             (None, 512)               1966592   \n",
      "                                                                 \n",
      " dropout_2 (Dropout)         (None, 512)               0         \n",
      "                                                                 \n",
      " dense_7 (Dense)             (None, 3)                 1539      \n",
      "                                                                 \n",
      "=================================================================\n",
      "Total params: 3,915,139\n",
      "Trainable params: 3,915,139\n",
      "Non-trainable params: 0\n",
      "_________________________________________________________________\n"
     ]
    }
   ],
   "source": [
    "rmsprop_complex=tf.keras.models.load_model('../Model/Complex/Optimizer/rmsprop.h5',custom_objects={'f1_m':f1_m})\n",
    "rmsprop_complex.summary()"
   ]
  },
  {
   "cell_type": "code",
   "execution_count": 23,
   "metadata": {},
   "outputs": [
    {
     "name": "stdout",
     "output_type": "stream",
     "text": [
      "17/17 [==============================] - 1s 30ms/step - loss: 0.3635 - accuracy: 0.8848 - f1_m: 0.8888\n"
     ]
    },
    {
     "data": {
      "text/plain": [
       "[0.3634621798992157, 0.8848368525505066, 0.8887892365455627]"
      ]
     },
     "execution_count": 23,
     "metadata": {},
     "output_type": "execute_result"
    }
   ],
   "source": [
    "rmsprop_complex.evaluate(x_test,y_test)"
   ]
  },
  {
   "attachments": {},
   "cell_type": "markdown",
   "metadata": {},
   "source": [
    "### Detail LSTM"
   ]
  },
  {
   "cell_type": "code",
   "execution_count": 42,
   "metadata": {},
   "outputs": [],
   "source": [
    "import numpy as np\n",
    "\n",
    "\n",
    "def sigmoid(x):\n",
    "    return 1 / (1 + np.exp(-x))\n",
    "\n",
    "# Input data\n",
    "x_t = np.array([[0.1, 0.2]])\n",
    "\n",
    "# Cell state and hidden state at previous timestep\n",
    "C_t_1 = np.array([[0.4]]) # previous cell state\n",
    "h_t_1 = np.array([[0.5]]) # previous hidden state\n",
    "\n",
    "# Define weights of LSTM\n",
    "W_f = np.array([[0.1], [0.2], [0.3]])\n",
    "W_i = np.array([[0.4], [0.5], [0.6]])\n",
    "W_o = np.array([[0.7], [0.8], [0.9]])\n",
    "W_c = np.array([[0.2], [0.3], [0.4]])\n",
    "\n",
    "# Define bias of LSTM\n",
    "b_f = np.array([0.1])\n",
    "b_i = np.array([0.2])\n",
    "b_o = np.array([0.3])\n",
    "b_c = np.array([0.4])"
   ]
  },
  {
   "attachments": {},
   "cell_type": "markdown",
   "metadata": {},
   "source": [
    "### Forget gate"
   ]
  },
  {
   "cell_type": "code",
   "execution_count": 43,
   "metadata": {},
   "outputs": [
    {
     "data": {
      "text/plain": [
       "array([[0.55724785]])"
      ]
     },
     "execution_count": 43,
     "metadata": {},
     "output_type": "execute_result"
    }
   ],
   "source": [
    "# Calculate forget Gate\n",
    "f_t = sigmoid(np.dot(W_f.T, np.concatenate([h_t_1, x_t.T])) + b_f)\n",
    "f_t"
   ]
  },
  {
   "attachments": {},
   "cell_type": "markdown",
   "metadata": {},
   "source": [
    "### Input Gate"
   ]
  },
  {
   "cell_type": "code",
   "execution_count": 44,
   "metadata": {},
   "outputs": [
    {
     "data": {
      "text/plain": [
       "array([[0.63876318]])"
      ]
     },
     "execution_count": 44,
     "metadata": {},
     "output_type": "execute_result"
    }
   ],
   "source": [
    "i_t = sigmoid(np.dot(W_i.T, np.concatenate([h_t_1, x_t.T])) + b_i)\n",
    "i_t"
   ]
  },
  {
   "attachments": {},
   "cell_type": "markdown",
   "metadata": {},
   "source": [
    "### Update Cell State"
   ]
  },
  {
   "cell_type": "code",
   "execution_count": 45,
   "metadata": {},
   "outputs": [
    {
     "data": {
      "text/plain": [
       "array([[0.5704675]])"
      ]
     },
     "execution_count": 45,
     "metadata": {},
     "output_type": "execute_result"
    }
   ],
   "source": [
    "g_t = np.tanh(np.dot(W_c.T, np.concatenate([h_t_1, x_t.T])) + b_c)\n",
    "C_t = f_t * C_t_1 + i_t * g_t\n",
    "C_t"
   ]
  },
  {
   "attachments": {},
   "cell_type": "markdown",
   "metadata": {},
   "source": [
    "### Output Gate"
   ]
  },
  {
   "cell_type": "code",
   "execution_count": 46,
   "metadata": {},
   "outputs": [
    {
     "data": {
      "text/plain": [
       "array([[0.91]])"
      ]
     },
     "execution_count": 46,
     "metadata": {},
     "output_type": "execute_result"
    }
   ],
   "source": [
    "o_t = sigmoid(np.dot(W_o.T, np.concatenate([h_t_1, x_t.T])) + b_o)\n",
    "np.dot(W_o.T, np.concatenate([h_t_1, x_t.T]))+b_o"
   ]
  },
  {
   "cell_type": "code",
   "execution_count": 47,
   "metadata": {},
   "outputs": [
    {
     "data": {
      "text/plain": [
       "array([[0.36769598]])"
      ]
     },
     "execution_count": 47,
     "metadata": {},
     "output_type": "execute_result"
    }
   ],
   "source": [
    "h_t = o_t * np.tanh(C_t)\n",
    "h_t"
   ]
  },
  {
   "attachments": {},
   "cell_type": "markdown",
   "metadata": {},
   "source": [
    "### Contoh Input Output Tiap Layer dari model"
   ]
  },
  {
   "cell_type": "code",
   "execution_count": 49,
   "metadata": {},
   "outputs": [
    {
     "data": {
      "text/plain": [
       "[<keras.layers.embeddings.Embedding at 0x1e64d001ee0>,\n",
       " <keras.layers.wrappers.Bidirectional at 0x1e64d001d30>,\n",
       " <keras.layers.wrappers.Bidirectional at 0x1e64e021fa0>,\n",
       " <keras.layers.wrappers.Bidirectional at 0x1e52e56ffa0>,\n",
       " <keras.layers.core.flatten.Flatten at 0x1e646c86f40>,\n",
       " <keras.layers.core.dense.Dense at 0x1e646c86280>,\n",
       " <keras.layers.core.dropout.Dropout at 0x1e637f26a00>,\n",
       " <keras.layers.core.dense.Dense at 0x1e64ac1ceb0>]"
      ]
     },
     "execution_count": 49,
     "metadata": {},
     "output_type": "execute_result"
    }
   ],
   "source": [
    "# Lihat semua layer yang ada di dalam model\n",
    "adam_complex.layers"
   ]
  },
  {
   "attachments": {},
   "cell_type": "markdown",
   "metadata": {},
   "source": [
    "### Ambil sample data"
   ]
  },
  {
   "cell_type": "code",
   "execution_count": 71,
   "metadata": {},
   "outputs": [
    {
     "data": {
      "text/plain": [
       "array([ 216, 1811,  308,  117,    2,    3,  505,  853, 1159, 1407,   50,\n",
       "         49,   41,   50,  157])"
      ]
     },
     "execution_count": 71,
     "metadata": {},
     "output_type": "execute_result"
    }
   ],
   "source": [
    "sample=x_test[0]\n",
    "sample"
   ]
  },
  {
   "attachments": {},
   "cell_type": "markdown",
   "metadata": {},
   "source": [
    "### Embedding Layer"
   ]
  },
  {
   "cell_type": "code",
   "execution_count": 72,
   "metadata": {},
   "outputs": [
    {
     "data": {
      "text/plain": [
       "(array([[[-3.3390496e-02, -3.5405055e-02,  1.2446079e-02, ...,\n",
       "          -2.9801527e-02, -9.3560424e-03,  1.3990454e-02],\n",
       "         [ 6.6025956e-03,  3.9240628e-02, -1.3936357e-02, ...,\n",
       "           1.5326714e-02, -3.1085212e-02, -2.8663967e-03],\n",
       "         [-1.9898659e-02, -2.3139851e-02,  1.1539438e-02, ...,\n",
       "           1.2363722e-02,  1.5382340e-02, -2.9903125e-02],\n",
       "         ...,\n",
       "         [ 1.1481147e-02, -5.0291181e-02,  2.3783583e-02, ...,\n",
       "          -1.0385682e-02, -3.5576275e-05, -3.9721217e-02],\n",
       "         [ 1.6171680e-01,  6.1810087e-02,  7.5456724e-02, ...,\n",
       "          -2.1985477e-02,  6.3160531e-02, -4.8857342e-02],\n",
       "         [-2.8885260e-02, -5.0886877e-02, -1.4927165e-02, ...,\n",
       "          -3.3463310e-02, -6.3958885e-03, -3.0276214e-03]]], dtype=float32),\n",
       " (1, 15, 128))"
      ]
     },
     "execution_count": 72,
     "metadata": {},
     "output_type": "execute_result"
    }
   ],
   "source": [
    "from tensorflow import keras\n",
    "import numpy as np\n",
    "embedding_input=adam_complex.layers[0].input\n",
    "embedding_output=adam_complex.layers[0].output\n",
    "embedding=keras.Model(inputs=embedding_input,outputs=embedding_output)\n",
    "output_embedding=embedding.predict(np.expand_dims(sample,axis=0))\n",
    "output_embedding,output_embedding.shape"
   ]
  },
  {
   "attachments": {},
   "cell_type": "markdown",
   "metadata": {},
   "source": [
    "### Bi-LSTM Layers"
   ]
  },
  {
   "cell_type": "code",
   "execution_count": 73,
   "metadata": {},
   "outputs": [
    {
     "data": {
      "text/plain": [
       "(array([[[2.2786841e-02, 5.7218885e-03, 0.0000000e+00, ...,\n",
       "          5.7975460e-05, 3.6750458e-05, 3.8812381e-08],\n",
       "         [1.6396634e-02, 8.1613054e-03, 2.4032993e-03, ...,\n",
       "          8.2193277e-05, 5.5155739e-05, 5.3252233e-08],\n",
       "         [1.4779088e-02, 1.8880121e-02, 1.7055911e-03, ...,\n",
       "          1.1708638e-04, 7.4484247e-05, 7.4638713e-08],\n",
       "         ...,\n",
       "         [4.6308907e-03, 5.9852190e-03, 7.1798917e-03, ...,\n",
       "          5.3049074e-03, 2.1899377e-03, 3.9493430e-06],\n",
       "         [3.3358971e-03, 4.1845017e-03, 4.6774778e-03, ...,\n",
       "          8.5320110e-03, 3.3786811e-03, 6.2597933e-06],\n",
       "         [2.2060713e-03, 2.9526211e-03, 3.5509216e-03, ...,\n",
       "          7.0627541e-03, 0.0000000e+00, 9.1494985e-06]]], dtype=float32),\n",
       " (1, 15, 256))"
      ]
     },
     "execution_count": 73,
     "metadata": {},
     "output_type": "execute_result"
    }
   ],
   "source": [
    "bilstm_input=adam_complex.layers[1].input\n",
    "bilstm_output=adam_complex.layers[1].output\n",
    "bilstm=keras.Model(inputs=bilstm_input,outputs=bilstm_output)\n",
    "output_bilstm=bilstm.predict(output_embedding)\n",
    "output_bilstm,output_bilstm.shape"
   ]
  },
  {
   "cell_type": "code",
   "execution_count": 74,
   "metadata": {},
   "outputs": [
    {
     "data": {
      "text/plain": [
       "(array([[[0., 0., 0., ..., 0., 0., 0.],\n",
       "         [0., 0., 0., ..., 0., 0., 0.],\n",
       "         [0., 0., 0., ..., 0., 0., 0.],\n",
       "         ...,\n",
       "         [0., 0., 0., ..., 0., 0., 0.],\n",
       "         [0., 0., 0., ..., 0., 0., 0.],\n",
       "         [0., 0., 0., ..., 0., 0., 0.]]], dtype=float32),\n",
       " (1, 15, 256))"
      ]
     },
     "execution_count": 74,
     "metadata": {},
     "output_type": "execute_result"
    }
   ],
   "source": [
    "bilstm_input=adam_complex.layers[2].input\n",
    "bilstm_output=adam_complex.layers[2].output\n",
    "bilstm=keras.Model(inputs=bilstm_input,outputs=bilstm_output)\n",
    "output_bilstm=bilstm.predict(output_bilstm)\n",
    "output_bilstm,output_bilstm.shape"
   ]
  },
  {
   "cell_type": "code",
   "execution_count": 75,
   "metadata": {},
   "outputs": [
    {
     "data": {
      "text/plain": [
       "(array([[[0.        , 0.0107895 , 0.        , ..., 0.        ,\n",
       "          0.        , 0.        ],\n",
       "         [0.        , 0.02093669, 0.        , ..., 0.        ,\n",
       "          0.        , 0.        ],\n",
       "         [0.        , 0.03106452, 0.        , ..., 0.        ,\n",
       "          0.        , 0.        ],\n",
       "         ...,\n",
       "         [0.        , 0.14055702, 0.        , ..., 0.        ,\n",
       "          0.        , 0.        ],\n",
       "         [0.        , 0.14826922, 0.        , ..., 0.        ,\n",
       "          0.        , 0.        ],\n",
       "         [0.        , 0.15538645, 0.        , ..., 0.        ,\n",
       "          0.        , 0.        ]]], dtype=float32),\n",
       " (1, 15, 256))"
      ]
     },
     "execution_count": 75,
     "metadata": {},
     "output_type": "execute_result"
    }
   ],
   "source": [
    "bilstm_input=adam_complex.layers[3].input\n",
    "bilstm_output=adam_complex.layers[3].output\n",
    "bilstm=keras.Model(inputs=bilstm_input,outputs=bilstm_output)\n",
    "output_bilstm=bilstm.predict(output_bilstm)\n",
    "output_bilstm,output_bilstm.shape"
   ]
  },
  {
   "attachments": {},
   "cell_type": "markdown",
   "metadata": {},
   "source": [
    "### Flatten Layer"
   ]
  },
  {
   "cell_type": "code",
   "execution_count": 77,
   "metadata": {},
   "outputs": [
    {
     "data": {
      "text/plain": [
       "(array([[0.       , 0.0107895, 0.       , ..., 0.       , 0.       ,\n",
       "         0.       ]], dtype=float32),\n",
       " (1, 3840))"
      ]
     },
     "execution_count": 77,
     "metadata": {},
     "output_type": "execute_result"
    }
   ],
   "source": [
    "flatten_input=adam_complex.layers[4].input\n",
    "flatten_output=adam_complex.layers[4].output\n",
    "flatten=keras.Model(inputs=flatten_input,outputs=flatten_output)\n",
    "output_flatten=flatten.predict(output_bilstm)\n",
    "output_flatten,output_flatten.shape"
   ]
  },
  {
   "attachments": {},
   "cell_type": "markdown",
   "metadata": {},
   "source": [
    "### Dense Layer"
   ]
  },
  {
   "cell_type": "code",
   "execution_count": 78,
   "metadata": {},
   "outputs": [
    {
     "data": {
      "text/plain": [
       "(array([[0.        , 0.        , 1.5929614 , 0.        , 0.        ,\n",
       "         0.        , 0.        , 0.        , 0.        , 0.        ,\n",
       "         0.        , 1.9359404 , 0.        , 0.        , 0.        ,\n",
       "         0.        , 0.        , 0.81360036, 0.        , 0.        ,\n",
       "         0.        , 0.        , 0.        , 0.        , 0.        ,\n",
       "         0.        , 0.        , 0.        , 0.49931765, 0.        ,\n",
       "         0.        , 1.7630045 , 0.        , 0.        , 0.        ,\n",
       "         0.        , 0.        , 0.        , 1.4364382 , 0.        ,\n",
       "         0.        , 0.        , 1.1873258 , 0.        , 0.        ,\n",
       "         0.        , 0.        , 0.        , 0.        , 0.        ,\n",
       "         0.        , 0.        , 0.        , 0.        , 0.        ,\n",
       "         0.        , 0.        , 0.        , 0.        , 3.1262105 ,\n",
       "         0.        , 0.        , 0.        , 0.        , 0.        ,\n",
       "         0.        , 0.        , 0.        , 0.07437122, 0.        ,\n",
       "         0.        , 0.        , 0.        , 0.        , 1.4119126 ,\n",
       "         0.        , 0.        , 0.        , 0.        , 0.        ,\n",
       "         0.        , 0.        , 0.        , 0.        , 0.        ,\n",
       "         0.        , 0.        , 0.        , 0.        , 0.        ,\n",
       "         0.        , 0.        , 0.        , 1.3068527 , 0.        ,\n",
       "         0.        , 0.        , 0.        , 1.9906309 , 0.        ,\n",
       "         0.        , 0.        , 0.        , 1.6234752 , 0.        ,\n",
       "         0.        , 0.        , 0.        , 0.        , 0.64782286,\n",
       "         0.        , 2.2398036 , 0.        , 0.        , 0.        ,\n",
       "         0.        , 2.0430326 , 0.        , 0.        , 0.        ,\n",
       "         0.        , 0.        , 0.        , 0.        , 0.        ,\n",
       "         0.9781931 , 0.        , 1.7893524 , 0.        , 0.        ,\n",
       "         1.663452  , 0.        , 0.        , 0.        , 0.        ,\n",
       "         0.        , 0.        , 0.        , 0.        , 0.        ,\n",
       "         0.        , 0.        , 0.        , 0.        , 0.        ,\n",
       "         0.        , 1.2100588 , 0.        , 0.        , 0.        ,\n",
       "         0.        , 0.        , 0.1529608 , 0.        , 0.        ,\n",
       "         1.5582701 , 2.4318476 , 0.        , 0.        , 0.        ,\n",
       "         0.        , 0.        , 0.        , 1.4805329 , 1.1719172 ,\n",
       "         0.        , 0.        , 0.26705614, 0.        , 0.        ,\n",
       "         0.        , 0.        , 0.        , 0.8899904 , 0.        ,\n",
       "         0.1603792 , 1.1777867 , 0.        , 0.        , 0.        ,\n",
       "         0.        , 1.4371983 , 0.        , 0.        , 0.        ,\n",
       "         0.        , 0.        , 0.        , 0.        , 0.        ,\n",
       "         0.        , 2.208874  , 0.        , 0.        , 0.        ,\n",
       "         0.        , 0.        , 1.5054959 , 0.        , 0.        ,\n",
       "         0.        , 0.        , 0.        , 1.28149   , 0.        ,\n",
       "         1.2180758 , 0.        , 0.        , 0.        , 0.        ,\n",
       "         0.        , 0.        , 0.06211907, 0.        , 1.5486537 ,\n",
       "         0.        , 0.        , 0.        , 0.        , 0.        ,\n",
       "         0.        , 0.        , 0.        , 1.5433836 , 1.93464   ,\n",
       "         1.7905824 , 0.        , 0.        , 0.        , 1.803759  ,\n",
       "         0.        , 0.        , 0.879406  , 0.        , 0.        ,\n",
       "         0.5564129 , 0.        , 0.        , 0.        , 0.        ,\n",
       "         1.7208495 , 0.        , 0.        , 1.3738236 , 0.        ,\n",
       "         2.5361023 , 0.        , 0.        , 0.91112924, 0.        ,\n",
       "         0.        , 0.0801565 , 0.        , 0.        , 0.        ,\n",
       "         0.        , 0.        , 0.        , 0.        , 0.62933743,\n",
       "         0.        , 0.        , 1.0884231 , 0.        , 0.        ,\n",
       "         0.        , 0.        , 0.        , 0.        , 0.        ,\n",
       "         0.        , 0.        , 0.        , 0.        , 0.        ,\n",
       "         0.        , 0.        , 0.        , 0.5968391 , 0.        ,\n",
       "         0.        , 1.3477324 , 0.        , 0.        , 0.        ,\n",
       "         0.        , 0.        , 1.1698215 , 0.        , 0.        ,\n",
       "         0.        , 0.        , 0.        , 2.0898116 , 0.        ,\n",
       "         1.3999796 , 0.        , 1.95405   , 0.        , 0.        ,\n",
       "         0.        , 0.        , 1.160797  , 0.        , 0.        ,\n",
       "         1.4289935 , 0.        , 0.        , 0.        , 0.        ,\n",
       "         0.        , 0.        , 0.83963317, 0.        , 0.        ,\n",
       "         0.        , 0.        , 0.        , 0.        , 0.        ,\n",
       "         0.        , 0.614052  , 0.        , 0.        , 0.        ,\n",
       "         0.8150262 , 0.        , 5.5201902 , 0.        , 0.        ,\n",
       "         0.        , 0.        , 0.        , 0.        , 0.        ,\n",
       "         0.        , 0.        , 0.        , 0.        , 0.        ,\n",
       "         0.        , 1.3469206 , 0.        , 0.        , 0.        ,\n",
       "         0.        , 1.9034619 , 0.        , 0.        , 0.        ,\n",
       "         0.        , 0.        , 0.        , 0.        , 0.        ,\n",
       "         0.        , 0.        , 0.        , 0.        , 0.        ,\n",
       "         0.        , 0.        , 0.        , 0.        , 0.        ,\n",
       "         0.        , 0.        , 0.        , 0.        , 0.        ,\n",
       "         0.        , 0.        , 0.        , 0.        , 0.        ,\n",
       "         0.8992045 , 0.        , 0.        , 0.        , 0.        ,\n",
       "         0.        , 0.        , 0.        , 0.        , 0.        ,\n",
       "         0.        , 0.        , 0.        , 0.73266786, 0.        ,\n",
       "         0.        , 0.        , 0.48609284, 0.        , 0.        ,\n",
       "         0.        , 0.        , 0.        , 0.        , 1.2813737 ,\n",
       "         0.        , 0.        , 0.        , 0.        , 2.1379695 ,\n",
       "         0.        , 0.        , 0.        , 1.4320657 , 1.776733  ,\n",
       "         0.        , 0.        , 0.        , 0.        , 0.        ,\n",
       "         0.        , 0.        , 0.        , 0.        , 0.        ,\n",
       "         0.        , 0.        , 0.        , 0.6848671 , 0.        ,\n",
       "         0.        , 0.        , 0.        , 0.        , 0.        ,\n",
       "         0.        , 0.        , 0.        , 0.        , 0.        ,\n",
       "         1.4659115 , 0.        , 0.        , 1.1238339 , 0.        ,\n",
       "         0.        , 0.        , 0.        , 0.        , 0.        ,\n",
       "         0.        , 0.80304277, 0.        , 0.        , 0.        ,\n",
       "         0.        , 0.        , 0.        , 0.        , 1.8360703 ,\n",
       "         1.3477286 , 0.        , 0.        , 0.        , 1.7930179 ,\n",
       "         0.        , 0.        , 0.        , 0.        , 2.1436062 ,\n",
       "         0.        , 0.        , 0.        , 0.        , 0.        ,\n",
       "         0.        , 0.        , 0.        , 0.        , 0.        ,\n",
       "         0.        , 0.        , 0.        , 0.        , 0.        ,\n",
       "         0.        , 1.5593543 , 0.        , 0.        , 0.        ,\n",
       "         0.        , 0.        , 0.        , 0.        , 0.        ,\n",
       "         0.        , 0.        , 0.        , 0.        , 1.8984526 ,\n",
       "         0.        , 0.        , 0.        , 0.        , 0.        ,\n",
       "         0.6509822 , 0.        , 0.        , 0.        , 0.        ,\n",
       "         0.        , 0.        , 0.        , 1.1821092 , 0.        ,\n",
       "         0.        , 0.        ]], dtype=float32),\n",
       " (1, 512))"
      ]
     },
     "execution_count": 78,
     "metadata": {},
     "output_type": "execute_result"
    }
   ],
   "source": [
    "dense_input=adam_complex.layers[5].input\n",
    "dense_output=adam_complex.layers[5].output\n",
    "dense=keras.Model(inputs=dense_input,outputs=dense_output)\n",
    "output_dense=dense.predict(output_flatten)\n",
    "output_dense,output_dense.shape"
   ]
  },
  {
   "attachments": {},
   "cell_type": "markdown",
   "metadata": {},
   "source": [
    "### Dropout Layer"
   ]
  },
  {
   "cell_type": "code",
   "execution_count": 68,
   "metadata": {},
   "outputs": [
    {
     "data": {
      "text/plain": [
       "array([[0.        , 0.        , 1.5929614 , 0.        , 0.        ,\n",
       "        0.        , 0.        , 0.        , 0.        , 0.        ,\n",
       "        0.        , 1.9359404 , 0.        , 0.        , 0.        ,\n",
       "        0.        , 0.        , 0.81360036, 0.        , 0.        ,\n",
       "        0.        , 0.        , 0.        , 0.        , 0.        ,\n",
       "        0.        , 0.        , 0.        , 0.49931765, 0.        ,\n",
       "        0.        , 1.7630045 , 0.        , 0.        , 0.        ,\n",
       "        0.        , 0.        , 0.        , 1.4364382 , 0.        ,\n",
       "        0.        , 0.        , 1.1873258 , 0.        , 0.        ,\n",
       "        0.        , 0.        , 0.        , 0.        , 0.        ,\n",
       "        0.        , 0.        , 0.        , 0.        , 0.        ,\n",
       "        0.        , 0.        , 0.        , 0.        , 3.1262105 ,\n",
       "        0.        , 0.        , 0.        , 0.        , 0.        ,\n",
       "        0.        , 0.        , 0.        , 0.07437122, 0.        ,\n",
       "        0.        , 0.        , 0.        , 0.        , 1.4119126 ,\n",
       "        0.        , 0.        , 0.        , 0.        , 0.        ,\n",
       "        0.        , 0.        , 0.        , 0.        , 0.        ,\n",
       "        0.        , 0.        , 0.        , 0.        , 0.        ,\n",
       "        0.        , 0.        , 0.        , 1.3068527 , 0.        ,\n",
       "        0.        , 0.        , 0.        , 1.9906309 , 0.        ,\n",
       "        0.        , 0.        , 0.        , 1.6234752 , 0.        ,\n",
       "        0.        , 0.        , 0.        , 0.        , 0.64782286,\n",
       "        0.        , 2.2398036 , 0.        , 0.        , 0.        ,\n",
       "        0.        , 2.0430326 , 0.        , 0.        , 0.        ,\n",
       "        0.        , 0.        , 0.        , 0.        , 0.        ,\n",
       "        0.9781931 , 0.        , 1.7893524 , 0.        , 0.        ,\n",
       "        1.663452  , 0.        , 0.        , 0.        , 0.        ,\n",
       "        0.        , 0.        , 0.        , 0.        , 0.        ,\n",
       "        0.        , 0.        , 0.        , 0.        , 0.        ,\n",
       "        0.        , 1.2100588 , 0.        , 0.        , 0.        ,\n",
       "        0.        , 0.        , 0.1529608 , 0.        , 0.        ,\n",
       "        1.5582701 , 2.4318476 , 0.        , 0.        , 0.        ,\n",
       "        0.        , 0.        , 0.        , 1.4805329 , 1.1719172 ,\n",
       "        0.        , 0.        , 0.26705614, 0.        , 0.        ,\n",
       "        0.        , 0.        , 0.        , 0.8899904 , 0.        ,\n",
       "        0.1603792 , 1.1777867 , 0.        , 0.        , 0.        ,\n",
       "        0.        , 1.4371983 , 0.        , 0.        , 0.        ,\n",
       "        0.        , 0.        , 0.        , 0.        , 0.        ,\n",
       "        0.        , 2.208874  , 0.        , 0.        , 0.        ,\n",
       "        0.        , 0.        , 1.5054959 , 0.        , 0.        ,\n",
       "        0.        , 0.        , 0.        , 1.28149   , 0.        ,\n",
       "        1.2180758 , 0.        , 0.        , 0.        , 0.        ,\n",
       "        0.        , 0.        , 0.06211907, 0.        , 1.5486537 ,\n",
       "        0.        , 0.        , 0.        , 0.        , 0.        ,\n",
       "        0.        , 0.        , 0.        , 1.5433836 , 1.93464   ,\n",
       "        1.7905824 , 0.        , 0.        , 0.        , 1.803759  ,\n",
       "        0.        , 0.        , 0.879406  , 0.        , 0.        ,\n",
       "        0.5564129 , 0.        , 0.        , 0.        , 0.        ,\n",
       "        1.7208495 , 0.        , 0.        , 1.3738236 , 0.        ,\n",
       "        2.5361023 , 0.        , 0.        , 0.91112924, 0.        ,\n",
       "        0.        , 0.0801565 , 0.        , 0.        , 0.        ,\n",
       "        0.        , 0.        , 0.        , 0.        , 0.62933743,\n",
       "        0.        , 0.        , 1.0884231 , 0.        , 0.        ,\n",
       "        0.        , 0.        , 0.        , 0.        , 0.        ,\n",
       "        0.        , 0.        , 0.        , 0.        , 0.        ,\n",
       "        0.        , 0.        , 0.        , 0.5968391 , 0.        ,\n",
       "        0.        , 1.3477324 , 0.        , 0.        , 0.        ,\n",
       "        0.        , 0.        , 1.1698215 , 0.        , 0.        ,\n",
       "        0.        , 0.        , 0.        , 2.0898116 , 0.        ,\n",
       "        1.3999796 , 0.        , 1.95405   , 0.        , 0.        ,\n",
       "        0.        , 0.        , 1.160797  , 0.        , 0.        ,\n",
       "        1.4289935 , 0.        , 0.        , 0.        , 0.        ,\n",
       "        0.        , 0.        , 0.83963317, 0.        , 0.        ,\n",
       "        0.        , 0.        , 0.        , 0.        , 0.        ,\n",
       "        0.        , 0.614052  , 0.        , 0.        , 0.        ,\n",
       "        0.8150262 , 0.        , 5.5201902 , 0.        , 0.        ,\n",
       "        0.        , 0.        , 0.        , 0.        , 0.        ,\n",
       "        0.        , 0.        , 0.        , 0.        , 0.        ,\n",
       "        0.        , 1.3469206 , 0.        , 0.        , 0.        ,\n",
       "        0.        , 1.9034619 , 0.        , 0.        , 0.        ,\n",
       "        0.        , 0.        , 0.        , 0.        , 0.        ,\n",
       "        0.        , 0.        , 0.        , 0.        , 0.        ,\n",
       "        0.        , 0.        , 0.        , 0.        , 0.        ,\n",
       "        0.        , 0.        , 0.        , 0.        , 0.        ,\n",
       "        0.        , 0.        , 0.        , 0.        , 0.        ,\n",
       "        0.8992045 , 0.        , 0.        , 0.        , 0.        ,\n",
       "        0.        , 0.        , 0.        , 0.        , 0.        ,\n",
       "        0.        , 0.        , 0.        , 0.73266786, 0.        ,\n",
       "        0.        , 0.        , 0.48609284, 0.        , 0.        ,\n",
       "        0.        , 0.        , 0.        , 0.        , 1.2813737 ,\n",
       "        0.        , 0.        , 0.        , 0.        , 2.1379695 ,\n",
       "        0.        , 0.        , 0.        , 1.4320657 , 1.776733  ,\n",
       "        0.        , 0.        , 0.        , 0.        , 0.        ,\n",
       "        0.        , 0.        , 0.        , 0.        , 0.        ,\n",
       "        0.        , 0.        , 0.        , 0.6848671 , 0.        ,\n",
       "        0.        , 0.        , 0.        , 0.        , 0.        ,\n",
       "        0.        , 0.        , 0.        , 0.        , 0.        ,\n",
       "        1.4659115 , 0.        , 0.        , 1.1238339 , 0.        ,\n",
       "        0.        , 0.        , 0.        , 0.        , 0.        ,\n",
       "        0.        , 0.80304277, 0.        , 0.        , 0.        ,\n",
       "        0.        , 0.        , 0.        , 0.        , 1.8360703 ,\n",
       "        1.3477286 , 0.        , 0.        , 0.        , 1.7930179 ,\n",
       "        0.        , 0.        , 0.        , 0.        , 2.1436062 ,\n",
       "        0.        , 0.        , 0.        , 0.        , 0.        ,\n",
       "        0.        , 0.        , 0.        , 0.        , 0.        ,\n",
       "        0.        , 0.        , 0.        , 0.        , 0.        ,\n",
       "        0.        , 1.5593543 , 0.        , 0.        , 0.        ,\n",
       "        0.        , 0.        , 0.        , 0.        , 0.        ,\n",
       "        0.        , 0.        , 0.        , 0.        , 1.8984526 ,\n",
       "        0.        , 0.        , 0.        , 0.        , 0.        ,\n",
       "        0.6509822 , 0.        , 0.        , 0.        , 0.        ,\n",
       "        0.        , 0.        , 0.        , 1.1821092 , 0.        ,\n",
       "        0.        , 0.        ]], dtype=float32)"
      ]
     },
     "execution_count": 68,
     "metadata": {},
     "output_type": "execute_result"
    }
   ],
   "source": [
    "dropout_input=adam_complex.layers[6].input\n",
    "dropout_output=adam_complex.layers[6].output\n",
    "dropout=keras.Model(inputs=dropout_input,outputs=dropout_output)\n",
    "output_dropout=dropout.predict(output_dense)\n",
    "output_dropout"
   ]
  },
  {
   "attachments": {},
   "cell_type": "markdown",
   "metadata": {},
   "source": [
    "### Dense Output Layer"
   ]
  },
  {
   "cell_type": "code",
   "execution_count": 82,
   "metadata": {},
   "outputs": [
    {
     "data": {
      "text/plain": [
       "(array([[1.1374094e-05, 7.4108061e-06, 9.9998116e-01]], dtype=float32), (1, 3))"
      ]
     },
     "execution_count": 82,
     "metadata": {},
     "output_type": "execute_result"
    }
   ],
   "source": [
    "dense_input2=adam_complex.layers[7].input\n",
    "dense_output2=adam_complex.layers[7].output\n",
    "dense2=keras.Model(inputs=dense_input2,outputs=dense_output2)\n",
    "output_dense2=dense2.predict(output_dropout)\n",
    "output_dense2,output_dense2.shape"
   ]
  },
  {
   "cell_type": "code",
   "execution_count": 91,
   "metadata": {},
   "outputs": [
    {
     "data": {
      "text/plain": [
       "(array([2], dtype=int64), 2)"
      ]
     },
     "execution_count": 91,
     "metadata": {},
     "output_type": "execute_result"
    }
   ],
   "source": [
    "np.argmax(output_dense2,axis=1),np.argmax(y_test[0],axis=0)"
   ]
  }
 ],
 "metadata": {
  "kernelspec": {
   "display_name": "Python 3",
   "language": "python",
   "name": "python3"
  },
  "language_info": {
   "codemirror_mode": {
    "name": "ipython",
    "version": 3
   },
   "file_extension": ".py",
   "mimetype": "text/x-python",
   "name": "python",
   "nbconvert_exporter": "python",
   "pygments_lexer": "ipython3",
   "version": "3.8.0"
  },
  "orig_nbformat": 4
 },
 "nbformat": 4,
 "nbformat_minor": 2
}
