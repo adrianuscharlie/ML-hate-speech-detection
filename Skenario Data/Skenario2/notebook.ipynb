{
 "cells": [
  {
   "cell_type": "markdown",
   "metadata": {},
   "source": [
    "Melakukan import libraries yang dibutukan"
   ]
  },
  {
   "cell_type": "code",
   "execution_count": 1,
   "metadata": {},
   "outputs": [],
   "source": [
    "import pandas as pd\n",
    "import tensorflow as tf"
   ]
  },
  {
   "cell_type": "code",
   "execution_count": 2,
   "metadata": {},
   "outputs": [
    {
     "data": {
      "text/html": [
       "<div>\n",
       "<style scoped>\n",
       "    .dataframe tbody tr th:only-of-type {\n",
       "        vertical-align: middle;\n",
       "    }\n",
       "\n",
       "    .dataframe tbody tr th {\n",
       "        vertical-align: top;\n",
       "    }\n",
       "\n",
       "    .dataframe thead th {\n",
       "        text-align: right;\n",
       "    }\n",
       "</style>\n",
       "<table border=\"1\" class=\"dataframe\">\n",
       "  <thead>\n",
       "    <tr style=\"text-align: right;\">\n",
       "      <th></th>\n",
       "      <th>created at</th>\n",
       "      <th>username</th>\n",
       "      <th>text</th>\n",
       "      <th>preprocessed</th>\n",
       "      <th>english</th>\n",
       "      <th>sentiment</th>\n",
       "    </tr>\n",
       "  </thead>\n",
       "  <tbody>\n",
       "    <tr>\n",
       "      <th>0</th>\n",
       "      <td>2022-11-02</td>\n",
       "      <td>rudiartraa</td>\n",
       "      <td>yaah , udah selesai nih Bjorka Bjorkaan nya ?</td>\n",
       "      <td>selesai nih bjorka bjorkaan</td>\n",
       "      <td>finished bjorka bjorkaan</td>\n",
       "      <td>Neutral</td>\n",
       "    </tr>\n",
       "    <tr>\n",
       "      <th>1</th>\n",
       "      <td>2022-11-02</td>\n",
       "      <td>oi_filix315</td>\n",
       "      <td>Kadang gua mikir sekilas pp gua mirip bjorka, ...</td>\n",
       "      <td>kadang gue pikir kilas pp gue bjorka gue pakai pp</td>\n",
       "      <td>sometimes I think my pp flash is bjorka I use pp</td>\n",
       "      <td>Neutral</td>\n",
       "    </tr>\n",
       "    <tr>\n",
       "      <th>2</th>\n",
       "      <td>2022-11-01</td>\n",
       "      <td>falahsanjaya_</td>\n",
       "      <td>Knp ga ada yg jadi Bjorka Halloween party kema...</td>\n",
       "      <td>bjorka halloween pay kemarin</td>\n",
       "      <td>Bjorka Halloween Pay yesterday</td>\n",
       "      <td>Negative</td>\n",
       "    </tr>\n",
       "    <tr>\n",
       "      <th>3</th>\n",
       "      <td>2022-11-01</td>\n",
       "      <td>namanyaajess</td>\n",
       "      <td>Beritanya taik, mau ferdi sambo, mau bjorka, m...</td>\n",
       "      <td>berita tai ferdi sambo bjorka lapar tren topik...</td>\n",
       "      <td>News Tai Ferdy Sambo Bjorka Hungry Trend Topic...</td>\n",
       "      <td>Negative</td>\n",
       "    </tr>\n",
       "    <tr>\n",
       "      <th>4</th>\n",
       "      <td>2022-11-01</td>\n",
       "      <td>namakubaim</td>\n",
       "      <td>Apa kabar Bjorka?</td>\n",
       "      <td>kabar bjorka</td>\n",
       "      <td>Bjorka news</td>\n",
       "      <td>Neutral</td>\n",
       "    </tr>\n",
       "    <tr>\n",
       "      <th>...</th>\n",
       "      <td>...</td>\n",
       "      <td>...</td>\n",
       "      <td>...</td>\n",
       "      <td>...</td>\n",
       "      <td>...</td>\n",
       "      <td>...</td>\n",
       "    </tr>\n",
       "    <tr>\n",
       "      <th>19995</th>\n",
       "      <td>2022-09-11</td>\n",
       "      <td>SecretAdmirerOP</td>\n",
       "      <td>hari ini ada 2 hari bersejarah\\n9/11\\nbjorka s...</td>\n",
       "      <td>sejarah bjorka spill data bunuh munir tau</td>\n",
       "      <td>History of Bjorka Spill Munir Kill Data Tau</td>\n",
       "      <td>Negative</td>\n",
       "    </tr>\n",
       "    <tr>\n",
       "      <th>19996</th>\n",
       "      <td>2022-09-11</td>\n",
       "      <td>yonforger</td>\n",
       "      <td>lah anjir aku baru tau bjorka tu hacker, kirai...</td>\n",
       "      <td>anjir tau bjorka hacker bubur kacang ijo tukan...</td>\n",
       "      <td>Anjir Tau Bjorka Hacker Green Beans Porridge S...</td>\n",
       "      <td>Neutral</td>\n",
       "    </tr>\n",
       "    <tr>\n",
       "      <th>19997</th>\n",
       "      <td>2022-09-11</td>\n",
       "      <td>semangkalucu</td>\n",
       "      <td>kata w mending bjorka ngewarin tiket the link aja</td>\n",
       "      <td>gue mending bjorka ngewarin tiket the link</td>\n",
       "      <td>I better bjorka to take the link the link</td>\n",
       "      <td>Positive</td>\n",
       "    </tr>\n",
       "    <tr>\n",
       "      <th>19998</th>\n",
       "      <td>2022-09-11</td>\n",
       "      <td>choaciao</td>\n",
       "      <td>Bang bjorka bisa ga si hek hati doi biar sama ...</td>\n",
       "      <td>bang bjorka sih hek hati biar ghuweh</td>\n",
       "      <td>bang bjorka, hek heart so ghuweh</td>\n",
       "      <td>Positive</td>\n",
       "    </tr>\n",
       "    <tr>\n",
       "      <th>19999</th>\n",
       "      <td>2022-09-11</td>\n",
       "      <td>JrIzzah</td>\n",
       "      <td>Bjorka mending liat data Kominfo daripada data...</td>\n",
       "      <td>bjorka mending data kominfo data wifiku</td>\n",
       "      <td>Bjorka mending Kominfo Data Wifiku Data</td>\n",
       "      <td>Neutral</td>\n",
       "    </tr>\n",
       "  </tbody>\n",
       "</table>\n",
       "<p>20000 rows × 6 columns</p>\n",
       "</div>"
      ],
      "text/plain": [
       "      created at         username  \\\n",
       "0     2022-11-02       rudiartraa   \n",
       "1     2022-11-02      oi_filix315   \n",
       "2     2022-11-01    falahsanjaya_   \n",
       "3     2022-11-01     namanyaajess   \n",
       "4     2022-11-01       namakubaim   \n",
       "...          ...              ...   \n",
       "19995 2022-09-11  SecretAdmirerOP   \n",
       "19996 2022-09-11        yonforger   \n",
       "19997 2022-09-11     semangkalucu   \n",
       "19998 2022-09-11         choaciao   \n",
       "19999 2022-09-11          JrIzzah   \n",
       "\n",
       "                                                    text  \\\n",
       "0          yaah , udah selesai nih Bjorka Bjorkaan nya ?   \n",
       "1      Kadang gua mikir sekilas pp gua mirip bjorka, ...   \n",
       "2      Knp ga ada yg jadi Bjorka Halloween party kema...   \n",
       "3      Beritanya taik, mau ferdi sambo, mau bjorka, m...   \n",
       "4                                      Apa kabar Bjorka?   \n",
       "...                                                  ...   \n",
       "19995  hari ini ada 2 hari bersejarah\\n9/11\\nbjorka s...   \n",
       "19996  lah anjir aku baru tau bjorka tu hacker, kirai...   \n",
       "19997  kata w mending bjorka ngewarin tiket the link aja   \n",
       "19998  Bang bjorka bisa ga si hek hati doi biar sama ...   \n",
       "19999  Bjorka mending liat data Kominfo daripada data...   \n",
       "\n",
       "                                            preprocessed  \\\n",
       "0                            selesai nih bjorka bjorkaan   \n",
       "1      kadang gue pikir kilas pp gue bjorka gue pakai pp   \n",
       "2                           bjorka halloween pay kemarin   \n",
       "3      berita tai ferdi sambo bjorka lapar tren topik...   \n",
       "4                                           kabar bjorka   \n",
       "...                                                  ...   \n",
       "19995          sejarah bjorka spill data bunuh munir tau   \n",
       "19996  anjir tau bjorka hacker bubur kacang ijo tukan...   \n",
       "19997         gue mending bjorka ngewarin tiket the link   \n",
       "19998               bang bjorka sih hek hati biar ghuweh   \n",
       "19999            bjorka mending data kominfo data wifiku   \n",
       "\n",
       "                                                 english sentiment  \n",
       "0                               finished bjorka bjorkaan   Neutral  \n",
       "1       sometimes I think my pp flash is bjorka I use pp   Neutral  \n",
       "2                         Bjorka Halloween Pay yesterday  Negative  \n",
       "3      News Tai Ferdy Sambo Bjorka Hungry Trend Topic...  Negative  \n",
       "4                                            Bjorka news   Neutral  \n",
       "...                                                  ...       ...  \n",
       "19995        History of Bjorka Spill Munir Kill Data Tau  Negative  \n",
       "19996  Anjir Tau Bjorka Hacker Green Beans Porridge S...   Neutral  \n",
       "19997          I better bjorka to take the link the link  Positive  \n",
       "19998                   bang bjorka, hek heart so ghuweh  Positive  \n",
       "19999            Bjorka mending Kominfo Data Wifiku Data   Neutral  \n",
       "\n",
       "[20000 rows x 6 columns]"
      ]
     },
     "execution_count": 2,
     "metadata": {},
     "output_type": "execute_result"
    }
   ],
   "source": [
    "data=pd.read_excel('D:\\Skripsi\\Skenario Data\\Skenario2\\data_sentiment.xlsx')\n",
    "del data['Unnamed: 0']\n",
    "data"
   ]
  },
  {
   "cell_type": "code",
   "execution_count": 3,
   "metadata": {},
   "outputs": [
    {
     "data": {
      "text/html": [
       "<div>\n",
       "<style scoped>\n",
       "    .dataframe tbody tr th:only-of-type {\n",
       "        vertical-align: middle;\n",
       "    }\n",
       "\n",
       "    .dataframe tbody tr th {\n",
       "        vertical-align: top;\n",
       "    }\n",
       "\n",
       "    .dataframe thead th {\n",
       "        text-align: right;\n",
       "    }\n",
       "</style>\n",
       "<table border=\"1\" class=\"dataframe\">\n",
       "  <thead>\n",
       "    <tr style=\"text-align: right;\">\n",
       "      <th></th>\n",
       "      <th>preprocessed</th>\n",
       "      <th>sentiment</th>\n",
       "    </tr>\n",
       "  </thead>\n",
       "  <tbody>\n",
       "    <tr>\n",
       "      <th>0</th>\n",
       "      <td>selesai nih bjorka bjorkaan</td>\n",
       "      <td>Neutral</td>\n",
       "    </tr>\n",
       "    <tr>\n",
       "      <th>1</th>\n",
       "      <td>kadang gue pikir kilas pp gue bjorka gue pakai pp</td>\n",
       "      <td>Neutral</td>\n",
       "    </tr>\n",
       "    <tr>\n",
       "      <th>2</th>\n",
       "      <td>bjorka halloween pay kemarin</td>\n",
       "      <td>Negative</td>\n",
       "    </tr>\n",
       "    <tr>\n",
       "      <th>3</th>\n",
       "      <td>berita tai ferdi sambo bjorka lapar tren topik...</td>\n",
       "      <td>Negative</td>\n",
       "    </tr>\n",
       "    <tr>\n",
       "      <th>4</th>\n",
       "      <td>kabar bjorka</td>\n",
       "      <td>Neutral</td>\n",
       "    </tr>\n",
       "    <tr>\n",
       "      <th>...</th>\n",
       "      <td>...</td>\n",
       "      <td>...</td>\n",
       "    </tr>\n",
       "    <tr>\n",
       "      <th>19995</th>\n",
       "      <td>sejarah bjorka spill data bunuh munir tau</td>\n",
       "      <td>Negative</td>\n",
       "    </tr>\n",
       "    <tr>\n",
       "      <th>19996</th>\n",
       "      <td>anjir tau bjorka hacker bubur kacang ijo tukan...</td>\n",
       "      <td>Neutral</td>\n",
       "    </tr>\n",
       "    <tr>\n",
       "      <th>19997</th>\n",
       "      <td>gue mending bjorka ngewarin tiket the link</td>\n",
       "      <td>Positive</td>\n",
       "    </tr>\n",
       "    <tr>\n",
       "      <th>19998</th>\n",
       "      <td>bang bjorka sih hek hati biar ghuweh</td>\n",
       "      <td>Positive</td>\n",
       "    </tr>\n",
       "    <tr>\n",
       "      <th>19999</th>\n",
       "      <td>bjorka mending data kominfo data wifiku</td>\n",
       "      <td>Neutral</td>\n",
       "    </tr>\n",
       "  </tbody>\n",
       "</table>\n",
       "<p>20000 rows × 2 columns</p>\n",
       "</div>"
      ],
      "text/plain": [
       "                                            preprocessed sentiment\n",
       "0                            selesai nih bjorka bjorkaan   Neutral\n",
       "1      kadang gue pikir kilas pp gue bjorka gue pakai pp   Neutral\n",
       "2                           bjorka halloween pay kemarin  Negative\n",
       "3      berita tai ferdi sambo bjorka lapar tren topik...  Negative\n",
       "4                                           kabar bjorka   Neutral\n",
       "...                                                  ...       ...\n",
       "19995          sejarah bjorka spill data bunuh munir tau  Negative\n",
       "19996  anjir tau bjorka hacker bubur kacang ijo tukan...   Neutral\n",
       "19997         gue mending bjorka ngewarin tiket the link  Positive\n",
       "19998               bang bjorka sih hek hati biar ghuweh  Positive\n",
       "19999            bjorka mending data kominfo data wifiku   Neutral\n",
       "\n",
       "[20000 rows x 2 columns]"
      ]
     },
     "execution_count": 3,
     "metadata": {},
     "output_type": "execute_result"
    }
   ],
   "source": [
    "data=data[['preprocessed','sentiment']]\n",
    "data"
   ]
  },
  {
   "cell_type": "code",
   "execution_count": 4,
   "metadata": {},
   "outputs": [
    {
     "name": "stderr",
     "output_type": "stream",
     "text": [
      "C:\\Users\\ASUS\\AppData\\Local\\Temp\\ipykernel_25232\\1650668707.py:1: SettingWithCopyWarning: \n",
      "A value is trying to be set on a copy of a slice from a DataFrame.\n",
      "Try using .loc[row_indexer,col_indexer] = value instead\n",
      "\n",
      "See the caveats in the documentation: https://pandas.pydata.org/pandas-docs/stable/user_guide/indexing.html#returning-a-view-versus-a-copy\n",
      "  data.sentiment = pd.Categorical(pd.factorize(data.sentiment)[0])\n"
     ]
    },
    {
     "data": {
      "text/html": [
       "<div>\n",
       "<style scoped>\n",
       "    .dataframe tbody tr th:only-of-type {\n",
       "        vertical-align: middle;\n",
       "    }\n",
       "\n",
       "    .dataframe tbody tr th {\n",
       "        vertical-align: top;\n",
       "    }\n",
       "\n",
       "    .dataframe thead th {\n",
       "        text-align: right;\n",
       "    }\n",
       "</style>\n",
       "<table border=\"1\" class=\"dataframe\">\n",
       "  <thead>\n",
       "    <tr style=\"text-align: right;\">\n",
       "      <th></th>\n",
       "      <th>preprocessed</th>\n",
       "      <th>sentiment</th>\n",
       "    </tr>\n",
       "  </thead>\n",
       "  <tbody>\n",
       "    <tr>\n",
       "      <th>0</th>\n",
       "      <td>selesai nih bjorka bjorkaan</td>\n",
       "      <td>0</td>\n",
       "    </tr>\n",
       "    <tr>\n",
       "      <th>1</th>\n",
       "      <td>kadang gue pikir kilas pp gue bjorka gue pakai pp</td>\n",
       "      <td>0</td>\n",
       "    </tr>\n",
       "    <tr>\n",
       "      <th>2</th>\n",
       "      <td>bjorka halloween pay kemarin</td>\n",
       "      <td>1</td>\n",
       "    </tr>\n",
       "    <tr>\n",
       "      <th>3</th>\n",
       "      <td>berita tai ferdi sambo bjorka lapar tren topik...</td>\n",
       "      <td>1</td>\n",
       "    </tr>\n",
       "    <tr>\n",
       "      <th>4</th>\n",
       "      <td>kabar bjorka</td>\n",
       "      <td>0</td>\n",
       "    </tr>\n",
       "    <tr>\n",
       "      <th>...</th>\n",
       "      <td>...</td>\n",
       "      <td>...</td>\n",
       "    </tr>\n",
       "    <tr>\n",
       "      <th>19995</th>\n",
       "      <td>sejarah bjorka spill data bunuh munir tau</td>\n",
       "      <td>1</td>\n",
       "    </tr>\n",
       "    <tr>\n",
       "      <th>19996</th>\n",
       "      <td>anjir tau bjorka hacker bubur kacang ijo tukan...</td>\n",
       "      <td>0</td>\n",
       "    </tr>\n",
       "    <tr>\n",
       "      <th>19997</th>\n",
       "      <td>gue mending bjorka ngewarin tiket the link</td>\n",
       "      <td>2</td>\n",
       "    </tr>\n",
       "    <tr>\n",
       "      <th>19998</th>\n",
       "      <td>bang bjorka sih hek hati biar ghuweh</td>\n",
       "      <td>2</td>\n",
       "    </tr>\n",
       "    <tr>\n",
       "      <th>19999</th>\n",
       "      <td>bjorka mending data kominfo data wifiku</td>\n",
       "      <td>0</td>\n",
       "    </tr>\n",
       "  </tbody>\n",
       "</table>\n",
       "<p>20000 rows × 2 columns</p>\n",
       "</div>"
      ],
      "text/plain": [
       "                                            preprocessed sentiment\n",
       "0                            selesai nih bjorka bjorkaan         0\n",
       "1      kadang gue pikir kilas pp gue bjorka gue pakai pp         0\n",
       "2                           bjorka halloween pay kemarin         1\n",
       "3      berita tai ferdi sambo bjorka lapar tren topik...         1\n",
       "4                                           kabar bjorka         0\n",
       "...                                                  ...       ...\n",
       "19995          sejarah bjorka spill data bunuh munir tau         1\n",
       "19996  anjir tau bjorka hacker bubur kacang ijo tukan...         0\n",
       "19997         gue mending bjorka ngewarin tiket the link         2\n",
       "19998               bang bjorka sih hek hati biar ghuweh         2\n",
       "19999            bjorka mending data kominfo data wifiku         0\n",
       "\n",
       "[20000 rows x 2 columns]"
      ]
     },
     "execution_count": 4,
     "metadata": {},
     "output_type": "execute_result"
    }
   ],
   "source": [
    "data.sentiment = pd.Categorical(pd.factorize(data.sentiment)[0])\n",
    "data"
   ]
  },
  {
   "cell_type": "code",
   "execution_count": 5,
   "metadata": {},
   "outputs": [],
   "source": [
    "from sklearn.model_selection import train_test_split\n",
    "from tensorflow.keras.preprocessing.text import Tokenizer\n",
    "from tensorflow.keras.preprocessing.sequence import pad_sequences\n",
    "from sklearn.model_selection import StratifiedKFold\n",
    "from sklearn.feature_extraction.text import TfidfVectorizer"
   ]
  },
  {
   "cell_type": "code",
   "execution_count": null,
   "metadata": {},
   "outputs": [],
   "source": [
    "#vectorizer = TfidfVectorizer()\n",
    "##vectors = vectorizer.fit_transform(data['preprocessed'])\n",
    "#feature_names = vectorizer.get_feature_names()\n",
    "#dense = vectors.todense()\n",
    "#denselist=dense.tolist()"
   ]
  },
  {
   "cell_type": "code",
   "execution_count": 6,
   "metadata": {},
   "outputs": [],
   "source": [
    "max_len=10\n",
    "trunc_type = 'post'\n",
    "padding_type = 'post'\n",
    "oov_tok = \"<OOV>\"\n",
    "tokenizer=Tokenizer(oov_token=oov_tok)\n",
    "tokenizer.fit_on_texts(data['preprocessed'])"
   ]
  },
  {
   "cell_type": "code",
   "execution_count": 8,
   "metadata": {},
   "outputs": [
    {
     "ename": "TypeError",
     "evalue": "unhashable type: 'list'",
     "output_type": "error",
     "traceback": [
      "\u001b[1;31m---------------------------------------------------------------------------\u001b[0m",
      "\u001b[1;31mTypeError\u001b[0m                                 Traceback (most recent call last)",
      "\u001b[1;32md:\\Skripsi\\Skenario Data\\Skenario2\\notebook.ipynb Cell 10\u001b[0m in \u001b[0;36m<cell line: 5>\u001b[1;34m()\u001b[0m\n\u001b[0;32m      <a href='vscode-notebook-cell:/d%3A/Skripsi/Skenario%20Data/Skenario2/notebook.ipynb#X11sZmlsZQ%3D%3D?line=4'>5</a>\u001b[0m \u001b[39mfor\u001b[39;00m item \u001b[39min\u001b[39;00m sequences:\n\u001b[0;32m      <a href='vscode-notebook-cell:/d%3A/Skripsi/Skenario%20Data/Skenario2/notebook.ipynb#X11sZmlsZQ%3D%3D?line=5'>6</a>\u001b[0m     coba\u001b[39m=\u001b[39mitem\n\u001b[1;32m----> <a href='vscode-notebook-cell:/d%3A/Skripsi/Skenario%20Data/Skenario2/notebook.ipynb#X11sZmlsZQ%3D%3D?line=6'>7</a>\u001b[0m     \u001b[39mif\u001b[39;00m coba \u001b[39mnot\u001b[39;49;00m \u001b[39min\u001b[39;49;00m kamus:\n\u001b[0;32m      <a href='vscode-notebook-cell:/d%3A/Skripsi/Skenario%20Data/Skenario2/notebook.ipynb#X11sZmlsZQ%3D%3D?line=7'>8</a>\u001b[0m         kamus[coba]\u001b[39m=\u001b[39m\u001b[39m1\u001b[39m\n\u001b[0;32m      <a href='vscode-notebook-cell:/d%3A/Skripsi/Skenario%20Data/Skenario2/notebook.ipynb#X11sZmlsZQ%3D%3D?line=8'>9</a>\u001b[0m     \u001b[39melse\u001b[39;00m:\n",
      "\u001b[1;31mTypeError\u001b[0m: unhashable type: 'list'"
     ]
    }
   ],
   "source": [
    "sequences=tokenizer.texts_to_sequences(data['preprocessed'])\n",
    "padded=pad_sequences(sequences=sequences,padding=padding_type,truncating=trunc_type,maxlen=max_len)\n",
    "temp=0\n",
    "kamus={}\n",
    "for item in sequences:\n",
    "    coba=len(item)\n",
    "    if coba not in kamus:\n",
    "        kamus[coba]=1\n",
    "    else:\n",
    "        kamus[coba]+=1\n",
    "sorted(kamus.items())"
   ]
  },
  {
   "cell_type": "code",
   "execution_count": 8,
   "metadata": {},
   "outputs": [
    {
     "data": {
      "image/png": "[encoded data removed]",
      "text/plain": [
       "<Figure size 432x288 with 1 Axes>"
      ]
     },
     "metadata": {
      "needs_background": "light"
     },
     "output_type": "display_data"
    }
   ],
   "source": [
    "import matplotlib.pylab as plt\n",
    "\n",
    "lists = sorted(kamus.items()) # sorted by key, return a list of tuples\n",
    "\n",
    "x, y = zip(*lists) # unpack a list of pairs into two tuples\n",
    "\n",
    "plt.plot(x, y)\n",
    "plt.show()"
   ]
  },
  {
   "cell_type": "code",
   "execution_count": 9,
   "metadata": {},
   "outputs": [],
   "source": [
    "sequences=tokenizer.texts_to_sequences(data['preprocessed'])\n",
    "padded=pad_sequences(sequences=sequences,padding=padding_type,truncating=trunc_type,maxlen=max_len)"
   ]
  },
  {
   "cell_type": "code",
   "execution_count": 10,
   "metadata": {},
   "outputs": [
    {
     "data": {
      "text/plain": [
       "((16000, 10), (4000, 10), (16000,), (4000,))"
      ]
     },
     "execution_count": 10,
     "metadata": {},
     "output_type": "execute_result"
    }
   ],
   "source": [
    "from sklearn.model_selection import train_test_split\n",
    "x_train,x_test,y_train,y_test=train_test_split(padded,data['sentiment'],test_size=0.2)\n",
    "x_train.shape,x_test.shape,y_train.shape,y_test.shape"
   ]
  },
  {
   "cell_type": "code",
   "execution_count": 11,
   "metadata": {},
   "outputs": [
    {
     "data": {
      "text/plain": [
       "((16000, 10), (4000, 10), (16000, 3), (4000, 3))"
      ]
     },
     "execution_count": 11,
     "metadata": {},
     "output_type": "execute_result"
    }
   ],
   "source": [
    "y_train= tf.keras.utils.to_categorical(y_train, num_classes=3)\n",
    "y_test= tf.keras.utils.to_categorical(y_test, num_classes=3)\n",
    "x_train.shape,x_test.shape,y_train.shape,y_test.shape"
   ]
  },
  {
   "cell_type": "code",
   "execution_count": 12,
   "metadata": {},
   "outputs": [],
   "source": [
    "from keras import backend as K\n",
    "\n",
    "def recall_m(y_true, y_pred):\n",
    "    true_positives = K.sum(K.round(K.clip(y_true * y_pred, 0, 1)))\n",
    "    possible_positives = K.sum(K.round(K.clip(y_true, 0, 1)))\n",
    "    recall = true_positives / (possible_positives + K.epsilon())\n",
    "    return recall\n",
    "\n",
    "def precision_m(y_true, y_pred):\n",
    "    true_positives = K.sum(K.round(K.clip(y_true * y_pred, 0, 1)))\n",
    "    predicted_positives = K.sum(K.round(K.clip(y_pred, 0, 1)))\n",
    "    precision = true_positives / (predicted_positives + K.epsilon())\n",
    "    return precision\n",
    "\n",
    "def f1_m(y_true, y_pred):\n",
    "    precision = precision_m(y_true, y_pred)\n",
    "    recall = recall_m(y_true, y_pred)\n",
    "    return 2*((precision*recall)/(precision+recall+K.epsilon()))"
   ]
  },
  {
   "cell_type": "code",
   "execution_count": 13,
   "metadata": {},
   "outputs": [],
   "source": [
    "def createSimpleModel(skenario):\n",
    "    if skenario==1:\n",
    "        model=tf.keras.models.Sequential([\n",
    "        tf.keras.layers.Embedding(len(tokenizer.word_index), 16, input_length=max_len),\n",
    "        tf.keras.layers.Flatten(),\n",
    "        tf.keras.layers.Dense(64,activation='relu'),\n",
    "        tf.keras.layers.Dropout(0.5),\n",
    "        tf.keras.layers.Dense(3,activation='softmax')\n",
    "        ])\n",
    "        model.compile(loss='mse', optimizer=tf.keras.optimizers.RMSprop(),metrics=['accuracy',f1_m])\n",
    "    \n",
    "    elif skenario ==2:\n",
    "        model=tf.keras.models.Sequential([\n",
    "            tf.keras.layers.Embedding(len(tokenizer.word_index),16,input_length=max_len),\n",
    "            tf.keras.layers.LSTM(64,return_sequences=True,activation='tanh'),\n",
    "            tf.keras.layers.Flatten(),\n",
    "            tf.keras.layers.Dense(3, activation='softmax')\n",
    "        ])\n",
    "        model.compile(loss='categorical_crossentropy',optimizer=tf.keras.optimizers.RMSprop(),metrics=['accuracy',f1_m])\n",
    "    elif skenario ==3:\n",
    "        model=tf.keras.models.Sequential([\n",
    "        tf.keras.layers.Embedding(len(tokenizer.word_index),16,input_length=max_len),\n",
    "        tf.keras.layers.Bidirectional(tf.keras.layers.LSTM(64,return_sequences=True,activation='tanh')),\n",
    "        tf.keras.layers.Flatten(),\n",
    "        tf.keras.layers.Dense(3,activation='softmax')\n",
    "        ])\n",
    "        model.compile(loss='categorical_crossentropy',optimizer=tf.keras.optimizers.RMSprop(),metrics=['accuracy',f1_m])\n",
    "    model.summary()\n",
    "    return model\n"
   ]
  },
  {
   "cell_type": "code",
   "execution_count": null,
   "metadata": {},
   "outputs": [],
   "source": [
    "#from scikeras.wrappers import KerasClassifier\n",
    "##from sklearn.model_selection import KFold\n",
    "#from sklearn.model_selection import cross_val_score\n",
    "#estimator = KerasClassifier(build_fn=createModel(3), epochs=10, verbose=0)\n",
    "#kfold = KFold(n_splits=3, shuffle=True)\n",
    "#results = cross_val_score(estimator, x_train, y_train, cv=kfold)\n",
    "#print(results.mean())"
   ]
  },
  {
   "cell_type": "code",
   "execution_count": 14,
   "metadata": {},
   "outputs": [],
   "source": [
    "callback = tf.keras.callbacks.EarlyStopping(\n",
    "    monitor=\"val_accuracy\",\n",
    "    min_delta=0,\n",
    "    patience=5,\n",
    "    verbose=1,\n",
    "    mode=\"auto\",\n",
    "    baseline=None,\n",
    "    restore_best_weights=True,\n",
    ")"
   ]
  },
  {
   "cell_type": "code",
   "execution_count": 17,
   "metadata": {},
   "outputs": [
    {
     "name": "stdout",
     "output_type": "stream",
     "text": [
      "Model: \"sequential_1\"\n",
      "_________________________________________________________________\n",
      " Layer (type)                Output Shape              Param #   \n",
      "=================================================================\n",
      " embedding_1 (Embedding)     (None, 10, 16)            281360    \n",
      "                                                                 \n",
      " lstm (LSTM)                 (None, 10, 64)            20736     \n",
      "                                                                 \n",
      " flatten_1 (Flatten)         (None, 640)               0         \n",
      "                                                                 \n",
      " dense_2 (Dense)             (None, 3)                 1923      \n",
      "                                                                 \n",
      "=================================================================\n",
      "Total params: 304,019\n",
      "Trainable params: 304,019\n",
      "Non-trainable params: 0\n",
      "_________________________________________________________________\n",
      "Epoch 1/20\n",
      "400/400 [==============================] - 9s 13ms/step - loss: 0.8718 - accuracy: 0.5877 - f1_m: 0.5012 - val_loss: 0.7638 - val_accuracy: 0.6656 - val_f1_m: 0.6382\n",
      "Epoch 2/20\n",
      "400/400 [==============================] - 4s 9ms/step - loss: 0.6448 - accuracy: 0.7436 - f1_m: 0.7188 - val_loss: 0.6319 - val_accuracy: 0.7509 - val_f1_m: 0.7321\n",
      "Epoch 3/20\n",
      "400/400 [==============================] - 4s 9ms/step - loss: 0.5260 - accuracy: 0.8017 - f1_m: 0.7903 - val_loss: 0.6223 - val_accuracy: 0.7578 - val_f1_m: 0.7486\n",
      "Epoch 4/20\n",
      "400/400 [==============================] - 4s 10ms/step - loss: 0.4593 - accuracy: 0.8328 - f1_m: 0.8271 - val_loss: 0.5813 - val_accuracy: 0.7684 - val_f1_m: 0.7671\n",
      "Epoch 5/20\n",
      "400/400 [==============================] - 4s 10ms/step - loss: 0.4158 - accuracy: 0.8487 - f1_m: 0.8464 - val_loss: 0.5914 - val_accuracy: 0.7759 - val_f1_m: 0.7738\n",
      "Epoch 6/20\n",
      "400/400 [==============================] - 4s 10ms/step - loss: 0.3848 - accuracy: 0.8605 - f1_m: 0.8574 - val_loss: 0.5738 - val_accuracy: 0.7744 - val_f1_m: 0.7737\n",
      "Epoch 7/20\n",
      "400/400 [==============================] - 4s 10ms/step - loss: 0.3608 - accuracy: 0.8677 - f1_m: 0.8662 - val_loss: 0.5756 - val_accuracy: 0.7747 - val_f1_m: 0.7674\n",
      "Epoch 8/20\n",
      "400/400 [==============================] - 4s 10ms/step - loss: 0.3373 - accuracy: 0.8794 - f1_m: 0.8785 - val_loss: 0.6143 - val_accuracy: 0.7753 - val_f1_m: 0.7722\n",
      "Epoch 9/20\n",
      "400/400 [==============================] - 4s 10ms/step - loss: 0.3173 - accuracy: 0.8880 - f1_m: 0.8859 - val_loss: 0.6175 - val_accuracy: 0.7725 - val_f1_m: 0.7712\n",
      "Epoch 10/20\n",
      "400/400 [==============================] - 4s 10ms/step - loss: 0.2961 - accuracy: 0.8978 - f1_m: 0.8954 - val_loss: 0.6477 - val_accuracy: 0.7709 - val_f1_m: 0.7710\n",
      "Epoch 11/20\n",
      "318/400 [======================>.......] - ETA: 0s - loss: 0.2756 - accuracy: 0.9009 - f1_m: 0.9020"
     ]
    }
   ],
   "source": [
    "model=createSimpleModel(2)\n",
    "history=model.fit(x_train,y_train,epochs=20,validation_split=0.2)"
   ]
  },
  {
   "cell_type": "code",
   "execution_count": 16,
   "metadata": {},
   "outputs": [
    {
     "name": "stdout",
     "output_type": "stream",
     "text": [
      "125/125 [==============================] - 1s 4ms/step - loss: 0.1579 - accuracy: 0.7165 - f1_m: 0.7126\n"
     ]
    },
    {
     "data": {
      "text/plain": [
       "[0.1579413115978241, 0.7164999842643738, 0.7125792503356934]"
      ]
     },
     "execution_count": 16,
     "metadata": {},
     "output_type": "execute_result"
    }
   ],
   "source": [
    "temp=model.evaluate(x_test,y_test)\n",
    "temp"
   ]
  },
  {
   "cell_type": "code",
   "execution_count": null,
   "metadata": {},
   "outputs": [],
   "source": [
    "from sklearn.metrics import confusion_matrix, ConfusionMatrixDisplay\n",
    "import numpy as np\n",
    "predict=model.predict(x_test)\n",
    "confusion=confusion_matrix(np.argmax(y_test,axis=1),np.argmax(predict,axis=1))\n",
    "display=ConfusionMatrixDisplay(confusion_matrix=confusion)\n",
    "display.plot()"
   ]
  },
  {
   "cell_type": "code",
   "execution_count": null,
   "metadata": {},
   "outputs": [],
   "source": [
    "import matplotlib.pyplot as plt\n",
    "\n",
    "def plot_graphs(history):\n",
    "  figure, axis = plt.subplots(2, 2)\n",
    "  figure.set_size_inches(18.5, 10.5, forward=True)\n",
    "\n",
    "  axis[0,0].plot(history.history['accuracy'])\n",
    "  axis[0,0].plot(history.history['val_accuracy'])\n",
    "  axis[0,0].set_title('Accuracy')\n",
    "  axis[0,0].legend(['accuracy','val_accuracy'])\n",
    "\n",
    "  axis[0,1].plot(history.history['loss'])\n",
    "  axis[0,1].plot(history.history['val_loss'])\n",
    "  axis[0,1].set_title('Loss')\n",
    "  axis[0,1].legend(['loss','val_loss'])\n",
    "\n",
    "  axis[1,0].plot(history.history['f1_m'])\n",
    "  axis[1,0].plot(history.history['val_f1_m'])\n",
    "  axis[1,0].set_title('F1-Score')\n",
    "  axis[1,0].legend(['f1_m','val_f1_m'])\n",
    "  plt.show()"
   ]
  },
  {
   "cell_type": "code",
   "execution_count": null,
   "metadata": {},
   "outputs": [],
   "source": [
    "plot_graphs(history=history)"
   ]
  }
 ],
 "metadata": {
  "kernelspec": {
   "display_name": "Python 3.8.0 64-bit",
   "language": "python",
   "name": "python3"
  },
  "language_info": {
   "codemirror_mode": {
    "name": "ipython",
    "version": 3
   },
   "file_extension": ".py",
   "mimetype": "text/x-python",
   "name": "python",
   "nbconvert_exporter": "python",
   "pygments_lexer": "ipython3",
   "version": "3.8.0"
  },
  "orig_nbformat": 4,
  "vscode": {
   "interpreter": {
    "hash": "ff0d91300876931207232d01add3156fa7c8214350996c757a3c6cebc4b3b5d5"
   }
  }
 },
 "nbformat": 4,
 "nbformat_minor": 2
}
