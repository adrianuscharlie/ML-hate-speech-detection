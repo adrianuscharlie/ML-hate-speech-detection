{
 "cells": [
  {
   "cell_type": "markdown",
   "metadata": {},
   "source": [
    "Melakukan import libraries yang dibutukan"
   ]
  },
  {
   "cell_type": "code",
   "execution_count": 1,
   "metadata": {},
   "outputs": [],
   "source": [
    "import pandas as pd\n",
    "import tensorflow as tf\n",
    "import numpy as np"
   ]
  },
  {
   "cell_type": "code",
   "execution_count": 2,
   "metadata": {},
   "outputs": [
    {
     "data": {
      "text/html": [
       "<div>\n",
       "<style scoped>\n",
       "    .dataframe tbody tr th:only-of-type {\n",
       "        vertical-align: middle;\n",
       "    }\n",
       "\n",
       "    .dataframe tbody tr th {\n",
       "        vertical-align: top;\n",
       "    }\n",
       "\n",
       "    .dataframe thead th {\n",
       "        text-align: right;\n",
       "    }\n",
       "</style>\n",
       "<table border=\"1\" class=\"dataframe\">\n",
       "  <thead>\n",
       "    <tr style=\"text-align: right;\">\n",
       "      <th></th>\n",
       "      <th>created at</th>\n",
       "      <th>username</th>\n",
       "      <th>text</th>\n",
       "      <th>preprocessed</th>\n",
       "      <th>english</th>\n",
       "      <th>sentiment</th>\n",
       "    </tr>\n",
       "  </thead>\n",
       "  <tbody>\n",
       "    <tr>\n",
       "      <th>0</th>\n",
       "      <td>2022-11-02</td>\n",
       "      <td>rudiartraa</td>\n",
       "      <td>yaah , udah selesai nih Bjorka Bjorkaan nya ?</td>\n",
       "      <td>selesai nih bjorka bjorkaan</td>\n",
       "      <td>finished bjorka bjorkaan</td>\n",
       "      <td>Neutral</td>\n",
       "    </tr>\n",
       "    <tr>\n",
       "      <th>1</th>\n",
       "      <td>2022-11-02</td>\n",
       "      <td>oi_filix315</td>\n",
       "      <td>Kadang gua mikir sekilas pp gua mirip bjorka, ...</td>\n",
       "      <td>kadang gue pikir kilas pp gue bjorka gue pakai pp</td>\n",
       "      <td>sometimes I think my pp flash is bjorka I use pp</td>\n",
       "      <td>Neutral</td>\n",
       "    </tr>\n",
       "    <tr>\n",
       "      <th>2</th>\n",
       "      <td>2022-11-01</td>\n",
       "      <td>falahsanjaya_</td>\n",
       "      <td>Knp ga ada yg jadi Bjorka Halloween party kema...</td>\n",
       "      <td>bjorka halloween pay kemarin</td>\n",
       "      <td>Bjorka Halloween Pay yesterday</td>\n",
       "      <td>Negative</td>\n",
       "    </tr>\n",
       "    <tr>\n",
       "      <th>3</th>\n",
       "      <td>2022-11-01</td>\n",
       "      <td>namanyaajess</td>\n",
       "      <td>Beritanya taik, mau ferdi sambo, mau bjorka, m...</td>\n",
       "      <td>berita tai ferdi sambo bjorka lapar tren topik...</td>\n",
       "      <td>News Tai Ferdy Sambo Bjorka Hungry Trend Topic...</td>\n",
       "      <td>Negative</td>\n",
       "    </tr>\n",
       "    <tr>\n",
       "      <th>4</th>\n",
       "      <td>2022-11-01</td>\n",
       "      <td>namakubaim</td>\n",
       "      <td>Apa kabar Bjorka?</td>\n",
       "      <td>kabar bjorka</td>\n",
       "      <td>Bjorka news</td>\n",
       "      <td>Neutral</td>\n",
       "    </tr>\n",
       "    <tr>\n",
       "      <th>...</th>\n",
       "      <td>...</td>\n",
       "      <td>...</td>\n",
       "      <td>...</td>\n",
       "      <td>...</td>\n",
       "      <td>...</td>\n",
       "      <td>...</td>\n",
       "    </tr>\n",
       "    <tr>\n",
       "      <th>19995</th>\n",
       "      <td>2022-09-11</td>\n",
       "      <td>SecretAdmirerOP</td>\n",
       "      <td>hari ini ada 2 hari bersejarah\\n9/11\\nbjorka s...</td>\n",
       "      <td>sejarah bjorka spill data bunuh munir tau</td>\n",
       "      <td>History of Bjorka Spill Munir Kill Data Tau</td>\n",
       "      <td>Negative</td>\n",
       "    </tr>\n",
       "    <tr>\n",
       "      <th>19996</th>\n",
       "      <td>2022-09-11</td>\n",
       "      <td>yonforger</td>\n",
       "      <td>lah anjir aku baru tau bjorka tu hacker, kirai...</td>\n",
       "      <td>anjir tau bjorka hacker bubur kacang ijo tukan...</td>\n",
       "      <td>Anjir Tau Bjorka Hacker Green Beans Porridge S...</td>\n",
       "      <td>Neutral</td>\n",
       "    </tr>\n",
       "    <tr>\n",
       "      <th>19997</th>\n",
       "      <td>2022-09-11</td>\n",
       "      <td>semangkalucu</td>\n",
       "      <td>kata w mending bjorka ngewarin tiket the link aja</td>\n",
       "      <td>gue mending bjorka ngewarin tiket the link</td>\n",
       "      <td>I better bjorka to take the link the link</td>\n",
       "      <td>Positive</td>\n",
       "    </tr>\n",
       "    <tr>\n",
       "      <th>19998</th>\n",
       "      <td>2022-09-11</td>\n",
       "      <td>choaciao</td>\n",
       "      <td>Bang bjorka bisa ga si hek hati doi biar sama ...</td>\n",
       "      <td>bang bjorka sih hek hati biar ghuweh</td>\n",
       "      <td>bang bjorka, hek heart so ghuweh</td>\n",
       "      <td>Positive</td>\n",
       "    </tr>\n",
       "    <tr>\n",
       "      <th>19999</th>\n",
       "      <td>2022-09-11</td>\n",
       "      <td>JrIzzah</td>\n",
       "      <td>Bjorka mending liat data Kominfo daripada data...</td>\n",
       "      <td>bjorka mending data kominfo data wifiku</td>\n",
       "      <td>Bjorka mending Kominfo Data Wifiku Data</td>\n",
       "      <td>Neutral</td>\n",
       "    </tr>\n",
       "  </tbody>\n",
       "</table>\n",
       "<p>20000 rows × 6 columns</p>\n",
       "</div>"
      ],
      "text/plain": [
       "      created at         username  \\\n",
       "0     2022-11-02       rudiartraa   \n",
       "1     2022-11-02      oi_filix315   \n",
       "2     2022-11-01    falahsanjaya_   \n",
       "3     2022-11-01     namanyaajess   \n",
       "4     2022-11-01       namakubaim   \n",
       "...          ...              ...   \n",
       "19995 2022-09-11  SecretAdmirerOP   \n",
       "19996 2022-09-11        yonforger   \n",
       "19997 2022-09-11     semangkalucu   \n",
       "19998 2022-09-11         choaciao   \n",
       "19999 2022-09-11          JrIzzah   \n",
       "\n",
       "                                                    text  \\\n",
       "0          yaah , udah selesai nih Bjorka Bjorkaan nya ?   \n",
       "1      Kadang gua mikir sekilas pp gua mirip bjorka, ...   \n",
       "2      Knp ga ada yg jadi Bjorka Halloween party kema...   \n",
       "3      Beritanya taik, mau ferdi sambo, mau bjorka, m...   \n",
       "4                                      Apa kabar Bjorka?   \n",
       "...                                                  ...   \n",
       "19995  hari ini ada 2 hari bersejarah\\n9/11\\nbjorka s...   \n",
       "19996  lah anjir aku baru tau bjorka tu hacker, kirai...   \n",
       "19997  kata w mending bjorka ngewarin tiket the link aja   \n",
       "19998  Bang bjorka bisa ga si hek hati doi biar sama ...   \n",
       "19999  Bjorka mending liat data Kominfo daripada data...   \n",
       "\n",
       "                                            preprocessed  \\\n",
       "0                            selesai nih bjorka bjorkaan   \n",
       "1      kadang gue pikir kilas pp gue bjorka gue pakai pp   \n",
       "2                           bjorka halloween pay kemarin   \n",
       "3      berita tai ferdi sambo bjorka lapar tren topik...   \n",
       "4                                           kabar bjorka   \n",
       "...                                                  ...   \n",
       "19995          sejarah bjorka spill data bunuh munir tau   \n",
       "19996  anjir tau bjorka hacker bubur kacang ijo tukan...   \n",
       "19997         gue mending bjorka ngewarin tiket the link   \n",
       "19998               bang bjorka sih hek hati biar ghuweh   \n",
       "19999            bjorka mending data kominfo data wifiku   \n",
       "\n",
       "                                                 english sentiment  \n",
       "0                               finished bjorka bjorkaan   Neutral  \n",
       "1       sometimes I think my pp flash is bjorka I use pp   Neutral  \n",
       "2                         Bjorka Halloween Pay yesterday  Negative  \n",
       "3      News Tai Ferdy Sambo Bjorka Hungry Trend Topic...  Negative  \n",
       "4                                            Bjorka news   Neutral  \n",
       "...                                                  ...       ...  \n",
       "19995        History of Bjorka Spill Munir Kill Data Tau  Negative  \n",
       "19996  Anjir Tau Bjorka Hacker Green Beans Porridge S...   Neutral  \n",
       "19997          I better bjorka to take the link the link  Positive  \n",
       "19998                   bang bjorka, hek heart so ghuweh  Positive  \n",
       "19999            Bjorka mending Kominfo Data Wifiku Data   Neutral  \n",
       "\n",
       "[20000 rows x 6 columns]"
      ]
     },
     "execution_count": 2,
     "metadata": {},
     "output_type": "execute_result"
    }
   ],
   "source": [
    "data=pd.read_excel('D:\\Skripsi\\Skenario Data\\Skenario2\\data_sentiment.xlsx')\n",
    "del data['Unnamed: 0']\n",
    "data"
   ]
  },
  {
   "cell_type": "code",
   "execution_count": 3,
   "metadata": {},
   "outputs": [
    {
     "data": {
      "text/html": [
       "<div>\n",
       "<style scoped>\n",
       "    .dataframe tbody tr th:only-of-type {\n",
       "        vertical-align: middle;\n",
       "    }\n",
       "\n",
       "    .dataframe tbody tr th {\n",
       "        vertical-align: top;\n",
       "    }\n",
       "\n",
       "    .dataframe thead th {\n",
       "        text-align: right;\n",
       "    }\n",
       "</style>\n",
       "<table border=\"1\" class=\"dataframe\">\n",
       "  <thead>\n",
       "    <tr style=\"text-align: right;\">\n",
       "      <th></th>\n",
       "      <th>preprocessed</th>\n",
       "      <th>sentiment</th>\n",
       "    </tr>\n",
       "  </thead>\n",
       "  <tbody>\n",
       "    <tr>\n",
       "      <th>0</th>\n",
       "      <td>selesai nih bjorka bjorkaan</td>\n",
       "      <td>Neutral</td>\n",
       "    </tr>\n",
       "    <tr>\n",
       "      <th>1</th>\n",
       "      <td>kadang gue pikir kilas pp gue bjorka gue pakai pp</td>\n",
       "      <td>Neutral</td>\n",
       "    </tr>\n",
       "    <tr>\n",
       "      <th>2</th>\n",
       "      <td>bjorka halloween pay kemarin</td>\n",
       "      <td>Negative</td>\n",
       "    </tr>\n",
       "    <tr>\n",
       "      <th>3</th>\n",
       "      <td>berita tai ferdi sambo bjorka lapar tren topik...</td>\n",
       "      <td>Negative</td>\n",
       "    </tr>\n",
       "    <tr>\n",
       "      <th>4</th>\n",
       "      <td>kabar bjorka</td>\n",
       "      <td>Neutral</td>\n",
       "    </tr>\n",
       "    <tr>\n",
       "      <th>...</th>\n",
       "      <td>...</td>\n",
       "      <td>...</td>\n",
       "    </tr>\n",
       "    <tr>\n",
       "      <th>19995</th>\n",
       "      <td>sejarah bjorka spill data bunuh munir tau</td>\n",
       "      <td>Negative</td>\n",
       "    </tr>\n",
       "    <tr>\n",
       "      <th>19996</th>\n",
       "      <td>anjir tau bjorka hacker bubur kacang ijo tukan...</td>\n",
       "      <td>Neutral</td>\n",
       "    </tr>\n",
       "    <tr>\n",
       "      <th>19997</th>\n",
       "      <td>gue mending bjorka ngewarin tiket the link</td>\n",
       "      <td>Positive</td>\n",
       "    </tr>\n",
       "    <tr>\n",
       "      <th>19998</th>\n",
       "      <td>bang bjorka sih hek hati biar ghuweh</td>\n",
       "      <td>Positive</td>\n",
       "    </tr>\n",
       "    <tr>\n",
       "      <th>19999</th>\n",
       "      <td>bjorka mending data kominfo data wifiku</td>\n",
       "      <td>Neutral</td>\n",
       "    </tr>\n",
       "  </tbody>\n",
       "</table>\n",
       "<p>20000 rows × 2 columns</p>\n",
       "</div>"
      ],
      "text/plain": [
       "                                            preprocessed sentiment\n",
       "0                            selesai nih bjorka bjorkaan   Neutral\n",
       "1      kadang gue pikir kilas pp gue bjorka gue pakai pp   Neutral\n",
       "2                           bjorka halloween pay kemarin  Negative\n",
       "3      berita tai ferdi sambo bjorka lapar tren topik...  Negative\n",
       "4                                           kabar bjorka   Neutral\n",
       "...                                                  ...       ...\n",
       "19995          sejarah bjorka spill data bunuh munir tau  Negative\n",
       "19996  anjir tau bjorka hacker bubur kacang ijo tukan...   Neutral\n",
       "19997         gue mending bjorka ngewarin tiket the link  Positive\n",
       "19998               bang bjorka sih hek hati biar ghuweh  Positive\n",
       "19999            bjorka mending data kominfo data wifiku   Neutral\n",
       "\n",
       "[20000 rows x 2 columns]"
      ]
     },
     "execution_count": 3,
     "metadata": {},
     "output_type": "execute_result"
    }
   ],
   "source": [
    "data=data[['preprocessed','sentiment']]\n",
    "data"
   ]
  },
  {
   "cell_type": "code",
   "execution_count": 4,
   "metadata": {},
   "outputs": [
    {
     "name": "stderr",
     "output_type": "stream",
     "text": [
      "C:\\Users\\ASUS\\AppData\\Local\\Temp\\ipykernel_22460\\1650668707.py:1: SettingWithCopyWarning: \n",
      "A value is trying to be set on a copy of a slice from a DataFrame.\n",
      "Try using .loc[row_indexer,col_indexer] = value instead\n",
      "\n",
      "See the caveats in the documentation: https://pandas.pydata.org/pandas-docs/stable/user_guide/indexing.html#returning-a-view-versus-a-copy\n",
      "  data.sentiment = pd.Categorical(pd.factorize(data.sentiment)[0])\n"
     ]
    },
    {
     "data": {
      "text/html": [
       "<div>\n",
       "<style scoped>\n",
       "    .dataframe tbody tr th:only-of-type {\n",
       "        vertical-align: middle;\n",
       "    }\n",
       "\n",
       "    .dataframe tbody tr th {\n",
       "        vertical-align: top;\n",
       "    }\n",
       "\n",
       "    .dataframe thead th {\n",
       "        text-align: right;\n",
       "    }\n",
       "</style>\n",
       "<table border=\"1\" class=\"dataframe\">\n",
       "  <thead>\n",
       "    <tr style=\"text-align: right;\">\n",
       "      <th></th>\n",
       "      <th>preprocessed</th>\n",
       "      <th>sentiment</th>\n",
       "    </tr>\n",
       "  </thead>\n",
       "  <tbody>\n",
       "    <tr>\n",
       "      <th>0</th>\n",
       "      <td>selesai nih bjorka bjorkaan</td>\n",
       "      <td>0</td>\n",
       "    </tr>\n",
       "    <tr>\n",
       "      <th>1</th>\n",
       "      <td>kadang gue pikir kilas pp gue bjorka gue pakai pp</td>\n",
       "      <td>0</td>\n",
       "    </tr>\n",
       "    <tr>\n",
       "      <th>2</th>\n",
       "      <td>bjorka halloween pay kemarin</td>\n",
       "      <td>1</td>\n",
       "    </tr>\n",
       "    <tr>\n",
       "      <th>3</th>\n",
       "      <td>berita tai ferdi sambo bjorka lapar tren topik...</td>\n",
       "      <td>1</td>\n",
       "    </tr>\n",
       "    <tr>\n",
       "      <th>4</th>\n",
       "      <td>kabar bjorka</td>\n",
       "      <td>0</td>\n",
       "    </tr>\n",
       "    <tr>\n",
       "      <th>...</th>\n",
       "      <td>...</td>\n",
       "      <td>...</td>\n",
       "    </tr>\n",
       "    <tr>\n",
       "      <th>19995</th>\n",
       "      <td>sejarah bjorka spill data bunuh munir tau</td>\n",
       "      <td>1</td>\n",
       "    </tr>\n",
       "    <tr>\n",
       "      <th>19996</th>\n",
       "      <td>anjir tau bjorka hacker bubur kacang ijo tukan...</td>\n",
       "      <td>0</td>\n",
       "    </tr>\n",
       "    <tr>\n",
       "      <th>19997</th>\n",
       "      <td>gue mending bjorka ngewarin tiket the link</td>\n",
       "      <td>2</td>\n",
       "    </tr>\n",
       "    <tr>\n",
       "      <th>19998</th>\n",
       "      <td>bang bjorka sih hek hati biar ghuweh</td>\n",
       "      <td>2</td>\n",
       "    </tr>\n",
       "    <tr>\n",
       "      <th>19999</th>\n",
       "      <td>bjorka mending data kominfo data wifiku</td>\n",
       "      <td>0</td>\n",
       "    </tr>\n",
       "  </tbody>\n",
       "</table>\n",
       "<p>20000 rows × 2 columns</p>\n",
       "</div>"
      ],
      "text/plain": [
       "                                            preprocessed sentiment\n",
       "0                            selesai nih bjorka bjorkaan         0\n",
       "1      kadang gue pikir kilas pp gue bjorka gue pakai pp         0\n",
       "2                           bjorka halloween pay kemarin         1\n",
       "3      berita tai ferdi sambo bjorka lapar tren topik...         1\n",
       "4                                           kabar bjorka         0\n",
       "...                                                  ...       ...\n",
       "19995          sejarah bjorka spill data bunuh munir tau         1\n",
       "19996  anjir tau bjorka hacker bubur kacang ijo tukan...         0\n",
       "19997         gue mending bjorka ngewarin tiket the link         2\n",
       "19998               bang bjorka sih hek hati biar ghuweh         2\n",
       "19999            bjorka mending data kominfo data wifiku         0\n",
       "\n",
       "[20000 rows x 2 columns]"
      ]
     },
     "execution_count": 4,
     "metadata": {},
     "output_type": "execute_result"
    }
   ],
   "source": [
    "data.sentiment = pd.Categorical(pd.factorize(data.sentiment)[0])\n",
    "data"
   ]
  },
  {
   "cell_type": "code",
   "execution_count": 5,
   "metadata": {},
   "outputs": [],
   "source": [
    "from sklearn.model_selection import train_test_split\n",
    "from tensorflow.keras.preprocessing.text import Tokenizer\n",
    "from tensorflow.keras.preprocessing.sequence import pad_sequences"
   ]
  },
  {
   "cell_type": "code",
   "execution_count": 6,
   "metadata": {},
   "outputs": [],
   "source": [
    "vocab_size=17586\n",
    "max_len=100\n",
    "trunc_type = 'post'\n",
    "padding_type = 'post'\n",
    "oov_tok = \"<OOV>\""
   ]
  },
  {
   "cell_type": "code",
   "execution_count": 7,
   "metadata": {},
   "outputs": [],
   "source": [
    "tokenizer=Tokenizer(num_words=vocab_size,oov_token=oov_tok)\n",
    "tokenizer.fit_on_texts(data['preprocessed'])\n",
    "sequences=tokenizer.texts_to_sequences(data['preprocessed'])\n",
    "padded=pad_sequences(sequences=sequences,padding=padding_type,truncating=trunc_type,maxlen=max_len)"
   ]
  },
  {
   "cell_type": "code",
   "execution_count": 8,
   "metadata": {},
   "outputs": [
    {
     "data": {
      "text/plain": [
       "((16000, 100), (4000, 100), (16000,), (4000,))"
      ]
     },
     "execution_count": 8,
     "metadata": {},
     "output_type": "execute_result"
    }
   ],
   "source": [
    "from sklearn.model_selection import train_test_split\n",
    "x_train,x_test,y_train,y_test=train_test_split(padded,data['sentiment'],test_size=0.2)\n",
    "x_train.shape,x_test.shape,y_train.shape,y_test.shape"
   ]
  },
  {
   "cell_type": "code",
   "execution_count": 9,
   "metadata": {},
   "outputs": [],
   "source": [
    "#from imblearn.over_sampling import SMOTE\n",
    "#oversample = SMOTE()\n",
    "#x_train, y_train = oversample.fit_resample(x_train, y_train)\n",
    "#x_train.shape,x_test.shape,y_train.shape,y_test.shape"
   ]
  },
  {
   "cell_type": "code",
   "execution_count": 9,
   "metadata": {},
   "outputs": [
    {
     "data": {
      "text/plain": [
       "((16000, 100), (4000, 100), (16000, 3), (4000, 3))"
      ]
     },
     "execution_count": 9,
     "metadata": {},
     "output_type": "execute_result"
    }
   ],
   "source": [
    "y_train= tf.keras.utils.to_categorical(y_train, num_classes=3)\n",
    "y_test= tf.keras.utils.to_categorical(y_test, num_classes=3)\n",
    "x_train.shape,x_test.shape,y_train.shape,y_test.shape"
   ]
  },
  {
   "cell_type": "code",
   "execution_count": 11,
   "metadata": {},
   "outputs": [],
   "source": [
    "#model=tf.keras.models.Sequential([\n",
    "        #tf.keras.layers.Embedding(vocab_size, 100, input_length=max_len),\n",
    "        #tf.keras.layers.Flatten(),\n",
    "        #tf.keras.layers.Dense(512,activation='relu'),\n",
    "        #tf.keras.layers.Dense(3, activation='softmax')\n",
    "#])\n",
    "#model.summary()"
   ]
  },
  {
   "cell_type": "code",
   "execution_count": 12,
   "metadata": {},
   "outputs": [
    {
     "name": "stdout",
     "output_type": "stream",
     "text": [
      "Model: \"sequential\"\n",
      "_________________________________________________________________\n",
      " Layer (type)                Output Shape              Param #   \n",
      "=================================================================\n",
      " embedding (Embedding)       (None, 100, 200)          3517200   \n",
      "                                                                 \n",
      " bidirectional (Bidirectiona  (None, 100, 256)         336896    \n",
      " l)                                                              \n",
      "                                                                 \n",
      " bidirectional_1 (Bidirectio  (None, 100, 256)         394240    \n",
      " nal)                                                            \n",
      "                                                                 \n",
      " bidirectional_2 (Bidirectio  (None, 128)              164352    \n",
      " nal)                                                            \n",
      "                                                                 \n",
      " flatten (Flatten)           (None, 128)               0         \n",
      "                                                                 \n",
      " dense (Dense)               (None, 512)               66048     \n",
      "                                                                 \n",
      " dense_1 (Dense)             (None, 3)                 1539      \n",
      "                                                                 \n",
      "=================================================================\n",
      "Total params: 4,480,275\n",
      "Trainable params: 4,480,275\n",
      "Non-trainable params: 0\n",
      "_________________________________________________________________\n"
     ]
    }
   ],
   "source": [
    "model=tf.keras.models.Sequential([\n",
    "        tf.keras.layers.Embedding(vocab_size, 200, input_length=max_len),\n",
    "        tf.keras.layers.Bidirectional(tf.keras.layers.LSTM(128,return_sequences=True,activation='tanh')),\n",
    "        tf.keras.layers.Bidirectional(tf.keras.layers.LSTM(128,return_sequences=True,activation='tanh')),\n",
    "        tf.keras.layers.Bidirectional(tf.keras.layers.LSTM(64)),\n",
    "        tf.keras.layers.Flatten(),\n",
    "        tf.keras.layers.Dense(512,activation='relu'),\n",
    "        tf.keras.layers.Dense(3, activation='softmax')\n",
    "])\n",
    "model.summary()"
   ]
  },
  {
   "cell_type": "code",
   "execution_count": 13,
   "metadata": {},
   "outputs": [],
   "source": [
    "from keras import backend as K\n",
    "\n",
    "def recall_m(y_true, y_pred):\n",
    "    true_positives = K.sum(K.round(K.clip(y_true * y_pred, 0, 1)))\n",
    "    possible_positives = K.sum(K.round(K.clip(y_true, 0, 1)))\n",
    "    recall = true_positives / (possible_positives + K.epsilon())\n",
    "    return recall\n",
    "\n",
    "def precision_m(y_true, y_pred):\n",
    "    true_positives = K.sum(K.round(K.clip(y_true * y_pred, 0, 1)))\n",
    "    predicted_positives = K.sum(K.round(K.clip(y_pred, 0, 1)))\n",
    "    precision = true_positives / (predicted_positives + K.epsilon())\n",
    "    return precision\n",
    "\n",
    "def f1_m(y_true, y_pred):\n",
    "    precision = precision_m(y_true, y_pred)\n",
    "    recall = recall_m(y_true, y_pred)\n",
    "    return 2*((precision*recall)/(precision+recall+K.epsilon()))"
   ]
  },
  {
   "cell_type": "code",
   "execution_count": 14,
   "metadata": {},
   "outputs": [],
   "source": [
    "model.compile(loss='mse', optimizer=tf.keras.optimizers.RMSprop(learning_rate=0.001),metrics=['accuracy',f1_m])"
   ]
  },
  {
   "cell_type": "code",
   "execution_count": 15,
   "metadata": {},
   "outputs": [
    {
     "name": "stdout",
     "output_type": "stream",
     "text": [
      "Epoch 1/10\n",
      "400/400 [==============================] - 46s 86ms/step - loss: 0.1935 - accuracy: 0.5249 - f1_m: 0.3874 - val_loss: 0.1717 - val_accuracy: 0.5834 - val_f1_m: 0.5422\n",
      "Epoch 2/10\n",
      "400/400 [==============================] - 33s 82ms/step - loss: 0.1553 - accuracy: 0.6357 - f1_m: 0.5962 - val_loss: 0.1662 - val_accuracy: 0.6062 - val_f1_m: 0.5577\n",
      "Epoch 3/10\n",
      "400/400 [==============================] - 33s 83ms/step - loss: 0.1310 - accuracy: 0.7189 - f1_m: 0.6985 - val_loss: 0.1355 - val_accuracy: 0.7038 - val_f1_m: 0.6930\n",
      "Epoch 4/10\n",
      "400/400 [==============================] - 33s 83ms/step - loss: 0.1173 - accuracy: 0.7536 - f1_m: 0.7455 - val_loss: 0.1340 - val_accuracy: 0.7106 - val_f1_m: 0.7028\n",
      "Epoch 5/10\n",
      "400/400 [==============================] - 33s 82ms/step - loss: 0.1050 - accuracy: 0.7893 - f1_m: 0.7834 - val_loss: 0.1297 - val_accuracy: 0.7259 - val_f1_m: 0.7212\n",
      "Epoch 6/10\n",
      "400/400 [==============================] - 33s 83ms/step - loss: 0.0928 - accuracy: 0.8162 - f1_m: 0.8112 - val_loss: 0.1267 - val_accuracy: 0.7297 - val_f1_m: 0.7309\n",
      "Epoch 7/10\n",
      "400/400 [==============================] - 33s 84ms/step - loss: 0.0819 - accuracy: 0.8376 - f1_m: 0.8353 - val_loss: 0.1205 - val_accuracy: 0.7491 - val_f1_m: 0.7458\n",
      "Epoch 8/10\n",
      "400/400 [==============================] - 35s 86ms/step - loss: 0.0729 - accuracy: 0.8546 - f1_m: 0.8548 - val_loss: 0.1129 - val_accuracy: 0.7725 - val_f1_m: 0.7693\n",
      "Epoch 9/10\n",
      "400/400 [==============================] - 34s 84ms/step - loss: 0.0657 - accuracy: 0.8697 - f1_m: 0.8688 - val_loss: 0.1133 - val_accuracy: 0.7809 - val_f1_m: 0.7751\n",
      "Epoch 10/10\n",
      "400/400 [==============================] - 33s 82ms/step - loss: 0.0598 - accuracy: 0.8806 - f1_m: 0.8804 - val_loss: 0.1150 - val_accuracy: 0.7666 - val_f1_m: 0.7649\n"
     ]
    }
   ],
   "source": [
    "history=model.fit(x_train,y_train,epochs=10,validation_split=0.2)"
   ]
  },
  {
   "cell_type": "code",
   "execution_count": 16,
   "metadata": {},
   "outputs": [
    {
     "name": "stdout",
     "output_type": "stream",
     "text": [
      "125/125 [==============================] - 4s 31ms/step - loss: 0.1160 - accuracy: 0.7700 - f1_m: 0.7655\n"
     ]
    },
    {
     "data": {
      "text/plain": [
       "[0.11596055328845978, 0.7699999809265137, 0.765527606010437]"
      ]
     },
     "execution_count": 16,
     "metadata": {},
     "output_type": "execute_result"
    }
   ],
   "source": [
    "model.evaluate(x_test,y_test)"
   ]
  },
  {
   "cell_type": "code",
   "execution_count": 17,
   "metadata": {},
   "outputs": [],
   "source": [
    "import matplotlib.pyplot as plt\n",
    "\n",
    "\n",
    "def plot_graphs(history, metric):\n",
    "  plt.plot(history.history[metric])\n",
    "  plt.plot(history.history['val_'+metric], '')\n",
    "  plt.xlabel(\"Epochs\")\n",
    "  plt.ylabel(metric)\n",
    "  plt.legend([metric, 'val_'+metric])"
   ]
  },
  {
   "cell_type": "code",
   "execution_count": 18,
   "metadata": {},
   "outputs": [
    {
     "data": {
      "image/png": "[encoded data removed]",
      "text/plain": [
       "<Figure size 432x288 with 1 Axes>"
      ]
     },
     "metadata": {
      "needs_background": "light"
     },
     "output_type": "display_data"
    }
   ],
   "source": [
    "plot_graphs(history=history,metric='accuracy')"
   ]
  },
  {
   "cell_type": "code",
   "execution_count": 19,
   "metadata": {},
   "outputs": [
    {
     "data": {
      "image/png": "[encoded data removed]",
      "text/plain": [
       "<Figure size 432x288 with 1 Axes>"
      ]
     },
     "metadata": {
      "needs_background": "light"
     },
     "output_type": "display_data"
    }
   ],
   "source": [
    "plot_graphs(history=history,metric='f1_m')"
   ]
  },
  {
   "cell_type": "code",
   "execution_count": 20,
   "metadata": {},
   "outputs": [
    {
     "data": {
      "image/png": "[encoded data removed]",
      "text/plain": [
       "<Figure size 432x288 with 1 Axes>"
      ]
     },
     "metadata": {
      "needs_background": "light"
     },
     "output_type": "display_data"
    }
   ],
   "source": [
    "plot_graphs(history=history,metric='loss')"
   ]
  },
  {
   "cell_type": "code",
   "execution_count": 37,
   "metadata": {},
   "outputs": [
    {
     "name": "stdout",
     "output_type": "stream",
     "text": [
      "Model: \"sequential_15\"\n",
      "_________________________________________________________________\n",
      " Layer (type)                Output Shape              Param #   \n",
      "=================================================================\n",
      " dense_3 (Dense)             (None, 10)                40        \n",
      "                                                                 \n",
      " dense_4 (Dense)             (None, 3)                 33        \n",
      "                                                                 \n",
      "=================================================================\n",
      "Total params: 73\n",
      "Trainable params: 73\n",
      "Non-trainable params: 0\n",
      "_________________________________________________________________\n"
     ]
    }
   ],
   "source": [
    "model=tf.keras.Sequential([\n",
    "    tf.keras.layers.Dense(10,input_dim=3),\n",
    "    tf.keras.layers.Dense(3)\n",
    "])\n",
    "model.summary()"
   ]
  },
  {
   "cell_type": "code",
   "execution_count": 38,
   "metadata": {},
   "outputs": [
    {
     "name": "stdout",
     "output_type": "stream",
     "text": [
      "WARNING:tensorflow:Model was constructed with shape (None, 3) for input KerasTensor(type_spec=TensorSpec(shape=(None, 3), dtype=tf.float32, name='dense_3_input'), name='dense_3_input', description=\"created by layer 'dense_3_input'\"), but it was called on an input with incompatible shape (None,).\n"
     ]
    },
    {
     "ename": "ValueError",
     "evalue": "in user code:\n\n    File \"c:\\Users\\ASUS\\AppData\\Local\\Programs\\Python\\Python38\\lib\\site-packages\\keras\\engine\\training.py\", line 1621, in predict_function  *\n        return step_function(self, iterator)\n    File \"c:\\Users\\ASUS\\AppData\\Local\\Programs\\Python\\Python38\\lib\\site-packages\\keras\\engine\\training.py\", line 1611, in step_function  **\n        outputs = model.distribute_strategy.run(run_step, args=(data,))\n    File \"c:\\Users\\ASUS\\AppData\\Local\\Programs\\Python\\Python38\\lib\\site-packages\\keras\\engine\\training.py\", line 1604, in run_step  **\n        outputs = model.predict_step(data)\n    File \"c:\\Users\\ASUS\\AppData\\Local\\Programs\\Python\\Python38\\lib\\site-packages\\keras\\engine\\training.py\", line 1572, in predict_step\n        return self(x, training=False)\n    File \"c:\\Users\\ASUS\\AppData\\Local\\Programs\\Python\\Python38\\lib\\site-packages\\keras\\utils\\traceback_utils.py\", line 67, in error_handler\n        raise e.with_traceback(filtered_tb) from None\n    File \"c:\\Users\\ASUS\\AppData\\Local\\Programs\\Python\\Python38\\lib\\site-packages\\keras\\engine\\input_spec.py\", line 227, in assert_input_compatibility\n        raise ValueError(f'Input {input_index} of layer \"{layer_name}\" '\n\n    ValueError: Exception encountered when calling layer \"sequential_15\" (type Sequential).\n    \n    Input 0 of layer \"dense_3\" is incompatible with the layer: expected min_ndim=2, found ndim=1. Full shape received: (None,)\n    \n    Call arguments received:\n      • inputs=tf.Tensor(shape=(None,), dtype=int32)\n      • training=False\n      • mask=None\n",
     "output_type": "error",
     "traceback": [
      "\u001b[1;31m---------------------------------------------------------------------------\u001b[0m",
      "\u001b[1;31mValueError\u001b[0m                                Traceback (most recent call last)",
      "\u001b[1;32md:\\Skripsi\\Skenario Data\\Skenario2\\notebook.ipynb Cell 23\u001b[0m in \u001b[0;36m<cell line: 1>\u001b[1;34m()\u001b[0m\n\u001b[1;32m----> <a href='vscode-notebook-cell:/d%3A/Skripsi/Skenario%20Data/Skenario2/notebook.ipynb#X31sZmlsZQ%3D%3D?line=0'>1</a>\u001b[0m model\u001b[39m.\u001b[39;49mpredict(x_train[\u001b[39m0\u001b[39;49m])\n",
      "File \u001b[1;32mc:\\Users\\ASUS\\AppData\\Local\\Programs\\Python\\Python38\\lib\\site-packages\\keras\\utils\\traceback_utils.py:67\u001b[0m, in \u001b[0;36mfilter_traceback.<locals>.error_handler\u001b[1;34m(*args, **kwargs)\u001b[0m\n\u001b[0;32m     65\u001b[0m \u001b[39mexcept\u001b[39;00m \u001b[39mException\u001b[39;00m \u001b[39mas\u001b[39;00m e:  \u001b[39m# pylint: disable=broad-except\u001b[39;00m\n\u001b[0;32m     66\u001b[0m   filtered_tb \u001b[39m=\u001b[39m _process_traceback_frames(e\u001b[39m.\u001b[39m__traceback__)\n\u001b[1;32m---> 67\u001b[0m   \u001b[39mraise\u001b[39;00m e\u001b[39m.\u001b[39mwith_traceback(filtered_tb) \u001b[39mfrom\u001b[39;00m \u001b[39mNone\u001b[39m\n\u001b[0;32m     68\u001b[0m \u001b[39mfinally\u001b[39;00m:\n\u001b[0;32m     69\u001b[0m   \u001b[39mdel\u001b[39;00m filtered_tb\n",
      "File \u001b[1;32mc:\\Users\\ASUS\\AppData\\Local\\Programs\\Python\\Python38\\lib\\site-packages\\tensorflow\\python\\framework\\func_graph.py:1129\u001b[0m, in \u001b[0;36mfunc_graph_from_py_func.<locals>.autograph_handler\u001b[1;34m(*args, **kwargs)\u001b[0m\n\u001b[0;32m   1127\u001b[0m \u001b[39mexcept\u001b[39;00m \u001b[39mException\u001b[39;00m \u001b[39mas\u001b[39;00m e:  \u001b[39m# pylint:disable=broad-except\u001b[39;00m\n\u001b[0;32m   1128\u001b[0m   \u001b[39mif\u001b[39;00m \u001b[39mhasattr\u001b[39m(e, \u001b[39m\"\u001b[39m\u001b[39mag_error_metadata\u001b[39m\u001b[39m\"\u001b[39m):\n\u001b[1;32m-> 1129\u001b[0m     \u001b[39mraise\u001b[39;00m e\u001b[39m.\u001b[39mag_error_metadata\u001b[39m.\u001b[39mto_exception(e)\n\u001b[0;32m   1130\u001b[0m   \u001b[39melse\u001b[39;00m:\n\u001b[0;32m   1131\u001b[0m     \u001b[39mraise\u001b[39;00m\n",
      "\u001b[1;31mValueError\u001b[0m: in user code:\n\n    File \"c:\\Users\\ASUS\\AppData\\Local\\Programs\\Python\\Python38\\lib\\site-packages\\keras\\engine\\training.py\", line 1621, in predict_function  *\n        return step_function(self, iterator)\n    File \"c:\\Users\\ASUS\\AppData\\Local\\Programs\\Python\\Python38\\lib\\site-packages\\keras\\engine\\training.py\", line 1611, in step_function  **\n        outputs = model.distribute_strategy.run(run_step, args=(data,))\n    File \"c:\\Users\\ASUS\\AppData\\Local\\Programs\\Python\\Python38\\lib\\site-packages\\keras\\engine\\training.py\", line 1604, in run_step  **\n        outputs = model.predict_step(data)\n    File \"c:\\Users\\ASUS\\AppData\\Local\\Programs\\Python\\Python38\\lib\\site-packages\\keras\\engine\\training.py\", line 1572, in predict_step\n        return self(x, training=False)\n    File \"c:\\Users\\ASUS\\AppData\\Local\\Programs\\Python\\Python38\\lib\\site-packages\\keras\\utils\\traceback_utils.py\", line 67, in error_handler\n        raise e.with_traceback(filtered_tb) from None\n    File \"c:\\Users\\ASUS\\AppData\\Local\\Programs\\Python\\Python38\\lib\\site-packages\\keras\\engine\\input_spec.py\", line 227, in assert_input_compatibility\n        raise ValueError(f'Input {input_index} of layer \"{layer_name}\" '\n\n    ValueError: Exception encountered when calling layer \"sequential_15\" (type Sequential).\n    \n    Input 0 of layer \"dense_3\" is incompatible with the layer: expected min_ndim=2, found ndim=1. Full shape received: (None,)\n    \n    Call arguments received:\n      • inputs=tf.Tensor(shape=(None,), dtype=int32)\n      • training=False\n      • mask=None\n"
     ]
    }
   ],
   "source": [
    "model.predict(x_train[0])"
   ]
  }
 ],
 "metadata": {
  "kernelspec": {
   "display_name": "Python 3.8.0 64-bit",
   "language": "python",
   "name": "python3"
  },
  "language_info": {
   "codemirror_mode": {
    "name": "ipython",
    "version": 3
   },
   "file_extension": ".py",
   "mimetype": "text/x-python",
   "name": "python",
   "nbconvert_exporter": "python",
   "pygments_lexer": "ipython3",
   "version": "3.8.0"
  },
  "orig_nbformat": 4,
  "vscode": {
   "interpreter": {
    "hash": "ff0d91300876931207232d01add3156fa7c8214350996c757a3c6cebc4b3b5d5"
   }
  }
 },
 "nbformat": 4,
 "nbformat_minor": 2
}
